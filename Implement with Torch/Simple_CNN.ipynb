{
  "nbformat": 4,
  "nbformat_minor": 0,
  "metadata": {
    "colab": {
      "name": "Simple_CNN",
      "provenance": []
    },
    "kernelspec": {
      "name": "python3",
      "display_name": "Python 3"
    },
    "language_info": {
      "name": "python"
    },
    "accelerator": "GPU"
  },
  "cells": [
    {
      "cell_type": "markdown",
      "source": [
        "참조\n",
        "\n",
        "[Thanks to..](https://wikidocs.net/63565)"
      ],
      "metadata": {
        "id": "wrdXmL6-it_P"
      }
    },
    {
      "cell_type": "markdown",
      "source": [
        "#모듈 불러오기"
      ],
      "metadata": {
        "id": "FzIT9yUO224f"
      }
    },
    {
      "cell_type": "code",
      "execution_count": 1,
      "metadata": {
        "id": "iC45_FwNXyT1"
      },
      "outputs": [],
      "source": [
        "import torch\n",
        "import torch.nn as nn       #행렬곱\n",
        "from torchvision import datasets\n",
        "import torchvision.transforms as transforms\n",
        "import torch.nn.init"
      ]
    },
    {
      "cell_type": "code",
      "source": [
        "device = 'cuda' if torch.cuda.is_available() else 'cpu'\n",
        "\n",
        "torch.manual_seed(1109)\n",
        "\n",
        "if device == 'cuda':\n",
        "    torch.cuda.manual_seed_all(1109)"
      ],
      "metadata": {
        "id": "CuB0hDteknUb"
      },
      "execution_count": 2,
      "outputs": []
    },
    {
      "cell_type": "markdown",
      "source": [
        "#파라미터 설정"
      ],
      "metadata": {
        "id": "_e42ANcEk240"
      }
    },
    {
      "cell_type": "code",
      "source": [
        "learning_rate = 0.001\n",
        "training_epochs = 15\n",
        "batch_size = 100"
      ],
      "metadata": {
        "id": "HWXvzz9pkzR2"
      },
      "execution_count": 3,
      "outputs": []
    },
    {
      "cell_type": "markdown",
      "source": [
        "#데이터 준비"
      ],
      "metadata": {
        "id": "VlfgMQ33sOOH"
      }
    },
    {
      "cell_type": "code",
      "source": [
        "#데이터 다운로드\n",
        "\n",
        "mnist_train = datasets.MNIST(root='/content/drive/MyDrive/Colab Notebooks',\n",
        "                             train=True, transform=transforms.ToTensor(),   #텐서로 변환\n",
        "                             download=True)\n",
        "\n",
        "mnist_test = datasets.MNIST(root='/content/drive/MyDrive/Colab Notebooks',\n",
        "                             train=False, transform=transforms.ToTensor(),   #텐서로 변환\n",
        "                             download=True)"
      ],
      "metadata": {
        "id": "eKD7FXoYrg0j"
      },
      "execution_count": 4,
      "outputs": []
    },
    {
      "cell_type": "markdown",
      "source": [
        "DataLoader로 배치사이즈만큼 데이터 불러오기"
      ],
      "metadata": {
        "id": "ME5nTWH_sak1"
      }
    },
    {
      "cell_type": "code",
      "source": [
        "data_loader = torch.utils.data.DataLoader(dataset=mnist_train,\n",
        "                                          batch_size=batch_size,\n",
        "                                          shuffle=True,\n",
        "                                          drop_last=True)"
      ],
      "metadata": {
        "id": "MXbh-Of2sMZj"
      },
      "execution_count": 5,
      "outputs": []
    },
    {
      "cell_type": "markdown",
      "source": [
        "데이터 하나씩 확인"
      ],
      "metadata": {
        "id": "ZLNnQYIat2ZI"
      }
    },
    {
      "cell_type": "code",
      "source": [
        "dataiter = iter(data_loader)\n",
        "\n",
        "images, labels = next(dataiter)"
      ],
      "metadata": {
        "id": "3iqJHYbXs8rU"
      },
      "execution_count": 6,
      "outputs": []
    },
    {
      "cell_type": "code",
      "source": [
        "#batch_size 100, 이미지의 size는 (1, 28, 28)\n",
        "images.size()"
      ],
      "metadata": {
        "colab": {
          "base_uri": "https://localhost:8080/"
        },
        "id": "gbNbZWupt6Bi",
        "outputId": "f029bda8-f492-4436-e5d2-ec50d6285e7c"
      },
      "execution_count": 7,
      "outputs": [
        {
          "output_type": "execute_result",
          "data": {
            "text/plain": [
              "torch.Size([100, 1, 28, 28])"
            ]
          },
          "metadata": {},
          "execution_count": 7
        }
      ]
    },
    {
      "cell_type": "markdown",
      "source": [
        "#모델 설계\n",
        "\n",
        "1st : conv - relu - maxpool\n",
        "\n",
        "2nd : conv - relu - maxpool\n",
        "\n",
        "3rd : fclayer"
      ],
      "metadata": {
        "id": "gKcIIg7qsfIt"
      }
    },
    {
      "cell_type": "code",
      "source": [
        "class CNN(torch.nn.Module):\n",
        "    def __init__(self):\n",
        "        super(CNN, self).__init__()\n",
        "        # 첫번째 층\n",
        "        # 1개의 입력채널을 (3,3)필터 32개로 convolution\n",
        "        # relu, maxpooling 시행..\n",
        "        self.layer1 = torch.nn.Sequential(\n",
        "            torch.nn.Conv2d(1, 32, kernel_size=3, stride=1, padding=1),\n",
        "            torch.nn.ReLU(),\n",
        "            torch.nn.MaxPool2d(2),\n",
        "        )\n",
        "\n",
        "        # 두번째 층\n",
        "        # 32개의 입력채널을 (3,3)필터 64개로 convolution\n",
        "        # relu, maxpooling 시행..\n",
        "        self.layer2 = torch.nn.Sequential(\n",
        "            torch.nn.Conv2d(32, 64, kernel_size=3, stride=1, padding=1),\n",
        "            torch.nn.ReLU(),\n",
        "            torch.nn.MaxPool2d(2),\n",
        "        )\n",
        "\n",
        "        # 세번째 층\n",
        "        # 두번째 층의 output : (batch_size, 64, 7, 7).. -> flatten하면 64*7*7..\n",
        "        self.layer3 = torch.nn.Linear(64*7*7, 10, bias=True)\n",
        "\n",
        "        # fclayer Weight Initialization\n",
        "        torch.nn.init.xavier_normal_(self.layer3.weight)\n",
        "    \n",
        "\n",
        "    #Forward computation\n",
        "    def forward(self, x):\n",
        "        out = self.layer1(x)\n",
        "        out = self.layer2(out)\n",
        "        out = out.view(out.size(0), -1)     #flatten for FC layer\n",
        "        out = self.layer3(out)\n",
        "        return out"
      ],
      "metadata": {
        "id": "3lcJCDkWseD2"
      },
      "execution_count": 8,
      "outputs": []
    },
    {
      "cell_type": "markdown",
      "source": [
        "#모델 정의"
      ],
      "metadata": {
        "id": "ZPgd4sgRvY27"
      }
    },
    {
      "cell_type": "code",
      "source": [
        "model = CNN().to(device)"
      ],
      "metadata": {
        "id": "Ns0WjFVtvXaA"
      },
      "execution_count": 9,
      "outputs": []
    },
    {
      "cell_type": "markdown",
      "source": [
        "Cost function : 크로스 엔트로피\n",
        "\n",
        "Optimizer : Adam"
      ],
      "metadata": {
        "id": "wiYtjs_ivihd"
      }
    },
    {
      "cell_type": "code",
      "source": [
        "criterion = torch.nn.CrossEntropyLoss().to(device)      #cost에 소프트맥스 포함\n",
        "\n",
        "#Adam optimizer\n",
        "optimizer = torch.optim.Adam(model.parameters(), lr=learning_rate)"
      ],
      "metadata": {
        "id": "6rB3adR3vcfD"
      },
      "execution_count": 10,
      "outputs": []
    },
    {
      "cell_type": "markdown",
      "source": [
        "#훈련"
      ],
      "metadata": {
        "id": "TXxeCNl4xEyA"
      }
    },
    {
      "cell_type": "code",
      "source": [
        "for epoch in range(training_epochs):\n",
        "    avg_cost = 0\n",
        "\n",
        "    #배치 단위로 꺼내온다.. X가 데이터, Y가 레이블\n",
        "    for X, Y in data_loader:\n",
        "        X = X.to(device)\n",
        "        Y = Y.to(device)\n",
        "\n",
        "        optimizer.zero_grad()       #gradient 초기화\n",
        "        hypothesis = model(X)       #모델 통과, score획득\n",
        "        cost = criterion(hypothesis, Y)     #loss 획득\n",
        "        cost.backward()             #cost를 최적화하도록 역전파\n",
        "        optimizer.step()\n",
        "\n",
        "        avg_cost += cost / len(data_loader)\n",
        "\n",
        "    print('[Epoch: {:>4}] cost = {:>.9}'.format(epoch + 1, avg_cost))"
      ],
      "metadata": {
        "colab": {
          "base_uri": "https://localhost:8080/"
        },
        "id": "zNirmi8mvz7M",
        "outputId": "162ab496-c0d7-47c2-db2b-f6dd83817cef"
      },
      "execution_count": 11,
      "outputs": [
        {
          "output_type": "stream",
          "name": "stdout",
          "text": [
            "[Epoch:    1] cost = 0.217762366\n",
            "[Epoch:    2] cost = 0.060595952\n",
            "[Epoch:    3] cost = 0.0439961106\n",
            "[Epoch:    4] cost = 0.0358495265\n",
            "[Epoch:    5] cost = 0.0298545044\n",
            "[Epoch:    6] cost = 0.0248442572\n",
            "[Epoch:    7] cost = 0.0207025371\n",
            "[Epoch:    8] cost = 0.018025348\n",
            "[Epoch:    9] cost = 0.0150358547\n",
            "[Epoch:   10] cost = 0.0126894442\n",
            "[Epoch:   11] cost = 0.01177877\n",
            "[Epoch:   12] cost = 0.00918921083\n",
            "[Epoch:   13] cost = 0.00859730877\n",
            "[Epoch:   14] cost = 0.00678968709\n",
            "[Epoch:   15] cost = 0.00517797843\n"
          ]
        }
      ]
    },
    {
      "cell_type": "markdown",
      "source": [
        "#테스트"
      ],
      "metadata": {
        "id": "_a2rjAnQyNV8"
      }
    },
    {
      "cell_type": "code",
      "source": [
        "# 학습 끝 -> torch.no_grad()\n",
        "\n",
        "with torch.no_grad():\n",
        "    #mnist_test에서 데이터를 shape을 바꿔서 준비까지..\n",
        "    X_test = mnist_test.data.view(len(mnist_test), 1, 28, 28).float().to(device)\n",
        "    Y_test = mnist_test.targets.to(device)\n",
        "\n",
        "    prediction = model(X_test)      #예측\n",
        "\n",
        "    #10000개의 데이터에 대한 10개의 클래스일 score가 저장 되어있음\n",
        "    print(f\"테스트세트에 대한 예측점수의 size는 {prediction.size()}\")\n",
        "\n",
        "    #행을 기준으로 max score를 가진 인덱스가 label과 같으면 맞게 예측\n",
        "    correct_prediction = torch.argmax(prediction, 1) == Y_test\n",
        "    print(f\"테스트세트에 대한 예측의 size는 {correct_prediction.size()}\")\n",
        "\n",
        "    accuracy = correct_prediction.float().mean()\n",
        "    print('Accuracy:', accuracy.item())"
      ],
      "metadata": {
        "colab": {
          "base_uri": "https://localhost:8080/"
        },
        "id": "w4bNKlgxyFpc",
        "outputId": "3cc72c1e-5ab6-4a6e-b7d6-1c102b26fe26"
      },
      "execution_count": 12,
      "outputs": [
        {
          "output_type": "stream",
          "name": "stdout",
          "text": [
            "테스트세트에 대한 예측점수의 size는 torch.Size([10000, 10])\n",
            "테스트세트에 대한 예측의 size는 torch.Size([10000])\n",
            "Accuracy: 0.9876999855041504\n"
          ]
        }
      ]
    }
  ]
}