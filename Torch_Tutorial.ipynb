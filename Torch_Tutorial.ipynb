{
  "nbformat": 4,
  "nbformat_minor": 0,
  "metadata": {
    "colab": {
      "name": "Torch Tutorial",
      "provenance": [],
      "collapsed_sections": []
    },
    "kernelspec": {
      "name": "python3",
      "display_name": "Python 3"
    },
    "language_info": {
      "name": "python"
    },
    "accelerator": "GPU",
    "widgets": {
      "application/vnd.jupyter.widget-state+json": {
        "3acd995159aa4be490f5c81a249c8bdc": {
          "model_module": "@jupyter-widgets/controls",
          "model_name": "HBoxModel",
          "model_module_version": "1.5.0",
          "state": {
            "_view_name": "HBoxView",
            "_dom_classes": [],
            "_model_name": "HBoxModel",
            "_view_module": "@jupyter-widgets/controls",
            "_model_module_version": "1.5.0",
            "_view_count": null,
            "_view_module_version": "1.5.0",
            "box_style": "",
            "layout": "IPY_MODEL_a7e476e9367d4162852651cbddbb0b8d",
            "_model_module": "@jupyter-widgets/controls",
            "children": [
              "IPY_MODEL_906fa0f7b2954786b1b3ee1598aabcbd",
              "IPY_MODEL_662dd3d67e4048b39a4cca704a84a1f9",
              "IPY_MODEL_a8c3bb1819d644a181f3aa1367afa168"
            ]
          }
        },
        "a7e476e9367d4162852651cbddbb0b8d": {
          "model_module": "@jupyter-widgets/base",
          "model_name": "LayoutModel",
          "model_module_version": "1.2.0",
          "state": {
            "_view_name": "LayoutView",
            "grid_template_rows": null,
            "right": null,
            "justify_content": null,
            "_view_module": "@jupyter-widgets/base",
            "overflow": null,
            "_model_module_version": "1.2.0",
            "_view_count": null,
            "flex_flow": null,
            "width": null,
            "min_width": null,
            "border": null,
            "align_items": null,
            "bottom": null,
            "_model_module": "@jupyter-widgets/base",
            "top": null,
            "grid_column": null,
            "overflow_y": null,
            "overflow_x": null,
            "grid_auto_flow": null,
            "grid_area": null,
            "grid_template_columns": null,
            "flex": null,
            "_model_name": "LayoutModel",
            "justify_items": null,
            "grid_row": null,
            "max_height": null,
            "align_content": null,
            "visibility": null,
            "align_self": null,
            "height": null,
            "min_height": null,
            "padding": null,
            "grid_auto_rows": null,
            "grid_gap": null,
            "max_width": null,
            "order": null,
            "_view_module_version": "1.2.0",
            "grid_template_areas": null,
            "object_position": null,
            "object_fit": null,
            "grid_auto_columns": null,
            "margin": null,
            "display": null,
            "left": null
          }
        },
        "906fa0f7b2954786b1b3ee1598aabcbd": {
          "model_module": "@jupyter-widgets/controls",
          "model_name": "HTMLModel",
          "model_module_version": "1.5.0",
          "state": {
            "_view_name": "HTMLView",
            "style": "IPY_MODEL_ca150f9617bd41e8beaf4cf329a534a1",
            "_dom_classes": [],
            "description": "",
            "_model_name": "HTMLModel",
            "placeholder": "​",
            "_view_module": "@jupyter-widgets/controls",
            "_model_module_version": "1.5.0",
            "value": "100%",
            "_view_count": null,
            "_view_module_version": "1.5.0",
            "description_tooltip": null,
            "_model_module": "@jupyter-widgets/controls",
            "layout": "IPY_MODEL_50efb95a65a34c5aaa6b424ad7e8e940"
          }
        },
        "662dd3d67e4048b39a4cca704a84a1f9": {
          "model_module": "@jupyter-widgets/controls",
          "model_name": "FloatProgressModel",
          "model_module_version": "1.5.0",
          "state": {
            "_view_name": "ProgressView",
            "style": "IPY_MODEL_aeb26f5f98ff4845987cbd4a746654d4",
            "_dom_classes": [],
            "description": "",
            "_model_name": "FloatProgressModel",
            "bar_style": "success",
            "max": 46830571,
            "_view_module": "@jupyter-widgets/controls",
            "_model_module_version": "1.5.0",
            "value": 46830571,
            "_view_count": null,
            "_view_module_version": "1.5.0",
            "orientation": "horizontal",
            "min": 0,
            "description_tooltip": null,
            "_model_module": "@jupyter-widgets/controls",
            "layout": "IPY_MODEL_9f0cf77138a44f05810bc105698bd20e"
          }
        },
        "a8c3bb1819d644a181f3aa1367afa168": {
          "model_module": "@jupyter-widgets/controls",
          "model_name": "HTMLModel",
          "model_module_version": "1.5.0",
          "state": {
            "_view_name": "HTMLView",
            "style": "IPY_MODEL_852c31828e094eb898bcb58f8a383d67",
            "_dom_classes": [],
            "description": "",
            "_model_name": "HTMLModel",
            "placeholder": "​",
            "_view_module": "@jupyter-widgets/controls",
            "_model_module_version": "1.5.0",
            "value": " 44.7M/44.7M [00:00&lt;00:00, 69.0MB/s]",
            "_view_count": null,
            "_view_module_version": "1.5.0",
            "description_tooltip": null,
            "_model_module": "@jupyter-widgets/controls",
            "layout": "IPY_MODEL_5366992f14f24985913515411e3ac545"
          }
        },
        "ca150f9617bd41e8beaf4cf329a534a1": {
          "model_module": "@jupyter-widgets/controls",
          "model_name": "DescriptionStyleModel",
          "model_module_version": "1.5.0",
          "state": {
            "_view_name": "StyleView",
            "_model_name": "DescriptionStyleModel",
            "description_width": "",
            "_view_module": "@jupyter-widgets/base",
            "_model_module_version": "1.5.0",
            "_view_count": null,
            "_view_module_version": "1.2.0",
            "_model_module": "@jupyter-widgets/controls"
          }
        },
        "50efb95a65a34c5aaa6b424ad7e8e940": {
          "model_module": "@jupyter-widgets/base",
          "model_name": "LayoutModel",
          "model_module_version": "1.2.0",
          "state": {
            "_view_name": "LayoutView",
            "grid_template_rows": null,
            "right": null,
            "justify_content": null,
            "_view_module": "@jupyter-widgets/base",
            "overflow": null,
            "_model_module_version": "1.2.0",
            "_view_count": null,
            "flex_flow": null,
            "width": null,
            "min_width": null,
            "border": null,
            "align_items": null,
            "bottom": null,
            "_model_module": "@jupyter-widgets/base",
            "top": null,
            "grid_column": null,
            "overflow_y": null,
            "overflow_x": null,
            "grid_auto_flow": null,
            "grid_area": null,
            "grid_template_columns": null,
            "flex": null,
            "_model_name": "LayoutModel",
            "justify_items": null,
            "grid_row": null,
            "max_height": null,
            "align_content": null,
            "visibility": null,
            "align_self": null,
            "height": null,
            "min_height": null,
            "padding": null,
            "grid_auto_rows": null,
            "grid_gap": null,
            "max_width": null,
            "order": null,
            "_view_module_version": "1.2.0",
            "grid_template_areas": null,
            "object_position": null,
            "object_fit": null,
            "grid_auto_columns": null,
            "margin": null,
            "display": null,
            "left": null
          }
        },
        "aeb26f5f98ff4845987cbd4a746654d4": {
          "model_module": "@jupyter-widgets/controls",
          "model_name": "ProgressStyleModel",
          "model_module_version": "1.5.0",
          "state": {
            "_view_name": "StyleView",
            "_model_name": "ProgressStyleModel",
            "description_width": "",
            "_view_module": "@jupyter-widgets/base",
            "_model_module_version": "1.5.0",
            "_view_count": null,
            "_view_module_version": "1.2.0",
            "bar_color": null,
            "_model_module": "@jupyter-widgets/controls"
          }
        },
        "9f0cf77138a44f05810bc105698bd20e": {
          "model_module": "@jupyter-widgets/base",
          "model_name": "LayoutModel",
          "model_module_version": "1.2.0",
          "state": {
            "_view_name": "LayoutView",
            "grid_template_rows": null,
            "right": null,
            "justify_content": null,
            "_view_module": "@jupyter-widgets/base",
            "overflow": null,
            "_model_module_version": "1.2.0",
            "_view_count": null,
            "flex_flow": null,
            "width": null,
            "min_width": null,
            "border": null,
            "align_items": null,
            "bottom": null,
            "_model_module": "@jupyter-widgets/base",
            "top": null,
            "grid_column": null,
            "overflow_y": null,
            "overflow_x": null,
            "grid_auto_flow": null,
            "grid_area": null,
            "grid_template_columns": null,
            "flex": null,
            "_model_name": "LayoutModel",
            "justify_items": null,
            "grid_row": null,
            "max_height": null,
            "align_content": null,
            "visibility": null,
            "align_self": null,
            "height": null,
            "min_height": null,
            "padding": null,
            "grid_auto_rows": null,
            "grid_gap": null,
            "max_width": null,
            "order": null,
            "_view_module_version": "1.2.0",
            "grid_template_areas": null,
            "object_position": null,
            "object_fit": null,
            "grid_auto_columns": null,
            "margin": null,
            "display": null,
            "left": null
          }
        },
        "852c31828e094eb898bcb58f8a383d67": {
          "model_module": "@jupyter-widgets/controls",
          "model_name": "DescriptionStyleModel",
          "model_module_version": "1.5.0",
          "state": {
            "_view_name": "StyleView",
            "_model_name": "DescriptionStyleModel",
            "description_width": "",
            "_view_module": "@jupyter-widgets/base",
            "_model_module_version": "1.5.0",
            "_view_count": null,
            "_view_module_version": "1.2.0",
            "_model_module": "@jupyter-widgets/controls"
          }
        },
        "5366992f14f24985913515411e3ac545": {
          "model_module": "@jupyter-widgets/base",
          "model_name": "LayoutModel",
          "model_module_version": "1.2.0",
          "state": {
            "_view_name": "LayoutView",
            "grid_template_rows": null,
            "right": null,
            "justify_content": null,
            "_view_module": "@jupyter-widgets/base",
            "overflow": null,
            "_model_module_version": "1.2.0",
            "_view_count": null,
            "flex_flow": null,
            "width": null,
            "min_width": null,
            "border": null,
            "align_items": null,
            "bottom": null,
            "_model_module": "@jupyter-widgets/base",
            "top": null,
            "grid_column": null,
            "overflow_y": null,
            "overflow_x": null,
            "grid_auto_flow": null,
            "grid_area": null,
            "grid_template_columns": null,
            "flex": null,
            "_model_name": "LayoutModel",
            "justify_items": null,
            "grid_row": null,
            "max_height": null,
            "align_content": null,
            "visibility": null,
            "align_self": null,
            "height": null,
            "min_height": null,
            "padding": null,
            "grid_auto_rows": null,
            "grid_gap": null,
            "max_width": null,
            "order": null,
            "_view_module_version": "1.2.0",
            "grid_template_areas": null,
            "object_position": null,
            "object_fit": null,
            "grid_auto_columns": null,
            "margin": null,
            "display": null,
            "left": null
          }
        },
        "5bf6395fd8c54956beb122e4e4bbfbfb": {
          "model_module": "@jupyter-widgets/controls",
          "model_name": "HBoxModel",
          "model_module_version": "1.5.0",
          "state": {
            "_view_name": "HBoxView",
            "_dom_classes": [],
            "_model_name": "HBoxModel",
            "_view_module": "@jupyter-widgets/controls",
            "_model_module_version": "1.5.0",
            "_view_count": null,
            "_view_module_version": "1.5.0",
            "box_style": "",
            "layout": "IPY_MODEL_cb55ea97d03748ff8badd79632b07330",
            "_model_module": "@jupyter-widgets/controls",
            "children": [
              "IPY_MODEL_c0d60a5c353146c7b4e4868f29521591",
              "IPY_MODEL_9d9e9f161453441d880787238ea3c393",
              "IPY_MODEL_ebf82fe5f00f4f4e8267b0bd9c6114a8"
            ]
          }
        },
        "cb55ea97d03748ff8badd79632b07330": {
          "model_module": "@jupyter-widgets/base",
          "model_name": "LayoutModel",
          "model_module_version": "1.2.0",
          "state": {
            "_view_name": "LayoutView",
            "grid_template_rows": null,
            "right": null,
            "justify_content": null,
            "_view_module": "@jupyter-widgets/base",
            "overflow": null,
            "_model_module_version": "1.2.0",
            "_view_count": null,
            "flex_flow": null,
            "width": null,
            "min_width": null,
            "border": null,
            "align_items": null,
            "bottom": null,
            "_model_module": "@jupyter-widgets/base",
            "top": null,
            "grid_column": null,
            "overflow_y": null,
            "overflow_x": null,
            "grid_auto_flow": null,
            "grid_area": null,
            "grid_template_columns": null,
            "flex": null,
            "_model_name": "LayoutModel",
            "justify_items": null,
            "grid_row": null,
            "max_height": null,
            "align_content": null,
            "visibility": null,
            "align_self": null,
            "height": null,
            "min_height": null,
            "padding": null,
            "grid_auto_rows": null,
            "grid_gap": null,
            "max_width": null,
            "order": null,
            "_view_module_version": "1.2.0",
            "grid_template_areas": null,
            "object_position": null,
            "object_fit": null,
            "grid_auto_columns": null,
            "margin": null,
            "display": null,
            "left": null
          }
        },
        "c0d60a5c353146c7b4e4868f29521591": {
          "model_module": "@jupyter-widgets/controls",
          "model_name": "HTMLModel",
          "model_module_version": "1.5.0",
          "state": {
            "_view_name": "HTMLView",
            "style": "IPY_MODEL_0107478d7428419cb2a07c47909d651e",
            "_dom_classes": [],
            "description": "",
            "_model_name": "HTMLModel",
            "placeholder": "​",
            "_view_module": "@jupyter-widgets/controls",
            "_model_module_version": "1.5.0",
            "value": "",
            "_view_count": null,
            "_view_module_version": "1.5.0",
            "description_tooltip": null,
            "_model_module": "@jupyter-widgets/controls",
            "layout": "IPY_MODEL_15441b7255734abd8a1e172fef553ad0"
          }
        },
        "9d9e9f161453441d880787238ea3c393": {
          "model_module": "@jupyter-widgets/controls",
          "model_name": "FloatProgressModel",
          "model_module_version": "1.5.0",
          "state": {
            "_view_name": "ProgressView",
            "style": "IPY_MODEL_3ce455e0f770407796606db1cdc7195a",
            "_dom_classes": [],
            "description": "",
            "_model_name": "FloatProgressModel",
            "bar_style": "success",
            "max": 170498071,
            "_view_module": "@jupyter-widgets/controls",
            "_model_module_version": "1.5.0",
            "value": 170498071,
            "_view_count": null,
            "_view_module_version": "1.5.0",
            "orientation": "horizontal",
            "min": 0,
            "description_tooltip": null,
            "_model_module": "@jupyter-widgets/controls",
            "layout": "IPY_MODEL_3c605d4abbcd478eb9f1d53ca74f6c71"
          }
        },
        "ebf82fe5f00f4f4e8267b0bd9c6114a8": {
          "model_module": "@jupyter-widgets/controls",
          "model_name": "HTMLModel",
          "model_module_version": "1.5.0",
          "state": {
            "_view_name": "HTMLView",
            "style": "IPY_MODEL_54658414d4c64b2abf722995bde5ebc7",
            "_dom_classes": [],
            "description": "",
            "_model_name": "HTMLModel",
            "placeholder": "​",
            "_view_module": "@jupyter-widgets/controls",
            "_model_module_version": "1.5.0",
            "value": " 170499072/? [00:03&lt;00:00, 59900298.17it/s]",
            "_view_count": null,
            "_view_module_version": "1.5.0",
            "description_tooltip": null,
            "_model_module": "@jupyter-widgets/controls",
            "layout": "IPY_MODEL_258ae4a5493d4354a4f5020c56e68d92"
          }
        },
        "0107478d7428419cb2a07c47909d651e": {
          "model_module": "@jupyter-widgets/controls",
          "model_name": "DescriptionStyleModel",
          "model_module_version": "1.5.0",
          "state": {
            "_view_name": "StyleView",
            "_model_name": "DescriptionStyleModel",
            "description_width": "",
            "_view_module": "@jupyter-widgets/base",
            "_model_module_version": "1.5.0",
            "_view_count": null,
            "_view_module_version": "1.2.0",
            "_model_module": "@jupyter-widgets/controls"
          }
        },
        "15441b7255734abd8a1e172fef553ad0": {
          "model_module": "@jupyter-widgets/base",
          "model_name": "LayoutModel",
          "model_module_version": "1.2.0",
          "state": {
            "_view_name": "LayoutView",
            "grid_template_rows": null,
            "right": null,
            "justify_content": null,
            "_view_module": "@jupyter-widgets/base",
            "overflow": null,
            "_model_module_version": "1.2.0",
            "_view_count": null,
            "flex_flow": null,
            "width": null,
            "min_width": null,
            "border": null,
            "align_items": null,
            "bottom": null,
            "_model_module": "@jupyter-widgets/base",
            "top": null,
            "grid_column": null,
            "overflow_y": null,
            "overflow_x": null,
            "grid_auto_flow": null,
            "grid_area": null,
            "grid_template_columns": null,
            "flex": null,
            "_model_name": "LayoutModel",
            "justify_items": null,
            "grid_row": null,
            "max_height": null,
            "align_content": null,
            "visibility": null,
            "align_self": null,
            "height": null,
            "min_height": null,
            "padding": null,
            "grid_auto_rows": null,
            "grid_gap": null,
            "max_width": null,
            "order": null,
            "_view_module_version": "1.2.0",
            "grid_template_areas": null,
            "object_position": null,
            "object_fit": null,
            "grid_auto_columns": null,
            "margin": null,
            "display": null,
            "left": null
          }
        },
        "3ce455e0f770407796606db1cdc7195a": {
          "model_module": "@jupyter-widgets/controls",
          "model_name": "ProgressStyleModel",
          "model_module_version": "1.5.0",
          "state": {
            "_view_name": "StyleView",
            "_model_name": "ProgressStyleModel",
            "description_width": "",
            "_view_module": "@jupyter-widgets/base",
            "_model_module_version": "1.5.0",
            "_view_count": null,
            "_view_module_version": "1.2.0",
            "bar_color": null,
            "_model_module": "@jupyter-widgets/controls"
          }
        },
        "3c605d4abbcd478eb9f1d53ca74f6c71": {
          "model_module": "@jupyter-widgets/base",
          "model_name": "LayoutModel",
          "model_module_version": "1.2.0",
          "state": {
            "_view_name": "LayoutView",
            "grid_template_rows": null,
            "right": null,
            "justify_content": null,
            "_view_module": "@jupyter-widgets/base",
            "overflow": null,
            "_model_module_version": "1.2.0",
            "_view_count": null,
            "flex_flow": null,
            "width": null,
            "min_width": null,
            "border": null,
            "align_items": null,
            "bottom": null,
            "_model_module": "@jupyter-widgets/base",
            "top": null,
            "grid_column": null,
            "overflow_y": null,
            "overflow_x": null,
            "grid_auto_flow": null,
            "grid_area": null,
            "grid_template_columns": null,
            "flex": null,
            "_model_name": "LayoutModel",
            "justify_items": null,
            "grid_row": null,
            "max_height": null,
            "align_content": null,
            "visibility": null,
            "align_self": null,
            "height": null,
            "min_height": null,
            "padding": null,
            "grid_auto_rows": null,
            "grid_gap": null,
            "max_width": null,
            "order": null,
            "_view_module_version": "1.2.0",
            "grid_template_areas": null,
            "object_position": null,
            "object_fit": null,
            "grid_auto_columns": null,
            "margin": null,
            "display": null,
            "left": null
          }
        },
        "54658414d4c64b2abf722995bde5ebc7": {
          "model_module": "@jupyter-widgets/controls",
          "model_name": "DescriptionStyleModel",
          "model_module_version": "1.5.0",
          "state": {
            "_view_name": "StyleView",
            "_model_name": "DescriptionStyleModel",
            "description_width": "",
            "_view_module": "@jupyter-widgets/base",
            "_model_module_version": "1.5.0",
            "_view_count": null,
            "_view_module_version": "1.2.0",
            "_model_module": "@jupyter-widgets/controls"
          }
        },
        "258ae4a5493d4354a4f5020c56e68d92": {
          "model_module": "@jupyter-widgets/base",
          "model_name": "LayoutModel",
          "model_module_version": "1.2.0",
          "state": {
            "_view_name": "LayoutView",
            "grid_template_rows": null,
            "right": null,
            "justify_content": null,
            "_view_module": "@jupyter-widgets/base",
            "overflow": null,
            "_model_module_version": "1.2.0",
            "_view_count": null,
            "flex_flow": null,
            "width": null,
            "min_width": null,
            "border": null,
            "align_items": null,
            "bottom": null,
            "_model_module": "@jupyter-widgets/base",
            "top": null,
            "grid_column": null,
            "overflow_y": null,
            "overflow_x": null,
            "grid_auto_flow": null,
            "grid_area": null,
            "grid_template_columns": null,
            "flex": null,
            "_model_name": "LayoutModel",
            "justify_items": null,
            "grid_row": null,
            "max_height": null,
            "align_content": null,
            "visibility": null,
            "align_self": null,
            "height": null,
            "min_height": null,
            "padding": null,
            "grid_auto_rows": null,
            "grid_gap": null,
            "max_width": null,
            "order": null,
            "_view_module_version": "1.2.0",
            "grid_template_areas": null,
            "object_position": null,
            "object_fit": null,
            "grid_auto_columns": null,
            "margin": null,
            "display": null,
            "left": null
          }
        }
      }
    }
  },
  "cells": [
    {
      "cell_type": "markdown",
      "source": [
        "#TENSORS"
      ],
      "metadata": {
        "id": "bLNNXdpPTYZ0"
      }
    },
    {
      "cell_type": "code",
      "execution_count": 1,
      "metadata": {
        "id": "5DY2Bpk5RvUZ"
      },
      "outputs": [],
      "source": [
        "import torch\n",
        "import numpy as np"
      ]
    },
    {
      "cell_type": "markdown",
      "source": [
        "##Tensor Initialization"
      ],
      "metadata": {
        "id": "MYo5cicKTi8-"
      }
    },
    {
      "cell_type": "markdown",
      "source": [
        "Directily from data"
      ],
      "metadata": {
        "id": "ys0DhJcFTnJ9"
      }
    },
    {
      "cell_type": "code",
      "source": [
        "data = [[1,2], [3,4]]\n",
        "x_data = torch.tensor(data)"
      ],
      "metadata": {
        "id": "AlLMDeJLTiJe"
      },
      "execution_count": 2,
      "outputs": []
    },
    {
      "cell_type": "code",
      "source": [
        "x_data"
      ],
      "metadata": {
        "colab": {
          "base_uri": "https://localhost:8080/"
        },
        "id": "bt8AkaYXTrsZ",
        "outputId": "7a583ee2-ce61-47b2-d2be-d4f59a7ca548"
      },
      "execution_count": 3,
      "outputs": [
        {
          "output_type": "execute_result",
          "data": {
            "text/plain": [
              "tensor([[1, 2],\n",
              "        [3, 4]])"
            ]
          },
          "metadata": {},
          "execution_count": 3
        }
      ]
    },
    {
      "cell_type": "markdown",
      "source": [
        "From a NumPy array"
      ],
      "metadata": {
        "id": "uYbeSpdwTuV0"
      }
    },
    {
      "cell_type": "code",
      "source": [
        "np_array = np.array(data)\n",
        "\n",
        "#넘파이 배열에서 텐서로\n",
        "x_np = torch.from_numpy(np_array)"
      ],
      "metadata": {
        "id": "Pmgrdc65TtAG"
      },
      "execution_count": 4,
      "outputs": []
    },
    {
      "cell_type": "code",
      "source": [
        "x_np"
      ],
      "metadata": {
        "colab": {
          "base_uri": "https://localhost:8080/"
        },
        "id": "fpZKwdC9T4wJ",
        "outputId": "fbecb365-a03e-4730-c2f4-f659ee876352"
      },
      "execution_count": 5,
      "outputs": [
        {
          "output_type": "execute_result",
          "data": {
            "text/plain": [
              "tensor([[1, 2],\n",
              "        [3, 4]])"
            ]
          },
          "metadata": {},
          "execution_count": 5
        }
      ]
    },
    {
      "cell_type": "markdown",
      "source": [
        "From another tensor\n",
        "\n",
        "-> 다른 텐서의 모양만 따온다"
      ],
      "metadata": {
        "id": "qwoKtkptT7bc"
      }
    },
    {
      "cell_type": "code",
      "source": [
        "x_ones = torch.ones_like(x_data)\n",
        "print(f\"Ones Tensor: \\n {x_ones} \\n\")"
      ],
      "metadata": {
        "colab": {
          "base_uri": "https://localhost:8080/"
        },
        "id": "Ck1jPaHST5XB",
        "outputId": "939715ce-72e2-49a6-ecf3-486a0b0dee2c"
      },
      "execution_count": 6,
      "outputs": [
        {
          "output_type": "stream",
          "name": "stdout",
          "text": [
            "Ones Tensor: \n",
            " tensor([[1, 1],\n",
            "        [1, 1]]) \n",
            "\n"
          ]
        }
      ]
    },
    {
      "cell_type": "code",
      "source": [
        "x_rand = torch.rand_like(x_data, dtype=torch.float)\n",
        "print(f\"Random Tensor: \\n {x_rand} \\n\")"
      ],
      "metadata": {
        "colab": {
          "base_uri": "https://localhost:8080/"
        },
        "id": "6AREgg2_UF3H",
        "outputId": "816c6580-9534-4d99-9eb3-a9153b9d3796"
      },
      "execution_count": 7,
      "outputs": [
        {
          "output_type": "stream",
          "name": "stdout",
          "text": [
            "Random Tensor: \n",
            " tensor([[0.4522, 0.7787],\n",
            "        [0.2173, 0.1374]]) \n",
            "\n"
          ]
        }
      ]
    },
    {
      "cell_type": "markdown",
      "source": [
        "With random or constant values\n",
        "\n",
        "-> 크기를 결정해주는 shape을 이용해서 텐서 생성"
      ],
      "metadata": {
        "id": "oh-Z_lzTUQ7f"
      }
    },
    {
      "cell_type": "code",
      "source": [
        "shape = (2, 3, )\n",
        "rand_tensor = torch.rand(shape)\n",
        "ones_tensor = torch.ones(shape)\n",
        "zeros_tensor = torch.zeros(shape)\n",
        "\n",
        "print(f\"Random Tensor: \\n {rand_tensor} \\n\")\n",
        "print(f\"Ones Tensor: \\n {ones_tensor} \\n\")\n",
        "print(f\"Zeros Tensor: \\n {zeros_tensor}\")"
      ],
      "metadata": {
        "colab": {
          "base_uri": "https://localhost:8080/"
        },
        "id": "i0V5Y0Z9UNlV",
        "outputId": "3c729fba-4ba5-4e17-aa3f-fe32f2bd5564"
      },
      "execution_count": 8,
      "outputs": [
        {
          "output_type": "stream",
          "name": "stdout",
          "text": [
            "Random Tensor: \n",
            " tensor([[0.7482, 0.5439, 0.3128],\n",
            "        [0.3667, 0.6388, 0.8524]]) \n",
            "\n",
            "Ones Tensor: \n",
            " tensor([[1., 1., 1.],\n",
            "        [1., 1., 1.]]) \n",
            "\n",
            "Zeros Tensor: \n",
            " tensor([[0., 0., 0.],\n",
            "        [0., 0., 0.]])\n"
          ]
        }
      ]
    },
    {
      "cell_type": "markdown",
      "source": [
        "##Tensor Attributes"
      ],
      "metadata": {
        "id": "aSVaXbg6UohN"
      }
    },
    {
      "cell_type": "code",
      "source": [
        "tensor = torch.rand(3,4)\n",
        "\n",
        "print(f\"Shape of tensor: {tensor.shape}\")\n",
        "print(f\"Datatype of tensor: {tensor.dtype}\")\n",
        "print(f\"Device tensor is stored on: {tensor.device}\")"
      ],
      "metadata": {
        "colab": {
          "base_uri": "https://localhost:8080/"
        },
        "id": "JK8uZMmtUhVo",
        "outputId": "04264323-433b-4922-c3c2-2e96b76f7ab9"
      },
      "execution_count": 9,
      "outputs": [
        {
          "output_type": "stream",
          "name": "stdout",
          "text": [
            "Shape of tensor: torch.Size([3, 4])\n",
            "Datatype of tensor: torch.float32\n",
            "Device tensor is stored on: cpu\n"
          ]
        }
      ]
    },
    {
      "cell_type": "markdown",
      "source": [
        "##Tensor Operations\n",
        "\n",
        "연산 엄청 많다.. GPU에서 수행 가능하다"
      ],
      "metadata": {
        "id": "4kE213DJU44P"
      }
    },
    {
      "cell_type": "code",
      "source": [
        "# We move out tensor to the GPU if available\n",
        "if torch.cuda.is_available():\n",
        "    tensor = tensor.to('cuda')\n",
        "    print(f\"Device tensor is stored on: {tensor.device}\")"
      ],
      "metadata": {
        "colab": {
          "base_uri": "https://localhost:8080/"
        },
        "id": "pLITVIv-UthN",
        "outputId": "321f0ed0-1ba4-46c0-c221-205bb3c4681c"
      },
      "execution_count": 10,
      "outputs": [
        {
          "output_type": "stream",
          "name": "stdout",
          "text": [
            "Device tensor is stored on: cuda:0\n"
          ]
        }
      ]
    },
    {
      "cell_type": "markdown",
      "source": [
        "**Standard numpy-like indexing and slicing**"
      ],
      "metadata": {
        "id": "aj-yMmElVbDv"
      }
    },
    {
      "cell_type": "code",
      "source": [
        "tensor = torch.ones(4,4)\n",
        "tensor[:,1] = 0\n",
        "print(tensor)"
      ],
      "metadata": {
        "colab": {
          "base_uri": "https://localhost:8080/"
        },
        "id": "xfyOaNMmVMPh",
        "outputId": "7e9a4ae1-db80-4d2b-8d52-ff8490db0787"
      },
      "execution_count": 11,
      "outputs": [
        {
          "output_type": "stream",
          "name": "stdout",
          "text": [
            "tensor([[1., 0., 1., 1.],\n",
            "        [1., 0., 1., 1.],\n",
            "        [1., 0., 1., 1.],\n",
            "        [1., 0., 1., 1.]])\n"
          ]
        }
      ]
    },
    {
      "cell_type": "markdown",
      "source": [
        "**Joining tensors**"
      ],
      "metadata": {
        "id": "b7o9llJCVlw1"
      }
    },
    {
      "cell_type": "code",
      "source": [
        "t1 = torch.cat([tensor, tensor, tensor], dim=1)\n",
        "print(t1)"
      ],
      "metadata": {
        "colab": {
          "base_uri": "https://localhost:8080/"
        },
        "id": "UGvd7A_jVkWA",
        "outputId": "83458c8c-648f-4f09-e630-0a169e500e01"
      },
      "execution_count": 12,
      "outputs": [
        {
          "output_type": "stream",
          "name": "stdout",
          "text": [
            "tensor([[1., 0., 1., 1., 1., 0., 1., 1., 1., 0., 1., 1.],\n",
            "        [1., 0., 1., 1., 1., 0., 1., 1., 1., 0., 1., 1.],\n",
            "        [1., 0., 1., 1., 1., 0., 1., 1., 1., 0., 1., 1.],\n",
            "        [1., 0., 1., 1., 1., 0., 1., 1., 1., 0., 1., 1.]])\n"
          ]
        }
      ]
    },
    {
      "cell_type": "code",
      "source": [
        "t2 = torch.cat([tensor, tensor, tensor], dim=0)\n",
        "print(t2)"
      ],
      "metadata": {
        "colab": {
          "base_uri": "https://localhost:8080/"
        },
        "id": "JbyIpkJhVtQX",
        "outputId": "ada0e532-4003-4ea4-cee1-b862bb603efc"
      },
      "execution_count": 13,
      "outputs": [
        {
          "output_type": "stream",
          "name": "stdout",
          "text": [
            "tensor([[1., 0., 1., 1.],\n",
            "        [1., 0., 1., 1.],\n",
            "        [1., 0., 1., 1.],\n",
            "        [1., 0., 1., 1.],\n",
            "        [1., 0., 1., 1.],\n",
            "        [1., 0., 1., 1.],\n",
            "        [1., 0., 1., 1.],\n",
            "        [1., 0., 1., 1.],\n",
            "        [1., 0., 1., 1.],\n",
            "        [1., 0., 1., 1.],\n",
            "        [1., 0., 1., 1.],\n",
            "        [1., 0., 1., 1.]])\n"
          ]
        }
      ]
    },
    {
      "cell_type": "markdown",
      "source": [
        "**Multiplying tensors**"
      ],
      "metadata": {
        "id": "LzthV13KV3t3"
      }
    },
    {
      "cell_type": "code",
      "source": [
        "# element-wise product\n",
        "print(tensor.mul(tensor))\n",
        "print(tensor*tensor)"
      ],
      "metadata": {
        "colab": {
          "base_uri": "https://localhost:8080/"
        },
        "id": "P8QyeFkXV2dB",
        "outputId": "c811c869-ac5f-4c9c-a4d9-d5e8270bb9f8"
      },
      "execution_count": 14,
      "outputs": [
        {
          "output_type": "stream",
          "name": "stdout",
          "text": [
            "tensor([[1., 0., 1., 1.],\n",
            "        [1., 0., 1., 1.],\n",
            "        [1., 0., 1., 1.],\n",
            "        [1., 0., 1., 1.]])\n",
            "tensor([[1., 0., 1., 1.],\n",
            "        [1., 0., 1., 1.],\n",
            "        [1., 0., 1., 1.],\n",
            "        [1., 0., 1., 1.]])\n"
          ]
        }
      ]
    },
    {
      "cell_type": "code",
      "source": [
        "# matrix multiplication\n",
        "print(tensor.matmul(tensor.T))\n",
        "print(tensor @ tensor.T)"
      ],
      "metadata": {
        "colab": {
          "base_uri": "https://localhost:8080/"
        },
        "id": "HZEk8HDiWMgC",
        "outputId": "5ae2c7ff-1b32-4a96-c337-47cca40ec344"
      },
      "execution_count": 15,
      "outputs": [
        {
          "output_type": "stream",
          "name": "stdout",
          "text": [
            "tensor([[3., 3., 3., 3.],\n",
            "        [3., 3., 3., 3.],\n",
            "        [3., 3., 3., 3.],\n",
            "        [3., 3., 3., 3.]])\n",
            "tensor([[3., 3., 3., 3.],\n",
            "        [3., 3., 3., 3.],\n",
            "        [3., 3., 3., 3.],\n",
            "        [3., 3., 3., 3.]])\n"
          ]
        }
      ]
    },
    {
      "cell_type": "markdown",
      "source": [
        "**In-place operations**\n",
        "\n",
        " -> _가 들어가 있으면 대체한다"
      ],
      "metadata": {
        "id": "dVHv0lGkWcOO"
      }
    },
    {
      "cell_type": "code",
      "source": [
        "print(tensor, \"\\n\")\n",
        "tensor.add_(5)      #replace\n",
        "print(tensor)"
      ],
      "metadata": {
        "colab": {
          "base_uri": "https://localhost:8080/"
        },
        "id": "6pfInxJpWVKO",
        "outputId": "fba00e4c-4a53-4e85-cedd-287350509813"
      },
      "execution_count": 16,
      "outputs": [
        {
          "output_type": "stream",
          "name": "stdout",
          "text": [
            "tensor([[1., 0., 1., 1.],\n",
            "        [1., 0., 1., 1.],\n",
            "        [1., 0., 1., 1.],\n",
            "        [1., 0., 1., 1.]]) \n",
            "\n",
            "tensor([[6., 5., 6., 6.],\n",
            "        [6., 5., 6., 6.],\n",
            "        [6., 5., 6., 6.],\n",
            "        [6., 5., 6., 6.]])\n"
          ]
        }
      ]
    },
    {
      "cell_type": "markdown",
      "source": [
        "##Bridge with NumPy"
      ],
      "metadata": {
        "id": "8AQDjyXQWqxj"
      }
    },
    {
      "cell_type": "markdown",
      "source": [
        "Tensor to NumPy array"
      ],
      "metadata": {
        "id": "Ng6D_A5NWxo7"
      }
    },
    {
      "cell_type": "code",
      "source": [
        "#텐서를 넘파이로..\n",
        "t = torch.ones(5)\n",
        "print(f\"t: {t}\")\n",
        "n = t.numpy()\n",
        "print(f\"n: {n}\")\n",
        "print(type(t), type(n))"
      ],
      "metadata": {
        "colab": {
          "base_uri": "https://localhost:8080/"
        },
        "id": "ODUUTNQUWlO2",
        "outputId": "62d8f4ea-2831-4e46-a165-b6e75bf17079"
      },
      "execution_count": 17,
      "outputs": [
        {
          "output_type": "stream",
          "name": "stdout",
          "text": [
            "t: tensor([1., 1., 1., 1., 1.])\n",
            "n: [1. 1. 1. 1. 1.]\n",
            "<class 'torch.Tensor'> <class 'numpy.ndarray'>\n"
          ]
        }
      ]
    },
    {
      "cell_type": "code",
      "source": [
        "t.add_(1)       #replace\n",
        "print(f\"t: {t}\")\n",
        "print(f\"n: {n}\")"
      ],
      "metadata": {
        "colab": {
          "base_uri": "https://localhost:8080/"
        },
        "id": "_fq5lkI-W3fS",
        "outputId": "391a4339-ca9a-46d3-f58a-dea5a7938011"
      },
      "execution_count": 18,
      "outputs": [
        {
          "output_type": "stream",
          "name": "stdout",
          "text": [
            "t: tensor([2., 2., 2., 2., 2.])\n",
            "n: [2. 2. 2. 2. 2.]\n"
          ]
        }
      ]
    },
    {
      "cell_type": "markdown",
      "source": [
        "NumPy array to Tensor"
      ],
      "metadata": {
        "id": "e7RX1er9XG0q"
      }
    },
    {
      "cell_type": "code",
      "source": [
        "n = np.ones(5)\n",
        "t = torch.from_numpy(n)     #넘파이에서 텐서로.."
      ],
      "metadata": {
        "id": "QMjoW1k-XFKg"
      },
      "execution_count": 19,
      "outputs": []
    },
    {
      "cell_type": "code",
      "source": [
        "np.add(n, 1, out=n)     #바뀜..\n",
        "print(f\"t: {t}\")\n",
        "print(f\"n: {n}\")"
      ],
      "metadata": {
        "colab": {
          "base_uri": "https://localhost:8080/"
        },
        "id": "3O4ujiJQXQA9",
        "outputId": "b1a47062-ac9f-4f8b-eb12-dc37dcc7091f"
      },
      "execution_count": 20,
      "outputs": [
        {
          "output_type": "stream",
          "name": "stdout",
          "text": [
            "t: tensor([2., 2., 2., 2., 2.], dtype=torch.float64)\n",
            "n: [2. 2. 2. 2. 2.]\n"
          ]
        }
      ]
    },
    {
      "cell_type": "code",
      "source": [
        ""
      ],
      "metadata": {
        "id": "_tWI62eTXVhx"
      },
      "execution_count": 20,
      "outputs": []
    },
    {
      "cell_type": "markdown",
      "source": [
        "#A GENTLE INTRODUCTION TO TORCH.AUTOGRAD"
      ],
      "metadata": {
        "id": "w1EVtQAnvGVi"
      }
    },
    {
      "cell_type": "markdown",
      "source": [
        "##Background"
      ],
      "metadata": {
        "id": "DUG23_bryJjN"
      }
    },
    {
      "cell_type": "markdown",
      "source": [
        "- forward propagation : input이 nn을 거치면서 prediction을 뽑아내는 과정\n",
        "\n",
        "- backward propagation : 정답 label과 모델의 prediction을 비교하는 loss를 구해서 미분을 진행 -> 미분값을 바탕으로 weight과 bias를 업데이트를 함"
      ],
      "metadata": {
        "id": "AKm_iEwWwx9r"
      }
    },
    {
      "cell_type": "markdown",
      "source": [
        "##Using in PyTorch\n",
        "\n",
        "- can use GPU"
      ],
      "metadata": {
        "id": "18ARSr4zXdq8"
      }
    },
    {
      "cell_type": "code",
      "source": [
        "import torch, torchvision\n",
        "model = torchvision.models.resnet18(pretrained=True)\n",
        "data = torch.rand(1, 3, 64, 64)     #batch, channel, size, size\n",
        "labels = torch.rand(1, 1000)        #labels"
      ],
      "metadata": {
        "colab": {
          "base_uri": "https://localhost:8080/",
          "height": 0,
          "referenced_widgets": [
            "3acd995159aa4be490f5c81a249c8bdc",
            "a7e476e9367d4162852651cbddbb0b8d",
            "906fa0f7b2954786b1b3ee1598aabcbd",
            "662dd3d67e4048b39a4cca704a84a1f9",
            "a8c3bb1819d644a181f3aa1367afa168",
            "ca150f9617bd41e8beaf4cf329a534a1",
            "50efb95a65a34c5aaa6b424ad7e8e940",
            "aeb26f5f98ff4845987cbd4a746654d4",
            "9f0cf77138a44f05810bc105698bd20e",
            "852c31828e094eb898bcb58f8a383d67",
            "5366992f14f24985913515411e3ac545"
          ]
        },
        "id": "3tJzvU57vLLL",
        "outputId": "29b9c0c5-6c6a-4eb6-88df-e704b1080fbd"
      },
      "execution_count": 21,
      "outputs": [
        {
          "output_type": "stream",
          "name": "stderr",
          "text": [
            "Downloading: \"https://download.pytorch.org/models/resnet18-f37072fd.pth\" to /root/.cache/torch/hub/checkpoints/resnet18-f37072fd.pth\n"
          ]
        },
        {
          "output_type": "display_data",
          "data": {
            "application/vnd.jupyter.widget-view+json": {
              "model_id": "3acd995159aa4be490f5c81a249c8bdc",
              "version_minor": 0,
              "version_major": 2
            },
            "text/plain": [
              "  0%|          | 0.00/44.7M [00:00<?, ?B/s]"
            ]
          },
          "metadata": {}
        }
      ]
    },
    {
      "cell_type": "code",
      "source": [
        "prediction = model(data)        #forward pass"
      ],
      "metadata": {
        "id": "7RF5AKsZxggo"
      },
      "execution_count": 22,
      "outputs": []
    },
    {
      "cell_type": "code",
      "source": [
        "loss = (prediction - labels).sum()\n",
        "loss.backward()     #backward pass"
      ],
      "metadata": {
        "id": "d--aWzmyxgdC"
      },
      "execution_count": 23,
      "outputs": []
    },
    {
      "cell_type": "code",
      "source": [
        "#optimizer 생성\n",
        "optim = torch.optim.SGD(model.parameters(), lr=1e-2, momentum=0.9)"
      ],
      "metadata": {
        "id": "exAkMjc8xuX8"
      },
      "execution_count": 24,
      "outputs": []
    },
    {
      "cell_type": "code",
      "source": [
        "#경사하강법 시작\n",
        "\n",
        "#grad = grad - lr*grad\n",
        "optim.step()        #gradient descent"
      ],
      "metadata": {
        "id": "G44f8PW1xuUW"
      },
      "execution_count": 25,
      "outputs": []
    },
    {
      "cell_type": "markdown",
      "source": [
        "##Differentiation in Autograd"
      ],
      "metadata": {
        "id": "mBLDytbtXpRi"
      }
    },
    {
      "cell_type": "code",
      "source": [
        "#requires_grad=True로 설정 시 diffrentiation 가능\n",
        "\n",
        "import torch\n",
        "\n",
        "a = torch.tensor([2., 3.], requires_grad=True)\n",
        "b = torch.tensor([6., 4.], requires_grad=True)"
      ],
      "metadata": {
        "id": "HN_vhE2_xgZp"
      },
      "execution_count": 26,
      "outputs": []
    },
    {
      "cell_type": "markdown",
      "source": [
        "$Q = 3a^3 - b^2$\n",
        "\n",
        "- $dQ/da = 9a^2$\n",
        "- $dQ/db = -2b$"
      ],
      "metadata": {
        "id": "Vme_1_HvX5Du"
      }
    },
    {
      "cell_type": "code",
      "source": [
        "#Q is tensor also\n",
        "Q = 3*a**3 - b**2"
      ],
      "metadata": {
        "id": "CaQtwcESX8r0"
      },
      "execution_count": 27,
      "outputs": []
    },
    {
      "cell_type": "code",
      "source": [
        "externel_grad = torch.tensor([1., 1.])      #upstreaming grad 설정\n",
        "Q.backward(gradient=externel_grad)"
      ],
      "metadata": {
        "id": "SyLD3bHrYX0n"
      },
      "execution_count": 28,
      "outputs": []
    },
    {
      "cell_type": "code",
      "source": [
        "#check gradient\n",
        "print(a.grad)\n",
        "print(b.grad)"
      ],
      "metadata": {
        "colab": {
          "base_uri": "https://localhost:8080/"
        },
        "id": "nEwD0ofIaW1b",
        "outputId": "79824404-6258-47c1-8a8a-4c45bc96175d"
      },
      "execution_count": 29,
      "outputs": [
        {
          "output_type": "stream",
          "name": "stdout",
          "text": [
            "tensor([36., 81.])\n",
            "tensor([-12.,  -8.])\n"
          ]
        }
      ]
    },
    {
      "cell_type": "markdown",
      "source": [
        "Vector Calculation을 해야할 수도 있다."
      ],
      "metadata": {
        "id": "EixqoGx8aqoQ"
      }
    },
    {
      "cell_type": "markdown",
      "source": [
        "##Computational Graph\n",
        "\n",
        "- (2) is input datas"
      ],
      "metadata": {
        "id": "4Ts91_YAaxqV"
      }
    },
    {
      "cell_type": "markdown",
      "source": [
        "![Computational graph.png](data:image/png;base64,iVBORw0KGgoAAAANSUhEUgAAAUQAAAFkCAYAAABYRkLwAAAAAXNSR0IArs4c6QAAAARnQU1BAACxjwv8YQUAAAAJcEhZcwAADsMAAA7DAcdvqGQAADeXSURBVHhe7d0HeBPlHwfwXxllU7aATNkgKHuILEEERIYMKYICMmQIqPwBxQUICKjIkD1ENsiSvVGWyJQpQ/beowXK+uf75n3btCRp05k038/z9LncJW0vd5dv3nV3Pk8thIiIJIGeEhF5PQYiEZHGQCQi0hiIREQaA5GISGMgEhFpDEQiIo2BSESkMRCJiDQGIhGRxkAkItIYiEREmltf3GH58uXSuUsXPUeRMWf2bClZsqSeIyJn3D4Qa9euLXVatdNLPJGPnsa+pZPHyo4dOxiIRBHkEYH485pt8ly2HHopRcSRfbuld+M6DEQiF7ANkYhIYyASEWkMRCIijYFIRKQxEImINAYiEZHGQCQi0hiIREQaA5GISGMgEhFpDEQiIo2BSESkMRCJiDQGIhGRxkAkItIYiEREGgORiEhjIBIRaQxEIiKNgUhEpDEQiYg0BiIRkcZAJCLSGIhERBoDkYhIYyBG0JMnj+Tp06d6zgrLwrL3OiLyDAzECAi4e0dG9P5EAu7cVvNH9+2Rsd/0lsaFc0jjorlk3pjh8ujhQ/Xc2ePHZfLgvvL48bNhSUTujYEYjisXzsk3rZtJvdbtJWVqPzm2/x/5zL+++KXPIG80by1PHgbJzGGDZMGEn9Xrc+QrIOWqvyHDe3eXB/fvqWVE5BkYiE4EPbgvnzasKe927yW5ChRWyxZNGiPfz18p73T+RNp+0V8Gz1+lls/5+Uc1hcIly0r2F/LJqD499BIi8gQMRCdWzZkuyVP5SdFyr6h5tA8WKF5SlQKNFwoVkUw5cquSom2bYs1mLWTzkvmW6vVevYSI3B0D0YF7AQEy+dsvpJb/++Lj46OWJUiQSN5s0UY9NvBcqjRpJX+JMup5I5VfWildvZZM+2GgXkJE7o6B6MD5UyfUNEuuXGrqyM2rV+T4P7ukUfsuekmI/C+VkP1b/5CgoAd6CRG5MwaiAxdPWwMRnSfOzB3zk9S0lCJLVKqml4TwS2f93cvnzqgpEbk3BqID1y9fUlNf3yRqas+21cvk7PFj0rr3N8HValtJUyRX0xuXL6spEbk3BqIDGbNkVdNb166paVjHD+6X33+ZID1HjpdEiRPrpaHdDwhU0xSpU6spEbk3BqIDWXPlUdMbV58t3Z0/eUJ+GdxXeo2aKMlTpNJLRdYtmKMfWd24Yi1lZshsDVcicm8MRAcy58ipptcuXlBT4+rF89K1blXJkjO3rJk7Uw3IxpkqQ7t3kMvnz+pXWZ07cVxyF3lJUqdNp5cQkTtjIDrgmySptP9msGxYNE+ePnmilj169Ei+aNlYjTlcM/tXmTa0v/rBmSpbly+Wym82VK+DwIA78seiudK4Y1e9hIjcHQPRiWpvv6Om+/7aoqaJEiWS0as2y2+Hz9v9yZIzZIjOpqWL5aWKVaVUlep6CRG5OwaiEwjAT4eNkalDv5Wrl0JXnZ35Z+smWTV7mnxi+d2ECUMGaxORe2MghiNnvoLS6duhMqJXd3XVm/CcPvqvrJg1Vb4Y96ukSBnS4UJE7o+BGAG5CxaRz8f+EqGAy5rrBenx45hwB3QTkfthIEaQswHatjAm0ScBNyuRJ+Inl4hIYyASEWkMRCIijYFIRKQxEImINJ+nbnzPzOXLl0vt2rWldsu2egm5YtnU8bJjxw4pWbKkXkJEzrh9IHbt1k3PuZ9jR4+qad58+dTUHc2cMYOBSBRBbh2I7s5cFJabkCh+YBsiEZHGQCQi0hiIREQaA5GISGMgRlHz5s31IyLydAxEIiKNgUhEpDEQo6Bq1ar6ERHFBwxEIiKNgUhEpDEQiYg0BiIRkcZAJCLSGIhERBoDkYhIYyASEWkMRCIijYFIRKQxEImINAYiEZHGQCQi0hiIREQaA5GISGMgEhFpDEQiIo2BSESkMRCJiDQGIhGRxkAkItIYiEREGgORiEhjIBIRaQxEIiKNgUhEpDEQiYg0BiIRkcZAJCLSGIhRsH79ev2IiOIDBiIRkcZAJCLSfJ5a6MfkIh8fHzXlJiSKH1hCJCLSGIhERBoDkYhIYyASEWnsVImA27dvy8GDB/VciPLly6vp1q1b1dRWuXLl9CMi8hQMxAhKkiSJBAUF6TnnihcvLrt27dJzROQpWGWOoE8//VQ/Ct+HH36oHxGRJ2EJMYJQZS5SpIiec+7MmTOSLVs2PUdEnoIlxAgqXLiwZM+eXc85VqpUKYYhkYdiCdEFn3/+uQwYMEDP2Tdu3Dhp27atniNPt2PHDvFv3lzPUWQM/+kneeONN/Sce2MguiAi1eZbt25J6tSp9Rx5OgRi6dKlpXZLfslFxrKp42X58uUMxPiqZMmSDnuQmzVrJjNmzNBzFB+YQBw0d5nkK/qyXkoRcensaelYvZxHBSLbEF3UoUMH/ehZ9evX14+IyBMxEF1Uq1Yt/ehZnvItSET2MRBdhB5k9CSHheoy2w6JPBsDMRLatWunH4V477339CMi8lQMxEho2rSpfmTl6+srNWvW1HNE5KkYiJGAqjGqyMYHH3ygHxGRJ2MgRpJtj/Jbb72lHxGRJ3NpHGK3bt30I8KVb0aPHq0ed+3aVU3JatiwYfqR5+M4xMjzxHGILgVinjx5eEMlG6dOnVLth1myZNFLPI+5UVZ0wfneGzZs0HOej4EYeV4RiK+++qpLl8KKzzZv3izPPfec5M2bVy/xbj179pSAgAAGIik8U8XLvPLKKwxDoniEgUhEpDEQiYg0BiIRkcZAJCLSGIgx4M6dO/qR+3ny5Im6rSoRPSvGA3HTpk3y/vvvq/N/zY+/v7+6FD/uZ3z//n39yuh39uxZ+d///hfqf+OnTZs2MmLECNm2bZs8ePBAvzpqHj16JJMnT1bvrXLlynqp+7h48aIMHDhQqlSpIvPnz9dLRa5cuSLfffed2iYtW7ZUt0DAeyHyRjEeiBUrVpQePXqoy+8fPXpUJkwYL/3795ccOXKoq8ZUqFBBzp8/r18dvXCprsGDB6t7KuP/N27cWMaOHatCEkGIe5907txZHj58qH8j8hIlSiRNmjRR4/DcUaZMmaROnTpy48YNSZgwoVqGbYCzbLDOCEJsm6VLl8arM02IXBErVWaEH6RPn15SpUotL7zwgrz77rvSvXt3FUb4IMakYsWKqWm6dOkkTZo0UqBAATW4HDeURynx8OHD6vmoSpEihfrb7ihBggTBZ9TgMSxatEj27dsnLVq2UCGZLFkydaGKX375RQ4cOKBeQ+RNYiUQzQcwLBMeYQPp2rVrcuzYMbl3755eYoXqHarB+Ll+/brcuXM7eB4/CFe0kdnOgykRhWUGVaM6GRburbxnzx6H7YGXLl2SQ4cOOa1e4v9jHc0P5m3XFyWzy5cvB8+fO3dO/R7eN+bDlpydrRPeA0p8eO7kyZN6qbXNEKcY/vvvv+r8azD7Y+/evZI4cWLJlzefmgeclQGrVq1SUyJvEiuB6Mh///2npiaYEABox0Jb18KFC6VMmTIydOjQ4GDcv3+/uoQ/fhCO165dV1U+zE+bNk3u37+nAmDWrFmqLc9Z5wYCZM2aNSoQTAgASkb16tVTp2zheVTpEXwGAgztbXPmzJG1a9eqUiaqmfbcvHlTunXrbqmqvmkpdU1V/xPrhvX97LPPJDAwUE6cOBH8ntCmijMp0a7ap08fGTRokHo/ztbpr7/+ko8++khq1KghixcvVs/VrVtXhSfWFZcpmzt3bnBbrq3t27er9beVMWNGNd29e7eaEnmTOAlElABRAkH7HgIJH2iUblBdy58/vwpBVGlxNRlU33788Uf1e1WrVlWdAoD2wVy5cknv3r3VPEqbqI6jLQ8favxNVJFtLViwQP3tLl26qABJmTKl/Prrr6oabaCDAX+jQYMGah0yZ86sggZQGkS7Y7Vq1dTfQPsj7sLXq1ev4NKoLVMCw+/jtbjwAaZYBljPsmXLBl8tB+GEiy2kTZtWkiZNKl0+6qJKc87WqWDBgsEl4D///FMmTpqo2mbxNz788EMpUaKE+h2EuLnSN/4HwhoBnSpVKrXMMH/LtpRJ5C1iNRDxAaxUqZL6YM+ePVsFAU78xgUS1q1bp0o1KCkZOFcY4TFz5kxVIgRzYVZcWAFM6RIlL0CJCr2o9q5gjXsqI8DMFP8PIYmOBqN9+/YqtADBjf9/5MgRNY8SIUq1tr3I6C1Hh4QJOWP69OmyevVqGT58eKjARdC1atVKlcAuXLigliHUANsCUFJG6dFUZZ2tk5+fX/A9Xjp27ChlSpdRYb1z5071GlyMw8D2NPD3nUFHFJG3idVARMnmjz/+UD8TJ05UJUKEIRw/flxNU/uF3KgJJRlzlYzTp0+rKarRKP0gUAHVVQQEepHR7miuThK25AMofaKUiVuJTpkyRXXs4O/07dtXv8IaGlmzZpWvvvpKDaO5e/ducOnPVFPxvIHH5cuX13NWeD2qu1gHXB4sLFRpwQQgqt94D5MmTVK/i9Jf8+bN1XPgbJ3AhBdKvIZZ13z5QtoHTWhju6KDC0woG/hCgZdeeklNibxJnLYh2kKVEI4eOaqmBkIMzPOYtm7dWrV/oaMAwWbG1S1btkyFy9tvv63mw1O9enU1RbucgZIqSqEIJFQ1US03EESA/+sMgseErb32RfzNcuXKqXVHcGGg9MiRI1XIbdy4UX777bfgpgFwtk6OoNMJzBdJWAhRfLFgKJQt8x55FR/yRrESiKbU4YwJPlT1bJmqoW0I1K5dW00REqh+4zlMx48fr6rBhQoVUs+H59atW2pqOhYwj2o8/pZZH9uB27geJKxYsUJNDVTpw7a5YUhR4cKFVfuivSEsWHdU1RFyKLGaki9+D7ckMKW+8NbJkZw5c6qp7fYMe+lLdLIghFENN1DKBqwPuZcnTx49sw+fWj5b+AkLryXXxUogYogKmKEh9qBtEQGCNj3TXogPK3pHO3XqpNrKDAwyRlsjnsdgaGjYsKGa2lY1DVMKMr3O6MVFhwd6swE90mAONqwDhgKhpxtVcYQdSnKvvfZacNUWbYco/WGQN4bLmMA27ZHonDCdQS1atHimpIa2Pfyt3Llzq/AxJV8wVWoIb52wDUypzjbYTFsszshBaRrv3ZSk0ZuN3m2ELNbBND8AxiZiADs6Y8h9BNy9IyN6fyIBd6ynXV4+f1ZmjfpB3n+lmDQqnE2G9+4mt65b93/Qg/vy46cfye0b1loCRVyMB+KWLVtUj6+BDgJ8QMNCIKDaiKok7nGM0EHnAD6c9u5q16hRI1UtzZAhg5rH4GsEKkLLQOcEruKM3lfAUBYEL9oYv/zySzVFtdW0U6LzAx0TCBn0yGK4D86yQcih7Q4lOJQGMbAcU5T+EM54f+iBxvpjoDd+H4GJkjHCDvM4SwR/w0AQ4X/g/5lxgSj5or3QtjQc3johwLCtAG2h2N6AHnZ07GCd0cOM4ThXr15Vz2GboVMFzyFoUU1H7zm2CTp9eO8c93Llwjn5pnUzqde6vaRM7Sd3b9+S3v4N5MblS1Lr3daSMm062bhgjgz+qK3lmHssvkmSyvs9v5QRn32sgpMizi1vIYD2L5QSMUwlefLkemloCBuUNnF2hYGBzjhbJKoQFggGE1T4P2F7XbGO+F9R6Y1FSRXBaDtw3NF7iMg6OYKSo+npxuBs221moGqObY31iSzeQiD6obTXtkop+eSHMVKsfEW1bOWsXyVRYl957W3r/cHxmualCsqTh0EycuUWyZLT+oV64O+tKiTHrf9bkiR9dp/HNN5CIJqgdINxhY7CEBAMYT/Y0RGGgP9rggfsBQ/WMSphCAi4sGfROHoPEVknR9CjjP+DH3thCGiSiEoYUsxYNWe6JE/lJ0XLhQyZevTooVSpH9JxiBLhG83eU48DA6zNJ1CkdHnJmjuv+hsUMW4ZiEQkcs9S2p787RdSy/99NVTKqGOpJidMaB11YaT0s9YAMuewdqYZlerUlykDvlRtkBQ+BiKRmzp/6oSaZglnmBV6mf9et0rqt+0sKVKGHn+bs6B1xMXpI9FzAZP4joFI5KYunrYGol96a8ehI9vWLFfV6EYdQjovjdRpraevXtDhSs4xEInc1PXL1uFqvr6O24svnDopU4cOkD7jfpVkKULOVDJ8dWfKlfPWKymRcwxEIjeVMYv1FNFbNuNLbd29dVN+7NFZPh8zRTI8Z73WZVhB961XijIlRXKOgUjkprLmsp4ZdePqZTW1dT8wUH74pJO0/3qQZHsh5Hz1vzesVuMUjVvXrGNPM2XLrqbkHAORyE2ZHuNrF0NfgCMo6IEM6d5e7gUGyD9b/pAFE36W+eNHybi+n8nCCaPV4G3j0tkzapr3RV6sIyIYiERuCuML238zWDYsmhfqfOUpg76RPRvXypFd22Xa0P7qZ/r338rKGVOkRpN39aus8Lt1WrUXv3TWqxuRcy6fqWI7HsrbmU3HbRICF+7lmSrRB6eEdq9XXdr26R98pkpEnTp6WL5s2Uh+WLRW0meyXmYvNnnimSouBaLtOclkvXAC4JxrCoGL4sYXcR2IgGAb0au79Pp5ksPOk7Bw/nPfD5pLj2FjJUe+uLnxWbwPRArNlAy5CeMvdwhEOHH4gEz5rp/8b8T4ZwZfh/Xg/j0Z3LWdNO/WU14o9KJeGvt4LjMRxYjcBYvI52N/CTcMARdy6DliQpyGoadiIBJ5CGcDtMNy5bUUgoFIRKQxEImINAZiFNm7ZQEReSYGIhGRxkAkItI4DjEKqlWrpm4gP23aNL2E4hszDrFOq3Z6Cbli6eRxHJjtLRiI8R8Csek77+g593NT31s8jc1tet3NqJEjGYjegIFIcY1nS0UvtiESEWkMRCIijYFIRKQxEIk8mL+/v35E0YGBSESkMRCJiDQGIpGHw/Avih4MRCIijYFIRKQxEImINAYiEZHGQCQi0hiIREQaA5GISGMgEhFpDEQiIo2BSESkMRCJiDQGIhGRxkAkItIYiEREGgORiEhjIBIRaQxEIiKNgUhEpDEQiYg0BiIRkcZAjIL169frR0QUHzAQiYg0BiKRh1u3bp1+RFHFQIyi6dOn60dE5Ol8nlrox+QiHx8fNeUmpLjCYzB6sYRIRKQxEImINAYiEZHGNsQIuH37tvj5+em58KVIkULu3r2r54iih7+/v1y6dEnPWR08eFBNCxcurKZGkiRJZNasWZI6dWq9hCKCgRhBOBhnzpyp55zr2LGjjBo1Ss8RRY9OnTrJzz//rOeca9asmcyYMUPPUUSxyhxB9evX14/C9+677+pHRNHnrbfe0o/C58rxSiFYQowgVJszZMggDx8+1Evsy5Ytm5w5c0bPEUUvVIWDgoL0nGO3bt1idTkSWEKMIBxcbdu21XOOtWzZUj8iin4ffPCBfuQYqssMw8hhILogIlWW5s2b60dE0S8izTGsLkceq8wuclZlyZEjh5w6dUrPEcUMHGeOmmV8fX3lwYMHeo5cxRKii5xVWTp37qwfEcWcFi1a6EfPikiVmhxjILrIWZUFbTdEMc1Zs4wrPdH0LFaZI8FelaVEiRKyc+dOPUcUs3LmzCmnT5/Wc1asLkcdS4iRYK/K0qFDB/2IKObZa55hdTnqWEKMBJwuVaRIET1nhRIjxiASxYazZ89K9uzZ9ZzVgQMHnjmFj1zDEmIk4KBDtdmoWbMmw5BiFY63kiVL6jlR4cgwjDoGYiTZVllat26tHxHFnvbt2+tHznueKeJYZY4k2yoLT5OiuGB7DLK6HD1cDsRffvlFBg4cqOe825EjRyRRokTywgsv6CXebdiwYfLGG2/ouZhRuXLlZy6B5c2OHj0qT548kQIFCuglBIcPH9aPXBOpQHz//fd5ipoFNjrOXMmdO7de4r1ws63ly5fHSiCmSpVK0qRJo5d4txMnTqihNgULFtRLaNu2bXLs2DE955pIB+L27dslWbJkeql3unjxoqRMmVL9eLNz586pIIzNQBw0aJBe4t1wIWL8ZM6cWS/xboOHDJYtm7dEOhDZqRIFOAi9PQwpbuH4YxhGHwYiEZHGQCQi0hiIREQaA5GISIt3gYgeT4zLiit37tzRj9wPtgvuDUPxH4/DyImVYTcbN26UqVOnBt+r+Ntvv5W8efOqx2Ht2LFDhgwZoh6jBw2nJ5UpU0bNO4INjNszLlu2TF1kAX/jypUrMnz48GeuYI2/+fLLL0vp0qWlePHiahxhVD169Eh+/fVXWb16tRqbuGvXLv2Me8DwoMmTJ6thMTjNEPsPsI0mTZqkBpjj5lkVK1ZUz2OwuSvcfdgNjoGhQ4fK5cuX9RKRhAkTqvOBq1atKuXLl4+xcY04NnAiw6FDh+Tx48d6qfXK6/nz55eyZcuqYzE6/r+3H4fgEcNucBAPGDBAXSUGP9hpjmDDmNf169cv3DCEBAkSqBtA5cmTRy+xnvw+ePBgdeDhbzVu3FjGjh0r//vf/9RAVrwe5yOHdxe9iMCOa9KkiQQEBOgl7iVTpkxSp04duXHjhgoCwDbo2rWrWudx48apbbN06VJ1tkl8g2sH/vDDD8HH1ddff60CEuH9+eefy6uvviqbNm3Sr45eODa++OILqVKlivrfOEYnTJig1gGDqT/++GN1UVeERVTxOIy6WKsyP/fcc/qRyPz58+0eAP/9958aZW5kzZpVPwofgg8HfljFihVT03Tp0qlvYZzi9Omnn6rSIf5XZE/xCStFihRue/oUvjCyZMkS/BgWLVok+/btkxYtW6iDE6V9XE8PNQCcFxvfJE6cWIoWLaoe41jAsVWtWjUVTvDRRx+Ji5Ull+TLl09N8b9RwsXpno0aNVJfygiIVatWqeejisdh1MRqGyIOyrp166rHc+fOVVNbs2fPVt8WYaFIjQC9evWqmg8MDFTz+MFjZ8w3UVimym4vmFHt3rNnj8N2GJxLiyoQqiiOoOR5587t4B/M42R884NvRFThzDyqnXDv3j01f/78eTVv4EODK3LbO48X7wHftFjfkydP6qXWpgRUF//999/gG2OZA3Hv3r1qf+TLa/2gAqpuEF0fTk9gggr75+7dkP2N/XP02FG5efOmXmKFY9Hss+vXr6t9a+bxg7+D7W47D2a7h2UuI2f2vy1n+xzwvxEaztoLeRy6JlYDEcx9i1E8xg4ycOAhJO3dEwLtlTVq1FDf4oCdhio4lq1fv14tcwV23Jo1a9SOMBsfcHDVq1dPtUHi+QoVKqjgM3DgtGnTRubMmSNr165VpUwU7+3B++nWrbulivCm5dtuqvqfs2bNklq1aslnn32mghznoWIeP1u3blUllPv370ufPn1UGxkOJGwj/E/zjYnXLliwQP2Pv/76S20TbIfFixer9cUXDgId64p7vGCbojpo2msMbFOsv62MGTOq6e7du9XUG5g2ZhwLKVOmUkHQv39/1aSyYvkK1dSCxxcuXFCv279/f/A+Qzheu3ZdfYljftq0aZb9d0/tN+xrf39/FQ6OIDx+//139di27dXZPgf8Ho6Pfv36q0BBkxSq/vZKuDwOXRPrgYiSGRqyYeHCRWoKKDojLO1dRgvtDrZXB8a3+nvvvace+/j4qGl4sPPQbtSlSxe149C5grZM28bs7777TrXDNGjQQFWrcUoUdjCgNIgPBqpZ+Buo6uACnb169QouBdgy33z4fbwW648plgF2OhrUTYkYBwXeS9q0aSVp0qTS5aMu6lt05sxZ6qBp1aqV2j74gKIDCdAGZUrAf/75p0ycNFHatWun/saHH36o7vOC94EDGcsB/wMfEnwwUHWzZf6W7bd7fIUOPuyj7t27q/nRo0erbYMA2LJli/rgYz/jGEGJCLeIwH7GsYv2QEA7da5cuaR3795qHlXVVKlSq2MI+xchgSqyLewnHIc9e/ZUxyHm0dZtGwrO9jmgfQ0lNxyvCN1OnTqp4wxhHRaPQ9fEeiCC+Zb48ccf1bcdDrSJEyeqjexI2B5t3FDHFbjkPwLMTPHthZBEFcBAjzYOFrh27Zo6aNDzBSgRoo0T38YGSqko6ZqDy8CVX9DTh15u28DFAYYDCt98psSBgwnQ8wY40PGtbaoQ1atXVx84HDQovaDEgYMI283Pz09KlSqlXtexY0cpU7qM+hDjA4z1RmeB8corr+hH1iYHZ6Kj592doXRTu3ZtFSj4gps3b54KBdQ80L799ttvB+9TfCm++eabat/jww7m7oqbN29WU9P8gpIXoESFv4MrqYeFdm70ouLaheXKlVPLUBjAZbwMZ/scxwdKovjbCBVo2rSpCsmwbYc8Dl0XJ4GIbyE0cCMIscM2bNighj48//zz+hXRD0Mc8O2Ob/opU6ao24mizbJv3776Fdadhcb2r776Sg0PQCnClP5M1dm2owePsd628HqUMnDg2Att04ZqDjxUv/HhQ+86fhff5LaXVkPj++uvvy6jRo1S64p2KzBDOMxBY3uRCbOupn0MzAccH6L06dOrx+bDYOCDDC+99JKaxlfY9n/88YfMmDFDfchNkJjqMz7gtsyl+lG1BIx8QOkHxw+g2QTbF73IGO6BJhc0xYQt+QDaDBGEqOGgZIhCAYIVoYZqKjjb52Y4ie2wNez71157LdTxxuMwcuIkELExzOXPUeweM2ZMcNtibME3HqCt0Fi3bp369seBgCI+qkOGGUOJhmFnsMNN2NprX8TfxAcCoYwDBgNUR44cqQ5CjNf87bffgqtkgFtN4kDEAYnxbBhDGR5zsIa9TaWBgxcfaNtSCZj36GiMaHxnqmoINlvmODDPo0qMcXKoQuJ4wL5EiRAwFhbhglJmRJjSE/b/mbPWW9s62+conUF4Ywx5HEZOrAYiNjZ+ANUGVEdQdcVQAXMXO2dDH+yNr4rsUAlc9h9M2w3m0Y6C9kOUJgHVAcOMcVyxYoWaGjNnznymrQPtUqgSoX0RDdBhIXRRVUfwosRqShz4PXQq2VYV8DfwrYt2VHDWs22Y4UeoshhhtxOaLbAv0DRgmNJHRMZ+xkfmQr+2X5Jg9q+pVgKq3IB9iWMGAYPp+PHj1TFdqFAh9Xx4bM/YyJHd2uPsbJ+bXumFCxeGWo6hK6a0Z/A4dF2sBaIJINONj29b016HxlbDfDuA7UZCgKIdB71yaDw2Z7NgY5uePPN627YJ8+1jXoNqCRqazW0Q0CgNZkehXRFjE3HAoaSADwO+QVElMVUKtB3iWxeDvNHuZEoQpj0S7w1VIcDNf8J+Q6JUgL+FDyB2uilxgKnKGAhl/F18a6NEgv8PWDf0cprtZbut0EYGI0aMUL+D925KMOhFRNUPH16sg6n2Adqy0I6LRvD4BvsXoQFhq2gGBg5jP2B7Y7sZGK+KL07bDyhei+2MDzMGQ0PDhg3V1LaqaZhjIGz1F8cS4Dg0AeRsn6OaifXAY3RY4DhEJw0+D+ikAR6HkZfwawyZdwHCBGGBHle8kYhAqQqNrQijlStXqoMJpTAECQ62bt26qZ4stKVgyAMaawEbMWeunKptEaVJdNsjsBCMCFG0P2Kj4VsT7UEorQG+oTNkyCA//fST6gwBVIfR6I0GZowxRJEfww4qVaqknkdDM6ryGEKAEgKeR5UCv4+djW9GhCLah9C4jtegzdEM6EXVHzsS7R846PH7CGOsC9YNnUKmNIoDFb+DoRam5In2yOPHj6tqji28b7zPJUuWqB54NDXgQ4APN/4ODkxsV3xJoAcRP/hf+ALBkCQcaOiwQlUHpQQc+KiKYJvh/2NgMsZ74X3h9/B+bEsGEYEDHQ39WPeYruagiof1M00eEYF9gDNCzBg7vFd8+F988UU1bwvthQgrnF6KsMO2wfhXBE7y5Mn1q6zQ1oh9gqok4LhG2yRKWKbdDiUptOVhP+HYQCcDtjmOF/xt7Hc0F+F4NmPznO1zdPAgaPCezHGIkhv+B/afNx+HsHnLZvVe8fuR4VG3EMBORhUDPWY4aDEf0VCOKJQuEY7m4MQ3Y9gdgwMN1fzI7DADBw/WHQeTgSYB/N2wTDODea/21skRfGObHkYMirW3z1B6x4c9stsSQYODGlU2TGNSbN1CAMcBPlgYlhJ26IyB4w/7wnabOtqHrorIPscXNT6+9jpvIio+HYfgVbcQQEiZjYodGJUN5wh2iAlDsLfD8QGJShgCQtf2IARHHyS8T9v36sr/RhUL/wc/jr7AUNKJiW3pyXAcoPfZURgCjpOw2zQ6whAiss9RMoxKGAKPw9A8KhCJiGISA5GISGMgEhFpDEQiIo2BSESkMRCJiDQGIhGRFumB2RiRTwQYxBzbA7NxPUGisMZPGB+lgdkY6e6SKVOmIED5w59nfiyBqI+SmFOpUiW7/5s//DE/efLk0UeL61wuIdq7Fwq5Dudr43xLlKjMCfWeDiW3mC4hxrfjD+cA41x/nGOP84Upeji72LRTKhYpTvz888/qG81S/dNLyJtgv2P/4zgg9+Dy1W4o+pirKuMK3WB7QU6K3/CxwxV1vv/++0hfmYVigA5GikOWQFQlhaFDh+olFJ8NGTJE7W/sd3IvDEQ3weqTd2AziXtzuVOFYg4uLIq7p+E2jq1bxY+OFgoxafIkadO6jbogsrmSNbkXBqIbwa7AlcVx0y1cgdrepejJM+GWoLgKNe5dgqtam1uIknthILoZXIUZt2fAcAxcCh43+yHPhjvYNWrUSA2vwk2obC9ATO6FgeiGcHsE3GcD98DAGDV7Nzwnz4D7G9erV0/dRGrq1KnPXJ2a3AsD0U0hFN955x2ZN2+eutFVtWrV9DPkKXBjM9yYDKVD3OCMYej+GIhuDDf1wQ3PcacznDuOO5iRZ8AdInFHR9wlD1XmuL5XCEUMA9HN4c5mOB0O98PFvWzLli2rnyF3hVvZli9fXt2eFO3AUb0hGcUeBqIHwNVkcBNyfND+/vvv4PvqkvvZvXu3OgMJN4FftmyZwzvMkXtiIHoI3Awe7Yj//POPupl30aJF9TPkLnDT9lKlSkmxYsVUiT7sje3J/TEQPcjNmzfV9QBPnDgh27dvl4IFC+pnKK4dPnxYypQpI7lz51ZhaO4fTp6Fgehhrl+/rqpjFy5cUKGYN29e/QzFFVyMFGGYJUsW+fPPP53e3J7cGwPRA12+fFn1OKPEiFDMlSuXfoZi28mTJ1UYokSInuVMmTLpZ8gTMRA9FEqIFSpUkKCgINm2bZtkz55dP0Ox5cyZM1KuXDnx9fWVLVu2qBIieTaeQ+Sh8OEz97XBeDcEJMUebG9sd8B+YBjGDwxED4ZS4ebNmyUgIEB1tqAqTTEP2xnbG9sd25+l8/iDgejh0H6I6trVq1elatWqql2RYg46tbCdsb2x3dl+G78wEOMB9DTjw4k2LQzgxphFin74skEYYjtje7OHP/5hIMYTGJOI6hsGbuNUP5zdQtHHnC2E8YbYzhwDGj8xEOMRnL2CHmec4lenTh25d++efoaiAtsR2xOn5WH78iyh+IuBGM/gPGeUYHC2RIMGDdTFISjysP2wHbE9sV15Hnn8xkCMh3BFHFxDceXKlZG/YTcpuJYhtiOubcgrDcV/DMR4Co3/+CD//vvv6kKz5LqmTZuqa1GuWrWK98z2EgzEeMxcj2/27NnqhlW4XwuFD1crx/aaM2eO2n7oTCHvwECM53CTKtyGAPdn6dSpk7qzHzmG7dOuXTu1vbDdeJMv78JA9AK4DQFua4rbm3788cd6KdmD7YM7HmJ7YbuRd2EgeglUAXE/YNwIv1evXnop2cJ2wfbBduI9sb0UrnZD3mPw4MGoMz8dOHCgXkIwYMAAtV2GDBmil5A3YiB6oZ49e6oPv6UkpJd4N2wHbI+vvvpKLyFvxesheqnu3bur6uHESROldavWeqn3mTR5krRp3Ua6desmP/74o15K3oqB6KWw2zt27Kg6WtCb6o0dCLhfMgZed+jQQbUb+vj46GfIWzEQvRjGJbZt21b1qmK8nTcNMVm8eLHUq1dPWrduLePHj5cECdi/SAxEr4dByDiTBaXEFStWSM2aNfUzz7p9+7akTp1az7mv8NYTZ/DgikAoHc6aNUsSJkyonyFvx69FL4cwwCDkunXrqpDAjZLswaDusWPH6jn3hvXs3LmzngsN5yTjfeL94n0zDCkUlBCJ7t+//9RSOnzq4+PzdNu2bXqpVceOHVUvbNKkSZ/eunVLL3VPWD+sJ9bXEuJ6qRXeF94f3ifeL1FYDEQKFhgY+LRChQpPLaWmp7t27VLLTBian9mzZ6vl7grrZ7u+JhTxfvC+qlSpot4nkT1sQ6RQcPuBatWqqStv169fX13gwFaOHDnk1KlTes79YP1wiX9buGrNggULpFixYuq6hsmTJ9fPEIXGQKRn3Lx5QwoXLuLw1qa4ek6TJk30nPtAeCP87MmcObMcOnRI3VCeyBF2qlAo6KH192/u9D7PQ4YM0Y/cy+DBg/WjZ128eFF1DOH9ETnCEiIFQ1jgGoq4J0t4cNe58uXL67m4t3XrVqlQoYKecwxXvcYFXz1h+BDFPpYQSXElDKFfv376kXvo27evfuQc3h/eJ0uKZA8DkZQDBw7IuXPn9Fz4li9fLmfPntVzcevgwYNqUHlE4X3i/RKFxUAkBdVf9M6iwyRbtmx6qXMDBw7Uj+LWqFGj9CPn8L7w/vA+3am6T+6DbYj0DFQncbbHl19+Kffv39dL7UO4RDRAYwJKqdmzZ9dz9iVNmlSGDx+uztsmcoYlRHoGOhx69Oghly5dUj23CBRHRo8erR/FDWf/H+uN9cf7YBhSRLCESOEyJcY+ffpIUFCQXmrl6+srV65ciZNeW6xXxowZ7a5T//79pX379uxNJpewhEjhMiVGBB9KXAgcA2EUVxd9wP+1DUOsF9YP64n1ZRiSq1hCjAOnT5+WHTt26DnPExgYqHp1cbUYHD64luDcuXP1s7EHl+/C/8eFXf39/dVVbDz5tLzSpUuH2x5KMYuBGAcQiDlz5tRzRFY4LhiIcYuBGAdMIP6wpK4UKpVZL/VcgXceyvZ1J6VKvXx6SczbsOiolKmWS5KnSqyXeK6Df1+UT+r+zkB0AwzEOGAbiBXr5NFLyVv9ueQ4A9FNsFOFiEhjIBIRaQxEIiKNgUhEpDEQPdSTJ08l6MEjPSfy4P5D/SjiHjx4HKnfiymPHz+RwLvusz5h3bx2T417pPiLgehhbt+8L/3brZByCX+SymlGSusK02REr43S592l+hXhO7Tzonz13hJ5NekI+XfPZb00tO1rT8lHtedKy9JTg3/wv7q+OU+mfb9dDvzt+Irarjq444J6TxVTDpc/fz+ql7qPFTMOSueac+T1DGPl0cOQQMR6Yzt+WH22en71nMP6GfJUDEQP813H1bJ4/GFZeKKVbLr7kXQZXFn+XHJUTh2+ql8RvnzFMkruwhn0nH1lXsspA2fXk8M7rqufPhPfkMG/1ZcPvnhFNi8/Ia3KzJaJ/bfoV0dN/pcySfmaueWx8wvrxJlqb+eXZKmspysmTOSjpuf+uyltXp0tJavmlNFrmkrPUa/L501XyB+Lj6nnyTMxED3IvYCHsnrmcSlfJ5tkzeUnCRMmkOIVs8vIlU3lzPG7+lXhS5Q4oeQqmF7POZbCEgLZ8ltPhUufKblkyJJSipbNIkPmN1DLxn6xPVS1PbLU+hRIp+fcj2+SRPK8ZXtDggTWQBz52R9qWrNZYTXNnjeNvNmmgHxab4lbNUOQaxiIHmjr0rNyePclPSeS6flU4t+1uPog3gt8JBfP3FE/5oN5+Zx1HlN70C52/MBVuX4lUC8JkSjxs4dIytS+4pfJGgw3Lof+HbQDYt3+3XPJbjDg+dNHb8iJw9cs/1cvtOPu7QeqeQA/d25ZH6NUhp8Lp2+rv23m8YPXw6Uzt0PNg7N1evToiVw4dVutC7YBtp9x93aQqhZfOR96u+G1Gxb9J3XfKyhJkiTUS0VeqfWCmv699rSakudhIHqQZCkSi/8nL6nHLUvMlAUT9qoPO3QZVFmSJE0sNy2hNvDDlfJWjomyd8t59fymZcfVfPMSk9Rrba2bd0Rezzxcmr04Td7INE4mD9qmn3Fsx/rTcuvyUynzelbJlC2VXiqyZOp+afvqDDn973UZ+/UmaVHqF9URYez/67xatmnJMZnQd4vl//4kR/dd0c+GtnXFCamedoz0+8BaDb12MUAaFZkiDfJMkR0bTluC7bGM77dZzfdvt1KuX7IG876/LqhlJw9dU/OO1gkhO6HfFqn1/AgZ980m+aTBb2obfN9tjfq9+eP3SOsKU+XA9gvyXefVMuP7vWo5XD57W1Xvs+VJq5dYPae3haN2WXJ/DEQP0+rz8lKxnvX0roFt16sPO0pbRpacqaVhO2toAqrVDdu+LMWrZNJLQtu//byMXuMv0/b4S8YcvjK69zbZuSH0jd5h3DebZUjXtfJBpenSsdp8qdEsj3w9pba60gygRNb3vTVS+rWc8vo7haTniBpy8sBd2bPJet8VlMJal5sjX0yoJf7dS0vvMa+rUB39hbXqaQth9fuUffLt7DdkyLz6UqdFEcltqeJ3G/Kqev75XKkldZqk8smw6mo+feYUkiOfNZwyZ0+l1u3FslmdrlPylIml+KvZ1TosnXxE3m5fXLoPqyjVGxeUTUuPy6B2G1RTROOOJWTAzLckoc01clGShGQpQy6DBkmTW8+rRmCSZ2Igehi/tEll6PyG8tXUGupDun/rVWla6FfZuDikdzaxb0g1zkiaIvSH10DJMm/RjKpj47Mxb6hlq+c+21tatkZuKVYuixS1BA3aFdctOK56X00JNWXqJNLj58pStWF+NX/jqrVkeMpSMoOpQ7apanbBEs+pebx+0rYm0rFfJTVvnDl2U7rWmitt+pSXGk0K6qVWrzctpKZr5/2rpqn8kkjel/1k1fRjwSXRpb/ut3whvKweO1sn1f5ayXrrg8pv51LV3WZdS0m5GrlkeM/1UrBUOtUUAWhDrNe6iHoMAZaqtD0+un0xkW8iNSXPw0D0QGjYR6lpycm2UqlBDrWsR72lqs3LVUmShVwtplBJa1iZELP1UoWsqgOh65CqMn13a8n3YjoZ/ukWWTA+pCrZqMPLcvX8XenVZJFsXGgN6EdBj9V0p6WaW7JyruASJaAUhzC2Ne7L7Srk02ZMoZeESJsxudRplV/mjjig3iuGD504fEs9t3HRUdXOiP9jgg6crZPpIEmbIaT4F3AnSJUiS1QOfZGFpMlCQi5DVuu6hW0/vR9obZ/MUyT8DityTwxED7J8+oFQHSPpn0shg2bXC+7g2GUJg6hIk8Hao5zFUiV1JlnyRFKtkbXUtfuPkFuR/tRjg0z6dqulOlxTWvQoq5da3bgSIOvmngi3V/r9z0uq6acNfrM7SLuBpfoPGxYekWnf/y2jVjZUpbnZI3bKGkvJttGHJYKDDpytkz13blo7Y5y1A2bObu1xvnohdGfL7RvWcUM58rlvjzk5x0D0IBh2E3bsH4asVG9srUqixxRMKSzoXujwuXvb+VkWJ3RHRPFK4V+C6uYVa/XzxbJZ1HT7ulOq46FZt1Lily5pcFXaePlV6wVxt685paaA16Bd0qw3oHQ1dNGbqpQ2oMPKZ/5OUUu1HVX2b9uvkQsnb0nxV3PIO11LyrE9t1S7n201O7x1sidDFmvpb+faC6ECGWcGGWinLflaFtUWadtTfnTvZdWMke9l++215P4YiB4ka+40smDMIZk3ZnfwBxFVvIUTD6oPYskq1upzgeLWD+ScUbvUUBP0mGKoDnpGbYfrAHpvjVWzDqk2uVrNrAGL0hyCCe7cslbH0Va3bv6R4F7XyvqisI8fWsMGvbrH9l2R8d9sVvP/HbymOiH8u1lLfh+/+bs602XR5H9Uh1CZ13JIokQJJOCu9e/ft4R4pbfySouexVXb4MjeoTtdEPYo6eG9tO5TwTIfsg6oTqNabYS3TmYIzvkTIZ0gWJe235RWj4d8tNpSsg2Uk/9el7mj/1HLcGFaDM1p+2V5tW3+toQu4G8tnLBXvplcU7XzkmdK+LWFfkyx5NatWzJs2DCp6V9AcuSPePUKJalVc/6xVNUCZPoP22WXpbr61burpMDL6eSnJQ3VYG1IlsJXHj1+KEsm/SuLf9kvL5bJLNnyppQUaRJL6nRJpGCJzJLa8qG9eOamjOu7TY79c0kWT94nCRL6yLcz31K9pRhaM6DDKrlwwhqIc0fulUnfbZOpA3Zafu+GVG6QW/pNryPZXkijns+cw08O7jwr25adkwN/n5NGnYrL3TuBsn7uScmWJ5XqEMn9YlrZ8Psxy2vOyJ+LTkiHbyvI600Kyd4tZ2VEz41y6XSgHN5zTp63/M2cBdLJ8l8Py74tF+Wvdcfl5YrZxS99MvW/8PyWlUdVeyYC0jdJQkug3pPa774oz2UPGQbkbJ380vvKwvH/yImDN+Xc8Tty53agpRSbXRInTiAvlnveUpq+JwvHHpJpQ3bKoZ3nLO/BT/0O1itf0YyqWlyoTCbp32655flLsnHhMalUN6/Ut1TpbZpJI+T0kRuyauYR6d69u/j5WfchxQ1eMTsORPaK2QjEOzfuq1IQSiQXTt2xBFsS1QFh70OIYSfoDEC1GiUv244BA9VIdA6kzZRc9bxGFTo7MHAbcGQFPXioxkcaONyuXwqQNJb3EJX/Z/t/ANVbjNO0vx2cr5Mj2Mb3Ax+r6ja2JXqt7bl+OcDhPogIXjHbfbDK7EFQnTNVQnygcbpbukyOP4j4ACMMwV4YAkIJp+RFRxiCbUhhvcIGD0p06TNH/f/Z/h/AuELH28H5OjmC1yEMwVEYgrN9QJ6FgUhEpDEQiYg0BiIRkcZAJCLSGIhERBoDkYhIYyASEWkMRCIijWeqxAFzpkqzj4vqJeTtZv6wj2equAEGYhzAgV+9RlU9R2S1ds0GBmIcYyASEWlsQyQi0hiIREQaA5GISGMgEhFpDEQiIo2BSESkMRCJiDQGIhGRxkAkItIYiEREGgORiEhjIBIRaQxEIiKNgUhEpDEQiYg0BiIRkcZAJCLSGIhERIrI/wHcv65cuUnA4AAAAABJRU5ErkJggg==)"
      ],
      "metadata": {
        "id": "DQvhIbHXa4nb"
      }
    },
    {
      "cell_type": "markdown",
      "source": [
        "Exclusion from the DAG\n",
        "\n",
        "- requires_grad = True인 tensor가 하나라도 있으면 differentiation 가능"
      ],
      "metadata": {
        "id": "vh6bT4N_bEHi"
      }
    },
    {
      "cell_type": "code",
      "source": [
        "x = torch.rand(5, 5)\n",
        "y = torch.rand(5, 5)\n",
        "z = torch.rand((5, 5), requires_grad=True)\n",
        "\n",
        "a = x + y\n",
        "print(f\"Does `a` require gradients? : {a.requires_grad}\")\n",
        "b = x + z\n",
        "print(f\"Does `b` require gradients?: {b.requires_grad}\")"
      ],
      "metadata": {
        "colab": {
          "base_uri": "https://localhost:8080/"
        },
        "id": "ZWhmALJ5bL5l",
        "outputId": "42d26a82-f81a-4e38-f1ca-463ac2d36cbd"
      },
      "execution_count": 30,
      "outputs": [
        {
          "output_type": "stream",
          "name": "stdout",
          "text": [
            "Does `a` require gradients? : False\n",
            "Does `b` require gradients?: True\n"
          ]
        }
      ]
    },
    {
      "cell_type": "markdown",
      "source": [
        "Finetuning 시 Layer들을 Freeze시킬 때 사용"
      ],
      "metadata": {
        "id": "Bpk_Ye2TbXEy"
      }
    },
    {
      "cell_type": "code",
      "source": [
        "from torch import nn, optim\n",
        "\n",
        "model = torchvision.models.resnet18(pretrained=True)\n",
        "\n",
        "# Freeze all the parameters in the network\n",
        "for param in model.parameters():\n",
        "    param.requires_grad = False"
      ],
      "metadata": {
        "id": "7KQzHu3lbdPj"
      },
      "execution_count": 31,
      "outputs": []
    },
    {
      "cell_type": "code",
      "source": [
        "# Finetune the last classifier\n",
        "\n",
        "model.fc = nn.Linear(512, 10)"
      ],
      "metadata": {
        "id": "e8d1So-SbqlL"
      },
      "execution_count": 32,
      "outputs": []
    },
    {
      "cell_type": "code",
      "source": [
        "# Optimize only the classifier\n",
        "\n",
        "optimizer = optim.SGD(model.parameters(), lr=1e-2, momentum=0.9)"
      ],
      "metadata": {
        "id": "Q49CkSxpbz79"
      },
      "execution_count": 33,
      "outputs": []
    },
    {
      "cell_type": "code",
      "source": [
        "# All no grad update except last two params(weight and bias for classifier)\n",
        "for param in model.parameters():\n",
        "    print(param.requires_grad)"
      ],
      "metadata": {
        "colab": {
          "base_uri": "https://localhost:8080/"
        },
        "id": "osEElRJVcE77",
        "outputId": "12e85bd6-0f9d-4cc3-eeb8-a5b8bc53306f"
      },
      "execution_count": 34,
      "outputs": [
        {
          "output_type": "stream",
          "name": "stdout",
          "text": [
            "False\n",
            "False\n",
            "False\n",
            "False\n",
            "False\n",
            "False\n",
            "False\n",
            "False\n",
            "False\n",
            "False\n",
            "False\n",
            "False\n",
            "False\n",
            "False\n",
            "False\n",
            "False\n",
            "False\n",
            "False\n",
            "False\n",
            "False\n",
            "False\n",
            "False\n",
            "False\n",
            "False\n",
            "False\n",
            "False\n",
            "False\n",
            "False\n",
            "False\n",
            "False\n",
            "False\n",
            "False\n",
            "False\n",
            "False\n",
            "False\n",
            "False\n",
            "False\n",
            "False\n",
            "False\n",
            "False\n",
            "False\n",
            "False\n",
            "False\n",
            "False\n",
            "False\n",
            "False\n",
            "False\n",
            "False\n",
            "False\n",
            "False\n",
            "False\n",
            "False\n",
            "False\n",
            "False\n",
            "False\n",
            "False\n",
            "False\n",
            "False\n",
            "False\n",
            "False\n",
            "True\n",
            "True\n"
          ]
        }
      ]
    },
    {
      "cell_type": "code",
      "source": [
        "print(model)"
      ],
      "metadata": {
        "colab": {
          "base_uri": "https://localhost:8080/"
        },
        "id": "2pSf0gVgb7oA",
        "outputId": "2423c0df-64f2-46e3-d1ae-0ef394920b40"
      },
      "execution_count": 35,
      "outputs": [
        {
          "output_type": "stream",
          "name": "stdout",
          "text": [
            "ResNet(\n",
            "  (conv1): Conv2d(3, 64, kernel_size=(7, 7), stride=(2, 2), padding=(3, 3), bias=False)\n",
            "  (bn1): BatchNorm2d(64, eps=1e-05, momentum=0.1, affine=True, track_running_stats=True)\n",
            "  (relu): ReLU(inplace=True)\n",
            "  (maxpool): MaxPool2d(kernel_size=3, stride=2, padding=1, dilation=1, ceil_mode=False)\n",
            "  (layer1): Sequential(\n",
            "    (0): BasicBlock(\n",
            "      (conv1): Conv2d(64, 64, kernel_size=(3, 3), stride=(1, 1), padding=(1, 1), bias=False)\n",
            "      (bn1): BatchNorm2d(64, eps=1e-05, momentum=0.1, affine=True, track_running_stats=True)\n",
            "      (relu): ReLU(inplace=True)\n",
            "      (conv2): Conv2d(64, 64, kernel_size=(3, 3), stride=(1, 1), padding=(1, 1), bias=False)\n",
            "      (bn2): BatchNorm2d(64, eps=1e-05, momentum=0.1, affine=True, track_running_stats=True)\n",
            "    )\n",
            "    (1): BasicBlock(\n",
            "      (conv1): Conv2d(64, 64, kernel_size=(3, 3), stride=(1, 1), padding=(1, 1), bias=False)\n",
            "      (bn1): BatchNorm2d(64, eps=1e-05, momentum=0.1, affine=True, track_running_stats=True)\n",
            "      (relu): ReLU(inplace=True)\n",
            "      (conv2): Conv2d(64, 64, kernel_size=(3, 3), stride=(1, 1), padding=(1, 1), bias=False)\n",
            "      (bn2): BatchNorm2d(64, eps=1e-05, momentum=0.1, affine=True, track_running_stats=True)\n",
            "    )\n",
            "  )\n",
            "  (layer2): Sequential(\n",
            "    (0): BasicBlock(\n",
            "      (conv1): Conv2d(64, 128, kernel_size=(3, 3), stride=(2, 2), padding=(1, 1), bias=False)\n",
            "      (bn1): BatchNorm2d(128, eps=1e-05, momentum=0.1, affine=True, track_running_stats=True)\n",
            "      (relu): ReLU(inplace=True)\n",
            "      (conv2): Conv2d(128, 128, kernel_size=(3, 3), stride=(1, 1), padding=(1, 1), bias=False)\n",
            "      (bn2): BatchNorm2d(128, eps=1e-05, momentum=0.1, affine=True, track_running_stats=True)\n",
            "      (downsample): Sequential(\n",
            "        (0): Conv2d(64, 128, kernel_size=(1, 1), stride=(2, 2), bias=False)\n",
            "        (1): BatchNorm2d(128, eps=1e-05, momentum=0.1, affine=True, track_running_stats=True)\n",
            "      )\n",
            "    )\n",
            "    (1): BasicBlock(\n",
            "      (conv1): Conv2d(128, 128, kernel_size=(3, 3), stride=(1, 1), padding=(1, 1), bias=False)\n",
            "      (bn1): BatchNorm2d(128, eps=1e-05, momentum=0.1, affine=True, track_running_stats=True)\n",
            "      (relu): ReLU(inplace=True)\n",
            "      (conv2): Conv2d(128, 128, kernel_size=(3, 3), stride=(1, 1), padding=(1, 1), bias=False)\n",
            "      (bn2): BatchNorm2d(128, eps=1e-05, momentum=0.1, affine=True, track_running_stats=True)\n",
            "    )\n",
            "  )\n",
            "  (layer3): Sequential(\n",
            "    (0): BasicBlock(\n",
            "      (conv1): Conv2d(128, 256, kernel_size=(3, 3), stride=(2, 2), padding=(1, 1), bias=False)\n",
            "      (bn1): BatchNorm2d(256, eps=1e-05, momentum=0.1, affine=True, track_running_stats=True)\n",
            "      (relu): ReLU(inplace=True)\n",
            "      (conv2): Conv2d(256, 256, kernel_size=(3, 3), stride=(1, 1), padding=(1, 1), bias=False)\n",
            "      (bn2): BatchNorm2d(256, eps=1e-05, momentum=0.1, affine=True, track_running_stats=True)\n",
            "      (downsample): Sequential(\n",
            "        (0): Conv2d(128, 256, kernel_size=(1, 1), stride=(2, 2), bias=False)\n",
            "        (1): BatchNorm2d(256, eps=1e-05, momentum=0.1, affine=True, track_running_stats=True)\n",
            "      )\n",
            "    )\n",
            "    (1): BasicBlock(\n",
            "      (conv1): Conv2d(256, 256, kernel_size=(3, 3), stride=(1, 1), padding=(1, 1), bias=False)\n",
            "      (bn1): BatchNorm2d(256, eps=1e-05, momentum=0.1, affine=True, track_running_stats=True)\n",
            "      (relu): ReLU(inplace=True)\n",
            "      (conv2): Conv2d(256, 256, kernel_size=(3, 3), stride=(1, 1), padding=(1, 1), bias=False)\n",
            "      (bn2): BatchNorm2d(256, eps=1e-05, momentum=0.1, affine=True, track_running_stats=True)\n",
            "    )\n",
            "  )\n",
            "  (layer4): Sequential(\n",
            "    (0): BasicBlock(\n",
            "      (conv1): Conv2d(256, 512, kernel_size=(3, 3), stride=(2, 2), padding=(1, 1), bias=False)\n",
            "      (bn1): BatchNorm2d(512, eps=1e-05, momentum=0.1, affine=True, track_running_stats=True)\n",
            "      (relu): ReLU(inplace=True)\n",
            "      (conv2): Conv2d(512, 512, kernel_size=(3, 3), stride=(1, 1), padding=(1, 1), bias=False)\n",
            "      (bn2): BatchNorm2d(512, eps=1e-05, momentum=0.1, affine=True, track_running_stats=True)\n",
            "      (downsample): Sequential(\n",
            "        (0): Conv2d(256, 512, kernel_size=(1, 1), stride=(2, 2), bias=False)\n",
            "        (1): BatchNorm2d(512, eps=1e-05, momentum=0.1, affine=True, track_running_stats=True)\n",
            "      )\n",
            "    )\n",
            "    (1): BasicBlock(\n",
            "      (conv1): Conv2d(512, 512, kernel_size=(3, 3), stride=(1, 1), padding=(1, 1), bias=False)\n",
            "      (bn1): BatchNorm2d(512, eps=1e-05, momentum=0.1, affine=True, track_running_stats=True)\n",
            "      (relu): ReLU(inplace=True)\n",
            "      (conv2): Conv2d(512, 512, kernel_size=(3, 3), stride=(1, 1), padding=(1, 1), bias=False)\n",
            "      (bn2): BatchNorm2d(512, eps=1e-05, momentum=0.1, affine=True, track_running_stats=True)\n",
            "    )\n",
            "  )\n",
            "  (avgpool): AdaptiveAvgPool2d(output_size=(1, 1))\n",
            "  (fc): Linear(in_features=512, out_features=10, bias=True)\n",
            ")\n"
          ]
        }
      ]
    },
    {
      "cell_type": "markdown",
      "source": [
        "#NEURAL NETWORKS\n",
        "\n",
        "torch.nn에 layer들이 다 있음"
      ],
      "metadata": {
        "id": "44b4gvhMwjkv"
      }
    },
    {
      "cell_type": "markdown",
      "source": [
        "**Typical training procedure for a neural network**\n",
        "\n",
        "- Define NN that has learnable params\n",
        "- Iterate over a dataset the network\n",
        "- Process input through the network\n",
        "- Compute the loss\n",
        "- Backpropagation\n",
        "- Update weights"
      ],
      "metadata": {
        "id": "rykNXc4R1oeL"
      }
    },
    {
      "cell_type": "markdown",
      "source": [
        "###1. Define NN\n",
        "\n"
      ],
      "metadata": {
        "id": "RqFDkd7Hc5eb"
      }
    },
    {
      "cell_type": "code",
      "source": [
        "import torch\n",
        "import torch.nn as nn\n",
        "import torch.nn.functional as F"
      ],
      "metadata": {
        "id": "9vfDaCKGwn-l"
      },
      "execution_count": 36,
      "outputs": []
    },
    {
      "cell_type": "code",
      "source": [
        "class Net(nn.Module):\n",
        "    def __init__(self):\n",
        "        super(Net, self).__init__()\n",
        "        # 1 input image channel, 6 output channels\n",
        "        # 5x5 square convolution kernel\n",
        "        self.conv1 = nn.Conv2d(1, 6, 5)\n",
        "        self.conv2 = nn.Conv2d(6, 16, 5)\n",
        "        # an affine operation: y = Wx + b\n",
        "        self.fc1 = nn.Linear(16 * 5 * 5, 120)  # 5*5 from image dimension\n",
        "        self.fc2 = nn.Linear(120, 84)\n",
        "        self.fc3 = nn.Linear(84, 10)\n",
        "\n",
        "    def forward(self, x):\n",
        "        # Max pooling over a (2, 2) window\n",
        "        x = F.max_pool2d(F.relu(self.conv1(x)), (2, 2))\n",
        "        # If the size is a square, you can specify with a single number\n",
        "        x = F.max_pool2d(F.relu(self.conv2(x)), 2)\n",
        "        x = torch.flatten(x, 1) # flatten all dimensions except the batch dimension\n",
        "        x = F.relu(self.fc1(x))\n",
        "        x = F.relu(self.fc2(x))\n",
        "        x = self.fc3(x)\n",
        "        return x\n",
        "\n",
        "\n",
        "net = Net()\n",
        "print(net)"
      ],
      "metadata": {
        "colab": {
          "base_uri": "https://localhost:8080/"
        },
        "id": "zjvh1OawdAoq",
        "outputId": "f501764f-0b25-41cf-f16b-7d7cf5b83296"
      },
      "execution_count": 37,
      "outputs": [
        {
          "output_type": "stream",
          "name": "stdout",
          "text": [
            "Net(\n",
            "  (conv1): Conv2d(1, 6, kernel_size=(5, 5), stride=(1, 1))\n",
            "  (conv2): Conv2d(6, 16, kernel_size=(5, 5), stride=(1, 1))\n",
            "  (fc1): Linear(in_features=400, out_features=120, bias=True)\n",
            "  (fc2): Linear(in_features=120, out_features=84, bias=True)\n",
            "  (fc3): Linear(in_features=84, out_features=10, bias=True)\n",
            ")\n"
          ]
        }
      ]
    },
    {
      "cell_type": "code",
      "source": [
        "# check params\n",
        "\n",
        "params = list(net.parameters())\n",
        "print(len(params))\n",
        "print(params[0].size())  # conv1's .weight"
      ],
      "metadata": {
        "colab": {
          "base_uri": "https://localhost:8080/"
        },
        "id": "sJBhRFa-dQKS",
        "outputId": "55dcee60-f0a7-4a65-a98b-8b3da8d4b4e3"
      },
      "execution_count": 38,
      "outputs": [
        {
          "output_type": "stream",
          "name": "stdout",
          "text": [
            "10\n",
            "torch.Size([6, 1, 5, 5])\n"
          ]
        }
      ]
    },
    {
      "cell_type": "code",
      "source": [
        "# check outputs\n",
        "\n",
        "input = torch.randn(1, 1, 32, 32)\n",
        "out = net(input)\n",
        "print(out)"
      ],
      "metadata": {
        "colab": {
          "base_uri": "https://localhost:8080/"
        },
        "id": "Rf7UMzR3dVT6",
        "outputId": "c0249b85-0593-4f5b-fcac-58b5380a09d3"
      },
      "execution_count": 39,
      "outputs": [
        {
          "output_type": "stream",
          "name": "stdout",
          "text": [
            "tensor([[ 0.0129,  0.0422, -0.0129,  0.0664, -0.0664,  0.0964, -0.1847,  0.0749,\n",
            "         -0.0340, -0.0607]], grad_fn=<AddmmBackward0>)\n"
          ]
        }
      ]
    },
    {
      "cell_type": "code",
      "source": [
        "net.zero_grad()\n",
        "\n",
        "#torch.randn(1, 10) 은 loss가 vector의 모양이라는 뜻\n",
        "out.backward(torch.randn(1, 10))"
      ],
      "metadata": {
        "id": "Qpo0AHEfddsi"
      },
      "execution_count": 40,
      "outputs": []
    },
    {
      "cell_type": "markdown",
      "source": [
        "###Loss Function"
      ],
      "metadata": {
        "id": "eROoEbisdxFE"
      }
    },
    {
      "cell_type": "code",
      "source": [
        "output = net(input)\n",
        "target = torch.randn(10)       # a dummy target\n",
        "target = target.view(1, -1)     # reshape as output\n",
        "criterion = nn.MSELoss()\n",
        "\n",
        "loss = criterion(output, target)\n",
        "print(loss)"
      ],
      "metadata": {
        "colab": {
          "base_uri": "https://localhost:8080/"
        },
        "id": "nEXMu2Ehd3DO",
        "outputId": "9d43fc93-719d-4c2e-8b03-49c5eada272b"
      },
      "execution_count": 41,
      "outputs": [
        {
          "output_type": "stream",
          "name": "stdout",
          "text": [
            "tensor(0.8682, grad_fn=<MseLossBackward0>)\n"
          ]
        }
      ]
    },
    {
      "cell_type": "markdown",
      "source": [
        "###Backprop"
      ],
      "metadata": {
        "id": "EUO7rhk3e8nC"
      }
    },
    {
      "cell_type": "code",
      "source": [
        "net.zero_grad()     # zeroes the gradient buffers of all parameters\n",
        "\n",
        "print('conv1.bias.grad before backward')\n",
        "print(net.conv1.bias.grad)\n",
        "\n",
        "loss.backward()     # getting gradients\n",
        "\n",
        "print('conv1.bias.grad after backward')\n",
        "print(net.conv1.bias.grad)"
      ],
      "metadata": {
        "colab": {
          "base_uri": "https://localhost:8080/"
        },
        "id": "rd6luey1e-NF",
        "outputId": "91408b23-818d-4ebe-f7bc-e7e54cc9aa1d"
      },
      "execution_count": 42,
      "outputs": [
        {
          "output_type": "stream",
          "name": "stdout",
          "text": [
            "conv1.bias.grad before backward\n",
            "tensor([0., 0., 0., 0., 0., 0.])\n",
            "conv1.bias.grad after backward\n",
            "tensor([-0.0069, -0.0102, -0.0081,  0.0085, -0.0127, -0.0066])\n"
          ]
        }
      ]
    },
    {
      "cell_type": "markdown",
      "source": [
        "###Update the weights\n",
        "\n",
        "weight = weight - learning_rate * gradient"
      ],
      "metadata": {
        "id": "r2vIDS86fSVB"
      }
    },
    {
      "cell_type": "code",
      "source": [
        "# simple implement\n",
        "\n",
        "learning_rate = 0.01\n",
        "for f in net.parameters():\n",
        "    f.data.sub_(f.grad.data * learning_rate)"
      ],
      "metadata": {
        "id": "4O0WMV_2fXyY"
      },
      "execution_count": 43,
      "outputs": []
    },
    {
      "cell_type": "code",
      "source": [
        "# with library\n",
        "\n",
        "import torch.optim as optim\n",
        "\n",
        "# create optimizer\n",
        "optimizer = optim.SGD(net.parameters(), lr=0.01)\n",
        "\n",
        "# in your training loop:\n",
        "optimizer.zero_grad()       # zero the gradient buffers\n",
        "output = net(input)\n",
        "loss = criterion(output, target)\n",
        "loss.backward()\n",
        "optimizer.step()        #Does the update"
      ],
      "metadata": {
        "id": "xF1Vj1NEfd6i"
      },
      "execution_count": 44,
      "outputs": []
    },
    {
      "cell_type": "markdown",
      "source": [
        "#TRAINING A CLASSIFIER"
      ],
      "metadata": {
        "id": "7hoizDdiwlwD"
      }
    },
    {
      "cell_type": "markdown",
      "source": [
        "##What about data?\n",
        "\n",
        "with CIFAR-10"
      ],
      "metadata": {
        "id": "-lncGbLJhoRi"
      }
    },
    {
      "cell_type": "markdown",
      "source": [
        "##Training an image classifier\n",
        "\n",
        "**Steps**\n",
        "\n",
        "1. Load and normalize the CIFAR10 training and test datasets using torchvision\n",
        "2. Define a Convolutional Neural Network\n",
        "3. Define a loss function\n",
        "4. Train the network on the training data\n",
        "5. Test the network on the test data"
      ],
      "metadata": {
        "id": "hQRV5nfshuEw"
      }
    },
    {
      "cell_type": "markdown",
      "source": [
        "###1. Load and normalize CIFAR10"
      ],
      "metadata": {
        "id": "3vOSbOY8iT_v"
      }
    },
    {
      "cell_type": "code",
      "source": [
        "import torch\n",
        "import torchvision\n",
        "import torchvision.transforms as transforms"
      ],
      "metadata": {
        "id": "qwSut6Tawoaj"
      },
      "execution_count": 45,
      "outputs": []
    },
    {
      "cell_type": "code",
      "source": [
        "transform = transforms.Compose(\n",
        "    [transforms.ToTensor(),     # make image data to tensor\n",
        "     transforms.Normalize((0.5, 0.5, 0.5), (0.5, 0.5, 0.5))]    #normalize\n",
        "     )\n",
        "\n",
        "batch_size = 4\n",
        "\n",
        "# dataset and dataloader\n",
        "trainset = torchvision.datasets.CIFAR10(root='./data', train=True,\n",
        "                                        download=True, transform=transform)\n",
        "trainloader = torch.utils.data.DataLoader(trainset, batch_size=batch_size,\n",
        "                                          shuffle=True, num_workers=2)\n",
        "\n",
        "testset = torchvision.datasets.CIFAR10(root='./data', train=False,\n",
        "                                       download=True, transform=transform)\n",
        "testloader = torch.utils.data.DataLoader(testset, batch_size=batch_size,\n",
        "                                         shuffle=False, num_workers=2)\n",
        "\n",
        "# labels\n",
        "classes = ('plane', 'car', 'bird', 'cat',\n",
        "           'deer', 'dog', 'frog', 'horse', 'ship', 'truck')"
      ],
      "metadata": {
        "colab": {
          "base_uri": "https://localhost:8080/",
          "height": 121,
          "referenced_widgets": [
            "5bf6395fd8c54956beb122e4e4bbfbfb",
            "cb55ea97d03748ff8badd79632b07330",
            "c0d60a5c353146c7b4e4868f29521591",
            "9d9e9f161453441d880787238ea3c393",
            "ebf82fe5f00f4f4e8267b0bd9c6114a8",
            "0107478d7428419cb2a07c47909d651e",
            "15441b7255734abd8a1e172fef553ad0",
            "3ce455e0f770407796606db1cdc7195a",
            "3c605d4abbcd478eb9f1d53ca74f6c71",
            "54658414d4c64b2abf722995bde5ebc7",
            "258ae4a5493d4354a4f5020c56e68d92"
          ]
        },
        "id": "F0uPOY2Xib58",
        "outputId": "f02abd81-0e9d-4ab0-84e0-8ec52268365b"
      },
      "execution_count": 46,
      "outputs": [
        {
          "output_type": "stream",
          "name": "stdout",
          "text": [
            "Downloading https://www.cs.toronto.edu/~kriz/cifar-10-python.tar.gz to ./data/cifar-10-python.tar.gz\n"
          ]
        },
        {
          "output_type": "display_data",
          "data": {
            "application/vnd.jupyter.widget-view+json": {
              "model_id": "5bf6395fd8c54956beb122e4e4bbfbfb",
              "version_minor": 0,
              "version_major": 2
            },
            "text/plain": [
              "  0%|          | 0/170498071 [00:00<?, ?it/s]"
            ]
          },
          "metadata": {}
        },
        {
          "output_type": "stream",
          "name": "stdout",
          "text": [
            "Extracting ./data/cifar-10-python.tar.gz to ./data\n",
            "Files already downloaded and verified\n"
          ]
        }
      ]
    },
    {
      "cell_type": "code",
      "source": [
        "import matplotlib.pyplot as plt\n",
        "import numpy as np\n",
        "\n",
        "# functions to show an image\n",
        "def imshow(img):\n",
        "    img = img / 2 + 0.5     # unnormalize\n",
        "    npimg = img.numpy()\n",
        "    plt.imshow(np.transpose(npimg, (1, 2, 0)))\n",
        "    plt.show()\n",
        "\n",
        "\n",
        "# get some random training images\n",
        "dataiter = iter(trainloader)\n",
        "images, labels = dataiter.next()\n",
        "\n",
        "# show images\n",
        "imshow(torchvision.utils.make_grid(images))\n",
        "# print labels\n",
        "print(' '.join(f'{classes[labels[j]]:5s}' for j in range(batch_size)))"
      ],
      "metadata": {
        "colab": {
          "base_uri": "https://localhost:8080/",
          "height": 155
        },
        "id": "cmIySLkmi2_B",
        "outputId": "4c25e14e-d04d-4d52-d103-437cbec01e86"
      },
      "execution_count": 47,
      "outputs": [
        {
          "output_type": "display_data",
          "data": {
            "image/png": "[encoded data removed]",
            "text/plain": [
              "<Figure size 432x288 with 1 Axes>"
            ]
          },
          "metadata": {
            "needs_background": "light"
          }
        },
        {
          "output_type": "stream",
          "name": "stdout",
          "text": [
            "car   horse bird  cat  \n"
          ]
        }
      ]
    },
    {
      "cell_type": "markdown",
      "source": [
        "###2. Define a Convolutional Neural Network"
      ],
      "metadata": {
        "id": "mR2Qo5FEjQS2"
      }
    },
    {
      "cell_type": "code",
      "source": [
        "import torch.nn as nn\n",
        "import torch.nn.functional as F\n",
        "\n",
        "\n",
        "class Net(nn.Module):\n",
        "    def __init__(self):\n",
        "        super().__init__()\n",
        "        # set the starting channer of model same as input channel\n",
        "        self.conv1 = nn.Conv2d(3, 6, 5)\n",
        "        self.pool = nn.MaxPool2d(2, 2)\n",
        "        self.conv2 = nn.Conv2d(6, 16, 5)\n",
        "        self.fc1 = nn.Linear(16 * 5 * 5, 120)\n",
        "        self.fc2 = nn.Linear(120, 84)\n",
        "        self.fc3 = nn.Linear(84, 10)\n",
        "\n",
        "    def forward(self, x):\n",
        "        x = self.pool(F.relu(self.conv1(x)))\n",
        "        x = self.pool(F.relu(self.conv2(x)))\n",
        "        x = torch.flatten(x, 1) # flatten all dimensions except batch\n",
        "        x = F.relu(self.fc1(x))\n",
        "        x = F.relu(self.fc2(x))\n",
        "        x = self.fc3(x)\n",
        "        return x\n",
        "\n",
        "\n",
        "net = Net()"
      ],
      "metadata": {
        "id": "a6kSXwfVjIPV"
      },
      "execution_count": 48,
      "outputs": []
    },
    {
      "cell_type": "code",
      "source": [
        "print(net)"
      ],
      "metadata": {
        "colab": {
          "base_uri": "https://localhost:8080/"
        },
        "id": "Aj27oLIfk30V",
        "outputId": "b04bba6d-064d-49cb-e31d-e945e9978cc3"
      },
      "execution_count": 49,
      "outputs": [
        {
          "output_type": "stream",
          "name": "stdout",
          "text": [
            "Net(\n",
            "  (conv1): Conv2d(3, 6, kernel_size=(5, 5), stride=(1, 1))\n",
            "  (pool): MaxPool2d(kernel_size=2, stride=2, padding=0, dilation=1, ceil_mode=False)\n",
            "  (conv2): Conv2d(6, 16, kernel_size=(5, 5), stride=(1, 1))\n",
            "  (fc1): Linear(in_features=400, out_features=120, bias=True)\n",
            "  (fc2): Linear(in_features=120, out_features=84, bias=True)\n",
            "  (fc3): Linear(in_features=84, out_features=10, bias=True)\n",
            ")\n"
          ]
        }
      ]
    },
    {
      "cell_type": "markdown",
      "source": [
        "###3. Define a Loss function and optimizer"
      ],
      "metadata": {
        "id": "2nU1-xFRk7CC"
      }
    },
    {
      "cell_type": "code",
      "source": [
        "import torch.optim as optim\n",
        "\n",
        "# Cross-Entropy and SGD with momentum\n",
        "criterion = nn.CrossEntropyLoss()\n",
        "optimizer = optim.SGD(net.parameters(), lr=0.001, momentum=0.9)"
      ],
      "metadata": {
        "id": "RyqvVaSLk5sv"
      },
      "execution_count": 50,
      "outputs": []
    },
    {
      "cell_type": "markdown",
      "source": [
        "####4. Train the network\n",
        "\n",
        "- 3 epochs : 전체 dataset을 3번 순회\n",
        "- 2000번마다 check"
      ],
      "metadata": {
        "id": "BMiUP7-klCnR"
      }
    },
    {
      "cell_type": "code",
      "source": [
        "for epoch in range(3):  # loop over the dataset multiple times\n",
        "\n",
        "    running_loss = 0.0\n",
        "    for i, data in enumerate(trainloader, 0):\n",
        "        # get the inputs; data is a list of [inputs, labels]\n",
        "        inputs, labels = data\n",
        "\n",
        "        # zero the parameter gradients\n",
        "        optimizer.zero_grad()\n",
        "\n",
        "        # forward + backward + optimize\n",
        "        outputs = net(inputs)\n",
        "        loss = criterion(outputs, labels)\n",
        "        loss.backward()\n",
        "        optimizer.step()\n",
        "\n",
        "        # print statistics\n",
        "        running_loss += loss.item()\n",
        "        if i % 2000 == 1999:    # print every 2000 mini-batches\n",
        "            print(f'[{epoch + 1}, {i + 1:5d}] loss: {running_loss / 2000:.3f}')\n",
        "            running_loss = 0.0\n",
        "\n",
        "print('Finished Training')"
      ],
      "metadata": {
        "colab": {
          "base_uri": "https://localhost:8080/"
        },
        "id": "Lu7ltKgilB9D",
        "outputId": "6c3063eb-4c21-47c2-ca52-50ec95711d3e"
      },
      "execution_count": 51,
      "outputs": [
        {
          "output_type": "stream",
          "name": "stdout",
          "text": [
            "[1,  2000] loss: 2.220\n",
            "[1,  4000] loss: 1.884\n",
            "[1,  6000] loss: 1.689\n",
            "[1,  8000] loss: 1.606\n",
            "[1, 10000] loss: 1.534\n",
            "[1, 12000] loss: 1.479\n",
            "[2,  2000] loss: 1.423\n",
            "[2,  4000] loss: 1.389\n",
            "[2,  6000] loss: 1.379\n",
            "[2,  8000] loss: 1.354\n",
            "[2, 10000] loss: 1.346\n",
            "[2, 12000] loss: 1.333\n",
            "[3,  2000] loss: 1.255\n",
            "[3,  4000] loss: 1.252\n",
            "[3,  6000] loss: 1.256\n",
            "[3,  8000] loss: 1.254\n",
            "[3, 10000] loss: 1.217\n",
            "[3, 12000] loss: 1.178\n",
            "Finished Training\n"
          ]
        }
      ]
    },
    {
      "cell_type": "code",
      "source": [
        "# Save model\n",
        "\n",
        "PATH = './cifar_net.pth'\n",
        "torch.save(net.state_dict(), PATH)"
      ],
      "metadata": {
        "id": "c4b4kEV-lP26"
      },
      "execution_count": 52,
      "outputs": []
    },
    {
      "cell_type": "markdown",
      "source": [
        "###5. Test the network on the test data"
      ],
      "metadata": {
        "id": "qI1dMBfKlb6M"
      }
    },
    {
      "cell_type": "code",
      "source": [
        "# test set에서 데이터 뽑기\n",
        "dataiter = iter(testloader)\n",
        "images, labels = dataiter.next()\n",
        "\n",
        "# print images\n",
        "imshow(torchvision.utils.make_grid(images))\n",
        "print('GroundTruth: ', ' '.join(f'{classes[labels[j]]:5s}' for j in range(4)))"
      ],
      "metadata": {
        "colab": {
          "base_uri": "https://localhost:8080/",
          "height": 155
        },
        "id": "zSRFn70GlelZ",
        "outputId": "69892270-068b-4f84-e1e4-068d25e8d753"
      },
      "execution_count": 53,
      "outputs": [
        {
          "output_type": "display_data",
          "data": {
            "image/png": "[encoded data removed]",
            "text/plain": [
              "<Figure size 432x288 with 1 Axes>"
            ]
          },
          "metadata": {
            "needs_background": "light"
          }
        },
        {
          "output_type": "stream",
          "name": "stdout",
          "text": [
            "GroundTruth:  cat   ship  ship  plane\n"
          ]
        }
      ]
    },
    {
      "cell_type": "code",
      "source": [
        "# Load model\n",
        "\n",
        "net = Net()\n",
        "net.load_state_dict(torch.load(PATH))"
      ],
      "metadata": {
        "colab": {
          "base_uri": "https://localhost:8080/"
        },
        "id": "G5FnuF4Zlxkb",
        "outputId": "d3526748-3f54-48a5-f759-add86fb0eb2d"
      },
      "execution_count": 54,
      "outputs": [
        {
          "output_type": "execute_result",
          "data": {
            "text/plain": [
              "<All keys matched successfully>"
            ]
          },
          "metadata": {},
          "execution_count": 54
        }
      ]
    },
    {
      "cell_type": "code",
      "source": [
        "# make prediction with test data\n",
        "\n",
        "output = net(images)"
      ],
      "metadata": {
        "id": "EDsiPp5Gl4E5"
      },
      "execution_count": 55,
      "outputs": []
    },
    {
      "cell_type": "code",
      "source": [
        "# scores for each classes\n",
        "\n",
        "print(output)"
      ],
      "metadata": {
        "colab": {
          "base_uri": "https://localhost:8080/"
        },
        "id": "ntzcnxggmDnP",
        "outputId": "58620c79-65c3-474e-8cbe-7c34b5621386"
      },
      "execution_count": 56,
      "outputs": [
        {
          "output_type": "stream",
          "name": "stdout",
          "text": [
            "tensor([[-0.4202, -1.2412, -0.4229,  3.0442, -1.4053,  1.0198,  0.5182, -0.9293,\n",
            "          0.4735, -1.0244],\n",
            "        [ 6.0595,  6.0099, -4.3463, -4.5339, -2.5075, -6.6447, -5.7182, -3.3595,\n",
            "         11.9957,  6.4888],\n",
            "        [ 2.4506,  2.5048, -0.5534, -1.3969, -0.3242, -2.4788, -2.9885, -1.3108,\n",
            "          2.2971,  2.5042],\n",
            "        [ 3.5140,  1.4739, -1.1744, -1.8274, -0.2775, -3.2635, -2.3874, -3.1465,\n",
            "          6.1458,  1.5972]], grad_fn=<AddmmBackward0>)\n"
          ]
        }
      ]
    },
    {
      "cell_type": "code",
      "source": [
        "a, predicted = torch.max(outputs, 1)\n",
        "\n",
        "print('Predicted: ', ' '.join(f'{classes[predicted[j]]:5s}'\n",
        "                              for j in range(4)))"
      ],
      "metadata": {
        "colab": {
          "base_uri": "https://localhost:8080/"
        },
        "id": "kWZ1p_bel7k2",
        "outputId": "632aee08-8765-4fd7-dc02-1f9278140829"
      },
      "execution_count": 57,
      "outputs": [
        {
          "output_type": "stream",
          "name": "stdout",
          "text": [
            "Predicted:  deer  plane frog  bird \n"
          ]
        }
      ]
    },
    {
      "cell_type": "code",
      "source": [
        "print(predicted)"
      ],
      "metadata": {
        "colab": {
          "base_uri": "https://localhost:8080/"
        },
        "id": "0BoMOPxnl_C-",
        "outputId": "4b4c84ac-b69f-4173-bcdd-d39824c94511"
      },
      "execution_count": 58,
      "outputs": [
        {
          "output_type": "stream",
          "name": "stdout",
          "text": [
            "tensor([4, 0, 6, 2])\n"
          ]
        }
      ]
    },
    {
      "cell_type": "code",
      "source": [
        "correct = 0\n",
        "total = 0\n",
        "# since we're not training, we don't need to calculate the gradients for our outputs\n",
        "with torch.no_grad():\n",
        "    for data in testloader:\n",
        "        images, labels = data\n",
        "        # calculate outputs by running images through the network\n",
        "        outputs = net(images)\n",
        "        # the class with the highest energy is what we choose as prediction\n",
        "        _, predicted = torch.max(outputs.data, 1)\n",
        "        total += labels.size(0)\n",
        "        correct += (predicted == labels).sum().item()\n",
        "\n",
        "# accuracy for all test data\n",
        "print(f'Accuracy of the network on the 10000 test images: {100 * correct // total} %')"
      ],
      "metadata": {
        "colab": {
          "base_uri": "https://localhost:8080/"
        },
        "id": "kn_j0KhemOYB",
        "outputId": "950df3cd-ce0d-4b83-b5d8-1defc16a093a"
      },
      "execution_count": 59,
      "outputs": [
        {
          "output_type": "stream",
          "name": "stdout",
          "text": [
            "Accuracy of the network on the 10000 test images: 55 %\n"
          ]
        }
      ]
    },
    {
      "cell_type": "code",
      "source": [
        "# prepare to count predictions for each class\n",
        "correct_pred = {classname: 0 for classname in classes}\n",
        "total_pred = {classname: 0 for classname in classes}\n",
        "\n",
        "# again no gradients needed\n",
        "with torch.no_grad():\n",
        "    for data in testloader:\n",
        "        images, labels = data\n",
        "        outputs = net(images)\n",
        "        _, predictions = torch.max(outputs, 1)\n",
        "        # collect the correct predictions for each class\n",
        "        for label, prediction in zip(labels, predictions):\n",
        "            # label 별로 맞으면 correct에 + 1\n",
        "            if label == prediction:\n",
        "                correct_pred[classes[label]] += 1\n",
        "            # label 별 count + 1\n",
        "            total_pred[classes[label]] += 1\n",
        "\n",
        "# print accuracy for each class\n",
        "for classname, correct_count in correct_pred.items():\n",
        "    accuracy = 100 * float(correct_count) / total_pred[classname]\n",
        "    print(f'Accuracy for class: {classname:5s} is {accuracy:.1f} %')"
      ],
      "metadata": {
        "colab": {
          "base_uri": "https://localhost:8080/"
        },
        "id": "O58jtTpHvlFh",
        "outputId": "bdd9b761-708f-4cec-875b-1742eb521982"
      },
      "execution_count": 60,
      "outputs": [
        {
          "output_type": "stream",
          "name": "stdout",
          "text": [
            "Accuracy for class: plane is 62.9 %\n",
            "Accuracy for class: car   is 64.5 %\n",
            "Accuracy for class: bird  is 33.7 %\n",
            "Accuracy for class: cat   is 47.1 %\n",
            "Accuracy for class: deer  is 64.1 %\n",
            "Accuracy for class: dog   is 34.0 %\n",
            "Accuracy for class: frog  is 43.4 %\n",
            "Accuracy for class: horse is 70.0 %\n",
            "Accuracy for class: ship  is 79.3 %\n",
            "Accuracy for class: truck is 54.9 %\n"
          ]
        }
      ]
    },
    {
      "cell_type": "markdown",
      "source": [
        "##Training on GPU"
      ],
      "metadata": {
        "id": "aQd6g6r-wkJ3"
      }
    },
    {
      "cell_type": "code",
      "source": [
        "device = torch.device('cuda:0' if torch.cuda.is_available() else 'cpu')\n",
        "\n",
        "# Assuming that we are on a CUDA machine, this should print a CUDA device:\n",
        "\n",
        "print(device)"
      ],
      "metadata": {
        "colab": {
          "base_uri": "https://localhost:8080/"
        },
        "id": "Gj40kAW8wgVX",
        "outputId": "2725b417-c28d-4de6-8f3d-4c6b2113709d"
      },
      "execution_count": 61,
      "outputs": [
        {
          "output_type": "stream",
          "name": "stdout",
          "text": [
            "cuda:0\n"
          ]
        }
      ]
    },
    {
      "cell_type": "code",
      "source": [
        "net.to(device)"
      ],
      "metadata": {
        "colab": {
          "base_uri": "https://localhost:8080/"
        },
        "id": "6OeI-SpmwoWU",
        "outputId": "1fe53c8a-2df2-4fad-c330-8f383707777a"
      },
      "execution_count": 62,
      "outputs": [
        {
          "output_type": "execute_result",
          "data": {
            "text/plain": [
              "Net(\n",
              "  (conv1): Conv2d(3, 6, kernel_size=(5, 5), stride=(1, 1))\n",
              "  (pool): MaxPool2d(kernel_size=2, stride=2, padding=0, dilation=1, ceil_mode=False)\n",
              "  (conv2): Conv2d(6, 16, kernel_size=(5, 5), stride=(1, 1))\n",
              "  (fc1): Linear(in_features=400, out_features=120, bias=True)\n",
              "  (fc2): Linear(in_features=120, out_features=84, bias=True)\n",
              "  (fc3): Linear(in_features=84, out_features=10, bias=True)\n",
              ")"
            ]
          },
          "metadata": {},
          "execution_count": 62
        }
      ]
    },
    {
      "cell_type": "code",
      "source": [
        "inputs, labels = data[0].to(device), data[1].to(device)"
      ],
      "metadata": {
        "id": "yZqyUDyNwrPg"
      },
      "execution_count": 63,
      "outputs": []
    }
  ]
}