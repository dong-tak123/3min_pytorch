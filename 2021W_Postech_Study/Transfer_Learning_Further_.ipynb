{
  "cells": [
    {
      "cell_type": "markdown",
      "source": [
        "#BCELoss With Logit에서 Train이 안됨..\n",
        "target을 float형으로 바꾸고 view(-1,1)로 shape을 맞춰줘야 함"
      ],
      "metadata": {
        "id": "rXEuJ18uXXh-"
      }
    },
    {
      "cell_type": "code",
      "execution_count": 1,
      "metadata": {
        "id": "pnvl9xoBSCIt"
      },
      "outputs": [],
      "source": [
        "%matplotlib inline"
      ]
    },
    {
      "cell_type": "code",
      "source": [
        "from google.colab import drive\n",
        "drive.mount('/content/gdrive')"
      ],
      "metadata": {
        "colab": {
          "base_uri": "https://localhost:8080/"
        },
        "id": "Mmw8UVr3URzf",
        "outputId": "186094ea-13ea-4faf-9c63-14dd535afa97"
      },
      "execution_count": 2,
      "outputs": [
        {
          "output_type": "stream",
          "name": "stdout",
          "text": [
            "Mounted at /content/gdrive\n"
          ]
        }
      ]
    },
    {
      "cell_type": "markdown",
      "metadata": {
        "id": "iv2IKAcASCIw"
      },
      "source": [
        "\n",
        "Transfer Learning for Computer Vision Tutorial\n",
        "==============================================\n",
        "**Author**: `Sasank Chilamkurthy <https://chsasank.github.io>`_\n",
        "\n",
        "In this tutorial, you will learn how to train a convolutional neural network for\n",
        "image classification using transfer learning. You can read more about the transfer\n",
        "learning at `cs231n notes <https://cs231n.github.io/transfer-learning/>`__\n",
        "\n",
        "Quoting these notes,\n",
        "\n",
        "    In practice, very few people train an entire Convolutional Network\n",
        "    from scratch (with random initialization), because it is relatively\n",
        "    rare to have a dataset of sufficient size. Instead, it is common to\n",
        "    pretrain a ConvNet on a very large dataset (e.g. ImageNet, which\n",
        "    contains 1.2 million images with 1000 categories), and then use the\n",
        "    ConvNet either as an initialization or a fixed feature extractor for\n",
        "    the task of interest.\n",
        "\n",
        "These two major transfer learning scenarios look as follows:\n",
        "\n",
        "-  **Finetuning the convnet**: Instead of random initialization, we\n",
        "   initialize the network with a pretrained network, like the one that is\n",
        "   trained on imagenet 1000 dataset. Rest of the training looks as\n",
        "   usual.\n",
        "-  **ConvNet as fixed feature extractor**: Here, we will freeze the weights\n",
        "   for all of the network except that of the final fully connected\n",
        "   layer. This last fully connected layer is replaced with a new one\n",
        "   with random weights and only this layer is trained.\n",
        "\n",
        "\n"
      ]
    },
    {
      "cell_type": "code",
      "execution_count": 3,
      "metadata": {
        "id": "HIhJWUzISCI1"
      },
      "outputs": [],
      "source": [
        "# License: BSD\n",
        "# Author: Sasank Chilamkurthy\n",
        "\n",
        "from __future__ import print_function, division\n",
        "\n",
        "import torch\n",
        "import torch.nn as nn\n",
        "import torch.optim as optim\n",
        "from torch.optim import lr_scheduler\n",
        "import numpy as np\n",
        "import torchvision\n",
        "from torchvision import datasets, models, transforms\n",
        "import matplotlib.pyplot as plt\n",
        "import time\n",
        "import os\n",
        "import copy\n",
        "\n",
        "plt.ion()   # interactive mode"
      ]
    },
    {
      "cell_type": "markdown",
      "metadata": {
        "id": "JfBytUrnSCI4"
      },
      "source": [
        "Load Data\n",
        "---------\n",
        "\n",
        "We will use torchvision and torch.utils.data packages for loading the\n",
        "data.\n",
        "\n",
        "The problem we're going to solve today is to train a model to classify\n",
        "**ants** and **bees**. We have about 120 training images each for ants and bees.\n",
        "There are 75 validation images for each class. Usually, this is a very\n",
        "small dataset to generalize upon, if trained from scratch. Since we\n",
        "are using transfer learning, we should be able to generalize reasonably\n",
        "well.\n",
        "\n",
        "This dataset is a very small subset of imagenet.\n",
        "\n",
        ".. Note ::\n",
        "   Download the data from\n",
        "   `here <https://download.pytorch.org/tutorial/hymenoptera_data.zip>`_\n",
        "   and extract it to the current directory.\n",
        "\n"
      ]
    },
    {
      "cell_type": "code",
      "execution_count": 4,
      "metadata": {
        "id": "6L753MmpSCI6",
        "colab": {
          "base_uri": "https://localhost:8080/"
        },
        "outputId": "f02dd26b-ad1c-42dc-c5f4-a80aa750b79c"
      },
      "outputs": [
        {
          "output_type": "stream",
          "name": "stderr",
          "text": [
            "/usr/local/lib/python3.7/dist-packages/torch/utils/data/dataloader.py:481: UserWarning: This DataLoader will create 4 worker processes in total. Our suggested max number of worker in current system is 2, which is smaller than what this DataLoader is going to create. Please be aware that excessive worker creation might get DataLoader running slow or even freeze, lower the worker number to avoid potential slowness/freeze if necessary.\n",
            "  cpuset_checked))\n"
          ]
        }
      ],
      "source": [
        "# Data augmentation and normalization for training\n",
        "# Just normalization for validation\n",
        "data_transforms = {\n",
        "    'train': transforms.Compose([\n",
        "        transforms.RandomResizedCrop(224),\n",
        "        transforms.RandomHorizontalFlip(),\n",
        "        transforms.ToTensor(),\n",
        "        transforms.Normalize([0.485, 0.456, 0.406], [0.229, 0.224, 0.225])\n",
        "    ]),\n",
        "    'val': transforms.Compose([\n",
        "        transforms.Resize(256),\n",
        "        transforms.CenterCrop(224),\n",
        "        transforms.ToTensor(),\n",
        "        transforms.Normalize([0.485, 0.456, 0.406], [0.229, 0.224, 0.225])\n",
        "    ]),\n",
        "}\n",
        "\n",
        "data_dir = '/content/gdrive/MyDrive/Colab Notebooks/2021W_Postech_Study/hymenoptera_data'\n",
        "image_datasets = {x: datasets.ImageFolder(os.path.join(data_dir, x),\n",
        "                                          data_transforms[x])\n",
        "                  for x in ['train', 'val']}\n",
        "dataloaders = {x: torch.utils.data.DataLoader(image_datasets[x], batch_size=4,      #16\n",
        "                                             shuffle=True, num_workers=4)\n",
        "              for x in ['train', 'val']}\n",
        "dataset_sizes = {x: len(image_datasets[x]) for x in ['train', 'val']}\n",
        "class_names = image_datasets['train'].classes\n",
        "\n",
        "device = torch.device(\"cuda:0\" if torch.cuda.is_available() else \"cpu\")"
      ]
    },
    {
      "cell_type": "markdown",
      "metadata": {
        "id": "xn6IdEPiSCI-"
      },
      "source": [
        "Visualize a few images\n",
        "^^^^^^^^^^^^^^^^^^^^^^\n",
        "Let's visualize a few training images so as to understand the data\n",
        "augmentations.\n",
        "\n"
      ]
    },
    {
      "cell_type": "code",
      "execution_count": 5,
      "metadata": {
        "id": "DfwZdosESCI_",
        "colab": {
          "base_uri": "https://localhost:8080/",
          "height": 202
        },
        "outputId": "c476d3e1-5df1-4286-bb5e-b0af82febf0e"
      },
      "outputs": [
        {
          "output_type": "stream",
          "name": "stderr",
          "text": [
            "/usr/local/lib/python3.7/dist-packages/torch/utils/data/dataloader.py:481: UserWarning: This DataLoader will create 4 worker processes in total. Our suggested max number of worker in current system is 2, which is smaller than what this DataLoader is going to create. Please be aware that excessive worker creation might get DataLoader running slow or even freeze, lower the worker number to avoid potential slowness/freeze if necessary.\n",
            "  cpuset_checked))\n"
          ]
        },
        {
          "output_type": "display_data",
          "data": {
            "image/png": "[encoded data removed]",
            "text/plain": [
              "<Figure size 432x288 with 1 Axes>"
            ]
          },
          "metadata": {
            "needs_background": "light"
          }
        }
      ],
      "source": [
        "def imshow(inp, title=None):\n",
        "    \"\"\"Imshow for Tensor.\"\"\"\n",
        "    inp = inp.numpy().transpose((1, 2, 0))\n",
        "    mean = np.array([0.485, 0.456, 0.406])\n",
        "    std = np.array([0.229, 0.224, 0.225])\n",
        "    inp = std * inp + mean\n",
        "    inp = np.clip(inp, 0, 1)\n",
        "    plt.imshow(inp)\n",
        "    if title is not None:\n",
        "        plt.title(title)\n",
        "    plt.pause(0.001)  # pause a bit so that plots are updated\n",
        "\n",
        "\n",
        "# Get a batch of training data\n",
        "inputs, classes = next(iter(dataloaders['train']))\n",
        "\n",
        "# Make a grid from batch\n",
        "out = torchvision.utils.make_grid(inputs)\n",
        "\n",
        "imshow(out, title=[class_names[x] for x in classes])"
      ]
    },
    {
      "cell_type": "markdown",
      "metadata": {
        "id": "VMh-1HbVSCJA"
      },
      "source": [
        "Training the model\n",
        "------------------\n",
        "\n",
        "Now, let's write a general function to train a model. Here, we will\n",
        "illustrate:\n",
        "\n",
        "-  Scheduling the learning rate\n",
        "-  Saving the best model\n",
        "\n",
        "In the following, parameter ``scheduler`` is an LR scheduler object from\n",
        "``torch.optim.lr_scheduler``.\n",
        "\n"
      ]
    },
    {
      "cell_type": "code",
      "execution_count": 24,
      "metadata": {
        "id": "Surh7Zr3SCJC"
      },
      "outputs": [],
      "source": [
        "def train_model(model, criterion, optimizer, scheduler, num_epochs=25):\n",
        "    since = time.time()\n",
        "\n",
        "    best_model_wts = copy.deepcopy(model.state_dict())\n",
        "    best_acc = 0.0\n",
        "\n",
        "    for epoch in range(num_epochs):\n",
        "        print('Epoch {}/{}'.format(epoch, num_epochs - 1))\n",
        "        print('-' * 10)\n",
        "\n",
        "        # Each epoch has a training and validation phase\n",
        "        for phase in ['train', 'val']:\n",
        "            if phase == 'train':\n",
        "                model.train()  # Set model to training mode\n",
        "            else:\n",
        "                model.eval()   # Set model to evaluate mode\n",
        "\n",
        "            running_loss = 0.0\n",
        "            running_corrects = 0\n",
        "\n",
        "            # Iterate over data.\n",
        "            for inputs, labels in dataloaders[phase]:\n",
        "                inputs = inputs.to(device)\n",
        "                labels = labels.to(device)\n",
        "\n",
        "                # zero the parameter gradients\n",
        "                optimizer.zero_grad()\n",
        "\n",
        "                # forward\n",
        "                # track history if only in train\n",
        "                with torch.set_grad_enabled(phase == 'train'):\n",
        "                    outputs = model(inputs)\n",
        "                    _, preds = torch.max(outputs, 1)        #pred = 0 or 1\n",
        "                    loss = criterion(outputs, labels.float().view(-1,1))       #BCEWithLogit\n",
        "\n",
        "                    # backward + optimize only if in training phase\n",
        "                    if phase == 'train':\n",
        "                        loss.backward()\n",
        "                        optimizer.step()\n",
        "\n",
        "                # statistics\n",
        "                running_loss += loss.item() * inputs.size(0)\n",
        "                running_corrects += torch.sum(preds == labels.data)\n",
        "            if phase == 'train':\n",
        "                scheduler.step()\n",
        "\n",
        "            epoch_loss = running_loss / dataset_sizes[phase]\n",
        "            epoch_acc = running_corrects.double() / dataset_sizes[phase]\n",
        "\n",
        "            print('{} Loss: {:.4f} Acc: {:.4f}'.format(\n",
        "                phase, epoch_loss, epoch_acc))\n",
        "\n",
        "            # deep copy the model\n",
        "            if phase == 'val' and epoch_acc > best_acc:\n",
        "                best_acc = epoch_acc\n",
        "                best_model_wts = copy.deepcopy(model.state_dict())\n",
        "\n",
        "        print()\n",
        "\n",
        "    time_elapsed = time.time() - since\n",
        "    print('Training complete in {:.0f}m {:.0f}s'.format(\n",
        "        time_elapsed // 60, time_elapsed % 60))\n",
        "    print('Best val Acc: {:4f}'.format(best_acc))\n",
        "\n",
        "    # load best model weights\n",
        "    model.load_state_dict(best_model_wts)\n",
        "    return model"
      ]
    },
    {
      "cell_type": "markdown",
      "metadata": {
        "id": "dkOsWw7qSCJE"
      },
      "source": [
        "Visualizing the model predictions\n",
        "^^^^^^^^^^^^^^^^^^^^^^^^^^^^^^^^^\n",
        "\n",
        "Generic function to display predictions for a few images\n",
        "\n",
        "\n"
      ]
    },
    {
      "cell_type": "code",
      "execution_count": 7,
      "metadata": {
        "id": "-kt4twL6SCJF"
      },
      "outputs": [],
      "source": [
        "def visualize_model(model, num_images=6):\n",
        "    was_training = model.training\n",
        "    model.eval()\n",
        "    images_so_far = 0\n",
        "    fig = plt.figure()\n",
        "\n",
        "    with torch.no_grad():\n",
        "        for i, (inputs, labels) in enumerate(dataloaders['val']):\n",
        "            inputs = inputs.to(device)\n",
        "            labels = labels.to(device)\n",
        "\n",
        "            outputs = model(inputs)\n",
        "            _, preds = torch.max(outputs, 1)\n",
        "\n",
        "            for j in range(inputs.size()[0]):\n",
        "                images_so_far += 1\n",
        "                ax = plt.subplot(num_images//2, 2, images_so_far)\n",
        "                ax.axis('off')\n",
        "                ax.set_title('predicted: {}'.format(class_names[preds[j]]))\n",
        "                imshow(inputs.cpu().data[j])\n",
        "\n",
        "                if images_so_far == num_images:\n",
        "                    model.train(mode=was_training)\n",
        "                    return\n",
        "        model.train(mode=was_training)"
      ]
    },
    {
      "cell_type": "markdown",
      "source": [
        "Further Learning\n",
        "----------------------"
      ],
      "metadata": {
        "id": "ZUtj-hKM8_41"
      }
    },
    {
      "cell_type": "markdown",
      "source": [
        "1. Resnet의 adaptive average pool 2d를 adaptive max pool 2d로 교체"
      ],
      "metadata": {
        "id": "TEGGNorNCEbL"
      }
    },
    {
      "cell_type": "code",
      "source": [
        "model = models.resnet18(pretrained=True)"
      ],
      "metadata": {
        "id": "Zz_mhgaB_h5R",
        "colab": {
          "base_uri": "https://localhost:8080/",
          "height": 86,
          "referenced_widgets": [
            "74f1afb1edae40718d24b154ca64dd46",
            "d4db587721064d86b11c75658f28916b",
            "649ae7eed2284233b80782d29eeefc93",
            "b9af9a32b5e147f2996ad5d9a9cb873c",
            "50b6aeeb845b4b7ca8277110e127dbcd",
            "7e6308235cd6419db9f0f5890a8f48d5",
            "f43e9fdd7cc84c42aeede8e270e0302b",
            "dc80c3c437c948ce9845e2616cdca006",
            "b06648dc53494eca83ae0d7c02478b50",
            "c1f55b3718714da08a87b03dba79de88",
            "0373e64abcda445da47742061d604dbe"
          ]
        },
        "outputId": "da942f48-b003-463c-d2df-e228bca8ac56"
      },
      "execution_count": 8,
      "outputs": [
        {
          "output_type": "stream",
          "name": "stderr",
          "text": [
            "Downloading: \"https://download.pytorch.org/models/resnet18-f37072fd.pth\" to /root/.cache/torch/hub/checkpoints/resnet18-f37072fd.pth\n"
          ]
        },
        {
          "output_type": "display_data",
          "data": {
            "application/vnd.jupyter.widget-view+json": {
              "model_id": "74f1afb1edae40718d24b154ca64dd46",
              "version_minor": 0,
              "version_major": 2
            },
            "text/plain": [
              "  0%|          | 0.00/44.7M [00:00<?, ?B/s]"
            ]
          },
          "metadata": {}
        }
      ]
    },
    {
      "cell_type": "code",
      "source": [
        "print(model.avgpool)"
      ],
      "metadata": {
        "colab": {
          "base_uri": "https://localhost:8080/"
        },
        "id": "eEuKSuIw_h1r",
        "outputId": "eb70054f-ca91-4428-a5b6-4cfcd212c665"
      },
      "execution_count": 9,
      "outputs": [
        {
          "output_type": "stream",
          "name": "stdout",
          "text": [
            "AdaptiveAvgPool2d(output_size=(1, 1))\n"
          ]
        }
      ]
    },
    {
      "cell_type": "code",
      "source": [
        "model.avgpool = nn.AdaptiveMaxPool2d(output_size=(1,1))"
      ],
      "metadata": {
        "id": "mZZCZCA-_6Nm"
      },
      "execution_count": 10,
      "outputs": []
    },
    {
      "cell_type": "code",
      "source": [
        "print(model.avgpool)"
      ],
      "metadata": {
        "colab": {
          "base_uri": "https://localhost:8080/"
        },
        "id": "Ku5MOTLh_6KE",
        "outputId": "35159c4e-47bc-4b99-af98-466107f1f90d"
      },
      "execution_count": 11,
      "outputs": [
        {
          "output_type": "stream",
          "name": "stdout",
          "text": [
            "AdaptiveMaxPool2d(output_size=(1, 1))\n"
          ]
        }
      ]
    },
    {
      "cell_type": "markdown",
      "source": [
        "2. 마지막 fc layer와 batchnorm의 gamma, beta를 Learnable하게 변경"
      ],
      "metadata": {
        "id": "U63S4Q9gCVLz"
      }
    },
    {
      "cell_type": "code",
      "source": [
        "for param in model.parameters():\n",
        "    param.requires_grad = False\n",
        "\n",
        "# Parameters of newly constructed modules have requires_grad=True by default\n",
        "# 새로 지정해서 requires_grad = True로 만들어줌\n",
        "num_ftrs = model.fc.in_features\n",
        "model.fc = nn.Linear(num_ftrs, 1)       #-> BCELoss with Logit을 사용하기 위해 1로 마지막을 만든다"
      ],
      "metadata": {
        "id": "7OhFfKb8CpAO"
      },
      "execution_count": 12,
      "outputs": []
    },
    {
      "cell_type": "code",
      "source": [
        "print(model)"
      ],
      "metadata": {
        "id": "2B_cdU1bEWqF",
        "colab": {
          "base_uri": "https://localhost:8080/"
        },
        "outputId": "491b0cd0-7cf0-461a-fecd-463c7d0e8ec3"
      },
      "execution_count": 13,
      "outputs": [
        {
          "output_type": "stream",
          "name": "stdout",
          "text": [
            "ResNet(\n",
            "  (conv1): Conv2d(3, 64, kernel_size=(7, 7), stride=(2, 2), padding=(3, 3), bias=False)\n",
            "  (bn1): BatchNorm2d(64, eps=1e-05, momentum=0.1, affine=True, track_running_stats=True)\n",
            "  (relu): ReLU(inplace=True)\n",
            "  (maxpool): MaxPool2d(kernel_size=3, stride=2, padding=1, dilation=1, ceil_mode=False)\n",
            "  (layer1): Sequential(\n",
            "    (0): BasicBlock(\n",
            "      (conv1): Conv2d(64, 64, kernel_size=(3, 3), stride=(1, 1), padding=(1, 1), bias=False)\n",
            "      (bn1): BatchNorm2d(64, eps=1e-05, momentum=0.1, affine=True, track_running_stats=True)\n",
            "      (relu): ReLU(inplace=True)\n",
            "      (conv2): Conv2d(64, 64, kernel_size=(3, 3), stride=(1, 1), padding=(1, 1), bias=False)\n",
            "      (bn2): BatchNorm2d(64, eps=1e-05, momentum=0.1, affine=True, track_running_stats=True)\n",
            "    )\n",
            "    (1): BasicBlock(\n",
            "      (conv1): Conv2d(64, 64, kernel_size=(3, 3), stride=(1, 1), padding=(1, 1), bias=False)\n",
            "      (bn1): BatchNorm2d(64, eps=1e-05, momentum=0.1, affine=True, track_running_stats=True)\n",
            "      (relu): ReLU(inplace=True)\n",
            "      (conv2): Conv2d(64, 64, kernel_size=(3, 3), stride=(1, 1), padding=(1, 1), bias=False)\n",
            "      (bn2): BatchNorm2d(64, eps=1e-05, momentum=0.1, affine=True, track_running_stats=True)\n",
            "    )\n",
            "  )\n",
            "  (layer2): Sequential(\n",
            "    (0): BasicBlock(\n",
            "      (conv1): Conv2d(64, 128, kernel_size=(3, 3), stride=(2, 2), padding=(1, 1), bias=False)\n",
            "      (bn1): BatchNorm2d(128, eps=1e-05, momentum=0.1, affine=True, track_running_stats=True)\n",
            "      (relu): ReLU(inplace=True)\n",
            "      (conv2): Conv2d(128, 128, kernel_size=(3, 3), stride=(1, 1), padding=(1, 1), bias=False)\n",
            "      (bn2): BatchNorm2d(128, eps=1e-05, momentum=0.1, affine=True, track_running_stats=True)\n",
            "      (downsample): Sequential(\n",
            "        (0): Conv2d(64, 128, kernel_size=(1, 1), stride=(2, 2), bias=False)\n",
            "        (1): BatchNorm2d(128, eps=1e-05, momentum=0.1, affine=True, track_running_stats=True)\n",
            "      )\n",
            "    )\n",
            "    (1): BasicBlock(\n",
            "      (conv1): Conv2d(128, 128, kernel_size=(3, 3), stride=(1, 1), padding=(1, 1), bias=False)\n",
            "      (bn1): BatchNorm2d(128, eps=1e-05, momentum=0.1, affine=True, track_running_stats=True)\n",
            "      (relu): ReLU(inplace=True)\n",
            "      (conv2): Conv2d(128, 128, kernel_size=(3, 3), stride=(1, 1), padding=(1, 1), bias=False)\n",
            "      (bn2): BatchNorm2d(128, eps=1e-05, momentum=0.1, affine=True, track_running_stats=True)\n",
            "    )\n",
            "  )\n",
            "  (layer3): Sequential(\n",
            "    (0): BasicBlock(\n",
            "      (conv1): Conv2d(128, 256, kernel_size=(3, 3), stride=(2, 2), padding=(1, 1), bias=False)\n",
            "      (bn1): BatchNorm2d(256, eps=1e-05, momentum=0.1, affine=True, track_running_stats=True)\n",
            "      (relu): ReLU(inplace=True)\n",
            "      (conv2): Conv2d(256, 256, kernel_size=(3, 3), stride=(1, 1), padding=(1, 1), bias=False)\n",
            "      (bn2): BatchNorm2d(256, eps=1e-05, momentum=0.1, affine=True, track_running_stats=True)\n",
            "      (downsample): Sequential(\n",
            "        (0): Conv2d(128, 256, kernel_size=(1, 1), stride=(2, 2), bias=False)\n",
            "        (1): BatchNorm2d(256, eps=1e-05, momentum=0.1, affine=True, track_running_stats=True)\n",
            "      )\n",
            "    )\n",
            "    (1): BasicBlock(\n",
            "      (conv1): Conv2d(256, 256, kernel_size=(3, 3), stride=(1, 1), padding=(1, 1), bias=False)\n",
            "      (bn1): BatchNorm2d(256, eps=1e-05, momentum=0.1, affine=True, track_running_stats=True)\n",
            "      (relu): ReLU(inplace=True)\n",
            "      (conv2): Conv2d(256, 256, kernel_size=(3, 3), stride=(1, 1), padding=(1, 1), bias=False)\n",
            "      (bn2): BatchNorm2d(256, eps=1e-05, momentum=0.1, affine=True, track_running_stats=True)\n",
            "    )\n",
            "  )\n",
            "  (layer4): Sequential(\n",
            "    (0): BasicBlock(\n",
            "      (conv1): Conv2d(256, 512, kernel_size=(3, 3), stride=(2, 2), padding=(1, 1), bias=False)\n",
            "      (bn1): BatchNorm2d(512, eps=1e-05, momentum=0.1, affine=True, track_running_stats=True)\n",
            "      (relu): ReLU(inplace=True)\n",
            "      (conv2): Conv2d(512, 512, kernel_size=(3, 3), stride=(1, 1), padding=(1, 1), bias=False)\n",
            "      (bn2): BatchNorm2d(512, eps=1e-05, momentum=0.1, affine=True, track_running_stats=True)\n",
            "      (downsample): Sequential(\n",
            "        (0): Conv2d(256, 512, kernel_size=(1, 1), stride=(2, 2), bias=False)\n",
            "        (1): BatchNorm2d(512, eps=1e-05, momentum=0.1, affine=True, track_running_stats=True)\n",
            "      )\n",
            "    )\n",
            "    (1): BasicBlock(\n",
            "      (conv1): Conv2d(512, 512, kernel_size=(3, 3), stride=(1, 1), padding=(1, 1), bias=False)\n",
            "      (bn1): BatchNorm2d(512, eps=1e-05, momentum=0.1, affine=True, track_running_stats=True)\n",
            "      (relu): ReLU(inplace=True)\n",
            "      (conv2): Conv2d(512, 512, kernel_size=(3, 3), stride=(1, 1), padding=(1, 1), bias=False)\n",
            "      (bn2): BatchNorm2d(512, eps=1e-05, momentum=0.1, affine=True, track_running_stats=True)\n",
            "    )\n",
            "  )\n",
            "  (avgpool): AdaptiveMaxPool2d(output_size=(1, 1))\n",
            "  (fc): Linear(in_features=512, out_features=1, bias=True)\n",
            ")\n"
          ]
        }
      ]
    },
    {
      "cell_type": "code",
      "source": [
        "# BatchNorm이 있는 layer의 param을 learnable하게 만든다\n",
        "\n",
        "for name, param in model.named_parameters():\n",
        "    if 'bn' in name:\n",
        "        param.requires_grad = True\n",
        "    if 'downsample.1' in name:\n",
        "        param.requires_grad = True"
      ],
      "metadata": {
        "id": "ODveeGMhE5KB"
      },
      "execution_count": 14,
      "outputs": []
    },
    {
      "cell_type": "code",
      "source": [
        "# 체킹\n",
        "for param in model.bn1.parameters():\n",
        "    print(param.requires_grad)"
      ],
      "metadata": {
        "colab": {
          "base_uri": "https://localhost:8080/"
        },
        "id": "jfd_lFTPFWj2",
        "outputId": "80746a3f-2f43-4c59-d52a-17883eb987d8"
      },
      "execution_count": 15,
      "outputs": [
        {
          "output_type": "stream",
          "name": "stdout",
          "text": [
            "True\n",
            "True\n"
          ]
        }
      ]
    },
    {
      "cell_type": "code",
      "source": [
        "# 모든 layer의 param 체킹\n",
        "for name, param in model.named_parameters():\n",
        "    print(f'name:{name}') \n",
        "    print(type(param)) \n",
        "    print(f'param.shape:{param.shape}') \n",
        "    print(f'param.requries_grad:{param.requires_grad}') \n",
        "    print('=====')\n",
        "    print()"
      ],
      "metadata": {
        "id": "hPt6p4DYFbCh",
        "colab": {
          "base_uri": "https://localhost:8080/"
        },
        "outputId": "3ffca963-51f7-447e-f4ce-1cd6177dde30"
      },
      "execution_count": 16,
      "outputs": [
        {
          "output_type": "stream",
          "name": "stdout",
          "text": [
            "name:conv1.weight\n",
            "<class 'torch.nn.parameter.Parameter'>\n",
            "param.shape:torch.Size([64, 3, 7, 7])\n",
            "param.requries_grad:False\n",
            "=====\n",
            "\n",
            "name:bn1.weight\n",
            "<class 'torch.nn.parameter.Parameter'>\n",
            "param.shape:torch.Size([64])\n",
            "param.requries_grad:True\n",
            "=====\n",
            "\n",
            "name:bn1.bias\n",
            "<class 'torch.nn.parameter.Parameter'>\n",
            "param.shape:torch.Size([64])\n",
            "param.requries_grad:True\n",
            "=====\n",
            "\n",
            "name:layer1.0.conv1.weight\n",
            "<class 'torch.nn.parameter.Parameter'>\n",
            "param.shape:torch.Size([64, 64, 3, 3])\n",
            "param.requries_grad:False\n",
            "=====\n",
            "\n",
            "name:layer1.0.bn1.weight\n",
            "<class 'torch.nn.parameter.Parameter'>\n",
            "param.shape:torch.Size([64])\n",
            "param.requries_grad:True\n",
            "=====\n",
            "\n",
            "name:layer1.0.bn1.bias\n",
            "<class 'torch.nn.parameter.Parameter'>\n",
            "param.shape:torch.Size([64])\n",
            "param.requries_grad:True\n",
            "=====\n",
            "\n",
            "name:layer1.0.conv2.weight\n",
            "<class 'torch.nn.parameter.Parameter'>\n",
            "param.shape:torch.Size([64, 64, 3, 3])\n",
            "param.requries_grad:False\n",
            "=====\n",
            "\n",
            "name:layer1.0.bn2.weight\n",
            "<class 'torch.nn.parameter.Parameter'>\n",
            "param.shape:torch.Size([64])\n",
            "param.requries_grad:True\n",
            "=====\n",
            "\n",
            "name:layer1.0.bn2.bias\n",
            "<class 'torch.nn.parameter.Parameter'>\n",
            "param.shape:torch.Size([64])\n",
            "param.requries_grad:True\n",
            "=====\n",
            "\n",
            "name:layer1.1.conv1.weight\n",
            "<class 'torch.nn.parameter.Parameter'>\n",
            "param.shape:torch.Size([64, 64, 3, 3])\n",
            "param.requries_grad:False\n",
            "=====\n",
            "\n",
            "name:layer1.1.bn1.weight\n",
            "<class 'torch.nn.parameter.Parameter'>\n",
            "param.shape:torch.Size([64])\n",
            "param.requries_grad:True\n",
            "=====\n",
            "\n",
            "name:layer1.1.bn1.bias\n",
            "<class 'torch.nn.parameter.Parameter'>\n",
            "param.shape:torch.Size([64])\n",
            "param.requries_grad:True\n",
            "=====\n",
            "\n",
            "name:layer1.1.conv2.weight\n",
            "<class 'torch.nn.parameter.Parameter'>\n",
            "param.shape:torch.Size([64, 64, 3, 3])\n",
            "param.requries_grad:False\n",
            "=====\n",
            "\n",
            "name:layer1.1.bn2.weight\n",
            "<class 'torch.nn.parameter.Parameter'>\n",
            "param.shape:torch.Size([64])\n",
            "param.requries_grad:True\n",
            "=====\n",
            "\n",
            "name:layer1.1.bn2.bias\n",
            "<class 'torch.nn.parameter.Parameter'>\n",
            "param.shape:torch.Size([64])\n",
            "param.requries_grad:True\n",
            "=====\n",
            "\n",
            "name:layer2.0.conv1.weight\n",
            "<class 'torch.nn.parameter.Parameter'>\n",
            "param.shape:torch.Size([128, 64, 3, 3])\n",
            "param.requries_grad:False\n",
            "=====\n",
            "\n",
            "name:layer2.0.bn1.weight\n",
            "<class 'torch.nn.parameter.Parameter'>\n",
            "param.shape:torch.Size([128])\n",
            "param.requries_grad:True\n",
            "=====\n",
            "\n",
            "name:layer2.0.bn1.bias\n",
            "<class 'torch.nn.parameter.Parameter'>\n",
            "param.shape:torch.Size([128])\n",
            "param.requries_grad:True\n",
            "=====\n",
            "\n",
            "name:layer2.0.conv2.weight\n",
            "<class 'torch.nn.parameter.Parameter'>\n",
            "param.shape:torch.Size([128, 128, 3, 3])\n",
            "param.requries_grad:False\n",
            "=====\n",
            "\n",
            "name:layer2.0.bn2.weight\n",
            "<class 'torch.nn.parameter.Parameter'>\n",
            "param.shape:torch.Size([128])\n",
            "param.requries_grad:True\n",
            "=====\n",
            "\n",
            "name:layer2.0.bn2.bias\n",
            "<class 'torch.nn.parameter.Parameter'>\n",
            "param.shape:torch.Size([128])\n",
            "param.requries_grad:True\n",
            "=====\n",
            "\n",
            "name:layer2.0.downsample.0.weight\n",
            "<class 'torch.nn.parameter.Parameter'>\n",
            "param.shape:torch.Size([128, 64, 1, 1])\n",
            "param.requries_grad:False\n",
            "=====\n",
            "\n",
            "name:layer2.0.downsample.1.weight\n",
            "<class 'torch.nn.parameter.Parameter'>\n",
            "param.shape:torch.Size([128])\n",
            "param.requries_grad:True\n",
            "=====\n",
            "\n",
            "name:layer2.0.downsample.1.bias\n",
            "<class 'torch.nn.parameter.Parameter'>\n",
            "param.shape:torch.Size([128])\n",
            "param.requries_grad:True\n",
            "=====\n",
            "\n",
            "name:layer2.1.conv1.weight\n",
            "<class 'torch.nn.parameter.Parameter'>\n",
            "param.shape:torch.Size([128, 128, 3, 3])\n",
            "param.requries_grad:False\n",
            "=====\n",
            "\n",
            "name:layer2.1.bn1.weight\n",
            "<class 'torch.nn.parameter.Parameter'>\n",
            "param.shape:torch.Size([128])\n",
            "param.requries_grad:True\n",
            "=====\n",
            "\n",
            "name:layer2.1.bn1.bias\n",
            "<class 'torch.nn.parameter.Parameter'>\n",
            "param.shape:torch.Size([128])\n",
            "param.requries_grad:True\n",
            "=====\n",
            "\n",
            "name:layer2.1.conv2.weight\n",
            "<class 'torch.nn.parameter.Parameter'>\n",
            "param.shape:torch.Size([128, 128, 3, 3])\n",
            "param.requries_grad:False\n",
            "=====\n",
            "\n",
            "name:layer2.1.bn2.weight\n",
            "<class 'torch.nn.parameter.Parameter'>\n",
            "param.shape:torch.Size([128])\n",
            "param.requries_grad:True\n",
            "=====\n",
            "\n",
            "name:layer2.1.bn2.bias\n",
            "<class 'torch.nn.parameter.Parameter'>\n",
            "param.shape:torch.Size([128])\n",
            "param.requries_grad:True\n",
            "=====\n",
            "\n",
            "name:layer3.0.conv1.weight\n",
            "<class 'torch.nn.parameter.Parameter'>\n",
            "param.shape:torch.Size([256, 128, 3, 3])\n",
            "param.requries_grad:False\n",
            "=====\n",
            "\n",
            "name:layer3.0.bn1.weight\n",
            "<class 'torch.nn.parameter.Parameter'>\n",
            "param.shape:torch.Size([256])\n",
            "param.requries_grad:True\n",
            "=====\n",
            "\n",
            "name:layer3.0.bn1.bias\n",
            "<class 'torch.nn.parameter.Parameter'>\n",
            "param.shape:torch.Size([256])\n",
            "param.requries_grad:True\n",
            "=====\n",
            "\n",
            "name:layer3.0.conv2.weight\n",
            "<class 'torch.nn.parameter.Parameter'>\n",
            "param.shape:torch.Size([256, 256, 3, 3])\n",
            "param.requries_grad:False\n",
            "=====\n",
            "\n",
            "name:layer3.0.bn2.weight\n",
            "<class 'torch.nn.parameter.Parameter'>\n",
            "param.shape:torch.Size([256])\n",
            "param.requries_grad:True\n",
            "=====\n",
            "\n",
            "name:layer3.0.bn2.bias\n",
            "<class 'torch.nn.parameter.Parameter'>\n",
            "param.shape:torch.Size([256])\n",
            "param.requries_grad:True\n",
            "=====\n",
            "\n",
            "name:layer3.0.downsample.0.weight\n",
            "<class 'torch.nn.parameter.Parameter'>\n",
            "param.shape:torch.Size([256, 128, 1, 1])\n",
            "param.requries_grad:False\n",
            "=====\n",
            "\n",
            "name:layer3.0.downsample.1.weight\n",
            "<class 'torch.nn.parameter.Parameter'>\n",
            "param.shape:torch.Size([256])\n",
            "param.requries_grad:True\n",
            "=====\n",
            "\n",
            "name:layer3.0.downsample.1.bias\n",
            "<class 'torch.nn.parameter.Parameter'>\n",
            "param.shape:torch.Size([256])\n",
            "param.requries_grad:True\n",
            "=====\n",
            "\n",
            "name:layer3.1.conv1.weight\n",
            "<class 'torch.nn.parameter.Parameter'>\n",
            "param.shape:torch.Size([256, 256, 3, 3])\n",
            "param.requries_grad:False\n",
            "=====\n",
            "\n",
            "name:layer3.1.bn1.weight\n",
            "<class 'torch.nn.parameter.Parameter'>\n",
            "param.shape:torch.Size([256])\n",
            "param.requries_grad:True\n",
            "=====\n",
            "\n",
            "name:layer3.1.bn1.bias\n",
            "<class 'torch.nn.parameter.Parameter'>\n",
            "param.shape:torch.Size([256])\n",
            "param.requries_grad:True\n",
            "=====\n",
            "\n",
            "name:layer3.1.conv2.weight\n",
            "<class 'torch.nn.parameter.Parameter'>\n",
            "param.shape:torch.Size([256, 256, 3, 3])\n",
            "param.requries_grad:False\n",
            "=====\n",
            "\n",
            "name:layer3.1.bn2.weight\n",
            "<class 'torch.nn.parameter.Parameter'>\n",
            "param.shape:torch.Size([256])\n",
            "param.requries_grad:True\n",
            "=====\n",
            "\n",
            "name:layer3.1.bn2.bias\n",
            "<class 'torch.nn.parameter.Parameter'>\n",
            "param.shape:torch.Size([256])\n",
            "param.requries_grad:True\n",
            "=====\n",
            "\n",
            "name:layer4.0.conv1.weight\n",
            "<class 'torch.nn.parameter.Parameter'>\n",
            "param.shape:torch.Size([512, 256, 3, 3])\n",
            "param.requries_grad:False\n",
            "=====\n",
            "\n",
            "name:layer4.0.bn1.weight\n",
            "<class 'torch.nn.parameter.Parameter'>\n",
            "param.shape:torch.Size([512])\n",
            "param.requries_grad:True\n",
            "=====\n",
            "\n",
            "name:layer4.0.bn1.bias\n",
            "<class 'torch.nn.parameter.Parameter'>\n",
            "param.shape:torch.Size([512])\n",
            "param.requries_grad:True\n",
            "=====\n",
            "\n",
            "name:layer4.0.conv2.weight\n",
            "<class 'torch.nn.parameter.Parameter'>\n",
            "param.shape:torch.Size([512, 512, 3, 3])\n",
            "param.requries_grad:False\n",
            "=====\n",
            "\n",
            "name:layer4.0.bn2.weight\n",
            "<class 'torch.nn.parameter.Parameter'>\n",
            "param.shape:torch.Size([512])\n",
            "param.requries_grad:True\n",
            "=====\n",
            "\n",
            "name:layer4.0.bn2.bias\n",
            "<class 'torch.nn.parameter.Parameter'>\n",
            "param.shape:torch.Size([512])\n",
            "param.requries_grad:True\n",
            "=====\n",
            "\n",
            "name:layer4.0.downsample.0.weight\n",
            "<class 'torch.nn.parameter.Parameter'>\n",
            "param.shape:torch.Size([512, 256, 1, 1])\n",
            "param.requries_grad:False\n",
            "=====\n",
            "\n",
            "name:layer4.0.downsample.1.weight\n",
            "<class 'torch.nn.parameter.Parameter'>\n",
            "param.shape:torch.Size([512])\n",
            "param.requries_grad:True\n",
            "=====\n",
            "\n",
            "name:layer4.0.downsample.1.bias\n",
            "<class 'torch.nn.parameter.Parameter'>\n",
            "param.shape:torch.Size([512])\n",
            "param.requries_grad:True\n",
            "=====\n",
            "\n",
            "name:layer4.1.conv1.weight\n",
            "<class 'torch.nn.parameter.Parameter'>\n",
            "param.shape:torch.Size([512, 512, 3, 3])\n",
            "param.requries_grad:False\n",
            "=====\n",
            "\n",
            "name:layer4.1.bn1.weight\n",
            "<class 'torch.nn.parameter.Parameter'>\n",
            "param.shape:torch.Size([512])\n",
            "param.requries_grad:True\n",
            "=====\n",
            "\n",
            "name:layer4.1.bn1.bias\n",
            "<class 'torch.nn.parameter.Parameter'>\n",
            "param.shape:torch.Size([512])\n",
            "param.requries_grad:True\n",
            "=====\n",
            "\n",
            "name:layer4.1.conv2.weight\n",
            "<class 'torch.nn.parameter.Parameter'>\n",
            "param.shape:torch.Size([512, 512, 3, 3])\n",
            "param.requries_grad:False\n",
            "=====\n",
            "\n",
            "name:layer4.1.bn2.weight\n",
            "<class 'torch.nn.parameter.Parameter'>\n",
            "param.shape:torch.Size([512])\n",
            "param.requries_grad:True\n",
            "=====\n",
            "\n",
            "name:layer4.1.bn2.bias\n",
            "<class 'torch.nn.parameter.Parameter'>\n",
            "param.shape:torch.Size([512])\n",
            "param.requries_grad:True\n",
            "=====\n",
            "\n",
            "name:fc.weight\n",
            "<class 'torch.nn.parameter.Parameter'>\n",
            "param.shape:torch.Size([1, 512])\n",
            "param.requries_grad:True\n",
            "=====\n",
            "\n",
            "name:fc.bias\n",
            "<class 'torch.nn.parameter.Parameter'>\n",
            "param.shape:torch.Size([1])\n",
            "param.requries_grad:True\n",
            "=====\n",
            "\n"
          ]
        }
      ]
    },
    {
      "cell_type": "markdown",
      "source": [
        "3. 여러 조건들에서 Training\n",
        "\n",
        "- Optimizer : Adam\n",
        "- Lr : 0.0001\n",
        "- Transform : 원본 그대로\n",
        "- Batch size : 4, 16  \n",
        "    -> DataLoader에서 바꿔야 함\n",
        "- Loss function : Binary cross entropy with logit loss"
      ],
      "metadata": {
        "id": "Za5aRI3BH0rn"
      }
    },
    {
      "cell_type": "code",
      "execution_count": 20,
      "metadata": {
        "id": "OXCHmf4vSCJO"
      },
      "outputs": [],
      "source": [
        "model = model.to(device)\n",
        "\n",
        "criterion = nn.BCEWithLogitsLoss()      #Loss\n",
        "\n",
        "# Observe that only parameters of final layer are being optimized as\n",
        "# opposed to before.\n",
        "optimizer = optim.Adam(model.fc.parameters(), lr=0.0001)      #Adam, Lr\n",
        "\n",
        "# Decay LR by a factor of 0.1 every 7 epochs\n",
        "exp_lr_scheduler = lr_scheduler.StepLR(optimizer, step_size=7, gamma=0.1)"
      ]
    },
    {
      "cell_type": "markdown",
      "source": [
        "#####훈련"
      ],
      "metadata": {
        "id": "QB0o3JBIHs4Z"
      }
    },
    {
      "cell_type": "markdown",
      "metadata": {
        "id": "zfiVmRDCSCJP"
      },
      "source": [
        "Train and evaluate\n",
        "^^^^^^^^^^^^^^^^^^\n",
        "\n",
        "On CPU this will take about half the time compared to previous scenario.\n",
        "This is expected as gradients don't need to be computed for most of the\n",
        "network. However, forward does need to be computed.\n",
        "\n",
        "\n"
      ]
    },
    {
      "cell_type": "code",
      "execution_count": 25,
      "metadata": {
        "id": "PmFXejR3SCJP",
        "colab": {
          "base_uri": "https://localhost:8080/"
        },
        "outputId": "121961f3-e3fa-4c13-f7b3-470572271999"
      },
      "outputs": [
        {
          "output_type": "stream",
          "name": "stdout",
          "text": [
            "Epoch 0/24\n",
            "----------\n"
          ]
        },
        {
          "output_type": "stream",
          "name": "stderr",
          "text": [
            "/usr/local/lib/python3.7/dist-packages/torch/utils/data/dataloader.py:481: UserWarning: This DataLoader will create 4 worker processes in total. Our suggested max number of worker in current system is 2, which is smaller than what this DataLoader is going to create. Please be aware that excessive worker creation might get DataLoader running slow or even freeze, lower the worker number to avoid potential slowness/freeze if necessary.\n",
            "  cpuset_checked))\n"
          ]
        },
        {
          "output_type": "stream",
          "name": "stdout",
          "text": [
            "train Loss: 0.8704 Acc: 0.5041\n",
            "val Loss: 0.7319 Acc: 0.4575\n",
            "\n",
            "Epoch 1/24\n",
            "----------\n",
            "train Loss: 0.8078 Acc: 0.5041\n",
            "val Loss: 0.6309 Acc: 0.4575\n",
            "\n",
            "Epoch 2/24\n",
            "----------\n",
            "train Loss: 0.7282 Acc: 0.5041\n",
            "val Loss: 0.7035 Acc: 0.4575\n",
            "\n",
            "Epoch 3/24\n",
            "----------\n",
            "train Loss: 0.7188 Acc: 0.5041\n",
            "val Loss: 0.5677 Acc: 0.4575\n",
            "\n",
            "Epoch 4/24\n",
            "----------\n",
            "train Loss: 0.6886 Acc: 0.5041\n",
            "val Loss: 0.5102 Acc: 0.4575\n",
            "\n",
            "Epoch 5/24\n",
            "----------\n",
            "train Loss: 0.6421 Acc: 0.5041\n",
            "val Loss: 0.4872 Acc: 0.4575\n",
            "\n",
            "Epoch 6/24\n",
            "----------\n",
            "train Loss: 0.5861 Acc: 0.5041\n",
            "val Loss: 0.4911 Acc: 0.4575\n",
            "\n",
            "Epoch 7/24\n",
            "----------\n",
            "train Loss: 0.6053 Acc: 0.5041\n",
            "val Loss: 0.4988 Acc: 0.4575\n",
            "\n",
            "Epoch 8/24\n",
            "----------\n",
            "train Loss: 0.6568 Acc: 0.5041\n",
            "val Loss: 0.4683 Acc: 0.4575\n",
            "\n",
            "Epoch 9/24\n",
            "----------\n",
            "train Loss: 0.6070 Acc: 0.5041\n",
            "val Loss: 0.4339 Acc: 0.4575\n",
            "\n",
            "Epoch 10/24\n",
            "----------\n",
            "train Loss: 0.5701 Acc: 0.5041\n",
            "val Loss: 0.4383 Acc: 0.4575\n",
            "\n",
            "Epoch 11/24\n",
            "----------\n",
            "train Loss: 0.5860 Acc: 0.5041\n",
            "val Loss: 0.4220 Acc: 0.4575\n",
            "\n",
            "Epoch 12/24\n",
            "----------\n",
            "train Loss: 0.5771 Acc: 0.5041\n",
            "val Loss: 0.4399 Acc: 0.4575\n",
            "\n",
            "Epoch 13/24\n",
            "----------\n",
            "train Loss: 0.4875 Acc: 0.5041\n",
            "val Loss: 0.4266 Acc: 0.4575\n",
            "\n",
            "Epoch 14/24\n",
            "----------\n",
            "train Loss: 0.5612 Acc: 0.5041\n",
            "val Loss: 0.4329 Acc: 0.4575\n",
            "\n",
            "Epoch 15/24\n",
            "----------\n",
            "train Loss: 0.5920 Acc: 0.5041\n",
            "val Loss: 0.4184 Acc: 0.4575\n",
            "\n",
            "Epoch 16/24\n",
            "----------\n",
            "train Loss: 0.5659 Acc: 0.5041\n",
            "val Loss: 0.4783 Acc: 0.4575\n",
            "\n",
            "Epoch 17/24\n",
            "----------\n",
            "train Loss: 0.5920 Acc: 0.5041\n",
            "val Loss: 0.4273 Acc: 0.4575\n",
            "\n",
            "Epoch 18/24\n",
            "----------\n",
            "train Loss: 0.6264 Acc: 0.5041\n",
            "val Loss: 0.4504 Acc: 0.4575\n",
            "\n",
            "Epoch 19/24\n",
            "----------\n",
            "train Loss: 0.5784 Acc: 0.5041\n",
            "val Loss: 0.4348 Acc: 0.4575\n",
            "\n",
            "Epoch 20/24\n",
            "----------\n",
            "train Loss: 0.6105 Acc: 0.5041\n",
            "val Loss: 0.4525 Acc: 0.4575\n",
            "\n",
            "Epoch 21/24\n",
            "----------\n",
            "train Loss: 0.5756 Acc: 0.5041\n",
            "val Loss: 0.4341 Acc: 0.4575\n",
            "\n",
            "Epoch 22/24\n",
            "----------\n",
            "train Loss: 0.5819 Acc: 0.5041\n",
            "val Loss: 0.4548 Acc: 0.4575\n",
            "\n",
            "Epoch 23/24\n",
            "----------\n",
            "train Loss: 0.5394 Acc: 0.5041\n",
            "val Loss: 0.4478 Acc: 0.4575\n",
            "\n",
            "Epoch 24/24\n",
            "----------\n",
            "train Loss: 0.5797 Acc: 0.5041\n",
            "val Loss: 0.4114 Acc: 0.4575\n",
            "\n",
            "Training complete in 2m 38s\n",
            "Best val Acc: 0.457516\n"
          ]
        }
      ],
      "source": [
        "model = train_model(model, criterion, optimizer,\n",
        "                         exp_lr_scheduler, num_epochs=25)"
      ]
    },
    {
      "cell_type": "code",
      "execution_count": 26,
      "metadata": {
        "id": "5sie8SW3SCJQ",
        "colab": {
          "base_uri": "https://localhost:8080/",
          "height": 636
        },
        "outputId": "81ffa421-7716-42dd-9d43-e86af8d77f66"
      },
      "outputs": [
        {
          "output_type": "stream",
          "name": "stderr",
          "text": [
            "/usr/local/lib/python3.7/dist-packages/torch/utils/data/dataloader.py:481: UserWarning: This DataLoader will create 4 worker processes in total. Our suggested max number of worker in current system is 2, which is smaller than what this DataLoader is going to create. Please be aware that excessive worker creation might get DataLoader running slow or even freeze, lower the worker number to avoid potential slowness/freeze if necessary.\n",
            "  cpuset_checked))\n"
          ]
        },
        {
          "output_type": "display_data",
          "data": {
            "image/png": "[encoded data removed]",
            "text/plain": [
              "<Figure size 432x288 with 1 Axes>"
            ]
          },
          "metadata": {
            "needs_background": "light"
          }
        },
        {
          "output_type": "display_data",
          "data": {
            "image/png": "[encoded data removed]",
            "text/plain": [
              "<Figure size 432x288 with 1 Axes>"
            ]
          },
          "metadata": {
            "needs_background": "light"
          }
        },
        {
          "output_type": "display_data",
          "data": {
            "image/png": "[encoded data removed]",
            "text/plain": [
              "<Figure size 432x288 with 1 Axes>"
            ]
          },
          "metadata": {
            "needs_background": "light"
          }
        },
        {
          "output_type": "display_data",
          "data": {
            "image/png": "[encoded data removed]",
            "text/plain": [
              "<Figure size 432x288 with 1 Axes>"
            ]
          },
          "metadata": {
            "needs_background": "light"
          }
        },
        {
          "output_type": "display_data",
          "data": {
            "image/png": "[encoded data removed]",
            "text/plain": [
              "<Figure size 432x288 with 1 Axes>"
            ]
          },
          "metadata": {
            "needs_background": "light"
          }
        },
        {
          "output_type": "display_data",
          "data": {
            "image/png": "[encoded data removed]",
            "text/plain": [
              "<Figure size 432x288 with 1 Axes>"
            ]
          },
          "metadata": {
            "needs_background": "light"
          }
        }
      ],
      "source": [
        "visualize_model(model)\n",
        "\n",
        "plt.ioff()\n",
        "plt.show()"
      ]
    },
    {
      "cell_type": "markdown",
      "source": [
        "####batch 16"
      ],
      "metadata": {
        "id": "ZWcwjUDSBaH3"
      }
    },
    {
      "cell_type": "code",
      "source": [
        "# Batch 16\n",
        "# Data augmentation and normalization for training\n",
        "# Just normalization for validation\n",
        "data_transforms = {\n",
        "    'train': transforms.Compose([\n",
        "        transforms.RandomResizedCrop(224),\n",
        "        transforms.RandomHorizontalFlip(),\n",
        "        transforms.ToTensor(),\n",
        "        transforms.Normalize([0.485, 0.456, 0.406], [0.229, 0.224, 0.225])\n",
        "    ]),\n",
        "    'val': transforms.Compose([\n",
        "        transforms.Resize(256),\n",
        "        transforms.CenterCrop(224),\n",
        "        transforms.ToTensor(),\n",
        "        transforms.Normalize([0.485, 0.456, 0.406], [0.229, 0.224, 0.225])\n",
        "    ]),\n",
        "}\n",
        "\n",
        "data_dir = '/content/gdrive/MyDrive/Colab Notebooks/2021W_Postech_Study/hymenoptera_data'\n",
        "image_datasets = {x: datasets.ImageFolder(os.path.join(data_dir, x),\n",
        "                                          data_transforms[x])\n",
        "                  for x in ['train', 'val']}\n",
        "dataloaders = {x: torch.utils.data.DataLoader(image_datasets[x], batch_size=16,      #16\n",
        "                                             shuffle=True, num_workers=4)\n",
        "              for x in ['train', 'val']}\n",
        "dataset_sizes = {x: len(image_datasets[x]) for x in ['train', 'val']}\n",
        "class_names = image_datasets['train'].classes\n",
        "\n",
        "device = torch.device(\"cuda:0\" if torch.cuda.is_available() else \"cpu\")"
      ],
      "metadata": {
        "colab": {
          "base_uri": "https://localhost:8080/"
        },
        "id": "r1NxlDO0A60W",
        "outputId": "f8071754-5e95-42b5-fbc9-95891de27e9d"
      },
      "execution_count": 29,
      "outputs": [
        {
          "output_type": "stream",
          "name": "stderr",
          "text": [
            "/usr/local/lib/python3.7/dist-packages/torch/utils/data/dataloader.py:481: UserWarning: This DataLoader will create 4 worker processes in total. Our suggested max number of worker in current system is 2, which is smaller than what this DataLoader is going to create. Please be aware that excessive worker creation might get DataLoader running slow or even freeze, lower the worker number to avoid potential slowness/freeze if necessary.\n",
            "  cpuset_checked))\n"
          ]
        }
      ]
    },
    {
      "cell_type": "code",
      "source": [
        "model = model.to(device)\n",
        "\n",
        "criterion = nn.BCEWithLogitsLoss()      #Loss\n",
        "\n",
        "# Observe that only parameters of final layer are being optimized as\n",
        "# opposed to before.\n",
        "optimizer = optim.Adam(model.fc.parameters(), lr=0.0001)      #Adam, Lr\n",
        "\n",
        "# Decay LR by a factor of 0.1 every 7 epochs\n",
        "exp_lr_scheduler = lr_scheduler.StepLR(optimizer, step_size=7, gamma=0.1)"
      ],
      "metadata": {
        "id": "0OwcHu6xA6w6"
      },
      "execution_count": 30,
      "outputs": []
    },
    {
      "cell_type": "code",
      "source": [
        "model = train_model(model, criterion, optimizer,\n",
        "                         exp_lr_scheduler, num_epochs=25)"
      ],
      "metadata": {
        "colab": {
          "base_uri": "https://localhost:8080/"
        },
        "id": "9gzjzAGHA6t6",
        "outputId": "542f58a4-68cb-47c0-916d-e2e626da7e9c"
      },
      "execution_count": 31,
      "outputs": [
        {
          "output_type": "stream",
          "name": "stdout",
          "text": [
            "Epoch 0/24\n",
            "----------\n"
          ]
        },
        {
          "output_type": "stream",
          "name": "stderr",
          "text": [
            "/usr/local/lib/python3.7/dist-packages/torch/utils/data/dataloader.py:481: UserWarning: This DataLoader will create 4 worker processes in total. Our suggested max number of worker in current system is 2, which is smaller than what this DataLoader is going to create. Please be aware that excessive worker creation might get DataLoader running slow or even freeze, lower the worker number to avoid potential slowness/freeze if necessary.\n",
            "  cpuset_checked))\n"
          ]
        },
        {
          "output_type": "stream",
          "name": "stdout",
          "text": [
            "train Loss: 0.7114 Acc: 0.5041\n",
            "val Loss: 0.6658 Acc: 0.4575\n",
            "\n",
            "Epoch 1/24\n",
            "----------\n",
            "train Loss: 0.7517 Acc: 0.5041\n",
            "val Loss: 0.5963 Acc: 0.4575\n",
            "\n",
            "Epoch 2/24\n",
            "----------\n",
            "train Loss: 0.6655 Acc: 0.5041\n",
            "val Loss: 0.5989 Acc: 0.4575\n",
            "\n",
            "Epoch 3/24\n",
            "----------\n",
            "train Loss: 0.6217 Acc: 0.5041\n",
            "val Loss: 0.5560 Acc: 0.4575\n",
            "\n",
            "Epoch 4/24\n",
            "----------\n",
            "train Loss: 0.6415 Acc: 0.5041\n",
            "val Loss: 0.5317 Acc: 0.4575\n",
            "\n",
            "Epoch 5/24\n",
            "----------\n",
            "train Loss: 0.6071 Acc: 0.5041\n",
            "val Loss: 0.5289 Acc: 0.4575\n",
            "\n",
            "Epoch 6/24\n",
            "----------\n",
            "train Loss: 0.5479 Acc: 0.5041\n",
            "val Loss: 0.4970 Acc: 0.4575\n",
            "\n",
            "Epoch 7/24\n",
            "----------\n",
            "train Loss: 0.5507 Acc: 0.5041\n",
            "val Loss: 0.4913 Acc: 0.4575\n",
            "\n",
            "Epoch 8/24\n",
            "----------\n",
            "train Loss: 0.5609 Acc: 0.5041\n",
            "val Loss: 0.5015 Acc: 0.4575\n",
            "\n",
            "Epoch 9/24\n",
            "----------\n",
            "train Loss: 0.5487 Acc: 0.5041\n",
            "val Loss: 0.4993 Acc: 0.4575\n",
            "\n",
            "Epoch 10/24\n",
            "----------\n",
            "train Loss: 0.5481 Acc: 0.5041\n",
            "val Loss: 0.5046 Acc: 0.4575\n",
            "\n",
            "Epoch 11/24\n",
            "----------\n",
            "train Loss: 0.5978 Acc: 0.5041\n",
            "val Loss: 0.4864 Acc: 0.4575\n",
            "\n",
            "Epoch 12/24\n",
            "----------\n",
            "train Loss: 0.5295 Acc: 0.5041\n",
            "val Loss: 0.4852 Acc: 0.4575\n",
            "\n",
            "Epoch 13/24\n",
            "----------\n",
            "train Loss: 0.5242 Acc: 0.5041\n",
            "val Loss: 0.4908 Acc: 0.4575\n",
            "\n",
            "Epoch 14/24\n",
            "----------\n",
            "train Loss: 0.5415 Acc: 0.5041\n",
            "val Loss: 0.4909 Acc: 0.4575\n",
            "\n",
            "Epoch 15/24\n",
            "----------\n",
            "train Loss: 0.5437 Acc: 0.5041\n",
            "val Loss: 0.4818 Acc: 0.4575\n",
            "\n",
            "Epoch 16/24\n",
            "----------\n",
            "train Loss: 0.5171 Acc: 0.5041\n",
            "val Loss: 0.4669 Acc: 0.4575\n",
            "\n",
            "Epoch 17/24\n",
            "----------\n",
            "train Loss: 0.5548 Acc: 0.5041\n",
            "val Loss: 0.4689 Acc: 0.4575\n",
            "\n",
            "Epoch 18/24\n",
            "----------\n",
            "train Loss: 0.5356 Acc: 0.5041\n",
            "val Loss: 0.4836 Acc: 0.4575\n",
            "\n",
            "Epoch 19/24\n",
            "----------\n",
            "train Loss: 0.5719 Acc: 0.5041\n",
            "val Loss: 0.4729 Acc: 0.4575\n",
            "\n",
            "Epoch 20/24\n",
            "----------\n",
            "train Loss: 0.5496 Acc: 0.5041\n",
            "val Loss: 0.4824 Acc: 0.4575\n",
            "\n",
            "Epoch 21/24\n",
            "----------\n",
            "train Loss: 0.5688 Acc: 0.5041\n",
            "val Loss: 0.4845 Acc: 0.4575\n",
            "\n",
            "Epoch 22/24\n",
            "----------\n",
            "train Loss: 0.5871 Acc: 0.5041\n",
            "val Loss: 0.4735 Acc: 0.4575\n",
            "\n",
            "Epoch 23/24\n",
            "----------\n",
            "train Loss: 0.5806 Acc: 0.5041\n",
            "val Loss: 0.4759 Acc: 0.4575\n",
            "\n",
            "Epoch 24/24\n",
            "----------\n",
            "train Loss: 0.5402 Acc: 0.5041\n",
            "val Loss: 0.4868 Acc: 0.4575\n",
            "\n",
            "Training complete in 1m 56s\n",
            "Best val Acc: 0.457516\n"
          ]
        }
      ]
    },
    {
      "cell_type": "code",
      "source": [
        "visualize_model(model)\n",
        "\n",
        "plt.ioff()\n",
        "plt.show()"
      ],
      "metadata": {
        "colab": {
          "base_uri": "https://localhost:8080/",
          "height": 636
        },
        "id": "kb2USzGrA6q_",
        "outputId": "f97989d2-4e2d-4b6e-8fac-98c908860ad2"
      },
      "execution_count": 32,
      "outputs": [
        {
          "output_type": "stream",
          "name": "stderr",
          "text": [
            "/usr/local/lib/python3.7/dist-packages/torch/utils/data/dataloader.py:481: UserWarning: This DataLoader will create 4 worker processes in total. Our suggested max number of worker in current system is 2, which is smaller than what this DataLoader is going to create. Please be aware that excessive worker creation might get DataLoader running slow or even freeze, lower the worker number to avoid potential slowness/freeze if necessary.\n",
            "  cpuset_checked))\n"
          ]
        },
        {
          "output_type": "display_data",
          "data": {
            "image/png": "[encoded data removed]",
            "text/plain": [
              "<Figure size 432x288 with 1 Axes>"
            ]
          },
          "metadata": {
            "needs_background": "light"
          }
        },
        {
          "output_type": "display_data",
          "data": {
            "image/png": "[encoded data removed]",
            "text/plain": [
              "<Figure size 432x288 with 1 Axes>"
            ]
          },
          "metadata": {
            "needs_background": "light"
          }
        },
        {
          "output_type": "display_data",
          "data": {
            "image/png": "[encoded data removed]",
            "text/plain": [
              "<Figure size 432x288 with 1 Axes>"
            ]
          },
          "metadata": {
            "needs_background": "light"
          }
        },
        {
          "output_type": "display_data",
          "data": {
            "image/png": "[encoded data removed]",
            "text/plain": [
              "<Figure size 432x288 with 1 Axes>"
            ]
          },
          "metadata": {
            "needs_background": "light"
          }
        },
        {
          "output_type": "display_data",
          "data": {
            "image/png": "[encoded data removed]",
            "text/plain": [
              "<Figure size 432x288 with 1 Axes>"
            ]
          },
          "metadata": {
            "needs_background": "light"
          }
        },
        {
          "output_type": "display_data",
          "data": {
            "image/png": "[encoded data removed]",
            "text/plain": [
              "<Figure size 432x288 with 1 Axes>"
            ]
          },
          "metadata": {
            "needs_background": "light"
          }
        }
      ]
    },
    {
      "cell_type": "markdown",
      "metadata": {
        "id": "YdmJ0t60SCJR"
      },
      "source": [
        "Further Learning\n",
        "-----------------\n",
        "\n",
        "If you would like to learn more about the applications of transfer learning,\n",
        "checkout our `Quantized Transfer Learning for Computer Vision Tutorial <https://pytorch.org/tutorials/intermediate/quantized_transfer_learning_tutorial.html>`_.\n",
        "\n",
        "\n",
        "\n"
      ]
    }
  ],
  "metadata": {
    "kernelspec": {
      "display_name": "Python 3",
      "language": "python",
      "name": "python3"
    },
    "language_info": {
      "codemirror_mode": {
        "name": "ipython",
        "version": 3
      },
      "file_extension": ".py",
      "mimetype": "text/x-python",
      "name": "python",
      "nbconvert_exporter": "python",
      "pygments_lexer": "ipython3",
      "version": "3.6.13"
    },
    "colab": {
      "name": "Transfer_Learning_Further..",
      "provenance": [],
      "collapsed_sections": []
    },
    "accelerator": "GPU",
    "widgets": {
      "application/vnd.jupyter.widget-state+json": {
        "74f1afb1edae40718d24b154ca64dd46": {
          "model_module": "@jupyter-widgets/controls",
          "model_name": "HBoxModel",
          "model_module_version": "1.5.0",
          "state": {
            "_view_name": "HBoxView",
            "_dom_classes": [],
            "_model_name": "HBoxModel",
            "_view_module": "@jupyter-widgets/controls",
            "_model_module_version": "1.5.0",
            "_view_count": null,
            "_view_module_version": "1.5.0",
            "box_style": "",
            "layout": "IPY_MODEL_d4db587721064d86b11c75658f28916b",
            "_model_module": "@jupyter-widgets/controls",
            "children": [
              "IPY_MODEL_649ae7eed2284233b80782d29eeefc93",
              "IPY_MODEL_b9af9a32b5e147f2996ad5d9a9cb873c",
              "IPY_MODEL_50b6aeeb845b4b7ca8277110e127dbcd"
            ]
          }
        },
        "d4db587721064d86b11c75658f28916b": {
          "model_module": "@jupyter-widgets/base",
          "model_name": "LayoutModel",
          "model_module_version": "1.2.0",
          "state": {
            "_view_name": "LayoutView",
            "grid_template_rows": null,
            "right": null,
            "justify_content": null,
            "_view_module": "@jupyter-widgets/base",
            "overflow": null,
            "_model_module_version": "1.2.0",
            "_view_count": null,
            "flex_flow": null,
            "width": null,
            "min_width": null,
            "border": null,
            "align_items": null,
            "bottom": null,
            "_model_module": "@jupyter-widgets/base",
            "top": null,
            "grid_column": null,
            "overflow_y": null,
            "overflow_x": null,
            "grid_auto_flow": null,
            "grid_area": null,
            "grid_template_columns": null,
            "flex": null,
            "_model_name": "LayoutModel",
            "justify_items": null,
            "grid_row": null,
            "max_height": null,
            "align_content": null,
            "visibility": null,
            "align_self": null,
            "height": null,
            "min_height": null,
            "padding": null,
            "grid_auto_rows": null,
            "grid_gap": null,
            "max_width": null,
            "order": null,
            "_view_module_version": "1.2.0",
            "grid_template_areas": null,
            "object_position": null,
            "object_fit": null,
            "grid_auto_columns": null,
            "margin": null,
            "display": null,
            "left": null
          }
        },
        "649ae7eed2284233b80782d29eeefc93": {
          "model_module": "@jupyter-widgets/controls",
          "model_name": "HTMLModel",
          "model_module_version": "1.5.0",
          "state": {
            "_view_name": "HTMLView",
            "style": "IPY_MODEL_7e6308235cd6419db9f0f5890a8f48d5",
            "_dom_classes": [],
            "description": "",
            "_model_name": "HTMLModel",
            "placeholder": "​",
            "_view_module": "@jupyter-widgets/controls",
            "_model_module_version": "1.5.0",
            "value": "100%",
            "_view_count": null,
            "_view_module_version": "1.5.0",
            "description_tooltip": null,
            "_model_module": "@jupyter-widgets/controls",
            "layout": "IPY_MODEL_f43e9fdd7cc84c42aeede8e270e0302b"
          }
        },
        "b9af9a32b5e147f2996ad5d9a9cb873c": {
          "model_module": "@jupyter-widgets/controls",
          "model_name": "FloatProgressModel",
          "model_module_version": "1.5.0",
          "state": {
            "_view_name": "ProgressView",
            "style": "IPY_MODEL_dc80c3c437c948ce9845e2616cdca006",
            "_dom_classes": [],
            "description": "",
            "_model_name": "FloatProgressModel",
            "bar_style": "success",
            "max": 46830571,
            "_view_module": "@jupyter-widgets/controls",
            "_model_module_version": "1.5.0",
            "value": 46830571,
            "_view_count": null,
            "_view_module_version": "1.5.0",
            "orientation": "horizontal",
            "min": 0,
            "description_tooltip": null,
            "_model_module": "@jupyter-widgets/controls",
            "layout": "IPY_MODEL_b06648dc53494eca83ae0d7c02478b50"
          }
        },
        "50b6aeeb845b4b7ca8277110e127dbcd": {
          "model_module": "@jupyter-widgets/controls",
          "model_name": "HTMLModel",
          "model_module_version": "1.5.0",
          "state": {
            "_view_name": "HTMLView",
            "style": "IPY_MODEL_c1f55b3718714da08a87b03dba79de88",
            "_dom_classes": [],
            "description": "",
            "_model_name": "HTMLModel",
            "placeholder": "​",
            "_view_module": "@jupyter-widgets/controls",
            "_model_module_version": "1.5.0",
            "value": " 44.7M/44.7M [00:00&lt;00:00, 122MB/s]",
            "_view_count": null,
            "_view_module_version": "1.5.0",
            "description_tooltip": null,
            "_model_module": "@jupyter-widgets/controls",
            "layout": "IPY_MODEL_0373e64abcda445da47742061d604dbe"
          }
        },
        "7e6308235cd6419db9f0f5890a8f48d5": {
          "model_module": "@jupyter-widgets/controls",
          "model_name": "DescriptionStyleModel",
          "model_module_version": "1.5.0",
          "state": {
            "_view_name": "StyleView",
            "_model_name": "DescriptionStyleModel",
            "description_width": "",
            "_view_module": "@jupyter-widgets/base",
            "_model_module_version": "1.5.0",
            "_view_count": null,
            "_view_module_version": "1.2.0",
            "_model_module": "@jupyter-widgets/controls"
          }
        },
        "f43e9fdd7cc84c42aeede8e270e0302b": {
          "model_module": "@jupyter-widgets/base",
          "model_name": "LayoutModel",
          "model_module_version": "1.2.0",
          "state": {
            "_view_name": "LayoutView",
            "grid_template_rows": null,
            "right": null,
            "justify_content": null,
            "_view_module": "@jupyter-widgets/base",
            "overflow": null,
            "_model_module_version": "1.2.0",
            "_view_count": null,
            "flex_flow": null,
            "width": null,
            "min_width": null,
            "border": null,
            "align_items": null,
            "bottom": null,
            "_model_module": "@jupyter-widgets/base",
            "top": null,
            "grid_column": null,
            "overflow_y": null,
            "overflow_x": null,
            "grid_auto_flow": null,
            "grid_area": null,
            "grid_template_columns": null,
            "flex": null,
            "_model_name": "LayoutModel",
            "justify_items": null,
            "grid_row": null,
            "max_height": null,
            "align_content": null,
            "visibility": null,
            "align_self": null,
            "height": null,
            "min_height": null,
            "padding": null,
            "grid_auto_rows": null,
            "grid_gap": null,
            "max_width": null,
            "order": null,
            "_view_module_version": "1.2.0",
            "grid_template_areas": null,
            "object_position": null,
            "object_fit": null,
            "grid_auto_columns": null,
            "margin": null,
            "display": null,
            "left": null
          }
        },
        "dc80c3c437c948ce9845e2616cdca006": {
          "model_module": "@jupyter-widgets/controls",
          "model_name": "ProgressStyleModel",
          "model_module_version": "1.5.0",
          "state": {
            "_view_name": "StyleView",
            "_model_name": "ProgressStyleModel",
            "description_width": "",
            "_view_module": "@jupyter-widgets/base",
            "_model_module_version": "1.5.0",
            "_view_count": null,
            "_view_module_version": "1.2.0",
            "bar_color": null,
            "_model_module": "@jupyter-widgets/controls"
          }
        },
        "b06648dc53494eca83ae0d7c02478b50": {
          "model_module": "@jupyter-widgets/base",
          "model_name": "LayoutModel",
          "model_module_version": "1.2.0",
          "state": {
            "_view_name": "LayoutView",
            "grid_template_rows": null,
            "right": null,
            "justify_content": null,
            "_view_module": "@jupyter-widgets/base",
            "overflow": null,
            "_model_module_version": "1.2.0",
            "_view_count": null,
            "flex_flow": null,
            "width": null,
            "min_width": null,
            "border": null,
            "align_items": null,
            "bottom": null,
            "_model_module": "@jupyter-widgets/base",
            "top": null,
            "grid_column": null,
            "overflow_y": null,
            "overflow_x": null,
            "grid_auto_flow": null,
            "grid_area": null,
            "grid_template_columns": null,
            "flex": null,
            "_model_name": "LayoutModel",
            "justify_items": null,
            "grid_row": null,
            "max_height": null,
            "align_content": null,
            "visibility": null,
            "align_self": null,
            "height": null,
            "min_height": null,
            "padding": null,
            "grid_auto_rows": null,
            "grid_gap": null,
            "max_width": null,
            "order": null,
            "_view_module_version": "1.2.0",
            "grid_template_areas": null,
            "object_position": null,
            "object_fit": null,
            "grid_auto_columns": null,
            "margin": null,
            "display": null,
            "left": null
          }
        },
        "c1f55b3718714da08a87b03dba79de88": {
          "model_module": "@jupyter-widgets/controls",
          "model_name": "DescriptionStyleModel",
          "model_module_version": "1.5.0",
          "state": {
            "_view_name": "StyleView",
            "_model_name": "DescriptionStyleModel",
            "description_width": "",
            "_view_module": "@jupyter-widgets/base",
            "_model_module_version": "1.5.0",
            "_view_count": null,
            "_view_module_version": "1.2.0",
            "_model_module": "@jupyter-widgets/controls"
          }
        },
        "0373e64abcda445da47742061d604dbe": {
          "model_module": "@jupyter-widgets/base",
          "model_name": "LayoutModel",
          "model_module_version": "1.2.0",
          "state": {
            "_view_name": "LayoutView",
            "grid_template_rows": null,
            "right": null,
            "justify_content": null,
            "_view_module": "@jupyter-widgets/base",
            "overflow": null,
            "_model_module_version": "1.2.0",
            "_view_count": null,
            "flex_flow": null,
            "width": null,
            "min_width": null,
            "border": null,
            "align_items": null,
            "bottom": null,
            "_model_module": "@jupyter-widgets/base",
            "top": null,
            "grid_column": null,
            "overflow_y": null,
            "overflow_x": null,
            "grid_auto_flow": null,
            "grid_area": null,
            "grid_template_columns": null,
            "flex": null,
            "_model_name": "LayoutModel",
            "justify_items": null,
            "grid_row": null,
            "max_height": null,
            "align_content": null,
            "visibility": null,
            "align_self": null,
            "height": null,
            "min_height": null,
            "padding": null,
            "grid_auto_rows": null,
            "grid_gap": null,
            "max_width": null,
            "order": null,
            "_view_module_version": "1.2.0",
            "grid_template_areas": null,
            "object_position": null,
            "object_fit": null,
            "grid_auto_columns": null,
            "margin": null,
            "display": null,
            "left": null
          }
        }
      }
    }
  },
  "nbformat": 4,
  "nbformat_minor": 0
}
