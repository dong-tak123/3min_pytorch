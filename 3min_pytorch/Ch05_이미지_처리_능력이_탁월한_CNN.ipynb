{
  "nbformat": 4,
  "nbformat_minor": 0,
  "metadata": {
    "colab": {
      "name": "Ch05. 이미지 처리 능력이 탁월한 CNN",
      "provenance": [],
      "collapsed_sections": [
        "k5z5RyHimeiG",
        "uVjFuqE2mzgv",
        "9Ojogv51pMOV",
        "ergOKCaFpTNi",
        "Aa0zGf2dpfyW",
        "sq4YVMHHpjwI",
        "zFUEQJQK43Nh",
        "LC2Rgq_Z5GuT",
        "OAzoUw7z5bYH",
        "-uCrDQe5xFrD",
        "kluuYLKvxOyD",
        "3caN3foCxSsA",
        "ohu-4Z35xUox",
        "tqJFDjSfxjHw"
      ]
    },
    "kernelspec": {
      "name": "python3",
      "display_name": "Python 3"
    },
    "language_info": {
      "name": "python"
    },
    "accelerator": "GPU",
    "widgets": {
      "application/vnd.jupyter.widget-state+json": {
        "9f206237cca6407f8b59e6257122ea2a": {
          "model_module": "@jupyter-widgets/controls",
          "model_name": "HBoxModel",
          "model_module_version": "1.5.0",
          "state": {
            "_view_name": "HBoxView",
            "_dom_classes": [],
            "_model_name": "HBoxModel",
            "_view_module": "@jupyter-widgets/controls",
            "_model_module_version": "1.5.0",
            "_view_count": null,
            "_view_module_version": "1.5.0",
            "box_style": "",
            "layout": "IPY_MODEL_404d0934765747f7b5d7761c33725fe1",
            "_model_module": "@jupyter-widgets/controls",
            "children": [
              "IPY_MODEL_1b48af035df24d319ecdc0b526a397e4",
              "IPY_MODEL_b017900dd0e544e7b125294c08c5a4ab",
              "IPY_MODEL_d7a671fd2ada49b48264bb091dbf8d87"
            ]
          }
        },
        "404d0934765747f7b5d7761c33725fe1": {
          "model_module": "@jupyter-widgets/base",
          "model_name": "LayoutModel",
          "model_module_version": "1.2.0",
          "state": {
            "_view_name": "LayoutView",
            "grid_template_rows": null,
            "right": null,
            "justify_content": null,
            "_view_module": "@jupyter-widgets/base",
            "overflow": null,
            "_model_module_version": "1.2.0",
            "_view_count": null,
            "flex_flow": null,
            "width": null,
            "min_width": null,
            "border": null,
            "align_items": null,
            "bottom": null,
            "_model_module": "@jupyter-widgets/base",
            "top": null,
            "grid_column": null,
            "overflow_y": null,
            "overflow_x": null,
            "grid_auto_flow": null,
            "grid_area": null,
            "grid_template_columns": null,
            "flex": null,
            "_model_name": "LayoutModel",
            "justify_items": null,
            "grid_row": null,
            "max_height": null,
            "align_content": null,
            "visibility": null,
            "align_self": null,
            "height": null,
            "min_height": null,
            "padding": null,
            "grid_auto_rows": null,
            "grid_gap": null,
            "max_width": null,
            "order": null,
            "_view_module_version": "1.2.0",
            "grid_template_areas": null,
            "object_position": null,
            "object_fit": null,
            "grid_auto_columns": null,
            "margin": null,
            "display": null,
            "left": null
          }
        },
        "1b48af035df24d319ecdc0b526a397e4": {
          "model_module": "@jupyter-widgets/controls",
          "model_name": "HTMLModel",
          "model_module_version": "1.5.0",
          "state": {
            "_view_name": "HTMLView",
            "style": "IPY_MODEL_4c759d7171a648d4941e73acee416f33",
            "_dom_classes": [],
            "description": "",
            "_model_name": "HTMLModel",
            "placeholder": "​",
            "_view_module": "@jupyter-widgets/controls",
            "_model_module_version": "1.5.0",
            "value": "",
            "_view_count": null,
            "_view_module_version": "1.5.0",
            "description_tooltip": null,
            "_model_module": "@jupyter-widgets/controls",
            "layout": "IPY_MODEL_05edf68a2f154541845ebd8f2988b30b"
          }
        },
        "b017900dd0e544e7b125294c08c5a4ab": {
          "model_module": "@jupyter-widgets/controls",
          "model_name": "FloatProgressModel",
          "model_module_version": "1.5.0",
          "state": {
            "_view_name": "ProgressView",
            "style": "IPY_MODEL_e3e93d4b3fb64da1a04082af97f601a6",
            "_dom_classes": [],
            "description": "",
            "_model_name": "FloatProgressModel",
            "bar_style": "success",
            "max": 9912422,
            "_view_module": "@jupyter-widgets/controls",
            "_model_module_version": "1.5.0",
            "value": 9912422,
            "_view_count": null,
            "_view_module_version": "1.5.0",
            "orientation": "horizontal",
            "min": 0,
            "description_tooltip": null,
            "_model_module": "@jupyter-widgets/controls",
            "layout": "IPY_MODEL_3e16d00529024359a86ac89342f67662"
          }
        },
        "d7a671fd2ada49b48264bb091dbf8d87": {
          "model_module": "@jupyter-widgets/controls",
          "model_name": "HTMLModel",
          "model_module_version": "1.5.0",
          "state": {
            "_view_name": "HTMLView",
            "style": "IPY_MODEL_ac17af87cfed4ded99078408c932e4fa",
            "_dom_classes": [],
            "description": "",
            "_model_name": "HTMLModel",
            "placeholder": "​",
            "_view_module": "@jupyter-widgets/controls",
            "_model_module_version": "1.5.0",
            "value": " 9913344/? [00:00&lt;00:00, 55226803.53it/s]",
            "_view_count": null,
            "_view_module_version": "1.5.0",
            "description_tooltip": null,
            "_model_module": "@jupyter-widgets/controls",
            "layout": "IPY_MODEL_5469f160a7924749ab143eb266070fcb"
          }
        },
        "4c759d7171a648d4941e73acee416f33": {
          "model_module": "@jupyter-widgets/controls",
          "model_name": "DescriptionStyleModel",
          "model_module_version": "1.5.0",
          "state": {
            "_view_name": "StyleView",
            "_model_name": "DescriptionStyleModel",
            "description_width": "",
            "_view_module": "@jupyter-widgets/base",
            "_model_module_version": "1.5.0",
            "_view_count": null,
            "_view_module_version": "1.2.0",
            "_model_module": "@jupyter-widgets/controls"
          }
        },
        "05edf68a2f154541845ebd8f2988b30b": {
          "model_module": "@jupyter-widgets/base",
          "model_name": "LayoutModel",
          "model_module_version": "1.2.0",
          "state": {
            "_view_name": "LayoutView",
            "grid_template_rows": null,
            "right": null,
            "justify_content": null,
            "_view_module": "@jupyter-widgets/base",
            "overflow": null,
            "_model_module_version": "1.2.0",
            "_view_count": null,
            "flex_flow": null,
            "width": null,
            "min_width": null,
            "border": null,
            "align_items": null,
            "bottom": null,
            "_model_module": "@jupyter-widgets/base",
            "top": null,
            "grid_column": null,
            "overflow_y": null,
            "overflow_x": null,
            "grid_auto_flow": null,
            "grid_area": null,
            "grid_template_columns": null,
            "flex": null,
            "_model_name": "LayoutModel",
            "justify_items": null,
            "grid_row": null,
            "max_height": null,
            "align_content": null,
            "visibility": null,
            "align_self": null,
            "height": null,
            "min_height": null,
            "padding": null,
            "grid_auto_rows": null,
            "grid_gap": null,
            "max_width": null,
            "order": null,
            "_view_module_version": "1.2.0",
            "grid_template_areas": null,
            "object_position": null,
            "object_fit": null,
            "grid_auto_columns": null,
            "margin": null,
            "display": null,
            "left": null
          }
        },
        "e3e93d4b3fb64da1a04082af97f601a6": {
          "model_module": "@jupyter-widgets/controls",
          "model_name": "ProgressStyleModel",
          "model_module_version": "1.5.0",
          "state": {
            "_view_name": "StyleView",
            "_model_name": "ProgressStyleModel",
            "description_width": "",
            "_view_module": "@jupyter-widgets/base",
            "_model_module_version": "1.5.0",
            "_view_count": null,
            "_view_module_version": "1.2.0",
            "bar_color": null,
            "_model_module": "@jupyter-widgets/controls"
          }
        },
        "3e16d00529024359a86ac89342f67662": {
          "model_module": "@jupyter-widgets/base",
          "model_name": "LayoutModel",
          "model_module_version": "1.2.0",
          "state": {
            "_view_name": "LayoutView",
            "grid_template_rows": null,
            "right": null,
            "justify_content": null,
            "_view_module": "@jupyter-widgets/base",
            "overflow": null,
            "_model_module_version": "1.2.0",
            "_view_count": null,
            "flex_flow": null,
            "width": null,
            "min_width": null,
            "border": null,
            "align_items": null,
            "bottom": null,
            "_model_module": "@jupyter-widgets/base",
            "top": null,
            "grid_column": null,
            "overflow_y": null,
            "overflow_x": null,
            "grid_auto_flow": null,
            "grid_area": null,
            "grid_template_columns": null,
            "flex": null,
            "_model_name": "LayoutModel",
            "justify_items": null,
            "grid_row": null,
            "max_height": null,
            "align_content": null,
            "visibility": null,
            "align_self": null,
            "height": null,
            "min_height": null,
            "padding": null,
            "grid_auto_rows": null,
            "grid_gap": null,
            "max_width": null,
            "order": null,
            "_view_module_version": "1.2.0",
            "grid_template_areas": null,
            "object_position": null,
            "object_fit": null,
            "grid_auto_columns": null,
            "margin": null,
            "display": null,
            "left": null
          }
        },
        "ac17af87cfed4ded99078408c932e4fa": {
          "model_module": "@jupyter-widgets/controls",
          "model_name": "DescriptionStyleModel",
          "model_module_version": "1.5.0",
          "state": {
            "_view_name": "StyleView",
            "_model_name": "DescriptionStyleModel",
            "description_width": "",
            "_view_module": "@jupyter-widgets/base",
            "_model_module_version": "1.5.0",
            "_view_count": null,
            "_view_module_version": "1.2.0",
            "_model_module": "@jupyter-widgets/controls"
          }
        },
        "5469f160a7924749ab143eb266070fcb": {
          "model_module": "@jupyter-widgets/base",
          "model_name": "LayoutModel",
          "model_module_version": "1.2.0",
          "state": {
            "_view_name": "LayoutView",
            "grid_template_rows": null,
            "right": null,
            "justify_content": null,
            "_view_module": "@jupyter-widgets/base",
            "overflow": null,
            "_model_module_version": "1.2.0",
            "_view_count": null,
            "flex_flow": null,
            "width": null,
            "min_width": null,
            "border": null,
            "align_items": null,
            "bottom": null,
            "_model_module": "@jupyter-widgets/base",
            "top": null,
            "grid_column": null,
            "overflow_y": null,
            "overflow_x": null,
            "grid_auto_flow": null,
            "grid_area": null,
            "grid_template_columns": null,
            "flex": null,
            "_model_name": "LayoutModel",
            "justify_items": null,
            "grid_row": null,
            "max_height": null,
            "align_content": null,
            "visibility": null,
            "align_self": null,
            "height": null,
            "min_height": null,
            "padding": null,
            "grid_auto_rows": null,
            "grid_gap": null,
            "max_width": null,
            "order": null,
            "_view_module_version": "1.2.0",
            "grid_template_areas": null,
            "object_position": null,
            "object_fit": null,
            "grid_auto_columns": null,
            "margin": null,
            "display": null,
            "left": null
          }
        },
        "7c41d8ab96e94bab83d3b76789c00963": {
          "model_module": "@jupyter-widgets/controls",
          "model_name": "HBoxModel",
          "model_module_version": "1.5.0",
          "state": {
            "_view_name": "HBoxView",
            "_dom_classes": [],
            "_model_name": "HBoxModel",
            "_view_module": "@jupyter-widgets/controls",
            "_model_module_version": "1.5.0",
            "_view_count": null,
            "_view_module_version": "1.5.0",
            "box_style": "",
            "layout": "IPY_MODEL_7a2b823798dc44b1920f86bf1c9e565a",
            "_model_module": "@jupyter-widgets/controls",
            "children": [
              "IPY_MODEL_8e3404575d624ded85d4c2ec2d40c8b7",
              "IPY_MODEL_9f794e24070a448da3314124b91113d3",
              "IPY_MODEL_14f1e6b22ce244089926276a0f71dba5"
            ]
          }
        },
        "7a2b823798dc44b1920f86bf1c9e565a": {
          "model_module": "@jupyter-widgets/base",
          "model_name": "LayoutModel",
          "model_module_version": "1.2.0",
          "state": {
            "_view_name": "LayoutView",
            "grid_template_rows": null,
            "right": null,
            "justify_content": null,
            "_view_module": "@jupyter-widgets/base",
            "overflow": null,
            "_model_module_version": "1.2.0",
            "_view_count": null,
            "flex_flow": null,
            "width": null,
            "min_width": null,
            "border": null,
            "align_items": null,
            "bottom": null,
            "_model_module": "@jupyter-widgets/base",
            "top": null,
            "grid_column": null,
            "overflow_y": null,
            "overflow_x": null,
            "grid_auto_flow": null,
            "grid_area": null,
            "grid_template_columns": null,
            "flex": null,
            "_model_name": "LayoutModel",
            "justify_items": null,
            "grid_row": null,
            "max_height": null,
            "align_content": null,
            "visibility": null,
            "align_self": null,
            "height": null,
            "min_height": null,
            "padding": null,
            "grid_auto_rows": null,
            "grid_gap": null,
            "max_width": null,
            "order": null,
            "_view_module_version": "1.2.0",
            "grid_template_areas": null,
            "object_position": null,
            "object_fit": null,
            "grid_auto_columns": null,
            "margin": null,
            "display": null,
            "left": null
          }
        },
        "8e3404575d624ded85d4c2ec2d40c8b7": {
          "model_module": "@jupyter-widgets/controls",
          "model_name": "HTMLModel",
          "model_module_version": "1.5.0",
          "state": {
            "_view_name": "HTMLView",
            "style": "IPY_MODEL_acb948b197664b798a9d29f7f894e888",
            "_dom_classes": [],
            "description": "",
            "_model_name": "HTMLModel",
            "placeholder": "​",
            "_view_module": "@jupyter-widgets/controls",
            "_model_module_version": "1.5.0",
            "value": "",
            "_view_count": null,
            "_view_module_version": "1.5.0",
            "description_tooltip": null,
            "_model_module": "@jupyter-widgets/controls",
            "layout": "IPY_MODEL_9958d68090884ab48c0fc65c5c09602b"
          }
        },
        "9f794e24070a448da3314124b91113d3": {
          "model_module": "@jupyter-widgets/controls",
          "model_name": "FloatProgressModel",
          "model_module_version": "1.5.0",
          "state": {
            "_view_name": "ProgressView",
            "style": "IPY_MODEL_fbe96e79f1004eaf8bcad3dd4e322d8e",
            "_dom_classes": [],
            "description": "",
            "_model_name": "FloatProgressModel",
            "bar_style": "success",
            "max": 28881,
            "_view_module": "@jupyter-widgets/controls",
            "_model_module_version": "1.5.0",
            "value": 28881,
            "_view_count": null,
            "_view_module_version": "1.5.0",
            "orientation": "horizontal",
            "min": 0,
            "description_tooltip": null,
            "_model_module": "@jupyter-widgets/controls",
            "layout": "IPY_MODEL_30da1f4b1d1b46ad964821a9f6d5fb3c"
          }
        },
        "14f1e6b22ce244089926276a0f71dba5": {
          "model_module": "@jupyter-widgets/controls",
          "model_name": "HTMLModel",
          "model_module_version": "1.5.0",
          "state": {
            "_view_name": "HTMLView",
            "style": "IPY_MODEL_7ceb5417367d4f3d9b43f5f6dbe56d14",
            "_dom_classes": [],
            "description": "",
            "_model_name": "HTMLModel",
            "placeholder": "​",
            "_view_module": "@jupyter-widgets/controls",
            "_model_module_version": "1.5.0",
            "value": " 29696/? [00:00&lt;00:00, 859360.91it/s]",
            "_view_count": null,
            "_view_module_version": "1.5.0",
            "description_tooltip": null,
            "_model_module": "@jupyter-widgets/controls",
            "layout": "IPY_MODEL_41eae416985b4eddb950d2888fbc2825"
          }
        },
        "acb948b197664b798a9d29f7f894e888": {
          "model_module": "@jupyter-widgets/controls",
          "model_name": "DescriptionStyleModel",
          "model_module_version": "1.5.0",
          "state": {
            "_view_name": "StyleView",
            "_model_name": "DescriptionStyleModel",
            "description_width": "",
            "_view_module": "@jupyter-widgets/base",
            "_model_module_version": "1.5.0",
            "_view_count": null,
            "_view_module_version": "1.2.0",
            "_model_module": "@jupyter-widgets/controls"
          }
        },
        "9958d68090884ab48c0fc65c5c09602b": {
          "model_module": "@jupyter-widgets/base",
          "model_name": "LayoutModel",
          "model_module_version": "1.2.0",
          "state": {
            "_view_name": "LayoutView",
            "grid_template_rows": null,
            "right": null,
            "justify_content": null,
            "_view_module": "@jupyter-widgets/base",
            "overflow": null,
            "_model_module_version": "1.2.0",
            "_view_count": null,
            "flex_flow": null,
            "width": null,
            "min_width": null,
            "border": null,
            "align_items": null,
            "bottom": null,
            "_model_module": "@jupyter-widgets/base",
            "top": null,
            "grid_column": null,
            "overflow_y": null,
            "overflow_x": null,
            "grid_auto_flow": null,
            "grid_area": null,
            "grid_template_columns": null,
            "flex": null,
            "_model_name": "LayoutModel",
            "justify_items": null,
            "grid_row": null,
            "max_height": null,
            "align_content": null,
            "visibility": null,
            "align_self": null,
            "height": null,
            "min_height": null,
            "padding": null,
            "grid_auto_rows": null,
            "grid_gap": null,
            "max_width": null,
            "order": null,
            "_view_module_version": "1.2.0",
            "grid_template_areas": null,
            "object_position": null,
            "object_fit": null,
            "grid_auto_columns": null,
            "margin": null,
            "display": null,
            "left": null
          }
        },
        "fbe96e79f1004eaf8bcad3dd4e322d8e": {
          "model_module": "@jupyter-widgets/controls",
          "model_name": "ProgressStyleModel",
          "model_module_version": "1.5.0",
          "state": {
            "_view_name": "StyleView",
            "_model_name": "ProgressStyleModel",
            "description_width": "",
            "_view_module": "@jupyter-widgets/base",
            "_model_module_version": "1.5.0",
            "_view_count": null,
            "_view_module_version": "1.2.0",
            "bar_color": null,
            "_model_module": "@jupyter-widgets/controls"
          }
        },
        "30da1f4b1d1b46ad964821a9f6d5fb3c": {
          "model_module": "@jupyter-widgets/base",
          "model_name": "LayoutModel",
          "model_module_version": "1.2.0",
          "state": {
            "_view_name": "LayoutView",
            "grid_template_rows": null,
            "right": null,
            "justify_content": null,
            "_view_module": "@jupyter-widgets/base",
            "overflow": null,
            "_model_module_version": "1.2.0",
            "_view_count": null,
            "flex_flow": null,
            "width": null,
            "min_width": null,
            "border": null,
            "align_items": null,
            "bottom": null,
            "_model_module": "@jupyter-widgets/base",
            "top": null,
            "grid_column": null,
            "overflow_y": null,
            "overflow_x": null,
            "grid_auto_flow": null,
            "grid_area": null,
            "grid_template_columns": null,
            "flex": null,
            "_model_name": "LayoutModel",
            "justify_items": null,
            "grid_row": null,
            "max_height": null,
            "align_content": null,
            "visibility": null,
            "align_self": null,
            "height": null,
            "min_height": null,
            "padding": null,
            "grid_auto_rows": null,
            "grid_gap": null,
            "max_width": null,
            "order": null,
            "_view_module_version": "1.2.0",
            "grid_template_areas": null,
            "object_position": null,
            "object_fit": null,
            "grid_auto_columns": null,
            "margin": null,
            "display": null,
            "left": null
          }
        },
        "7ceb5417367d4f3d9b43f5f6dbe56d14": {
          "model_module": "@jupyter-widgets/controls",
          "model_name": "DescriptionStyleModel",
          "model_module_version": "1.5.0",
          "state": {
            "_view_name": "StyleView",
            "_model_name": "DescriptionStyleModel",
            "description_width": "",
            "_view_module": "@jupyter-widgets/base",
            "_model_module_version": "1.5.0",
            "_view_count": null,
            "_view_module_version": "1.2.0",
            "_model_module": "@jupyter-widgets/controls"
          }
        },
        "41eae416985b4eddb950d2888fbc2825": {
          "model_module": "@jupyter-widgets/base",
          "model_name": "LayoutModel",
          "model_module_version": "1.2.0",
          "state": {
            "_view_name": "LayoutView",
            "grid_template_rows": null,
            "right": null,
            "justify_content": null,
            "_view_module": "@jupyter-widgets/base",
            "overflow": null,
            "_model_module_version": "1.2.0",
            "_view_count": null,
            "flex_flow": null,
            "width": null,
            "min_width": null,
            "border": null,
            "align_items": null,
            "bottom": null,
            "_model_module": "@jupyter-widgets/base",
            "top": null,
            "grid_column": null,
            "overflow_y": null,
            "overflow_x": null,
            "grid_auto_flow": null,
            "grid_area": null,
            "grid_template_columns": null,
            "flex": null,
            "_model_name": "LayoutModel",
            "justify_items": null,
            "grid_row": null,
            "max_height": null,
            "align_content": null,
            "visibility": null,
            "align_self": null,
            "height": null,
            "min_height": null,
            "padding": null,
            "grid_auto_rows": null,
            "grid_gap": null,
            "max_width": null,
            "order": null,
            "_view_module_version": "1.2.0",
            "grid_template_areas": null,
            "object_position": null,
            "object_fit": null,
            "grid_auto_columns": null,
            "margin": null,
            "display": null,
            "left": null
          }
        },
        "1bbcae302e374a8f827f8e1aec003fd9": {
          "model_module": "@jupyter-widgets/controls",
          "model_name": "HBoxModel",
          "model_module_version": "1.5.0",
          "state": {
            "_view_name": "HBoxView",
            "_dom_classes": [],
            "_model_name": "HBoxModel",
            "_view_module": "@jupyter-widgets/controls",
            "_model_module_version": "1.5.0",
            "_view_count": null,
            "_view_module_version": "1.5.0",
            "box_style": "",
            "layout": "IPY_MODEL_c0b94787c894416fb0aee59562897ebb",
            "_model_module": "@jupyter-widgets/controls",
            "children": [
              "IPY_MODEL_d7f9d40e640344289c0da0daab7b0db0",
              "IPY_MODEL_83fcf9bd23684c0ab88135fe66397b7d",
              "IPY_MODEL_4763df26601d4f7c85a9e9ddb9efe9e7"
            ]
          }
        },
        "c0b94787c894416fb0aee59562897ebb": {
          "model_module": "@jupyter-widgets/base",
          "model_name": "LayoutModel",
          "model_module_version": "1.2.0",
          "state": {
            "_view_name": "LayoutView",
            "grid_template_rows": null,
            "right": null,
            "justify_content": null,
            "_view_module": "@jupyter-widgets/base",
            "overflow": null,
            "_model_module_version": "1.2.0",
            "_view_count": null,
            "flex_flow": null,
            "width": null,
            "min_width": null,
            "border": null,
            "align_items": null,
            "bottom": null,
            "_model_module": "@jupyter-widgets/base",
            "top": null,
            "grid_column": null,
            "overflow_y": null,
            "overflow_x": null,
            "grid_auto_flow": null,
            "grid_area": null,
            "grid_template_columns": null,
            "flex": null,
            "_model_name": "LayoutModel",
            "justify_items": null,
            "grid_row": null,
            "max_height": null,
            "align_content": null,
            "visibility": null,
            "align_self": null,
            "height": null,
            "min_height": null,
            "padding": null,
            "grid_auto_rows": null,
            "grid_gap": null,
            "max_width": null,
            "order": null,
            "_view_module_version": "1.2.0",
            "grid_template_areas": null,
            "object_position": null,
            "object_fit": null,
            "grid_auto_columns": null,
            "margin": null,
            "display": null,
            "left": null
          }
        },
        "d7f9d40e640344289c0da0daab7b0db0": {
          "model_module": "@jupyter-widgets/controls",
          "model_name": "HTMLModel",
          "model_module_version": "1.5.0",
          "state": {
            "_view_name": "HTMLView",
            "style": "IPY_MODEL_7bb8d6271a574626ad38b312fed26399",
            "_dom_classes": [],
            "description": "",
            "_model_name": "HTMLModel",
            "placeholder": "​",
            "_view_module": "@jupyter-widgets/controls",
            "_model_module_version": "1.5.0",
            "value": "",
            "_view_count": null,
            "_view_module_version": "1.5.0",
            "description_tooltip": null,
            "_model_module": "@jupyter-widgets/controls",
            "layout": "IPY_MODEL_7b5d6d6ece7e4f0c99767c3288f80cb6"
          }
        },
        "83fcf9bd23684c0ab88135fe66397b7d": {
          "model_module": "@jupyter-widgets/controls",
          "model_name": "FloatProgressModel",
          "model_module_version": "1.5.0",
          "state": {
            "_view_name": "ProgressView",
            "style": "IPY_MODEL_ca3f75da32344228aab6585030b6e704",
            "_dom_classes": [],
            "description": "",
            "_model_name": "FloatProgressModel",
            "bar_style": "success",
            "max": 1648877,
            "_view_module": "@jupyter-widgets/controls",
            "_model_module_version": "1.5.0",
            "value": 1648877,
            "_view_count": null,
            "_view_module_version": "1.5.0",
            "orientation": "horizontal",
            "min": 0,
            "description_tooltip": null,
            "_model_module": "@jupyter-widgets/controls",
            "layout": "IPY_MODEL_ade44c75810f40d38099987a9f980a1c"
          }
        },
        "4763df26601d4f7c85a9e9ddb9efe9e7": {
          "model_module": "@jupyter-widgets/controls",
          "model_name": "HTMLModel",
          "model_module_version": "1.5.0",
          "state": {
            "_view_name": "HTMLView",
            "style": "IPY_MODEL_708b19742fe24a0797fdd446d68bcbc6",
            "_dom_classes": [],
            "description": "",
            "_model_name": "HTMLModel",
            "placeholder": "​",
            "_view_module": "@jupyter-widgets/controls",
            "_model_module_version": "1.5.0",
            "value": " 1649664/? [00:00&lt;00:00, 18019105.38it/s]",
            "_view_count": null,
            "_view_module_version": "1.5.0",
            "description_tooltip": null,
            "_model_module": "@jupyter-widgets/controls",
            "layout": "IPY_MODEL_276d86e3d1084925882fbfa0c88fce9a"
          }
        },
        "7bb8d6271a574626ad38b312fed26399": {
          "model_module": "@jupyter-widgets/controls",
          "model_name": "DescriptionStyleModel",
          "model_module_version": "1.5.0",
          "state": {
            "_view_name": "StyleView",
            "_model_name": "DescriptionStyleModel",
            "description_width": "",
            "_view_module": "@jupyter-widgets/base",
            "_model_module_version": "1.5.0",
            "_view_count": null,
            "_view_module_version": "1.2.0",
            "_model_module": "@jupyter-widgets/controls"
          }
        },
        "7b5d6d6ece7e4f0c99767c3288f80cb6": {
          "model_module": "@jupyter-widgets/base",
          "model_name": "LayoutModel",
          "model_module_version": "1.2.0",
          "state": {
            "_view_name": "LayoutView",
            "grid_template_rows": null,
            "right": null,
            "justify_content": null,
            "_view_module": "@jupyter-widgets/base",
            "overflow": null,
            "_model_module_version": "1.2.0",
            "_view_count": null,
            "flex_flow": null,
            "width": null,
            "min_width": null,
            "border": null,
            "align_items": null,
            "bottom": null,
            "_model_module": "@jupyter-widgets/base",
            "top": null,
            "grid_column": null,
            "overflow_y": null,
            "overflow_x": null,
            "grid_auto_flow": null,
            "grid_area": null,
            "grid_template_columns": null,
            "flex": null,
            "_model_name": "LayoutModel",
            "justify_items": null,
            "grid_row": null,
            "max_height": null,
            "align_content": null,
            "visibility": null,
            "align_self": null,
            "height": null,
            "min_height": null,
            "padding": null,
            "grid_auto_rows": null,
            "grid_gap": null,
            "max_width": null,
            "order": null,
            "_view_module_version": "1.2.0",
            "grid_template_areas": null,
            "object_position": null,
            "object_fit": null,
            "grid_auto_columns": null,
            "margin": null,
            "display": null,
            "left": null
          }
        },
        "ca3f75da32344228aab6585030b6e704": {
          "model_module": "@jupyter-widgets/controls",
          "model_name": "ProgressStyleModel",
          "model_module_version": "1.5.0",
          "state": {
            "_view_name": "StyleView",
            "_model_name": "ProgressStyleModel",
            "description_width": "",
            "_view_module": "@jupyter-widgets/base",
            "_model_module_version": "1.5.0",
            "_view_count": null,
            "_view_module_version": "1.2.0",
            "bar_color": null,
            "_model_module": "@jupyter-widgets/controls"
          }
        },
        "ade44c75810f40d38099987a9f980a1c": {
          "model_module": "@jupyter-widgets/base",
          "model_name": "LayoutModel",
          "model_module_version": "1.2.0",
          "state": {
            "_view_name": "LayoutView",
            "grid_template_rows": null,
            "right": null,
            "justify_content": null,
            "_view_module": "@jupyter-widgets/base",
            "overflow": null,
            "_model_module_version": "1.2.0",
            "_view_count": null,
            "flex_flow": null,
            "width": null,
            "min_width": null,
            "border": null,
            "align_items": null,
            "bottom": null,
            "_model_module": "@jupyter-widgets/base",
            "top": null,
            "grid_column": null,
            "overflow_y": null,
            "overflow_x": null,
            "grid_auto_flow": null,
            "grid_area": null,
            "grid_template_columns": null,
            "flex": null,
            "_model_name": "LayoutModel",
            "justify_items": null,
            "grid_row": null,
            "max_height": null,
            "align_content": null,
            "visibility": null,
            "align_self": null,
            "height": null,
            "min_height": null,
            "padding": null,
            "grid_auto_rows": null,
            "grid_gap": null,
            "max_width": null,
            "order": null,
            "_view_module_version": "1.2.0",
            "grid_template_areas": null,
            "object_position": null,
            "object_fit": null,
            "grid_auto_columns": null,
            "margin": null,
            "display": null,
            "left": null
          }
        },
        "708b19742fe24a0797fdd446d68bcbc6": {
          "model_module": "@jupyter-widgets/controls",
          "model_name": "DescriptionStyleModel",
          "model_module_version": "1.5.0",
          "state": {
            "_view_name": "StyleView",
            "_model_name": "DescriptionStyleModel",
            "description_width": "",
            "_view_module": "@jupyter-widgets/base",
            "_model_module_version": "1.5.0",
            "_view_count": null,
            "_view_module_version": "1.2.0",
            "_model_module": "@jupyter-widgets/controls"
          }
        },
        "276d86e3d1084925882fbfa0c88fce9a": {
          "model_module": "@jupyter-widgets/base",
          "model_name": "LayoutModel",
          "model_module_version": "1.2.0",
          "state": {
            "_view_name": "LayoutView",
            "grid_template_rows": null,
            "right": null,
            "justify_content": null,
            "_view_module": "@jupyter-widgets/base",
            "overflow": null,
            "_model_module_version": "1.2.0",
            "_view_count": null,
            "flex_flow": null,
            "width": null,
            "min_width": null,
            "border": null,
            "align_items": null,
            "bottom": null,
            "_model_module": "@jupyter-widgets/base",
            "top": null,
            "grid_column": null,
            "overflow_y": null,
            "overflow_x": null,
            "grid_auto_flow": null,
            "grid_area": null,
            "grid_template_columns": null,
            "flex": null,
            "_model_name": "LayoutModel",
            "justify_items": null,
            "grid_row": null,
            "max_height": null,
            "align_content": null,
            "visibility": null,
            "align_self": null,
            "height": null,
            "min_height": null,
            "padding": null,
            "grid_auto_rows": null,
            "grid_gap": null,
            "max_width": null,
            "order": null,
            "_view_module_version": "1.2.0",
            "grid_template_areas": null,
            "object_position": null,
            "object_fit": null,
            "grid_auto_columns": null,
            "margin": null,
            "display": null,
            "left": null
          }
        },
        "37ffc7d693e94282aa94c0e0de01cd6e": {
          "model_module": "@jupyter-widgets/controls",
          "model_name": "HBoxModel",
          "model_module_version": "1.5.0",
          "state": {
            "_view_name": "HBoxView",
            "_dom_classes": [],
            "_model_name": "HBoxModel",
            "_view_module": "@jupyter-widgets/controls",
            "_model_module_version": "1.5.0",
            "_view_count": null,
            "_view_module_version": "1.5.0",
            "box_style": "",
            "layout": "IPY_MODEL_43d6dac275304621950eb9eb664c1560",
            "_model_module": "@jupyter-widgets/controls",
            "children": [
              "IPY_MODEL_ce2b8f40714e4548934043cb8bbc09b2",
              "IPY_MODEL_0f91202993b44666bd7a6834556ecbc2",
              "IPY_MODEL_b5f516b2b82949a4a30bf079db6ad9fe"
            ]
          }
        },
        "43d6dac275304621950eb9eb664c1560": {
          "model_module": "@jupyter-widgets/base",
          "model_name": "LayoutModel",
          "model_module_version": "1.2.0",
          "state": {
            "_view_name": "LayoutView",
            "grid_template_rows": null,
            "right": null,
            "justify_content": null,
            "_view_module": "@jupyter-widgets/base",
            "overflow": null,
            "_model_module_version": "1.2.0",
            "_view_count": null,
            "flex_flow": null,
            "width": null,
            "min_width": null,
            "border": null,
            "align_items": null,
            "bottom": null,
            "_model_module": "@jupyter-widgets/base",
            "top": null,
            "grid_column": null,
            "overflow_y": null,
            "overflow_x": null,
            "grid_auto_flow": null,
            "grid_area": null,
            "grid_template_columns": null,
            "flex": null,
            "_model_name": "LayoutModel",
            "justify_items": null,
            "grid_row": null,
            "max_height": null,
            "align_content": null,
            "visibility": null,
            "align_self": null,
            "height": null,
            "min_height": null,
            "padding": null,
            "grid_auto_rows": null,
            "grid_gap": null,
            "max_width": null,
            "order": null,
            "_view_module_version": "1.2.0",
            "grid_template_areas": null,
            "object_position": null,
            "object_fit": null,
            "grid_auto_columns": null,
            "margin": null,
            "display": null,
            "left": null
          }
        },
        "ce2b8f40714e4548934043cb8bbc09b2": {
          "model_module": "@jupyter-widgets/controls",
          "model_name": "HTMLModel",
          "model_module_version": "1.5.0",
          "state": {
            "_view_name": "HTMLView",
            "style": "IPY_MODEL_ba7d96684eda412989d03a45476df096",
            "_dom_classes": [],
            "description": "",
            "_model_name": "HTMLModel",
            "placeholder": "​",
            "_view_module": "@jupyter-widgets/controls",
            "_model_module_version": "1.5.0",
            "value": "",
            "_view_count": null,
            "_view_module_version": "1.5.0",
            "description_tooltip": null,
            "_model_module": "@jupyter-widgets/controls",
            "layout": "IPY_MODEL_2f61a20c9f79459d87ccce0688e77008"
          }
        },
        "0f91202993b44666bd7a6834556ecbc2": {
          "model_module": "@jupyter-widgets/controls",
          "model_name": "FloatProgressModel",
          "model_module_version": "1.5.0",
          "state": {
            "_view_name": "ProgressView",
            "style": "IPY_MODEL_149d1874e0254b248f7708df29aa39e1",
            "_dom_classes": [],
            "description": "",
            "_model_name": "FloatProgressModel",
            "bar_style": "success",
            "max": 4542,
            "_view_module": "@jupyter-widgets/controls",
            "_model_module_version": "1.5.0",
            "value": 4542,
            "_view_count": null,
            "_view_module_version": "1.5.0",
            "orientation": "horizontal",
            "min": 0,
            "description_tooltip": null,
            "_model_module": "@jupyter-widgets/controls",
            "layout": "IPY_MODEL_59c3470006ad4e8d88f75cd30d9d0fb7"
          }
        },
        "b5f516b2b82949a4a30bf079db6ad9fe": {
          "model_module": "@jupyter-widgets/controls",
          "model_name": "HTMLModel",
          "model_module_version": "1.5.0",
          "state": {
            "_view_name": "HTMLView",
            "style": "IPY_MODEL_03d25729a5614467b18c4a51483d883c",
            "_dom_classes": [],
            "description": "",
            "_model_name": "HTMLModel",
            "placeholder": "​",
            "_view_module": "@jupyter-widgets/controls",
            "_model_module_version": "1.5.0",
            "value": " 5120/? [00:00&lt;00:00, 115599.68it/s]",
            "_view_count": null,
            "_view_module_version": "1.5.0",
            "description_tooltip": null,
            "_model_module": "@jupyter-widgets/controls",
            "layout": "IPY_MODEL_1b5023b26f9f449387750a4a0758fbde"
          }
        },
        "ba7d96684eda412989d03a45476df096": {
          "model_module": "@jupyter-widgets/controls",
          "model_name": "DescriptionStyleModel",
          "model_module_version": "1.5.0",
          "state": {
            "_view_name": "StyleView",
            "_model_name": "DescriptionStyleModel",
            "description_width": "",
            "_view_module": "@jupyter-widgets/base",
            "_model_module_version": "1.5.0",
            "_view_count": null,
            "_view_module_version": "1.2.0",
            "_model_module": "@jupyter-widgets/controls"
          }
        },
        "2f61a20c9f79459d87ccce0688e77008": {
          "model_module": "@jupyter-widgets/base",
          "model_name": "LayoutModel",
          "model_module_version": "1.2.0",
          "state": {
            "_view_name": "LayoutView",
            "grid_template_rows": null,
            "right": null,
            "justify_content": null,
            "_view_module": "@jupyter-widgets/base",
            "overflow": null,
            "_model_module_version": "1.2.0",
            "_view_count": null,
            "flex_flow": null,
            "width": null,
            "min_width": null,
            "border": null,
            "align_items": null,
            "bottom": null,
            "_model_module": "@jupyter-widgets/base",
            "top": null,
            "grid_column": null,
            "overflow_y": null,
            "overflow_x": null,
            "grid_auto_flow": null,
            "grid_area": null,
            "grid_template_columns": null,
            "flex": null,
            "_model_name": "LayoutModel",
            "justify_items": null,
            "grid_row": null,
            "max_height": null,
            "align_content": null,
            "visibility": null,
            "align_self": null,
            "height": null,
            "min_height": null,
            "padding": null,
            "grid_auto_rows": null,
            "grid_gap": null,
            "max_width": null,
            "order": null,
            "_view_module_version": "1.2.0",
            "grid_template_areas": null,
            "object_position": null,
            "object_fit": null,
            "grid_auto_columns": null,
            "margin": null,
            "display": null,
            "left": null
          }
        },
        "149d1874e0254b248f7708df29aa39e1": {
          "model_module": "@jupyter-widgets/controls",
          "model_name": "ProgressStyleModel",
          "model_module_version": "1.5.0",
          "state": {
            "_view_name": "StyleView",
            "_model_name": "ProgressStyleModel",
            "description_width": "",
            "_view_module": "@jupyter-widgets/base",
            "_model_module_version": "1.5.0",
            "_view_count": null,
            "_view_module_version": "1.2.0",
            "bar_color": null,
            "_model_module": "@jupyter-widgets/controls"
          }
        },
        "59c3470006ad4e8d88f75cd30d9d0fb7": {
          "model_module": "@jupyter-widgets/base",
          "model_name": "LayoutModel",
          "model_module_version": "1.2.0",
          "state": {
            "_view_name": "LayoutView",
            "grid_template_rows": null,
            "right": null,
            "justify_content": null,
            "_view_module": "@jupyter-widgets/base",
            "overflow": null,
            "_model_module_version": "1.2.0",
            "_view_count": null,
            "flex_flow": null,
            "width": null,
            "min_width": null,
            "border": null,
            "align_items": null,
            "bottom": null,
            "_model_module": "@jupyter-widgets/base",
            "top": null,
            "grid_column": null,
            "overflow_y": null,
            "overflow_x": null,
            "grid_auto_flow": null,
            "grid_area": null,
            "grid_template_columns": null,
            "flex": null,
            "_model_name": "LayoutModel",
            "justify_items": null,
            "grid_row": null,
            "max_height": null,
            "align_content": null,
            "visibility": null,
            "align_self": null,
            "height": null,
            "min_height": null,
            "padding": null,
            "grid_auto_rows": null,
            "grid_gap": null,
            "max_width": null,
            "order": null,
            "_view_module_version": "1.2.0",
            "grid_template_areas": null,
            "object_position": null,
            "object_fit": null,
            "grid_auto_columns": null,
            "margin": null,
            "display": null,
            "left": null
          }
        },
        "03d25729a5614467b18c4a51483d883c": {
          "model_module": "@jupyter-widgets/controls",
          "model_name": "DescriptionStyleModel",
          "model_module_version": "1.5.0",
          "state": {
            "_view_name": "StyleView",
            "_model_name": "DescriptionStyleModel",
            "description_width": "",
            "_view_module": "@jupyter-widgets/base",
            "_model_module_version": "1.5.0",
            "_view_count": null,
            "_view_module_version": "1.2.0",
            "_model_module": "@jupyter-widgets/controls"
          }
        },
        "1b5023b26f9f449387750a4a0758fbde": {
          "model_module": "@jupyter-widgets/base",
          "model_name": "LayoutModel",
          "model_module_version": "1.2.0",
          "state": {
            "_view_name": "LayoutView",
            "grid_template_rows": null,
            "right": null,
            "justify_content": null,
            "_view_module": "@jupyter-widgets/base",
            "overflow": null,
            "_model_module_version": "1.2.0",
            "_view_count": null,
            "flex_flow": null,
            "width": null,
            "min_width": null,
            "border": null,
            "align_items": null,
            "bottom": null,
            "_model_module": "@jupyter-widgets/base",
            "top": null,
            "grid_column": null,
            "overflow_y": null,
            "overflow_x": null,
            "grid_auto_flow": null,
            "grid_area": null,
            "grid_template_columns": null,
            "flex": null,
            "_model_name": "LayoutModel",
            "justify_items": null,
            "grid_row": null,
            "max_height": null,
            "align_content": null,
            "visibility": null,
            "align_self": null,
            "height": null,
            "min_height": null,
            "padding": null,
            "grid_auto_rows": null,
            "grid_gap": null,
            "max_width": null,
            "order": null,
            "_view_module_version": "1.2.0",
            "grid_template_areas": null,
            "object_position": null,
            "object_fit": null,
            "grid_auto_columns": null,
            "margin": null,
            "display": null,
            "left": null
          }
        },
        "b7aacb0bc2cc40e6a3d85c7f38bd61db": {
          "model_module": "@jupyter-widgets/controls",
          "model_name": "HBoxModel",
          "model_module_version": "1.5.0",
          "state": {
            "_view_name": "HBoxView",
            "_dom_classes": [],
            "_model_name": "HBoxModel",
            "_view_module": "@jupyter-widgets/controls",
            "_model_module_version": "1.5.0",
            "_view_count": null,
            "_view_module_version": "1.5.0",
            "box_style": "",
            "layout": "IPY_MODEL_485bb433b2fb4c68b889516b4653c3e8",
            "_model_module": "@jupyter-widgets/controls",
            "children": [
              "IPY_MODEL_7d96f849fcaa4b3186b472da8ee54819",
              "IPY_MODEL_6552c236141c484598a5f894e36488cf",
              "IPY_MODEL_bda2d33e89204757b0aa589d3d74a3c6"
            ]
          }
        },
        "485bb433b2fb4c68b889516b4653c3e8": {
          "model_module": "@jupyter-widgets/base",
          "model_name": "LayoutModel",
          "model_module_version": "1.2.0",
          "state": {
            "_view_name": "LayoutView",
            "grid_template_rows": null,
            "right": null,
            "justify_content": null,
            "_view_module": "@jupyter-widgets/base",
            "overflow": null,
            "_model_module_version": "1.2.0",
            "_view_count": null,
            "flex_flow": null,
            "width": null,
            "min_width": null,
            "border": null,
            "align_items": null,
            "bottom": null,
            "_model_module": "@jupyter-widgets/base",
            "top": null,
            "grid_column": null,
            "overflow_y": null,
            "overflow_x": null,
            "grid_auto_flow": null,
            "grid_area": null,
            "grid_template_columns": null,
            "flex": null,
            "_model_name": "LayoutModel",
            "justify_items": null,
            "grid_row": null,
            "max_height": null,
            "align_content": null,
            "visibility": null,
            "align_self": null,
            "height": null,
            "min_height": null,
            "padding": null,
            "grid_auto_rows": null,
            "grid_gap": null,
            "max_width": null,
            "order": null,
            "_view_module_version": "1.2.0",
            "grid_template_areas": null,
            "object_position": null,
            "object_fit": null,
            "grid_auto_columns": null,
            "margin": null,
            "display": null,
            "left": null
          }
        },
        "7d96f849fcaa4b3186b472da8ee54819": {
          "model_module": "@jupyter-widgets/controls",
          "model_name": "HTMLModel",
          "model_module_version": "1.5.0",
          "state": {
            "_view_name": "HTMLView",
            "style": "IPY_MODEL_06d5c595f9ab43e6b5ba33531f99c48f",
            "_dom_classes": [],
            "description": "",
            "_model_name": "HTMLModel",
            "placeholder": "​",
            "_view_module": "@jupyter-widgets/controls",
            "_model_module_version": "1.5.0",
            "value": "",
            "_view_count": null,
            "_view_module_version": "1.5.0",
            "description_tooltip": null,
            "_model_module": "@jupyter-widgets/controls",
            "layout": "IPY_MODEL_1ccdf8d83d4041819871bfcadc3f8ab8"
          }
        },
        "6552c236141c484598a5f894e36488cf": {
          "model_module": "@jupyter-widgets/controls",
          "model_name": "FloatProgressModel",
          "model_module_version": "1.5.0",
          "state": {
            "_view_name": "ProgressView",
            "style": "IPY_MODEL_c87d27d9607543ebab820ce0a5b11ffd",
            "_dom_classes": [],
            "description": "",
            "_model_name": "FloatProgressModel",
            "bar_style": "success",
            "max": 170498071,
            "_view_module": "@jupyter-widgets/controls",
            "_model_module_version": "1.5.0",
            "value": 170498071,
            "_view_count": null,
            "_view_module_version": "1.5.0",
            "orientation": "horizontal",
            "min": 0,
            "description_tooltip": null,
            "_model_module": "@jupyter-widgets/controls",
            "layout": "IPY_MODEL_d473e0d947324cc5a7e2c019a1c1669f"
          }
        },
        "bda2d33e89204757b0aa589d3d74a3c6": {
          "model_module": "@jupyter-widgets/controls",
          "model_name": "HTMLModel",
          "model_module_version": "1.5.0",
          "state": {
            "_view_name": "HTMLView",
            "style": "IPY_MODEL_c69313e2e56c47f8aa7e6c06b4915a36",
            "_dom_classes": [],
            "description": "",
            "_model_name": "HTMLModel",
            "placeholder": "​",
            "_view_module": "@jupyter-widgets/controls",
            "_model_module_version": "1.5.0",
            "value": " 170499072/? [00:06&lt;00:00, 30387527.80it/s]",
            "_view_count": null,
            "_view_module_version": "1.5.0",
            "description_tooltip": null,
            "_model_module": "@jupyter-widgets/controls",
            "layout": "IPY_MODEL_ba4e3e4a693843c9aef36558b57d3373"
          }
        },
        "06d5c595f9ab43e6b5ba33531f99c48f": {
          "model_module": "@jupyter-widgets/controls",
          "model_name": "DescriptionStyleModel",
          "model_module_version": "1.5.0",
          "state": {
            "_view_name": "StyleView",
            "_model_name": "DescriptionStyleModel",
            "description_width": "",
            "_view_module": "@jupyter-widgets/base",
            "_model_module_version": "1.5.0",
            "_view_count": null,
            "_view_module_version": "1.2.0",
            "_model_module": "@jupyter-widgets/controls"
          }
        },
        "1ccdf8d83d4041819871bfcadc3f8ab8": {
          "model_module": "@jupyter-widgets/base",
          "model_name": "LayoutModel",
          "model_module_version": "1.2.0",
          "state": {
            "_view_name": "LayoutView",
            "grid_template_rows": null,
            "right": null,
            "justify_content": null,
            "_view_module": "@jupyter-widgets/base",
            "overflow": null,
            "_model_module_version": "1.2.0",
            "_view_count": null,
            "flex_flow": null,
            "width": null,
            "min_width": null,
            "border": null,
            "align_items": null,
            "bottom": null,
            "_model_module": "@jupyter-widgets/base",
            "top": null,
            "grid_column": null,
            "overflow_y": null,
            "overflow_x": null,
            "grid_auto_flow": null,
            "grid_area": null,
            "grid_template_columns": null,
            "flex": null,
            "_model_name": "LayoutModel",
            "justify_items": null,
            "grid_row": null,
            "max_height": null,
            "align_content": null,
            "visibility": null,
            "align_self": null,
            "height": null,
            "min_height": null,
            "padding": null,
            "grid_auto_rows": null,
            "grid_gap": null,
            "max_width": null,
            "order": null,
            "_view_module_version": "1.2.0",
            "grid_template_areas": null,
            "object_position": null,
            "object_fit": null,
            "grid_auto_columns": null,
            "margin": null,
            "display": null,
            "left": null
          }
        },
        "c87d27d9607543ebab820ce0a5b11ffd": {
          "model_module": "@jupyter-widgets/controls",
          "model_name": "ProgressStyleModel",
          "model_module_version": "1.5.0",
          "state": {
            "_view_name": "StyleView",
            "_model_name": "ProgressStyleModel",
            "description_width": "",
            "_view_module": "@jupyter-widgets/base",
            "_model_module_version": "1.5.0",
            "_view_count": null,
            "_view_module_version": "1.2.0",
            "bar_color": null,
            "_model_module": "@jupyter-widgets/controls"
          }
        },
        "d473e0d947324cc5a7e2c019a1c1669f": {
          "model_module": "@jupyter-widgets/base",
          "model_name": "LayoutModel",
          "model_module_version": "1.2.0",
          "state": {
            "_view_name": "LayoutView",
            "grid_template_rows": null,
            "right": null,
            "justify_content": null,
            "_view_module": "@jupyter-widgets/base",
            "overflow": null,
            "_model_module_version": "1.2.0",
            "_view_count": null,
            "flex_flow": null,
            "width": null,
            "min_width": null,
            "border": null,
            "align_items": null,
            "bottom": null,
            "_model_module": "@jupyter-widgets/base",
            "top": null,
            "grid_column": null,
            "overflow_y": null,
            "overflow_x": null,
            "grid_auto_flow": null,
            "grid_area": null,
            "grid_template_columns": null,
            "flex": null,
            "_model_name": "LayoutModel",
            "justify_items": null,
            "grid_row": null,
            "max_height": null,
            "align_content": null,
            "visibility": null,
            "align_self": null,
            "height": null,
            "min_height": null,
            "padding": null,
            "grid_auto_rows": null,
            "grid_gap": null,
            "max_width": null,
            "order": null,
            "_view_module_version": "1.2.0",
            "grid_template_areas": null,
            "object_position": null,
            "object_fit": null,
            "grid_auto_columns": null,
            "margin": null,
            "display": null,
            "left": null
          }
        },
        "c69313e2e56c47f8aa7e6c06b4915a36": {
          "model_module": "@jupyter-widgets/controls",
          "model_name": "DescriptionStyleModel",
          "model_module_version": "1.5.0",
          "state": {
            "_view_name": "StyleView",
            "_model_name": "DescriptionStyleModel",
            "description_width": "",
            "_view_module": "@jupyter-widgets/base",
            "_model_module_version": "1.5.0",
            "_view_count": null,
            "_view_module_version": "1.2.0",
            "_model_module": "@jupyter-widgets/controls"
          }
        },
        "ba4e3e4a693843c9aef36558b57d3373": {
          "model_module": "@jupyter-widgets/base",
          "model_name": "LayoutModel",
          "model_module_version": "1.2.0",
          "state": {
            "_view_name": "LayoutView",
            "grid_template_rows": null,
            "right": null,
            "justify_content": null,
            "_view_module": "@jupyter-widgets/base",
            "overflow": null,
            "_model_module_version": "1.2.0",
            "_view_count": null,
            "flex_flow": null,
            "width": null,
            "min_width": null,
            "border": null,
            "align_items": null,
            "bottom": null,
            "_model_module": "@jupyter-widgets/base",
            "top": null,
            "grid_column": null,
            "overflow_y": null,
            "overflow_x": null,
            "grid_auto_flow": null,
            "grid_area": null,
            "grid_template_columns": null,
            "flex": null,
            "_model_name": "LayoutModel",
            "justify_items": null,
            "grid_row": null,
            "max_height": null,
            "align_content": null,
            "visibility": null,
            "align_self": null,
            "height": null,
            "min_height": null,
            "padding": null,
            "grid_auto_rows": null,
            "grid_gap": null,
            "max_width": null,
            "order": null,
            "_view_module_version": "1.2.0",
            "grid_template_areas": null,
            "object_position": null,
            "object_fit": null,
            "grid_auto_columns": null,
            "margin": null,
            "display": null,
            "left": null
          }
        }
      }
    }
  },
  "cells": [
    {
      "cell_type": "markdown",
      "metadata": {
        "id": "MHkTtUs9jqn4"
      },
      "source": [
        "#5.1 CNN 기초\n",
        "\n",
        "[참고 블로그](https://untitledtblog.tistory.com/150)"
      ]
    },
    {
      "cell_type": "markdown",
      "metadata": {
        "id": "PjrZ6rpYjtVz"
      },
      "source": [
        "##5.1.1 컴퓨터가 보는 이미지"
      ]
    },
    {
      "cell_type": "markdown",
      "metadata": {
        "id": "iuy-qj9qj1SQ"
      },
      "source": [
        "- 일반적인 인공신경망은 다양한 형태의 입력에 대한 확장성이 떨어짐..\n",
        "- 이미지에 대해서 자연스럽게 학습하기 위한 다른 방법이 필요함.."
      ]
    },
    {
      "cell_type": "markdown",
      "metadata": {
        "id": "mgoAtZ5Oj9vI"
      },
      "source": [
        "##5.1.2 컨볼루션\n"
      ]
    },
    {
      "cell_type": "markdown",
      "metadata": {
        "id": "HTyMvg1OkA3k"
      },
      "source": [
        "- **계층적으로 인식할 수 있도록 단계마다 이미지의 특징을 추출하는 방식을 사용**\n",
        "\n",
        "- 각 단계에서는 이미지에 다양한 필터를 적용(**몇 개의 필터를 적용할지에 따라 채널이 결정됨..**)하여 각종 특징 추출.."
      ]
    },
    {
      "cell_type": "markdown",
      "metadata": {
        "id": "xbbBFGmlkZkp"
      },
      "source": [
        "##5.1.3 CNN 모델"
      ]
    },
    {
      "cell_type": "markdown",
      "metadata": {
        "id": "ETG1WnMkkbmH"
      },
      "source": [
        "기본 용어\n",
        "\n",
        "- 필터(커널) : 도장..\n",
        "- 채널 : 입력의 깊이..\n",
        "- 패딩\n",
        "- 스트라이드\n",
        "- 특징 맵 : 필터를 적용한 결과\n",
        "- 풀링 : 특성 맵의 크기를 줄이는 역할.."
      ]
    },
    {
      "cell_type": "markdown",
      "metadata": {
        "id": "3O2HUxh1kxq0"
      },
      "source": [
        "#5.2 CNN 모델 구현하기\n",
        "\n",
        "- 일반적인 DNN 신경망은 그림을 벡터화해서 학습에 적용\n",
        "- 이 벡터화 과정에서 인접 픽셀과의 상관관계가 의미 없어짐..(많은 정보의 손실)\n",
        "- CNN은 이를 해결!"
      ]
    },
    {
      "cell_type": "markdown",
      "metadata": {
        "id": "IwtcVVcnkzef"
      },
      "source": [
        "순서..\n",
        "\n",
        "- 컨볼루션 -> 풀링 -> 컨볼루션 -> 드롭아웃 -> 풀링 -> 신경망 -> 드롭아웃 -> 신경망..\n",
        "- CNN 신경망과 풀링으로 어느정도 이미지의 크기를 줄인 다음에 일반 신경망으로 학습"
      ]
    },
    {
      "cell_type": "markdown",
      "metadata": {
        "id": "FSjkJwm-mjby"
      },
      "source": [
        "####기본 설정"
      ]
    },
    {
      "cell_type": "code",
      "metadata": {
        "id": "ySR9dpGIjqYJ"
      },
      "source": [
        "#필수 도구들 임포트..\n",
        "\n",
        "import torch\n",
        "import torch.nn as nn\n",
        "import torch.optim as optim\n",
        "import torch.nn.functional as F\n",
        "from torchvision import transforms, datasets"
      ],
      "execution_count": 1,
      "outputs": []
    },
    {
      "cell_type": "code",
      "metadata": {
        "id": "wQ9PsHW8-1KQ"
      },
      "source": [
        "USE_CUDA = torch.cuda.is_available()\n",
        "DEVICE = torch.device(\"cuda\" if USE_CUDA else \"cpu\")"
      ],
      "execution_count": 2,
      "outputs": []
    },
    {
      "cell_type": "code",
      "metadata": {
        "id": "FKG-y5lgmasN"
      },
      "source": [
        "EPOCHS     = 40\n",
        "BATCH_SIZE = 64"
      ],
      "execution_count": 3,
      "outputs": []
    },
    {
      "cell_type": "markdown",
      "metadata": {
        "id": "k5z5RyHimeiG"
      },
      "source": [
        "####데이터셋 불러오기\n",
        "\n",
        "- 기본 전처리는 텐서화 및 정규화만 시행"
      ]
    },
    {
      "cell_type": "code",
      "metadata": {
        "colab": {
          "base_uri": "https://localhost:8080/",
          "height": 442,
          "referenced_widgets": [
            "9f206237cca6407f8b59e6257122ea2a",
            "404d0934765747f7b5d7761c33725fe1",
            "1b48af035df24d319ecdc0b526a397e4",
            "b017900dd0e544e7b125294c08c5a4ab",
            "d7a671fd2ada49b48264bb091dbf8d87",
            "4c759d7171a648d4941e73acee416f33",
            "05edf68a2f154541845ebd8f2988b30b",
            "e3e93d4b3fb64da1a04082af97f601a6",
            "3e16d00529024359a86ac89342f67662",
            "ac17af87cfed4ded99078408c932e4fa",
            "5469f160a7924749ab143eb266070fcb",
            "7c41d8ab96e94bab83d3b76789c00963",
            "7a2b823798dc44b1920f86bf1c9e565a",
            "8e3404575d624ded85d4c2ec2d40c8b7",
            "9f794e24070a448da3314124b91113d3",
            "14f1e6b22ce244089926276a0f71dba5",
            "acb948b197664b798a9d29f7f894e888",
            "9958d68090884ab48c0fc65c5c09602b",
            "fbe96e79f1004eaf8bcad3dd4e322d8e",
            "30da1f4b1d1b46ad964821a9f6d5fb3c",
            "7ceb5417367d4f3d9b43f5f6dbe56d14",
            "41eae416985b4eddb950d2888fbc2825",
            "1bbcae302e374a8f827f8e1aec003fd9",
            "c0b94787c894416fb0aee59562897ebb",
            "d7f9d40e640344289c0da0daab7b0db0",
            "83fcf9bd23684c0ab88135fe66397b7d",
            "4763df26601d4f7c85a9e9ddb9efe9e7",
            "7bb8d6271a574626ad38b312fed26399",
            "7b5d6d6ece7e4f0c99767c3288f80cb6",
            "ca3f75da32344228aab6585030b6e704",
            "ade44c75810f40d38099987a9f980a1c",
            "708b19742fe24a0797fdd446d68bcbc6",
            "276d86e3d1084925882fbfa0c88fce9a",
            "37ffc7d693e94282aa94c0e0de01cd6e",
            "43d6dac275304621950eb9eb664c1560",
            "ce2b8f40714e4548934043cb8bbc09b2",
            "0f91202993b44666bd7a6834556ecbc2",
            "b5f516b2b82949a4a30bf079db6ad9fe",
            "ba7d96684eda412989d03a45476df096",
            "2f61a20c9f79459d87ccce0688e77008",
            "149d1874e0254b248f7708df29aa39e1",
            "59c3470006ad4e8d88f75cd30d9d0fb7",
            "03d25729a5614467b18c4a51483d883c",
            "1b5023b26f9f449387750a4a0758fbde"
          ]
        },
        "id": "mW0npotzmcWf",
        "outputId": "4a2be4a1-a3e7-4093-b9e8-06a8644b0b0a"
      },
      "source": [
        "train_loader = torch.utils.data.DataLoader(\n",
        "    datasets.MNIST('./.data',\n",
        "                   train=True,\n",
        "                   download=True,\n",
        "                   transform=transforms.Compose([\n",
        "                       transforms.ToTensor(),\n",
        "                       transforms.Normalize((0.1307,), (0.3081,))\n",
        "                   ])),\n",
        "    batch_size=BATCH_SIZE, shuffle=True)\n",
        "test_loader = torch.utils.data.DataLoader(\n",
        "    datasets.MNIST('./.data',\n",
        "                   train=False, \n",
        "                   transform=transforms.Compose([\n",
        "                       transforms.ToTensor(),\n",
        "                       transforms.Normalize((0.1307,), (0.3081,))\n",
        "                   ])),\n",
        "    batch_size=BATCH_SIZE, shuffle=True)"
      ],
      "execution_count": 4,
      "outputs": [
        {
          "output_type": "stream",
          "name": "stdout",
          "text": [
            "Downloading http://yann.lecun.com/exdb/mnist/train-images-idx3-ubyte.gz\n",
            "Downloading http://yann.lecun.com/exdb/mnist/train-images-idx3-ubyte.gz to ./.data/MNIST/raw/train-images-idx3-ubyte.gz\n"
          ]
        },
        {
          "output_type": "display_data",
          "data": {
            "application/vnd.jupyter.widget-view+json": {
              "model_id": "9f206237cca6407f8b59e6257122ea2a",
              "version_minor": 0,
              "version_major": 2
            },
            "text/plain": [
              "  0%|          | 0/9912422 [00:00<?, ?it/s]"
            ]
          },
          "metadata": {}
        },
        {
          "output_type": "stream",
          "name": "stdout",
          "text": [
            "Extracting ./.data/MNIST/raw/train-images-idx3-ubyte.gz to ./.data/MNIST/raw\n",
            "\n",
            "Downloading http://yann.lecun.com/exdb/mnist/train-labels-idx1-ubyte.gz\n",
            "Downloading http://yann.lecun.com/exdb/mnist/train-labels-idx1-ubyte.gz to ./.data/MNIST/raw/train-labels-idx1-ubyte.gz\n"
          ]
        },
        {
          "output_type": "display_data",
          "data": {
            "application/vnd.jupyter.widget-view+json": {
              "model_id": "7c41d8ab96e94bab83d3b76789c00963",
              "version_minor": 0,
              "version_major": 2
            },
            "text/plain": [
              "  0%|          | 0/28881 [00:00<?, ?it/s]"
            ]
          },
          "metadata": {}
        },
        {
          "output_type": "stream",
          "name": "stdout",
          "text": [
            "Extracting ./.data/MNIST/raw/train-labels-idx1-ubyte.gz to ./.data/MNIST/raw\n",
            "\n",
            "Downloading http://yann.lecun.com/exdb/mnist/t10k-images-idx3-ubyte.gz\n",
            "Downloading http://yann.lecun.com/exdb/mnist/t10k-images-idx3-ubyte.gz to ./.data/MNIST/raw/t10k-images-idx3-ubyte.gz\n"
          ]
        },
        {
          "output_type": "display_data",
          "data": {
            "application/vnd.jupyter.widget-view+json": {
              "model_id": "1bbcae302e374a8f827f8e1aec003fd9",
              "version_minor": 0,
              "version_major": 2
            },
            "text/plain": [
              "  0%|          | 0/1648877 [00:00<?, ?it/s]"
            ]
          },
          "metadata": {}
        },
        {
          "output_type": "stream",
          "name": "stdout",
          "text": [
            "Extracting ./.data/MNIST/raw/t10k-images-idx3-ubyte.gz to ./.data/MNIST/raw\n",
            "\n",
            "Downloading http://yann.lecun.com/exdb/mnist/t10k-labels-idx1-ubyte.gz\n",
            "Downloading http://yann.lecun.com/exdb/mnist/t10k-labels-idx1-ubyte.gz to ./.data/MNIST/raw/t10k-labels-idx1-ubyte.gz\n"
          ]
        },
        {
          "output_type": "display_data",
          "data": {
            "application/vnd.jupyter.widget-view+json": {
              "model_id": "37ffc7d693e94282aa94c0e0de01cd6e",
              "version_minor": 0,
              "version_major": 2
            },
            "text/plain": [
              "  0%|          | 0/4542 [00:00<?, ?it/s]"
            ]
          },
          "metadata": {}
        },
        {
          "output_type": "stream",
          "name": "stdout",
          "text": [
            "Extracting ./.data/MNIST/raw/t10k-labels-idx1-ubyte.gz to ./.data/MNIST/raw\n",
            "\n"
          ]
        }
      ]
    },
    {
      "cell_type": "markdown",
      "metadata": {
        "id": "uVjFuqE2mzgv"
      },
      "source": [
        "####뉴럴넷으로 Fashion MNIST 학습하기"
      ]
    },
    {
      "cell_type": "markdown",
      "metadata": {
        "id": "yTpM2Sw9on6p"
      },
      "source": [
        "- 원본 (28,28,1)\n",
        "- 1차 conv (24, 24, 10) : kernel_size = (5,5), kernel_num = 10\n",
        "- 1차 풀링 (12, 12, 10)\n",
        "- 2차 conv (8, 8, 20) : kernel_size = (5,5), kernel_num = 20\n",
        "- 2차 풀링 (4, 4, 20)\n",
        "\n",
        "마지막의 shape이 (4,4,20)이므로 flatten()을 하면 4 * 4 * 20으로 320이다.."
      ]
    },
    {
      "cell_type": "code",
      "metadata": {
        "id": "GNnu-FJ0ml2t"
      },
      "source": [
        "class Net(nn.Module):\n",
        "    def __init__(self):\n",
        "        super(Net, self).__init__()\n",
        "        #합성곱층 생성\n",
        "        self.conv1 = nn.Conv2d(1, 10, kernel_size=5)        #필터 10개\n",
        "        self.conv2 = nn.Conv2d(10, 20, kernel_size=5)       #필터 20개\n",
        "        self.conv2_drop = nn.Dropout2d()        #드롭아웃 층\n",
        "        self.fc1 = nn.Linear(320, 50)           #마지막 결과의 크기가 320..\n",
        "        self.fc2 = nn.Linear(50, 10)            #출력 10개의 lable..\n",
        "\n",
        "    #순전파 과정..\n",
        "    def forward(self, x):\n",
        "        x = F.relu(F.max_pool2d(self.conv1(x), 2))\n",
        "        x = F.relu(F.max_pool2d(self.conv2_drop(self.conv2(x)), 2))\n",
        "        x = x.view(-1, 320)     #320인 이유가 중요!!\n",
        "        x = F.relu(self.fc1(x))\n",
        "        x = F.dropout(x, training=self.training)\n",
        "        x = self.fc2(x)\n",
        "        return x"
      ],
      "execution_count": 5,
      "outputs": []
    },
    {
      "cell_type": "markdown",
      "metadata": {
        "id": "9Ojogv51pMOV"
      },
      "source": [
        "####하이퍼파라미터\n",
        "\n",
        "모델과 최적화 객체 생성.."
      ]
    },
    {
      "cell_type": "code",
      "metadata": {
        "id": "JTO2YW1ApLJI"
      },
      "source": [
        "model     = Net().to(DEVICE)\n",
        "optimizer = optim.SGD(model.parameters(), lr=0.01, momentum=0.5)"
      ],
      "execution_count": 6,
      "outputs": []
    },
    {
      "cell_type": "markdown",
      "metadata": {
        "id": "ergOKCaFpTNi"
      },
      "source": [
        "####학습하기"
      ]
    },
    {
      "cell_type": "code",
      "metadata": {
        "id": "EvCP4HecpSYT"
      },
      "source": [
        "def train(model, train_loader, optimizer, epoch):\n",
        "    model.train()       #훈련모드\n",
        "    for batch_idx, (data, target) in enumerate(train_loader):\n",
        "        #데이터와 타깃 불러오고\n",
        "        data, target = data.to(DEVICE), target.to(DEVICE)\n",
        "        #역전파 알고리즘 조진다..\n",
        "        optimizer.zero_grad()\n",
        "        output = model(data)\n",
        "        loss = F.cross_entropy(output, target)\n",
        "        loss.backward()\n",
        "        optimizer.step()\n",
        "\n",
        "        #200배치 마다 확인..\n",
        "        if batch_idx % 200 == 0:\n",
        "            print('Train Epoch: {} [{}/{} ({:.0f}%)]\\tLoss: {:.6f}'.format(\n",
        "                epoch, batch_idx * len(data), len(train_loader.dataset),\n",
        "                100. * batch_idx / len(train_loader), loss.item()))"
      ],
      "execution_count": 7,
      "outputs": []
    },
    {
      "cell_type": "markdown",
      "metadata": {
        "id": "Aa0zGf2dpfyW"
      },
      "source": [
        "####테스트하기"
      ]
    },
    {
      "cell_type": "code",
      "metadata": {
        "id": "C87scz9xpe8A"
      },
      "source": [
        "def evaluate(model, test_loader):\n",
        "    model.eval()        #평가 모드..\n",
        "    test_loss = 0\n",
        "    correct = 0\n",
        "\n",
        "    #평가모드는 기울기 계산 불필요..\n",
        "    with torch.no_grad():\n",
        "        for data, target in test_loader:\n",
        "            data, target = data.to(DEVICE), target.to(DEVICE)\n",
        "            output = model(data)\n",
        "\n",
        "            # 배치 오차를 합산\n",
        "            test_loss += F.cross_entropy(output, target,\n",
        "                                         reduction='sum').item()\n",
        "\n",
        "            # 가장 높은 값을 가진 인덱스가 바로 예측값\n",
        "            pred = output.max(1, keepdim=True)[1]\n",
        "            correct += pred.eq(target.view_as(pred)).sum().item()\n",
        "\n",
        "    test_loss /= len(test_loader.dataset)\n",
        "    test_accuracy = 100. * correct / len(test_loader.dataset)\n",
        "    return test_loss, test_accuracy"
      ],
      "execution_count": 8,
      "outputs": []
    },
    {
      "cell_type": "markdown",
      "metadata": {
        "id": "sq4YVMHHpjwI"
      },
      "source": [
        "####코드 확인.."
      ]
    },
    {
      "cell_type": "code",
      "metadata": {
        "colab": {
          "base_uri": "https://localhost:8080/"
        },
        "id": "B6mVX3W9pi_Z",
        "outputId": "d99319a7-138f-48e0-e681-88497caf1f55"
      },
      "source": [
        "for epoch in range(1, EPOCHS + 1):\n",
        "    train(model, train_loader, optimizer, epoch)\n",
        "    test_loss, test_accuracy = evaluate(model, test_loader)\n",
        "    \n",
        "    print('[{}] Test Loss: {:.4f}, Accuracy: {:.2f}%'.format(\n",
        "          epoch, test_loss, test_accuracy))"
      ],
      "execution_count": 9,
      "outputs": [
        {
          "output_type": "stream",
          "name": "stdout",
          "text": [
            "Train Epoch: 1 [0/60000 (0%)]\tLoss: 2.349893\n",
            "Train Epoch: 1 [12800/60000 (21%)]\tLoss: 1.272568\n",
            "Train Epoch: 1 [25600/60000 (43%)]\tLoss: 0.675466\n",
            "Train Epoch: 1 [38400/60000 (64%)]\tLoss: 0.630175\n",
            "Train Epoch: 1 [51200/60000 (85%)]\tLoss: 0.376897\n",
            "[1] Test Loss: 0.1850, Accuracy: 94.51%\n",
            "Train Epoch: 2 [0/60000 (0%)]\tLoss: 0.542291\n",
            "Train Epoch: 2 [12800/60000 (21%)]\tLoss: 0.282521\n",
            "Train Epoch: 2 [25600/60000 (43%)]\tLoss: 0.418586\n",
            "Train Epoch: 2 [38400/60000 (64%)]\tLoss: 0.367931\n",
            "Train Epoch: 2 [51200/60000 (85%)]\tLoss: 0.214509\n",
            "[2] Test Loss: 0.1193, Accuracy: 96.25%\n",
            "Train Epoch: 3 [0/60000 (0%)]\tLoss: 0.126010\n",
            "Train Epoch: 3 [12800/60000 (21%)]\tLoss: 0.215103\n",
            "Train Epoch: 3 [25600/60000 (43%)]\tLoss: 0.304305\n",
            "Train Epoch: 3 [38400/60000 (64%)]\tLoss: 0.380126\n",
            "Train Epoch: 3 [51200/60000 (85%)]\tLoss: 0.318418\n",
            "[3] Test Loss: 0.0951, Accuracy: 97.06%\n",
            "Train Epoch: 4 [0/60000 (0%)]\tLoss: 0.289220\n",
            "Train Epoch: 4 [12800/60000 (21%)]\tLoss: 0.218907\n",
            "Train Epoch: 4 [25600/60000 (43%)]\tLoss: 0.345114\n",
            "Train Epoch: 4 [38400/60000 (64%)]\tLoss: 0.314307\n",
            "Train Epoch: 4 [51200/60000 (85%)]\tLoss: 0.214334\n",
            "[4] Test Loss: 0.0810, Accuracy: 97.60%\n",
            "Train Epoch: 5 [0/60000 (0%)]\tLoss: 0.332677\n",
            "Train Epoch: 5 [12800/60000 (21%)]\tLoss: 0.266385\n",
            "Train Epoch: 5 [25600/60000 (43%)]\tLoss: 0.205445\n",
            "Train Epoch: 5 [38400/60000 (64%)]\tLoss: 0.150118\n",
            "Train Epoch: 5 [51200/60000 (85%)]\tLoss: 0.191900\n",
            "[5] Test Loss: 0.0755, Accuracy: 97.54%\n",
            "Train Epoch: 6 [0/60000 (0%)]\tLoss: 0.160116\n",
            "Train Epoch: 6 [12800/60000 (21%)]\tLoss: 0.212290\n",
            "Train Epoch: 6 [25600/60000 (43%)]\tLoss: 0.182798\n",
            "Train Epoch: 6 [38400/60000 (64%)]\tLoss: 0.210402\n",
            "Train Epoch: 6 [51200/60000 (85%)]\tLoss: 0.304447\n",
            "[6] Test Loss: 0.0687, Accuracy: 97.82%\n",
            "Train Epoch: 7 [0/60000 (0%)]\tLoss: 0.131668\n",
            "Train Epoch: 7 [12800/60000 (21%)]\tLoss: 0.125067\n",
            "Train Epoch: 7 [25600/60000 (43%)]\tLoss: 0.201496\n",
            "Train Epoch: 7 [38400/60000 (64%)]\tLoss: 0.306686\n",
            "Train Epoch: 7 [51200/60000 (85%)]\tLoss: 0.238549\n",
            "[7] Test Loss: 0.0627, Accuracy: 98.00%\n",
            "Train Epoch: 8 [0/60000 (0%)]\tLoss: 0.153970\n",
            "Train Epoch: 8 [12800/60000 (21%)]\tLoss: 0.135198\n",
            "Train Epoch: 8 [25600/60000 (43%)]\tLoss: 0.174026\n",
            "Train Epoch: 8 [38400/60000 (64%)]\tLoss: 0.156604\n",
            "Train Epoch: 8 [51200/60000 (85%)]\tLoss: 0.212949\n",
            "[8] Test Loss: 0.0608, Accuracy: 98.01%\n",
            "Train Epoch: 9 [0/60000 (0%)]\tLoss: 0.409514\n",
            "Train Epoch: 9 [12800/60000 (21%)]\tLoss: 0.213907\n",
            "Train Epoch: 9 [25600/60000 (43%)]\tLoss: 0.143058\n",
            "Train Epoch: 9 [38400/60000 (64%)]\tLoss: 0.092539\n",
            "Train Epoch: 9 [51200/60000 (85%)]\tLoss: 0.273587\n",
            "[9] Test Loss: 0.0539, Accuracy: 98.32%\n",
            "Train Epoch: 10 [0/60000 (0%)]\tLoss: 0.153796\n",
            "Train Epoch: 10 [12800/60000 (21%)]\tLoss: 0.071643\n",
            "Train Epoch: 10 [25600/60000 (43%)]\tLoss: 0.162250\n",
            "Train Epoch: 10 [38400/60000 (64%)]\tLoss: 0.163266\n",
            "Train Epoch: 10 [51200/60000 (85%)]\tLoss: 0.152299\n",
            "[10] Test Loss: 0.0556, Accuracy: 98.33%\n",
            "Train Epoch: 11 [0/60000 (0%)]\tLoss: 0.142677\n",
            "Train Epoch: 11 [12800/60000 (21%)]\tLoss: 0.338772\n",
            "Train Epoch: 11 [25600/60000 (43%)]\tLoss: 0.201900\n",
            "Train Epoch: 11 [38400/60000 (64%)]\tLoss: 0.156728\n",
            "Train Epoch: 11 [51200/60000 (85%)]\tLoss: 0.182030\n",
            "[11] Test Loss: 0.0559, Accuracy: 98.19%\n",
            "Train Epoch: 12 [0/60000 (0%)]\tLoss: 0.162790\n",
            "Train Epoch: 12 [12800/60000 (21%)]\tLoss: 0.204112\n",
            "Train Epoch: 12 [25600/60000 (43%)]\tLoss: 0.164019\n",
            "Train Epoch: 12 [38400/60000 (64%)]\tLoss: 0.094641\n",
            "Train Epoch: 12 [51200/60000 (85%)]\tLoss: 0.105656\n",
            "[12] Test Loss: 0.0544, Accuracy: 98.28%\n",
            "Train Epoch: 13 [0/60000 (0%)]\tLoss: 0.079858\n",
            "Train Epoch: 13 [12800/60000 (21%)]\tLoss: 0.186260\n",
            "Train Epoch: 13 [25600/60000 (43%)]\tLoss: 0.730093\n",
            "Train Epoch: 13 [38400/60000 (64%)]\tLoss: 0.306367\n",
            "Train Epoch: 13 [51200/60000 (85%)]\tLoss: 0.194733\n",
            "[13] Test Loss: 0.0498, Accuracy: 98.36%\n",
            "Train Epoch: 14 [0/60000 (0%)]\tLoss: 0.073497\n",
            "Train Epoch: 14 [12800/60000 (21%)]\tLoss: 0.079044\n",
            "Train Epoch: 14 [25600/60000 (43%)]\tLoss: 0.144214\n",
            "Train Epoch: 14 [38400/60000 (64%)]\tLoss: 0.148621\n",
            "Train Epoch: 14 [51200/60000 (85%)]\tLoss: 0.130240\n",
            "[14] Test Loss: 0.0485, Accuracy: 98.39%\n",
            "Train Epoch: 15 [0/60000 (0%)]\tLoss: 0.094812\n",
            "Train Epoch: 15 [12800/60000 (21%)]\tLoss: 0.127548\n",
            "Train Epoch: 15 [25600/60000 (43%)]\tLoss: 0.149357\n",
            "Train Epoch: 15 [38400/60000 (64%)]\tLoss: 0.117625\n",
            "Train Epoch: 15 [51200/60000 (85%)]\tLoss: 0.142808\n",
            "[15] Test Loss: 0.0462, Accuracy: 98.53%\n",
            "Train Epoch: 16 [0/60000 (0%)]\tLoss: 0.213924\n",
            "Train Epoch: 16 [12800/60000 (21%)]\tLoss: 0.146846\n",
            "Train Epoch: 16 [25600/60000 (43%)]\tLoss: 0.064439\n",
            "Train Epoch: 16 [38400/60000 (64%)]\tLoss: 0.097877\n",
            "Train Epoch: 16 [51200/60000 (85%)]\tLoss: 0.083301\n",
            "[16] Test Loss: 0.0466, Accuracy: 98.64%\n",
            "Train Epoch: 17 [0/60000 (0%)]\tLoss: 0.129702\n",
            "Train Epoch: 17 [12800/60000 (21%)]\tLoss: 0.082987\n",
            "Train Epoch: 17 [25600/60000 (43%)]\tLoss: 0.114322\n",
            "Train Epoch: 17 [38400/60000 (64%)]\tLoss: 0.129975\n",
            "Train Epoch: 17 [51200/60000 (85%)]\tLoss: 0.085450\n",
            "[17] Test Loss: 0.0498, Accuracy: 98.38%\n",
            "Train Epoch: 18 [0/60000 (0%)]\tLoss: 0.063071\n",
            "Train Epoch: 18 [12800/60000 (21%)]\tLoss: 0.129755\n",
            "Train Epoch: 18 [25600/60000 (43%)]\tLoss: 0.262541\n",
            "Train Epoch: 18 [38400/60000 (64%)]\tLoss: 0.303205\n",
            "Train Epoch: 18 [51200/60000 (85%)]\tLoss: 0.144682\n",
            "[18] Test Loss: 0.0446, Accuracy: 98.55%\n",
            "Train Epoch: 19 [0/60000 (0%)]\tLoss: 0.132607\n",
            "Train Epoch: 19 [12800/60000 (21%)]\tLoss: 0.240629\n",
            "Train Epoch: 19 [25600/60000 (43%)]\tLoss: 0.142786\n",
            "Train Epoch: 19 [38400/60000 (64%)]\tLoss: 0.055312\n",
            "Train Epoch: 19 [51200/60000 (85%)]\tLoss: 0.083587\n",
            "[19] Test Loss: 0.0424, Accuracy: 98.67%\n",
            "Train Epoch: 20 [0/60000 (0%)]\tLoss: 0.060539\n",
            "Train Epoch: 20 [12800/60000 (21%)]\tLoss: 0.042331\n",
            "Train Epoch: 20 [25600/60000 (43%)]\tLoss: 0.109754\n",
            "Train Epoch: 20 [38400/60000 (64%)]\tLoss: 0.106161\n",
            "Train Epoch: 20 [51200/60000 (85%)]\tLoss: 0.063803\n",
            "[20] Test Loss: 0.0434, Accuracy: 98.73%\n",
            "Train Epoch: 21 [0/60000 (0%)]\tLoss: 0.349009\n",
            "Train Epoch: 21 [12800/60000 (21%)]\tLoss: 0.157457\n",
            "Train Epoch: 21 [25600/60000 (43%)]\tLoss: 0.220238\n",
            "Train Epoch: 21 [38400/60000 (64%)]\tLoss: 0.115891\n",
            "Train Epoch: 21 [51200/60000 (85%)]\tLoss: 0.123092\n",
            "[21] Test Loss: 0.0427, Accuracy: 98.61%\n",
            "Train Epoch: 22 [0/60000 (0%)]\tLoss: 0.063510\n",
            "Train Epoch: 22 [12800/60000 (21%)]\tLoss: 0.159938\n",
            "Train Epoch: 22 [25600/60000 (43%)]\tLoss: 0.064993\n",
            "Train Epoch: 22 [38400/60000 (64%)]\tLoss: 0.035894\n",
            "Train Epoch: 22 [51200/60000 (85%)]\tLoss: 0.048511\n",
            "[22] Test Loss: 0.0404, Accuracy: 98.70%\n",
            "Train Epoch: 23 [0/60000 (0%)]\tLoss: 0.193031\n",
            "Train Epoch: 23 [12800/60000 (21%)]\tLoss: 0.033408\n",
            "Train Epoch: 23 [25600/60000 (43%)]\tLoss: 0.132098\n",
            "Train Epoch: 23 [38400/60000 (64%)]\tLoss: 0.062782\n",
            "Train Epoch: 23 [51200/60000 (85%)]\tLoss: 0.064651\n",
            "[23] Test Loss: 0.0413, Accuracy: 98.55%\n",
            "Train Epoch: 24 [0/60000 (0%)]\tLoss: 0.098247\n",
            "Train Epoch: 24 [12800/60000 (21%)]\tLoss: 0.159627\n",
            "Train Epoch: 24 [25600/60000 (43%)]\tLoss: 0.091966\n",
            "Train Epoch: 24 [38400/60000 (64%)]\tLoss: 0.054937\n",
            "Train Epoch: 24 [51200/60000 (85%)]\tLoss: 0.132493\n",
            "[24] Test Loss: 0.0405, Accuracy: 98.74%\n",
            "Train Epoch: 25 [0/60000 (0%)]\tLoss: 0.206339\n",
            "Train Epoch: 25 [12800/60000 (21%)]\tLoss: 0.113555\n",
            "Train Epoch: 25 [25600/60000 (43%)]\tLoss: 0.054264\n",
            "Train Epoch: 25 [38400/60000 (64%)]\tLoss: 0.034140\n",
            "Train Epoch: 25 [51200/60000 (85%)]\tLoss: 0.122955\n",
            "[25] Test Loss: 0.0407, Accuracy: 98.78%\n",
            "Train Epoch: 26 [0/60000 (0%)]\tLoss: 0.084299\n",
            "Train Epoch: 26 [12800/60000 (21%)]\tLoss: 0.310337\n",
            "Train Epoch: 26 [25600/60000 (43%)]\tLoss: 0.103310\n",
            "Train Epoch: 26 [38400/60000 (64%)]\tLoss: 0.081848\n",
            "Train Epoch: 26 [51200/60000 (85%)]\tLoss: 0.092025\n",
            "[26] Test Loss: 0.0405, Accuracy: 98.74%\n",
            "Train Epoch: 27 [0/60000 (0%)]\tLoss: 0.088611\n",
            "Train Epoch: 27 [12800/60000 (21%)]\tLoss: 0.027249\n",
            "Train Epoch: 27 [25600/60000 (43%)]\tLoss: 0.058922\n",
            "Train Epoch: 27 [38400/60000 (64%)]\tLoss: 0.017786\n",
            "Train Epoch: 27 [51200/60000 (85%)]\tLoss: 0.112975\n",
            "[27] Test Loss: 0.0386, Accuracy: 98.70%\n",
            "Train Epoch: 28 [0/60000 (0%)]\tLoss: 0.070732\n",
            "Train Epoch: 28 [12800/60000 (21%)]\tLoss: 0.061019\n",
            "Train Epoch: 28 [25600/60000 (43%)]\tLoss: 0.080627\n",
            "Train Epoch: 28 [38400/60000 (64%)]\tLoss: 0.054887\n",
            "Train Epoch: 28 [51200/60000 (85%)]\tLoss: 0.057209\n",
            "[28] Test Loss: 0.0389, Accuracy: 98.81%\n",
            "Train Epoch: 29 [0/60000 (0%)]\tLoss: 0.085846\n",
            "Train Epoch: 29 [12800/60000 (21%)]\tLoss: 0.076010\n",
            "Train Epoch: 29 [25600/60000 (43%)]\tLoss: 0.016009\n",
            "Train Epoch: 29 [38400/60000 (64%)]\tLoss: 0.210524\n",
            "Train Epoch: 29 [51200/60000 (85%)]\tLoss: 0.020830\n",
            "[29] Test Loss: 0.0378, Accuracy: 98.84%\n",
            "Train Epoch: 30 [0/60000 (0%)]\tLoss: 0.076550\n",
            "Train Epoch: 30 [12800/60000 (21%)]\tLoss: 0.046500\n",
            "Train Epoch: 30 [25600/60000 (43%)]\tLoss: 0.255227\n",
            "Train Epoch: 30 [38400/60000 (64%)]\tLoss: 0.130682\n",
            "Train Epoch: 30 [51200/60000 (85%)]\tLoss: 0.137591\n",
            "[30] Test Loss: 0.0398, Accuracy: 98.76%\n",
            "Train Epoch: 31 [0/60000 (0%)]\tLoss: 0.110268\n",
            "Train Epoch: 31 [12800/60000 (21%)]\tLoss: 0.089197\n",
            "Train Epoch: 31 [25600/60000 (43%)]\tLoss: 0.029952\n",
            "Train Epoch: 31 [38400/60000 (64%)]\tLoss: 0.084882\n",
            "Train Epoch: 31 [51200/60000 (85%)]\tLoss: 0.081810\n",
            "[31] Test Loss: 0.0375, Accuracy: 98.78%\n",
            "Train Epoch: 32 [0/60000 (0%)]\tLoss: 0.156628\n",
            "Train Epoch: 32 [12800/60000 (21%)]\tLoss: 0.165418\n",
            "Train Epoch: 32 [25600/60000 (43%)]\tLoss: 0.070510\n",
            "Train Epoch: 32 [38400/60000 (64%)]\tLoss: 0.092855\n",
            "Train Epoch: 32 [51200/60000 (85%)]\tLoss: 0.122023\n",
            "[32] Test Loss: 0.0356, Accuracy: 98.76%\n",
            "Train Epoch: 33 [0/60000 (0%)]\tLoss: 0.018084\n",
            "Train Epoch: 33 [12800/60000 (21%)]\tLoss: 0.119629\n",
            "Train Epoch: 33 [25600/60000 (43%)]\tLoss: 0.209827\n",
            "Train Epoch: 33 [38400/60000 (64%)]\tLoss: 0.122574\n",
            "Train Epoch: 33 [51200/60000 (85%)]\tLoss: 0.052762\n",
            "[33] Test Loss: 0.0361, Accuracy: 98.82%\n",
            "Train Epoch: 34 [0/60000 (0%)]\tLoss: 0.383670\n",
            "Train Epoch: 34 [12800/60000 (21%)]\tLoss: 0.111388\n",
            "Train Epoch: 34 [25600/60000 (43%)]\tLoss: 0.053052\n",
            "Train Epoch: 34 [38400/60000 (64%)]\tLoss: 0.260768\n",
            "Train Epoch: 34 [51200/60000 (85%)]\tLoss: 0.117515\n",
            "[34] Test Loss: 0.0354, Accuracy: 98.88%\n",
            "Train Epoch: 35 [0/60000 (0%)]\tLoss: 0.135262\n",
            "Train Epoch: 35 [12800/60000 (21%)]\tLoss: 0.093470\n",
            "Train Epoch: 35 [25600/60000 (43%)]\tLoss: 0.048609\n",
            "Train Epoch: 35 [38400/60000 (64%)]\tLoss: 0.083181\n",
            "Train Epoch: 35 [51200/60000 (85%)]\tLoss: 0.055227\n",
            "[35] Test Loss: 0.0363, Accuracy: 98.87%\n",
            "Train Epoch: 36 [0/60000 (0%)]\tLoss: 0.124586\n",
            "Train Epoch: 36 [12800/60000 (21%)]\tLoss: 0.111789\n",
            "Train Epoch: 36 [25600/60000 (43%)]\tLoss: 0.051706\n",
            "Train Epoch: 36 [38400/60000 (64%)]\tLoss: 0.027483\n",
            "Train Epoch: 36 [51200/60000 (85%)]\tLoss: 0.194812\n",
            "[36] Test Loss: 0.0343, Accuracy: 98.88%\n",
            "Train Epoch: 37 [0/60000 (0%)]\tLoss: 0.027477\n",
            "Train Epoch: 37 [12800/60000 (21%)]\tLoss: 0.104228\n",
            "Train Epoch: 37 [25600/60000 (43%)]\tLoss: 0.137995\n",
            "Train Epoch: 37 [38400/60000 (64%)]\tLoss: 0.037497\n",
            "Train Epoch: 37 [51200/60000 (85%)]\tLoss: 0.193664\n",
            "[37] Test Loss: 0.0364, Accuracy: 98.82%\n",
            "Train Epoch: 38 [0/60000 (0%)]\tLoss: 0.124826\n",
            "Train Epoch: 38 [12800/60000 (21%)]\tLoss: 0.033886\n",
            "Train Epoch: 38 [25600/60000 (43%)]\tLoss: 0.071358\n",
            "Train Epoch: 38 [38400/60000 (64%)]\tLoss: 0.059523\n",
            "Train Epoch: 38 [51200/60000 (85%)]\tLoss: 0.252282\n",
            "[38] Test Loss: 0.0385, Accuracy: 98.89%\n",
            "Train Epoch: 39 [0/60000 (0%)]\tLoss: 0.148007\n",
            "Train Epoch: 39 [12800/60000 (21%)]\tLoss: 0.017971\n",
            "Train Epoch: 39 [25600/60000 (43%)]\tLoss: 0.053643\n",
            "Train Epoch: 39 [38400/60000 (64%)]\tLoss: 0.120081\n",
            "Train Epoch: 39 [51200/60000 (85%)]\tLoss: 0.069477\n",
            "[39] Test Loss: 0.0359, Accuracy: 98.85%\n",
            "Train Epoch: 40 [0/60000 (0%)]\tLoss: 0.069802\n",
            "Train Epoch: 40 [12800/60000 (21%)]\tLoss: 0.137129\n",
            "Train Epoch: 40 [25600/60000 (43%)]\tLoss: 0.092258\n",
            "Train Epoch: 40 [38400/60000 (64%)]\tLoss: 0.015895\n",
            "Train Epoch: 40 [51200/60000 (85%)]\tLoss: 0.047793\n",
            "[40] Test Loss: 0.0352, Accuracy: 98.92%\n"
          ]
        }
      ]
    },
    {
      "cell_type": "markdown",
      "metadata": {
        "id": "xSi5FEQXs0iS"
      },
      "source": [
        "#5.3 ResNet으로 컬러 데이터셋에 적용하기"
      ]
    },
    {
      "cell_type": "markdown",
      "metadata": {
        "id": "zFUEQJQK43Nh"
      },
      "source": [
        "##5.3.1 ResNet 소개"
      ]
    },
    {
      "cell_type": "markdown",
      "metadata": {
        "id": "FI1exmSn45-B"
      },
      "source": [
        "- CNN의 응용\n",
        "- 신경망을 깊게 쌓으면 오히려 성능이 나빠지는 문제를 해결하는 방법..\n",
        "- **컨볼루션층의 출력에 전의 전 계층에 쓰였던 입력을 더함으로써 특징을 보존!!**"
      ]
    },
    {
      "cell_type": "markdown",
      "metadata": {
        "id": "LC2Rgq_Z5GuT"
      },
      "source": [
        "##5.3.2 CIFAR-10 데이터셋"
      ]
    },
    {
      "cell_type": "code",
      "metadata": {
        "id": "MwFXVNfspm4A"
      },
      "source": [
        "import torch\n",
        "import torch.nn as nn\n",
        "import torch.optim as optim\n",
        "import torch.nn.functional as F\n",
        "from torchvision import transforms, datasets, models"
      ],
      "execution_count": 10,
      "outputs": []
    },
    {
      "cell_type": "code",
      "metadata": {
        "id": "oPnOTMoyw-Q9"
      },
      "source": [
        "USE_CUDA = torch.cuda.is_available()\n",
        "DEVICE = torch.device(\"cuda\" if USE_CUDA else \"cpu\")"
      ],
      "execution_count": 11,
      "outputs": []
    },
    {
      "cell_type": "markdown",
      "metadata": {
        "id": "9PsyD9WmxCgJ"
      },
      "source": [
        "하이퍼파라미터"
      ]
    },
    {
      "cell_type": "code",
      "metadata": {
        "id": "lch9RU23w-Nd"
      },
      "source": [
        "EPOCHS     = 300\n",
        "BATCH_SIZE = 128"
      ],
      "execution_count": 12,
      "outputs": []
    },
    {
      "cell_type": "markdown",
      "metadata": {
        "id": "AwSnF8-lxDzJ"
      },
      "source": [
        "데이터셋 불러오기"
      ]
    },
    {
      "cell_type": "code",
      "metadata": {
        "colab": {
          "base_uri": "https://localhost:8080/",
          "height": 104,
          "referenced_widgets": [
            "b7aacb0bc2cc40e6a3d85c7f38bd61db",
            "485bb433b2fb4c68b889516b4653c3e8",
            "7d96f849fcaa4b3186b472da8ee54819",
            "6552c236141c484598a5f894e36488cf",
            "bda2d33e89204757b0aa589d3d74a3c6",
            "06d5c595f9ab43e6b5ba33531f99c48f",
            "1ccdf8d83d4041819871bfcadc3f8ab8",
            "c87d27d9607543ebab820ce0a5b11ffd",
            "d473e0d947324cc5a7e2c019a1c1669f",
            "c69313e2e56c47f8aa7e6c06b4915a36",
            "ba4e3e4a693843c9aef36558b57d3373"
          ]
        },
        "id": "nfaACgt-w-LA",
        "outputId": "92535487-0e5f-4ada-eb46-05a0f7a50457"
      },
      "source": [
        "train_loader = torch.utils.data.DataLoader(\n",
        "    datasets.CIFAR10('./.data',\n",
        "                   train=True,\n",
        "                   download=True,\n",
        "                   transform=transforms.Compose([\n",
        "                       transforms.RandomCrop(32, padding=4),    #과적합방지 노이즈 추가\n",
        "                       transforms.RandomHorizontalFlip(),       #과적합방지 노이즈 추가\n",
        "                       transforms.ToTensor(),               \n",
        "                       transforms.Normalize((0.5, 0.5, 0.5),\n",
        "                                            (0.5, 0.5, 0.5))])),\n",
        "    batch_size=BATCH_SIZE, shuffle=True)\n",
        "test_loader = torch.utils.data.DataLoader(\n",
        "    datasets.CIFAR10('./.data',\n",
        "                   train=False, \n",
        "                   transform=transforms.Compose([\n",
        "                       transforms.ToTensor(),\n",
        "                       transforms.Normalize((0.5, 0.5, 0.5),\n",
        "                                            (0.5, 0.5, 0.5))])),\n",
        "    batch_size=BATCH_SIZE, shuffle=True)"
      ],
      "execution_count": 13,
      "outputs": [
        {
          "output_type": "stream",
          "name": "stdout",
          "text": [
            "Downloading https://www.cs.toronto.edu/~kriz/cifar-10-python.tar.gz to ./.data/cifar-10-python.tar.gz\n"
          ]
        },
        {
          "output_type": "display_data",
          "data": {
            "application/vnd.jupyter.widget-view+json": {
              "model_id": "b7aacb0bc2cc40e6a3d85c7f38bd61db",
              "version_minor": 0,
              "version_major": 2
            },
            "text/plain": [
              "  0%|          | 0/170498071 [00:00<?, ?it/s]"
            ]
          },
          "metadata": {}
        },
        {
          "output_type": "stream",
          "name": "stdout",
          "text": [
            "Extracting ./.data/cifar-10-python.tar.gz to ./.data\n"
          ]
        }
      ]
    },
    {
      "cell_type": "markdown",
      "metadata": {
        "id": "OAzoUw7z5bYH"
      },
      "source": [
        "##5.3.3 CNN을 깊게 쌓는 방법"
      ]
    },
    {
      "cell_type": "markdown",
      "metadata": {
        "id": "-uCrDQe5xFrD"
      },
      "source": [
        "####ResNet 모델 만들기"
      ]
    },
    {
      "cell_type": "markdown",
      "metadata": {
        "id": "gMUirarK5o_N"
      },
      "source": [
        "기본이 되는 BasicBlock 클래스..\n",
        "\n",
        "- conv층과 batchnormalize층이 2개씩 들어가있다..\n",
        "- 전의 전 층의 입력을 그대로 더해줄 shortcut층도 있다.."
      ]
    },
    {
      "cell_type": "code",
      "metadata": {
        "id": "24Fti_Kmw-IX"
      },
      "source": [
        "class BasicBlock(nn.Module):\n",
        "    def __init__(self, in_planes, planes, stride=1):\n",
        "        super(BasicBlock, self).__init__()\n",
        "        self.conv1 = nn.Conv2d(in_planes, planes, kernel_size=3,\n",
        "                               stride=stride, padding=1, bias=False)\n",
        "        self.bn1 = nn.BatchNorm2d(planes)\n",
        "        self.conv2 = nn.Conv2d(planes, planes, kernel_size=3,\n",
        "                               stride=1, padding=1, bias=False)\n",
        "        self.bn2 = nn.BatchNorm2d(planes)\n",
        "\n",
        "        self.shortcut = nn.Sequential()\n",
        "        if stride != 1 or in_planes != planes:\n",
        "            self.shortcut = nn.Sequential(\n",
        "                #kernel_size=1은 그대로 나오는 것과 똑같다..\n",
        "                nn.Conv2d(in_planes, planes,\n",
        "                          kernel_size=1, stride=stride, bias=False),\n",
        "                nn.BatchNorm2d(planes)\n",
        "            )\n",
        "\n",
        "    #데이터의 흐름은 아래와 같다..\n",
        "    def forward(self, x):\n",
        "        out = F.relu(self.bn1(self.conv1(x)))\n",
        "        out = self.bn2(self.conv2(out))\n",
        "        out += self.shortcut(x)\n",
        "        out = F.relu(out)\n",
        "        return out"
      ],
      "execution_count": 14,
      "outputs": []
    },
    {
      "cell_type": "markdown",
      "metadata": {
        "id": "lO-hMs6R6Mjn"
      },
      "source": [
        "위의 BasicBlock을 이용하여 만드는 ResNet 클래스.."
      ]
    },
    {
      "cell_type": "code",
      "metadata": {
        "id": "qLw4uGqvw-Ff"
      },
      "source": [
        "class ResNet(nn.Module):\n",
        "    def __init__(self, num_classes=10):\n",
        "        super(ResNet, self).__init__()\n",
        "        self.in_planes = 16\n",
        "\n",
        "        self.conv1 = nn.Conv2d(3, 16, kernel_size=3,\n",
        "                               stride=1, padding=1, bias=False)\n",
        "        self.bn1 = nn.BatchNorm2d(16)\n",
        "        #16채널에서 16채널을 내보내는 BasicBlock 2개\n",
        "        #둘다 shortcut 없음\n",
        "        self.layer1 = self._make_layer(16, 2, stride=1)\n",
        "\n",
        "        #16채널을 받아 32채널을 출력하는 BasicBlock (shortcut 있음)\n",
        "        #32채널을 받아 32채널을 출력하는 BasicBlock (shortcut 없음)\n",
        "        self.layer2 = self._make_layer(32, 2, stride=2)\n",
        "\n",
        "        #32채널을 받아 64채널을 출력하는 BasicBlock (shortcut 있음)\n",
        "        #64채널을 받아 64채널을 출력하는 BasicBlock (shortcut 없음)\n",
        "        self.layer3 = self._make_layer(64, 2, stride=2)\n",
        "\n",
        "        #마지막 선형계산..\n",
        "        #layer3의 결과인 (64,8,8)텐서를 평균풀링해서 원소의 갯수를 64개로 만든다\n",
        "        self.linear = nn.Linear(64, num_classes)\n",
        "\n",
        "    #층만들기..\n",
        "    def _make_layer(self, planes, num_blocks, stride):\n",
        "        strides = [stride] + [1]*(num_blocks-1)\n",
        "        layers = []\n",
        "        for stride in strides:  #len(strides)만큼의 BasicBlock을 만든다..\n",
        "            layers.append(BasicBlock(self.in_planes, planes, stride))\n",
        "            #이 줄때문에 첫 BasicBlock만 Shortcut을 갖도록 해준다.. (이 예제에서는!)\n",
        "            self.in_planes = planes     \n",
        "        return nn.Sequential(*layers)\n",
        "\n",
        "    def forward(self, x):\n",
        "        out = F.relu(self.bn1(self.conv1(x)))\n",
        "        out = self.layer1(out)\n",
        "        out = self.layer2(out)\n",
        "        out = self.layer3(out)\n",
        "        out = F.avg_pool2d(out, 8)  #8,8로 평균풀링..\n",
        "        out = out.view(out.size(0), -1) #flatten()\n",
        "        out = self.linear(out)\n",
        "        return out"
      ],
      "execution_count": 15,
      "outputs": []
    },
    {
      "cell_type": "markdown",
      "metadata": {
        "id": "kluuYLKvxOyD"
      },
      "source": [
        "####준비"
      ]
    },
    {
      "cell_type": "markdown",
      "metadata": {
        "id": "R--zP91Q7qmS"
      },
      "source": [
        "학습효율을 높이기 위해 **학습률 감소**기법 사용!\n",
        "- 최적화 함수의 학습률을 점점 낮춰서 정교하게 최적화한다.."
      ]
    },
    {
      "cell_type": "code",
      "metadata": {
        "id": "IzlE6N48w-Cw"
      },
      "source": [
        "model = ResNet().to(DEVICE)\n",
        "optimizer = optim.SGD(model.parameters(), lr=0.1,\n",
        "                      momentum=0.9, weight_decay=0.0005)\n",
        "scheduler = optim.lr_scheduler.StepLR(optimizer, step_size=50, gamma=0.1)"
      ],
      "execution_count": 16,
      "outputs": []
    },
    {
      "cell_type": "code",
      "metadata": {
        "colab": {
          "base_uri": "https://localhost:8080/"
        },
        "id": "145qcHj6w-AE",
        "outputId": "4084f814-848a-400f-956d-7942c0c37f04"
      },
      "source": [
        "#모델 출력..\n",
        "\n",
        "print(model)"
      ],
      "execution_count": 17,
      "outputs": [
        {
          "output_type": "stream",
          "name": "stdout",
          "text": [
            "ResNet(\n",
            "  (conv1): Conv2d(3, 16, kernel_size=(3, 3), stride=(1, 1), padding=(1, 1), bias=False)\n",
            "  (bn1): BatchNorm2d(16, eps=1e-05, momentum=0.1, affine=True, track_running_stats=True)\n",
            "  (layer1): Sequential(\n",
            "    (0): BasicBlock(\n",
            "      (conv1): Conv2d(16, 16, kernel_size=(3, 3), stride=(1, 1), padding=(1, 1), bias=False)\n",
            "      (bn1): BatchNorm2d(16, eps=1e-05, momentum=0.1, affine=True, track_running_stats=True)\n",
            "      (conv2): Conv2d(16, 16, kernel_size=(3, 3), stride=(1, 1), padding=(1, 1), bias=False)\n",
            "      (bn2): BatchNorm2d(16, eps=1e-05, momentum=0.1, affine=True, track_running_stats=True)\n",
            "      (shortcut): Sequential()\n",
            "    )\n",
            "    (1): BasicBlock(\n",
            "      (conv1): Conv2d(16, 16, kernel_size=(3, 3), stride=(1, 1), padding=(1, 1), bias=False)\n",
            "      (bn1): BatchNorm2d(16, eps=1e-05, momentum=0.1, affine=True, track_running_stats=True)\n",
            "      (conv2): Conv2d(16, 16, kernel_size=(3, 3), stride=(1, 1), padding=(1, 1), bias=False)\n",
            "      (bn2): BatchNorm2d(16, eps=1e-05, momentum=0.1, affine=True, track_running_stats=True)\n",
            "      (shortcut): Sequential()\n",
            "    )\n",
            "  )\n",
            "  (layer2): Sequential(\n",
            "    (0): BasicBlock(\n",
            "      (conv1): Conv2d(16, 32, kernel_size=(3, 3), stride=(2, 2), padding=(1, 1), bias=False)\n",
            "      (bn1): BatchNorm2d(32, eps=1e-05, momentum=0.1, affine=True, track_running_stats=True)\n",
            "      (conv2): Conv2d(32, 32, kernel_size=(3, 3), stride=(1, 1), padding=(1, 1), bias=False)\n",
            "      (bn2): BatchNorm2d(32, eps=1e-05, momentum=0.1, affine=True, track_running_stats=True)\n",
            "      (shortcut): Sequential(\n",
            "        (0): Conv2d(16, 32, kernel_size=(1, 1), stride=(2, 2), bias=False)\n",
            "        (1): BatchNorm2d(32, eps=1e-05, momentum=0.1, affine=True, track_running_stats=True)\n",
            "      )\n",
            "    )\n",
            "    (1): BasicBlock(\n",
            "      (conv1): Conv2d(32, 32, kernel_size=(3, 3), stride=(1, 1), padding=(1, 1), bias=False)\n",
            "      (bn1): BatchNorm2d(32, eps=1e-05, momentum=0.1, affine=True, track_running_stats=True)\n",
            "      (conv2): Conv2d(32, 32, kernel_size=(3, 3), stride=(1, 1), padding=(1, 1), bias=False)\n",
            "      (bn2): BatchNorm2d(32, eps=1e-05, momentum=0.1, affine=True, track_running_stats=True)\n",
            "      (shortcut): Sequential()\n",
            "    )\n",
            "  )\n",
            "  (layer3): Sequential(\n",
            "    (0): BasicBlock(\n",
            "      (conv1): Conv2d(32, 64, kernel_size=(3, 3), stride=(2, 2), padding=(1, 1), bias=False)\n",
            "      (bn1): BatchNorm2d(64, eps=1e-05, momentum=0.1, affine=True, track_running_stats=True)\n",
            "      (conv2): Conv2d(64, 64, kernel_size=(3, 3), stride=(1, 1), padding=(1, 1), bias=False)\n",
            "      (bn2): BatchNorm2d(64, eps=1e-05, momentum=0.1, affine=True, track_running_stats=True)\n",
            "      (shortcut): Sequential(\n",
            "        (0): Conv2d(32, 64, kernel_size=(1, 1), stride=(2, 2), bias=False)\n",
            "        (1): BatchNorm2d(64, eps=1e-05, momentum=0.1, affine=True, track_running_stats=True)\n",
            "      )\n",
            "    )\n",
            "    (1): BasicBlock(\n",
            "      (conv1): Conv2d(64, 64, kernel_size=(3, 3), stride=(1, 1), padding=(1, 1), bias=False)\n",
            "      (bn1): BatchNorm2d(64, eps=1e-05, momentum=0.1, affine=True, track_running_stats=True)\n",
            "      (conv2): Conv2d(64, 64, kernel_size=(3, 3), stride=(1, 1), padding=(1, 1), bias=False)\n",
            "      (bn2): BatchNorm2d(64, eps=1e-05, momentum=0.1, affine=True, track_running_stats=True)\n",
            "      (shortcut): Sequential()\n",
            "    )\n",
            "  )\n",
            "  (linear): Linear(in_features=64, out_features=10, bias=True)\n",
            ")\n"
          ]
        }
      ]
    },
    {
      "cell_type": "markdown",
      "metadata": {
        "id": "3caN3foCxSsA"
      },
      "source": [
        "####학습하기"
      ]
    },
    {
      "cell_type": "code",
      "metadata": {
        "id": "Rc2MfoLzw99c"
      },
      "source": [
        "def train(model, train_loader, optimizer, epoch):\n",
        "    model.train()\n",
        "    for batch_idx, (data, target) in enumerate(train_loader):\n",
        "        data, target = data.to(DEVICE), target.to(DEVICE)\n",
        "        optimizer.zero_grad()\n",
        "        output = model(data)\n",
        "        loss = F.cross_entropy(output, target)\n",
        "        loss.backward()\n",
        "        optimizer.step()"
      ],
      "execution_count": 18,
      "outputs": []
    },
    {
      "cell_type": "markdown",
      "metadata": {
        "id": "ohu-4Z35xUox"
      },
      "source": [
        "####테스트하기"
      ]
    },
    {
      "cell_type": "code",
      "metadata": {
        "id": "zPC62fq_w969"
      },
      "source": [
        "def evaluate(model, test_loader):\n",
        "    model.eval()\n",
        "    test_loss = 0\n",
        "    correct = 0\n",
        "    with torch.no_grad():\n",
        "        for data, target in test_loader:\n",
        "            data, target = data.to(DEVICE), target.to(DEVICE)\n",
        "            output = model(data)\n",
        "\n",
        "            # 배치 오차를 합산\n",
        "            test_loss += F.cross_entropy(output, target,\n",
        "                                         reduction='sum').item()\n",
        "\n",
        "            # 가장 높은 값을 가진 인덱스가 바로 예측값\n",
        "            pred = output.max(1, keepdim=True)[1]\n",
        "            correct += pred.eq(target.view_as(pred)).sum().item()\n",
        "\n",
        "    test_loss /= len(test_loader.dataset)\n",
        "    test_accuracy = 100. * correct / len(test_loader.dataset)\n",
        "    return test_loss, test_accuracy"
      ],
      "execution_count": 19,
      "outputs": []
    },
    {
      "cell_type": "markdown",
      "metadata": {
        "id": "tqJFDjSfxjHw"
      },
      "source": [
        "####코드 돌려보기"
      ]
    },
    {
      "cell_type": "markdown",
      "metadata": {
        "id": "jKjQDbxo8Lcb"
      },
      "source": [
        "시간관계로 5에포크만 반복.."
      ]
    },
    {
      "cell_type": "code",
      "metadata": {
        "colab": {
          "base_uri": "https://localhost:8080/"
        },
        "id": "LgWcUCB3w94J",
        "outputId": "8647f3c6-9794-4e0e-eaf1-48753040af91"
      },
      "source": [
        "for epoch in range(1, EPOCHS + 1):\n",
        "    scheduler.step()\n",
        "    train(model, train_loader, optimizer, epoch)\n",
        "    test_loss, test_accuracy = evaluate(model, test_loader)\n",
        "\n",
        "    print('[{}] Test Loss: {:.4f}, Accuracy: {:.2f}%'.format(\n",
        "          epoch, test_loss, test_accuracy))\n",
        "    if epoch >= 5:\n",
        "        break"
      ],
      "execution_count": 21,
      "outputs": [
        {
          "output_type": "stream",
          "name": "stdout",
          "text": [
            "[1] Test Loss: 0.3950, Accuracy: 87.71%\n",
            "[2] Test Loss: 0.3815, Accuracy: 88.06%\n",
            "[3] Test Loss: 0.3812, Accuracy: 87.98%\n",
            "[4] Test Loss: 0.3596, Accuracy: 88.84%\n",
            "[5] Test Loss: 0.3779, Accuracy: 88.04%\n"
          ]
        }
      ]
    }
  ]
}
