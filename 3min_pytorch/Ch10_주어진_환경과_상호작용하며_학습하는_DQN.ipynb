{
  "nbformat": 4,
  "nbformat_minor": 0,
  "metadata": {
    "colab": {
      "name": "Ch10. 주어진 환경과 상호작용하며 학습하는 DQN",
      "provenance": []
    },
    "kernelspec": {
      "name": "python3",
      "display_name": "Python 3"
    },
    "language_info": {
      "name": "python"
    }
  },
  "cells": [
    {
      "cell_type": "code",
      "source": [
        "!pip install gym"
      ],
      "metadata": {
        "colab": {
          "base_uri": "https://localhost:8080/"
        },
        "id": "bzjvGmsycFdh",
        "outputId": "eb23ca10-b082-4a30-dba7-8073a742182d"
      },
      "execution_count": 1,
      "outputs": [
        {
          "output_type": "stream",
          "name": "stdout",
          "text": [
            "Requirement already satisfied: gym in /usr/local/lib/python3.7/dist-packages (0.17.3)\n",
            "Requirement already satisfied: pyglet<=1.5.0,>=1.4.0 in /usr/local/lib/python3.7/dist-packages (from gym) (1.5.0)\n",
            "Requirement already satisfied: cloudpickle<1.7.0,>=1.2.0 in /usr/local/lib/python3.7/dist-packages (from gym) (1.3.0)\n",
            "Requirement already satisfied: numpy>=1.10.4 in /usr/local/lib/python3.7/dist-packages (from gym) (1.19.5)\n",
            "Requirement already satisfied: scipy in /usr/local/lib/python3.7/dist-packages (from gym) (1.4.1)\n",
            "Requirement already satisfied: future in /usr/local/lib/python3.7/dist-packages (from pyglet<=1.5.0,>=1.4.0->gym) (0.16.0)\n"
          ]
        }
      ]
    },
    {
      "cell_type": "markdown",
      "source": [
        "#10.1 강화학습과 DQN 기초"
      ],
      "metadata": {
        "id": "Ra3mYYLiX9ml"
      }
    },
    {
      "cell_type": "markdown",
      "source": [
        "- agent : 플레이어\n",
        "- state : agent가 활동하는 환경\n",
        "- action : agent가 시행하는 상호작용\n",
        "- reward : agent의 action에 따른 점수 혹은 결과"
      ],
      "metadata": {
        "id": "BOymPuvtYOTz"
      }
    },
    {
      "cell_type": "markdown",
      "source": [
        "-> agent가 state에서 action을 반복하며 최고의 reward를 받는 방향으로 성장한다.."
      ],
      "metadata": {
        "id": "EUxeTwzpYjMw"
      }
    },
    {
      "cell_type": "markdown",
      "source": [
        "#10.2 카트폴 게임 마스터하기\n",
        "\n",
        "- 보통 강화학습이 게임에 적용된다..\n",
        "- 카트 위의 막대기가 오래 세워져 있도록 카트를 움직이는 게임.."
      ],
      "metadata": {
        "id": "UP1pdh_iYBJv"
      }
    },
    {
      "cell_type": "code",
      "source": [
        "import gym      #게임환경 제공\n",
        "import random\n",
        "import math\n",
        "import torch\n",
        "import torch.nn as nn\n",
        "import torch.optim as optim\n",
        "import torch.nn.functional as F\n",
        "from collections import deque       #데크..양쪽에서 삽입 및 삭제 가능..\n",
        "import matplotlib.pyplot as plt"
      ],
      "metadata": {
        "id": "3aqFVKUjcNkz"
      },
      "execution_count": 6,
      "outputs": []
    },
    {
      "cell_type": "markdown",
      "source": [
        "##10.2.1 하이퍼파라미터"
      ],
      "metadata": {
        "id": "Kwy4d_N5X9ef"
      }
    },
    {
      "cell_type": "markdown",
      "source": [
        "agent가 처음에는 무작위로 행동하다가 점점 경험을 학습하면서 좋은 방향으로 행동하게끔 함.."
      ],
      "metadata": {
        "id": "EP_r-8DRc4CY"
      }
    },
    {
      "cell_type": "markdown",
      "source": [
        "**할인계수**\n",
        "\n",
        "- 0 ~ 1 사이의 숫자\n",
        "- 0에 가까울수록 현재의 보상이 더 중요..\n",
        "- 1에 가까울수록 미래의 보상도 현재의 보상만큼 중요하게 고려됨.."
      ],
      "metadata": {
        "id": "nMTSZSMueKml"
      }
    },
    {
      "cell_type": "code",
      "source": [
        "EPISODES = 50    #게임 횟수\n",
        "\n",
        "#학습 중 에이전트가 무작위로 행동할 확률..\n",
        "EPS_START = 0.9         #시작\n",
        "EPS_END = 0.05          #끝\n",
        "\n",
        "EPS_DECAY = 200     #무작위성 감소율..\n",
        "\n",
        "GAMMA = 0.8      # 할인계수\n",
        "LR = 0.001       # 학습률\n",
        "BATCH_SIZE = 64  # 배치 크기"
      ],
      "metadata": {
        "id": "yFB4KrVVcjkm"
      },
      "execution_count": 7,
      "outputs": []
    },
    {
      "cell_type": "markdown",
      "source": [
        "##10.2.2 DQN 에이전트\n",
        "\n",
        "- 게임을 하기 위한 신경망\n",
        "- 행동을 결정하기 위한 함수\n",
        "- 각 행동의 가치를 학습하는 함수"
      ],
      "metadata": {
        "id": "dJYadZ-gX9a7"
      }
    },
    {
      "cell_type": "markdown",
      "source": [
        "입력정보 : 카트 위치, 가트 속도, 막대기 각도, 막대기 속도\n",
        "\n",
        "출력정보 : 좌, 우 어디로 갈지.."
      ],
      "metadata": {
        "id": "Cf2bcZ-nj2tU"
      }
    },
    {
      "cell_type": "markdown",
      "source": [
        "##10.2.3 이전 경험 기억하기\n",
        "\n",
        "def memorize(...):\n",
        "\n",
        ": 현재 상태, 행동, 행동에 대한 보상, 행동으로 인해 새로 생성된 상태 를 기억에 추가함.."
      ],
      "metadata": {
        "id": "EPrjnqZtlJ_o"
      }
    },
    {
      "cell_type": "markdown",
      "source": [
        "##10.2.4 행동하기\n",
        "\n",
        "def act(..):\n",
        "\n",
        "- 무작위로 숫자를 골라서 특정 입실론 값보다 크면 학습한 대로 행동하고, 작으면 무작위로 행동한다..\n",
        "- 학습 초기에는 학습이 의미있다고 생각하기 어렵다.. -> 입실론 값을 크게한다. (다양한 경험을 해보도록 한다..)\n",
        "- 학습이 진행될수록 입실론 값을 줄여서 학습한 대로 행동할 수 있도록 한다.."
      ],
      "metadata": {
        "id": "ZdgAY6vPlMmV"
      }
    },
    {
      "cell_type": "markdown",
      "source": [
        "**EPS_THRESHOLD**\n",
        "\n",
        "- $\n",
        "0.05 + 0.85\\exp^{(-(\\text{학습횟수})/200)}\n",
        "$\n",
        "- 0.9에서 0.05로 감소하는 함수 "
      ],
      "metadata": {
        "id": "ofTXSUnJmlid"
      }
    },
    {
      "cell_type": "markdown",
      "source": [
        "##10.2.5 이전 경험으로부터 배우기\n",
        "\n",
        "- DQN 에이전트가 기억하고 다시 상기할 수 있도록 학습시켜야 한다\n",
        "- **경험 리플레이**"
      ],
      "metadata": {
        "id": "1poR9sEylOZs"
      }
    },
    {
      "cell_type": "code",
      "source": [
        "class DQNAgent:\n",
        "    def __init__(self):\n",
        "        #4가지 정보를 입력받아 좌, 우 어디로 갈지 결정..\n",
        "        self.model = nn.Sequential(\n",
        "            nn.Linear(4, 256),\n",
        "            nn.ReLU(),\n",
        "            nn.Linear(256, 2)\n",
        "        )\n",
        "        #최적화 객체,,\n",
        "        self.optimizer = optim.Adam(self.model.parameters(), LR)\n",
        "        self.steps_done = 0     #학습할 때마다 증가..\n",
        "        self.memory = deque(maxlen=10000)       #이전 경험의 기억을 담음.. -> 오래된 기억은 자동으로 잊음\n",
        "\n",
        "    #기억을 추가하는 함수..\n",
        "    def memorize(self, state, action, reward, next_state):\n",
        "        self.memory.append((state,  #현재 상태\n",
        "                            action, #현재 상태에서의 행동\n",
        "                            torch.FloatTensor([reward]),    #행동에 대한 보상\n",
        "                            torch.FloatTensor([next_state])))   #행동으로 인해 새로 생성된 상태\n",
        "    \n",
        "    #행동하는 함수\n",
        "    def act(self, state):\n",
        "        #임계값 : 0.9 -> 0.05로 감소함..\n",
        "        eps_threshold = EPS_END + (EPS_START - EPS_END) * math.exp(-1. * self.steps_done / EPS_DECAY)\n",
        "        self.steps_done += 1\n",
        "\n",
        "        #임계값보다 크면 학습한대로..\n",
        "        if random.random() > eps_threshold:\n",
        "            #max(1)[1]은 최댓값의 인덱스를 텐서로 반환하고, view를 조지면 [1,1]크기의 2차원 텐서가 된다.\n",
        "            return self.model(state).data.max(1)[1].view(1, 1)\n",
        "        #작으면 무작위로 행동\n",
        "        else:\n",
        "            return torch.LongTensor([[random.randrange(2)]])\n",
        "    \n",
        "    #경험으로 부터 배우는 함수\n",
        "    def learn(self):\n",
        "        if len(self.memory) < BATCH_SIZE:\n",
        "            return\n",
        "        batch = random.sample(self.memory, BATCH_SIZE)      #무작위로 경험 가져오기\n",
        "        states, actions, rewards, next_states = zip(*batch) #각 경험을 따로 묶기\n",
        "\n",
        "        #각 경험 준비..\n",
        "        states = torch.cat(states)\n",
        "        actions = torch.cat(actions)\n",
        "        rewards = torch.cat(rewards)\n",
        "        next_states = torch.cat(next_states)\n",
        "\n",
        "\n",
        "        current_q = self.model(states).gather(1, actions)\n",
        "        max_next_q = self.model(next_states).detach().max(1)[0]\n",
        "        expected_q = rewards + (GAMMA * max_next_q)\n",
        "        \n",
        "        loss = F.mse_loss(current_q.squeeze(), expected_q)\n",
        "        self.optimizer.zero_grad()\n",
        "        loss.backward()\n",
        "        self.optimizer.step()"
      ],
      "metadata": {
        "id": "GJ6rL3a1e0oK"
      },
      "execution_count": 8,
      "outputs": []
    },
    {
      "cell_type": "markdown",
      "source": [
        "##10.2.6 학습 시작하기"
      ],
      "metadata": {
        "id": "2qRfMtZTb9cB"
      }
    },
    {
      "cell_type": "code",
      "source": [
        "env = gym.make('CartPole-v0')\n",
        "agent = DQNAgent()\n",
        "score_history = []"
      ],
      "metadata": {
        "id": "oPQ2ZTJBfGEM"
      },
      "execution_count": 9,
      "outputs": []
    },
    {
      "cell_type": "code",
      "source": [
        "for e in range(1, EPISODES+1):\n",
        "    state = env.reset()\n",
        "    steps = 0\n",
        "    while True:\n",
        "        env.render()\n",
        "        state = torch.FloatTensor([state])\n",
        "        action = agent.act(state)\n",
        "        next_state, reward, done, _ = env.step(action.item())\n",
        "\n",
        "        # 게임이 끝났을 경우 마이너스 보상주기\n",
        "        if done:\n",
        "            reward = -1\n",
        "\n",
        "        agent.memorize(state, action, reward, next_state)\n",
        "        agent.learn()\n",
        "\n",
        "        state = next_state\n",
        "        steps += 1\n",
        "\n",
        "        if done:\n",
        "            print(\"에피소드:{0} 점수: {1}\".format(e, steps))\n",
        "            score_history.append(steps)\n",
        "            break"
      ],
      "metadata": {
        "id": "PhzU1EEWfHb7"
      },
      "execution_count": null,
      "outputs": []
    },
    {
      "cell_type": "markdown",
      "source": [
        "점수 시각화.."
      ],
      "metadata": {
        "id": "Zk7WeRIKftpd"
      }
    },
    {
      "cell_type": "code",
      "source": [
        "plt.plot(score_history)\n",
        "plt.ylabel('score')\n",
        "plt.show()"
      ],
      "metadata": {
        "colab": {
          "base_uri": "https://localhost:8080/",
          "height": 265
        },
        "id": "HRGyTzb8fv8T",
        "outputId": "958f051b-62b9-4f52-807b-605238fdd366"
      },
      "execution_count": 10,
      "outputs": [
        {
          "output_type": "display_data",
          "data": {
            "image/png": "[encoded data removed]",
            "text/plain": [
              "<Figure size 432x288 with 1 Axes>"
            ]
          },
          "metadata": {
            "needs_background": "light"
          }
        }
      ]
    },
    {
      "cell_type": "markdown",
      "source": [
        "#10.3 마치며"
      ],
      "metadata": {
        "id": "gDW4ygLzb8bS"
      }
    }
  ]
}
