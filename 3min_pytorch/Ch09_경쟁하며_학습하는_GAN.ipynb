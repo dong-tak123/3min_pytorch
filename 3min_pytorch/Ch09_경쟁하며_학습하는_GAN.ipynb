{
  "nbformat": 4,
  "nbformat_minor": 0,
  "metadata": {
    "colab": {
      "name": "Ch09. 경쟁하며 학습하는 GAN",
      "provenance": []
    },
    "kernelspec": {
      "name": "python3",
      "display_name": "Python 3"
    },
    "language_info": {
      "name": "python"
    },
    "accelerator": "GPU",
    "widgets": {
      "application/vnd.jupyter.widget-state+json": {
        "318dbdec64404a25b930e102f710469e": {
          "model_module": "@jupyter-widgets/controls",
          "model_name": "HBoxModel",
          "model_module_version": "1.5.0",
          "state": {
            "_view_name": "HBoxView",
            "_dom_classes": [],
            "_model_name": "HBoxModel",
            "_view_module": "@jupyter-widgets/controls",
            "_model_module_version": "1.5.0",
            "_view_count": null,
            "_view_module_version": "1.5.0",
            "box_style": "",
            "layout": "IPY_MODEL_72ab90a1e56f4d9281f100421d9b5e8d",
            "_model_module": "@jupyter-widgets/controls",
            "children": [
              "IPY_MODEL_2ad9bd88bd714e5a9d66c7d85d932f10",
              "IPY_MODEL_287e74ea5d7848e6816e58647da27b98",
              "IPY_MODEL_438787326cdb48b89a23876b69ae202a"
            ]
          }
        },
        "72ab90a1e56f4d9281f100421d9b5e8d": {
          "model_module": "@jupyter-widgets/base",
          "model_name": "LayoutModel",
          "model_module_version": "1.2.0",
          "state": {
            "_view_name": "LayoutView",
            "grid_template_rows": null,
            "right": null,
            "justify_content": null,
            "_view_module": "@jupyter-widgets/base",
            "overflow": null,
            "_model_module_version": "1.2.0",
            "_view_count": null,
            "flex_flow": null,
            "width": null,
            "min_width": null,
            "border": null,
            "align_items": null,
            "bottom": null,
            "_model_module": "@jupyter-widgets/base",
            "top": null,
            "grid_column": null,
            "overflow_y": null,
            "overflow_x": null,
            "grid_auto_flow": null,
            "grid_area": null,
            "grid_template_columns": null,
            "flex": null,
            "_model_name": "LayoutModel",
            "justify_items": null,
            "grid_row": null,
            "max_height": null,
            "align_content": null,
            "visibility": null,
            "align_self": null,
            "height": null,
            "min_height": null,
            "padding": null,
            "grid_auto_rows": null,
            "grid_gap": null,
            "max_width": null,
            "order": null,
            "_view_module_version": "1.2.0",
            "grid_template_areas": null,
            "object_position": null,
            "object_fit": null,
            "grid_auto_columns": null,
            "margin": null,
            "display": null,
            "left": null
          }
        },
        "2ad9bd88bd714e5a9d66c7d85d932f10": {
          "model_module": "@jupyter-widgets/controls",
          "model_name": "HTMLModel",
          "model_module_version": "1.5.0",
          "state": {
            "_view_name": "HTMLView",
            "style": "IPY_MODEL_dff70da6ee024884a42b3f5ff2bc7bf6",
            "_dom_classes": [],
            "description": "",
            "_model_name": "HTMLModel",
            "placeholder": "​",
            "_view_module": "@jupyter-widgets/controls",
            "_model_module_version": "1.5.0",
            "value": "",
            "_view_count": null,
            "_view_module_version": "1.5.0",
            "description_tooltip": null,
            "_model_module": "@jupyter-widgets/controls",
            "layout": "IPY_MODEL_0ba869646c31457eb11c55aee1925282"
          }
        },
        "287e74ea5d7848e6816e58647da27b98": {
          "model_module": "@jupyter-widgets/controls",
          "model_name": "FloatProgressModel",
          "model_module_version": "1.5.0",
          "state": {
            "_view_name": "ProgressView",
            "style": "IPY_MODEL_5d975ba9a6aa47bcb3b0b4dee8eca678",
            "_dom_classes": [],
            "description": "",
            "_model_name": "FloatProgressModel",
            "bar_style": "success",
            "max": 26421880,
            "_view_module": "@jupyter-widgets/controls",
            "_model_module_version": "1.5.0",
            "value": 26421880,
            "_view_count": null,
            "_view_module_version": "1.5.0",
            "orientation": "horizontal",
            "min": 0,
            "description_tooltip": null,
            "_model_module": "@jupyter-widgets/controls",
            "layout": "IPY_MODEL_34c1be956ca94051b2589ed700c6d729"
          }
        },
        "438787326cdb48b89a23876b69ae202a": {
          "model_module": "@jupyter-widgets/controls",
          "model_name": "HTMLModel",
          "model_module_version": "1.5.0",
          "state": {
            "_view_name": "HTMLView",
            "style": "IPY_MODEL_d25adf5961014ca98885884ad3c6e0cd",
            "_dom_classes": [],
            "description": "",
            "_model_name": "HTMLModel",
            "placeholder": "​",
            "_view_module": "@jupyter-widgets/controls",
            "_model_module_version": "1.5.0",
            "value": " 26422272/? [00:04&lt;00:00, 8167951.38it/s]",
            "_view_count": null,
            "_view_module_version": "1.5.0",
            "description_tooltip": null,
            "_model_module": "@jupyter-widgets/controls",
            "layout": "IPY_MODEL_26e1253bb7794ce5b4b3eb1e488d8e21"
          }
        },
        "dff70da6ee024884a42b3f5ff2bc7bf6": {
          "model_module": "@jupyter-widgets/controls",
          "model_name": "DescriptionStyleModel",
          "model_module_version": "1.5.0",
          "state": {
            "_view_name": "StyleView",
            "_model_name": "DescriptionStyleModel",
            "description_width": "",
            "_view_module": "@jupyter-widgets/base",
            "_model_module_version": "1.5.0",
            "_view_count": null,
            "_view_module_version": "1.2.0",
            "_model_module": "@jupyter-widgets/controls"
          }
        },
        "0ba869646c31457eb11c55aee1925282": {
          "model_module": "@jupyter-widgets/base",
          "model_name": "LayoutModel",
          "model_module_version": "1.2.0",
          "state": {
            "_view_name": "LayoutView",
            "grid_template_rows": null,
            "right": null,
            "justify_content": null,
            "_view_module": "@jupyter-widgets/base",
            "overflow": null,
            "_model_module_version": "1.2.0",
            "_view_count": null,
            "flex_flow": null,
            "width": null,
            "min_width": null,
            "border": null,
            "align_items": null,
            "bottom": null,
            "_model_module": "@jupyter-widgets/base",
            "top": null,
            "grid_column": null,
            "overflow_y": null,
            "overflow_x": null,
            "grid_auto_flow": null,
            "grid_area": null,
            "grid_template_columns": null,
            "flex": null,
            "_model_name": "LayoutModel",
            "justify_items": null,
            "grid_row": null,
            "max_height": null,
            "align_content": null,
            "visibility": null,
            "align_self": null,
            "height": null,
            "min_height": null,
            "padding": null,
            "grid_auto_rows": null,
            "grid_gap": null,
            "max_width": null,
            "order": null,
            "_view_module_version": "1.2.0",
            "grid_template_areas": null,
            "object_position": null,
            "object_fit": null,
            "grid_auto_columns": null,
            "margin": null,
            "display": null,
            "left": null
          }
        },
        "5d975ba9a6aa47bcb3b0b4dee8eca678": {
          "model_module": "@jupyter-widgets/controls",
          "model_name": "ProgressStyleModel",
          "model_module_version": "1.5.0",
          "state": {
            "_view_name": "StyleView",
            "_model_name": "ProgressStyleModel",
            "description_width": "",
            "_view_module": "@jupyter-widgets/base",
            "_model_module_version": "1.5.0",
            "_view_count": null,
            "_view_module_version": "1.2.0",
            "bar_color": null,
            "_model_module": "@jupyter-widgets/controls"
          }
        },
        "34c1be956ca94051b2589ed700c6d729": {
          "model_module": "@jupyter-widgets/base",
          "model_name": "LayoutModel",
          "model_module_version": "1.2.0",
          "state": {
            "_view_name": "LayoutView",
            "grid_template_rows": null,
            "right": null,
            "justify_content": null,
            "_view_module": "@jupyter-widgets/base",
            "overflow": null,
            "_model_module_version": "1.2.0",
            "_view_count": null,
            "flex_flow": null,
            "width": null,
            "min_width": null,
            "border": null,
            "align_items": null,
            "bottom": null,
            "_model_module": "@jupyter-widgets/base",
            "top": null,
            "grid_column": null,
            "overflow_y": null,
            "overflow_x": null,
            "grid_auto_flow": null,
            "grid_area": null,
            "grid_template_columns": null,
            "flex": null,
            "_model_name": "LayoutModel",
            "justify_items": null,
            "grid_row": null,
            "max_height": null,
            "align_content": null,
            "visibility": null,
            "align_self": null,
            "height": null,
            "min_height": null,
            "padding": null,
            "grid_auto_rows": null,
            "grid_gap": null,
            "max_width": null,
            "order": null,
            "_view_module_version": "1.2.0",
            "grid_template_areas": null,
            "object_position": null,
            "object_fit": null,
            "grid_auto_columns": null,
            "margin": null,
            "display": null,
            "left": null
          }
        },
        "d25adf5961014ca98885884ad3c6e0cd": {
          "model_module": "@jupyter-widgets/controls",
          "model_name": "DescriptionStyleModel",
          "model_module_version": "1.5.0",
          "state": {
            "_view_name": "StyleView",
            "_model_name": "DescriptionStyleModel",
            "description_width": "",
            "_view_module": "@jupyter-widgets/base",
            "_model_module_version": "1.5.0",
            "_view_count": null,
            "_view_module_version": "1.2.0",
            "_model_module": "@jupyter-widgets/controls"
          }
        },
        "26e1253bb7794ce5b4b3eb1e488d8e21": {
          "model_module": "@jupyter-widgets/base",
          "model_name": "LayoutModel",
          "model_module_version": "1.2.0",
          "state": {
            "_view_name": "LayoutView",
            "grid_template_rows": null,
            "right": null,
            "justify_content": null,
            "_view_module": "@jupyter-widgets/base",
            "overflow": null,
            "_model_module_version": "1.2.0",
            "_view_count": null,
            "flex_flow": null,
            "width": null,
            "min_width": null,
            "border": null,
            "align_items": null,
            "bottom": null,
            "_model_module": "@jupyter-widgets/base",
            "top": null,
            "grid_column": null,
            "overflow_y": null,
            "overflow_x": null,
            "grid_auto_flow": null,
            "grid_area": null,
            "grid_template_columns": null,
            "flex": null,
            "_model_name": "LayoutModel",
            "justify_items": null,
            "grid_row": null,
            "max_height": null,
            "align_content": null,
            "visibility": null,
            "align_self": null,
            "height": null,
            "min_height": null,
            "padding": null,
            "grid_auto_rows": null,
            "grid_gap": null,
            "max_width": null,
            "order": null,
            "_view_module_version": "1.2.0",
            "grid_template_areas": null,
            "object_position": null,
            "object_fit": null,
            "grid_auto_columns": null,
            "margin": null,
            "display": null,
            "left": null
          }
        },
        "393dff8d1ef94782ae432e64a7b69633": {
          "model_module": "@jupyter-widgets/controls",
          "model_name": "HBoxModel",
          "model_module_version": "1.5.0",
          "state": {
            "_view_name": "HBoxView",
            "_dom_classes": [],
            "_model_name": "HBoxModel",
            "_view_module": "@jupyter-widgets/controls",
            "_model_module_version": "1.5.0",
            "_view_count": null,
            "_view_module_version": "1.5.0",
            "box_style": "",
            "layout": "IPY_MODEL_b4a594c8f9bd4957be69db1e4c23d0f4",
            "_model_module": "@jupyter-widgets/controls",
            "children": [
              "IPY_MODEL_10dbf22ea04744ff84b43e40c7b5956b",
              "IPY_MODEL_78ae811cfceb4faa85de95565edb6e7c",
              "IPY_MODEL_07ef08cadb6e473a84cfa8a8516079dc"
            ]
          }
        },
        "b4a594c8f9bd4957be69db1e4c23d0f4": {
          "model_module": "@jupyter-widgets/base",
          "model_name": "LayoutModel",
          "model_module_version": "1.2.0",
          "state": {
            "_view_name": "LayoutView",
            "grid_template_rows": null,
            "right": null,
            "justify_content": null,
            "_view_module": "@jupyter-widgets/base",
            "overflow": null,
            "_model_module_version": "1.2.0",
            "_view_count": null,
            "flex_flow": null,
            "width": null,
            "min_width": null,
            "border": null,
            "align_items": null,
            "bottom": null,
            "_model_module": "@jupyter-widgets/base",
            "top": null,
            "grid_column": null,
            "overflow_y": null,
            "overflow_x": null,
            "grid_auto_flow": null,
            "grid_area": null,
            "grid_template_columns": null,
            "flex": null,
            "_model_name": "LayoutModel",
            "justify_items": null,
            "grid_row": null,
            "max_height": null,
            "align_content": null,
            "visibility": null,
            "align_self": null,
            "height": null,
            "min_height": null,
            "padding": null,
            "grid_auto_rows": null,
            "grid_gap": null,
            "max_width": null,
            "order": null,
            "_view_module_version": "1.2.0",
            "grid_template_areas": null,
            "object_position": null,
            "object_fit": null,
            "grid_auto_columns": null,
            "margin": null,
            "display": null,
            "left": null
          }
        },
        "10dbf22ea04744ff84b43e40c7b5956b": {
          "model_module": "@jupyter-widgets/controls",
          "model_name": "HTMLModel",
          "model_module_version": "1.5.0",
          "state": {
            "_view_name": "HTMLView",
            "style": "IPY_MODEL_8ae7fd146ec14f54b5f30a5fd7ce6b61",
            "_dom_classes": [],
            "description": "",
            "_model_name": "HTMLModel",
            "placeholder": "​",
            "_view_module": "@jupyter-widgets/controls",
            "_model_module_version": "1.5.0",
            "value": "",
            "_view_count": null,
            "_view_module_version": "1.5.0",
            "description_tooltip": null,
            "_model_module": "@jupyter-widgets/controls",
            "layout": "IPY_MODEL_0c5b6b90064c4a0782c615b65fde6f90"
          }
        },
        "78ae811cfceb4faa85de95565edb6e7c": {
          "model_module": "@jupyter-widgets/controls",
          "model_name": "FloatProgressModel",
          "model_module_version": "1.5.0",
          "state": {
            "_view_name": "ProgressView",
            "style": "IPY_MODEL_b233687f9e164554a389c8991e14f616",
            "_dom_classes": [],
            "description": "",
            "_model_name": "FloatProgressModel",
            "bar_style": "success",
            "max": 29515,
            "_view_module": "@jupyter-widgets/controls",
            "_model_module_version": "1.5.0",
            "value": 29515,
            "_view_count": null,
            "_view_module_version": "1.5.0",
            "orientation": "horizontal",
            "min": 0,
            "description_tooltip": null,
            "_model_module": "@jupyter-widgets/controls",
            "layout": "IPY_MODEL_6b0ac81038c84e318004d46bef36046d"
          }
        },
        "07ef08cadb6e473a84cfa8a8516079dc": {
          "model_module": "@jupyter-widgets/controls",
          "model_name": "HTMLModel",
          "model_module_version": "1.5.0",
          "state": {
            "_view_name": "HTMLView",
            "style": "IPY_MODEL_779eb9f899d24c998893192994c666e1",
            "_dom_classes": [],
            "description": "",
            "_model_name": "HTMLModel",
            "placeholder": "​",
            "_view_module": "@jupyter-widgets/controls",
            "_model_module_version": "1.5.0",
            "value": " 29696/? [00:00&lt;00:00, 56037.88it/s]",
            "_view_count": null,
            "_view_module_version": "1.5.0",
            "description_tooltip": null,
            "_model_module": "@jupyter-widgets/controls",
            "layout": "IPY_MODEL_fe3bed5f99ab44fc949e7749093f0120"
          }
        },
        "8ae7fd146ec14f54b5f30a5fd7ce6b61": {
          "model_module": "@jupyter-widgets/controls",
          "model_name": "DescriptionStyleModel",
          "model_module_version": "1.5.0",
          "state": {
            "_view_name": "StyleView",
            "_model_name": "DescriptionStyleModel",
            "description_width": "",
            "_view_module": "@jupyter-widgets/base",
            "_model_module_version": "1.5.0",
            "_view_count": null,
            "_view_module_version": "1.2.0",
            "_model_module": "@jupyter-widgets/controls"
          }
        },
        "0c5b6b90064c4a0782c615b65fde6f90": {
          "model_module": "@jupyter-widgets/base",
          "model_name": "LayoutModel",
          "model_module_version": "1.2.0",
          "state": {
            "_view_name": "LayoutView",
            "grid_template_rows": null,
            "right": null,
            "justify_content": null,
            "_view_module": "@jupyter-widgets/base",
            "overflow": null,
            "_model_module_version": "1.2.0",
            "_view_count": null,
            "flex_flow": null,
            "width": null,
            "min_width": null,
            "border": null,
            "align_items": null,
            "bottom": null,
            "_model_module": "@jupyter-widgets/base",
            "top": null,
            "grid_column": null,
            "overflow_y": null,
            "overflow_x": null,
            "grid_auto_flow": null,
            "grid_area": null,
            "grid_template_columns": null,
            "flex": null,
            "_model_name": "LayoutModel",
            "justify_items": null,
            "grid_row": null,
            "max_height": null,
            "align_content": null,
            "visibility": null,
            "align_self": null,
            "height": null,
            "min_height": null,
            "padding": null,
            "grid_auto_rows": null,
            "grid_gap": null,
            "max_width": null,
            "order": null,
            "_view_module_version": "1.2.0",
            "grid_template_areas": null,
            "object_position": null,
            "object_fit": null,
            "grid_auto_columns": null,
            "margin": null,
            "display": null,
            "left": null
          }
        },
        "b233687f9e164554a389c8991e14f616": {
          "model_module": "@jupyter-widgets/controls",
          "model_name": "ProgressStyleModel",
          "model_module_version": "1.5.0",
          "state": {
            "_view_name": "StyleView",
            "_model_name": "ProgressStyleModel",
            "description_width": "",
            "_view_module": "@jupyter-widgets/base",
            "_model_module_version": "1.5.0",
            "_view_count": null,
            "_view_module_version": "1.2.0",
            "bar_color": null,
            "_model_module": "@jupyter-widgets/controls"
          }
        },
        "6b0ac81038c84e318004d46bef36046d": {
          "model_module": "@jupyter-widgets/base",
          "model_name": "LayoutModel",
          "model_module_version": "1.2.0",
          "state": {
            "_view_name": "LayoutView",
            "grid_template_rows": null,
            "right": null,
            "justify_content": null,
            "_view_module": "@jupyter-widgets/base",
            "overflow": null,
            "_model_module_version": "1.2.0",
            "_view_count": null,
            "flex_flow": null,
            "width": null,
            "min_width": null,
            "border": null,
            "align_items": null,
            "bottom": null,
            "_model_module": "@jupyter-widgets/base",
            "top": null,
            "grid_column": null,
            "overflow_y": null,
            "overflow_x": null,
            "grid_auto_flow": null,
            "grid_area": null,
            "grid_template_columns": null,
            "flex": null,
            "_model_name": "LayoutModel",
            "justify_items": null,
            "grid_row": null,
            "max_height": null,
            "align_content": null,
            "visibility": null,
            "align_self": null,
            "height": null,
            "min_height": null,
            "padding": null,
            "grid_auto_rows": null,
            "grid_gap": null,
            "max_width": null,
            "order": null,
            "_view_module_version": "1.2.0",
            "grid_template_areas": null,
            "object_position": null,
            "object_fit": null,
            "grid_auto_columns": null,
            "margin": null,
            "display": null,
            "left": null
          }
        },
        "779eb9f899d24c998893192994c666e1": {
          "model_module": "@jupyter-widgets/controls",
          "model_name": "DescriptionStyleModel",
          "model_module_version": "1.5.0",
          "state": {
            "_view_name": "StyleView",
            "_model_name": "DescriptionStyleModel",
            "description_width": "",
            "_view_module": "@jupyter-widgets/base",
            "_model_module_version": "1.5.0",
            "_view_count": null,
            "_view_module_version": "1.2.0",
            "_model_module": "@jupyter-widgets/controls"
          }
        },
        "fe3bed5f99ab44fc949e7749093f0120": {
          "model_module": "@jupyter-widgets/base",
          "model_name": "LayoutModel",
          "model_module_version": "1.2.0",
          "state": {
            "_view_name": "LayoutView",
            "grid_template_rows": null,
            "right": null,
            "justify_content": null,
            "_view_module": "@jupyter-widgets/base",
            "overflow": null,
            "_model_module_version": "1.2.0",
            "_view_count": null,
            "flex_flow": null,
            "width": null,
            "min_width": null,
            "border": null,
            "align_items": null,
            "bottom": null,
            "_model_module": "@jupyter-widgets/base",
            "top": null,
            "grid_column": null,
            "overflow_y": null,
            "overflow_x": null,
            "grid_auto_flow": null,
            "grid_area": null,
            "grid_template_columns": null,
            "flex": null,
            "_model_name": "LayoutModel",
            "justify_items": null,
            "grid_row": null,
            "max_height": null,
            "align_content": null,
            "visibility": null,
            "align_self": null,
            "height": null,
            "min_height": null,
            "padding": null,
            "grid_auto_rows": null,
            "grid_gap": null,
            "max_width": null,
            "order": null,
            "_view_module_version": "1.2.0",
            "grid_template_areas": null,
            "object_position": null,
            "object_fit": null,
            "grid_auto_columns": null,
            "margin": null,
            "display": null,
            "left": null
          }
        },
        "6a6042336185433ab530705ad2898f5c": {
          "model_module": "@jupyter-widgets/controls",
          "model_name": "HBoxModel",
          "model_module_version": "1.5.0",
          "state": {
            "_view_name": "HBoxView",
            "_dom_classes": [],
            "_model_name": "HBoxModel",
            "_view_module": "@jupyter-widgets/controls",
            "_model_module_version": "1.5.0",
            "_view_count": null,
            "_view_module_version": "1.5.0",
            "box_style": "",
            "layout": "IPY_MODEL_1aaf3c9ff0524682acdf488f65f8a7b7",
            "_model_module": "@jupyter-widgets/controls",
            "children": [
              "IPY_MODEL_82632357f0a0448eba941e07f6f920c0",
              "IPY_MODEL_706f3f3f7a2943f99c0374e374a74095",
              "IPY_MODEL_642b65cb43de49c29f49d7f878355aca"
            ]
          }
        },
        "1aaf3c9ff0524682acdf488f65f8a7b7": {
          "model_module": "@jupyter-widgets/base",
          "model_name": "LayoutModel",
          "model_module_version": "1.2.0",
          "state": {
            "_view_name": "LayoutView",
            "grid_template_rows": null,
            "right": null,
            "justify_content": null,
            "_view_module": "@jupyter-widgets/base",
            "overflow": null,
            "_model_module_version": "1.2.0",
            "_view_count": null,
            "flex_flow": null,
            "width": null,
            "min_width": null,
            "border": null,
            "align_items": null,
            "bottom": null,
            "_model_module": "@jupyter-widgets/base",
            "top": null,
            "grid_column": null,
            "overflow_y": null,
            "overflow_x": null,
            "grid_auto_flow": null,
            "grid_area": null,
            "grid_template_columns": null,
            "flex": null,
            "_model_name": "LayoutModel",
            "justify_items": null,
            "grid_row": null,
            "max_height": null,
            "align_content": null,
            "visibility": null,
            "align_self": null,
            "height": null,
            "min_height": null,
            "padding": null,
            "grid_auto_rows": null,
            "grid_gap": null,
            "max_width": null,
            "order": null,
            "_view_module_version": "1.2.0",
            "grid_template_areas": null,
            "object_position": null,
            "object_fit": null,
            "grid_auto_columns": null,
            "margin": null,
            "display": null,
            "left": null
          }
        },
        "82632357f0a0448eba941e07f6f920c0": {
          "model_module": "@jupyter-widgets/controls",
          "model_name": "HTMLModel",
          "model_module_version": "1.5.0",
          "state": {
            "_view_name": "HTMLView",
            "style": "IPY_MODEL_b516ba7a3d79488b9756144b4abcb586",
            "_dom_classes": [],
            "description": "",
            "_model_name": "HTMLModel",
            "placeholder": "​",
            "_view_module": "@jupyter-widgets/controls",
            "_model_module_version": "1.5.0",
            "value": "",
            "_view_count": null,
            "_view_module_version": "1.5.0",
            "description_tooltip": null,
            "_model_module": "@jupyter-widgets/controls",
            "layout": "IPY_MODEL_fb962e61fe564bdd9519b51a301fb430"
          }
        },
        "706f3f3f7a2943f99c0374e374a74095": {
          "model_module": "@jupyter-widgets/controls",
          "model_name": "FloatProgressModel",
          "model_module_version": "1.5.0",
          "state": {
            "_view_name": "ProgressView",
            "style": "IPY_MODEL_032f91aaa06b4955a71b79a9fd42fd87",
            "_dom_classes": [],
            "description": "",
            "_model_name": "FloatProgressModel",
            "bar_style": "success",
            "max": 4422102,
            "_view_module": "@jupyter-widgets/controls",
            "_model_module_version": "1.5.0",
            "value": 4422102,
            "_view_count": null,
            "_view_module_version": "1.5.0",
            "orientation": "horizontal",
            "min": 0,
            "description_tooltip": null,
            "_model_module": "@jupyter-widgets/controls",
            "layout": "IPY_MODEL_49f8b0abbe6f49b7b98a7d68020d762e"
          }
        },
        "642b65cb43de49c29f49d7f878355aca": {
          "model_module": "@jupyter-widgets/controls",
          "model_name": "HTMLModel",
          "model_module_version": "1.5.0",
          "state": {
            "_view_name": "HTMLView",
            "style": "IPY_MODEL_3036becab8224ce99c81c2ffa3f8c81b",
            "_dom_classes": [],
            "description": "",
            "_model_name": "HTMLModel",
            "placeholder": "​",
            "_view_module": "@jupyter-widgets/controls",
            "_model_module_version": "1.5.0",
            "value": " 4422656/? [00:02&lt;00:00, 3100893.98it/s]",
            "_view_count": null,
            "_view_module_version": "1.5.0",
            "description_tooltip": null,
            "_model_module": "@jupyter-widgets/controls",
            "layout": "IPY_MODEL_16b92a85ec604d2f84f1233cce3ed746"
          }
        },
        "b516ba7a3d79488b9756144b4abcb586": {
          "model_module": "@jupyter-widgets/controls",
          "model_name": "DescriptionStyleModel",
          "model_module_version": "1.5.0",
          "state": {
            "_view_name": "StyleView",
            "_model_name": "DescriptionStyleModel",
            "description_width": "",
            "_view_module": "@jupyter-widgets/base",
            "_model_module_version": "1.5.0",
            "_view_count": null,
            "_view_module_version": "1.2.0",
            "_model_module": "@jupyter-widgets/controls"
          }
        },
        "fb962e61fe564bdd9519b51a301fb430": {
          "model_module": "@jupyter-widgets/base",
          "model_name": "LayoutModel",
          "model_module_version": "1.2.0",
          "state": {
            "_view_name": "LayoutView",
            "grid_template_rows": null,
            "right": null,
            "justify_content": null,
            "_view_module": "@jupyter-widgets/base",
            "overflow": null,
            "_model_module_version": "1.2.0",
            "_view_count": null,
            "flex_flow": null,
            "width": null,
            "min_width": null,
            "border": null,
            "align_items": null,
            "bottom": null,
            "_model_module": "@jupyter-widgets/base",
            "top": null,
            "grid_column": null,
            "overflow_y": null,
            "overflow_x": null,
            "grid_auto_flow": null,
            "grid_area": null,
            "grid_template_columns": null,
            "flex": null,
            "_model_name": "LayoutModel",
            "justify_items": null,
            "grid_row": null,
            "max_height": null,
            "align_content": null,
            "visibility": null,
            "align_self": null,
            "height": null,
            "min_height": null,
            "padding": null,
            "grid_auto_rows": null,
            "grid_gap": null,
            "max_width": null,
            "order": null,
            "_view_module_version": "1.2.0",
            "grid_template_areas": null,
            "object_position": null,
            "object_fit": null,
            "grid_auto_columns": null,
            "margin": null,
            "display": null,
            "left": null
          }
        },
        "032f91aaa06b4955a71b79a9fd42fd87": {
          "model_module": "@jupyter-widgets/controls",
          "model_name": "ProgressStyleModel",
          "model_module_version": "1.5.0",
          "state": {
            "_view_name": "StyleView",
            "_model_name": "ProgressStyleModel",
            "description_width": "",
            "_view_module": "@jupyter-widgets/base",
            "_model_module_version": "1.5.0",
            "_view_count": null,
            "_view_module_version": "1.2.0",
            "bar_color": null,
            "_model_module": "@jupyter-widgets/controls"
          }
        },
        "49f8b0abbe6f49b7b98a7d68020d762e": {
          "model_module": "@jupyter-widgets/base",
          "model_name": "LayoutModel",
          "model_module_version": "1.2.0",
          "state": {
            "_view_name": "LayoutView",
            "grid_template_rows": null,
            "right": null,
            "justify_content": null,
            "_view_module": "@jupyter-widgets/base",
            "overflow": null,
            "_model_module_version": "1.2.0",
            "_view_count": null,
            "flex_flow": null,
            "width": null,
            "min_width": null,
            "border": null,
            "align_items": null,
            "bottom": null,
            "_model_module": "@jupyter-widgets/base",
            "top": null,
            "grid_column": null,
            "overflow_y": null,
            "overflow_x": null,
            "grid_auto_flow": null,
            "grid_area": null,
            "grid_template_columns": null,
            "flex": null,
            "_model_name": "LayoutModel",
            "justify_items": null,
            "grid_row": null,
            "max_height": null,
            "align_content": null,
            "visibility": null,
            "align_self": null,
            "height": null,
            "min_height": null,
            "padding": null,
            "grid_auto_rows": null,
            "grid_gap": null,
            "max_width": null,
            "order": null,
            "_view_module_version": "1.2.0",
            "grid_template_areas": null,
            "object_position": null,
            "object_fit": null,
            "grid_auto_columns": null,
            "margin": null,
            "display": null,
            "left": null
          }
        },
        "3036becab8224ce99c81c2ffa3f8c81b": {
          "model_module": "@jupyter-widgets/controls",
          "model_name": "DescriptionStyleModel",
          "model_module_version": "1.5.0",
          "state": {
            "_view_name": "StyleView",
            "_model_name": "DescriptionStyleModel",
            "description_width": "",
            "_view_module": "@jupyter-widgets/base",
            "_model_module_version": "1.5.0",
            "_view_count": null,
            "_view_module_version": "1.2.0",
            "_model_module": "@jupyter-widgets/controls"
          }
        },
        "16b92a85ec604d2f84f1233cce3ed746": {
          "model_module": "@jupyter-widgets/base",
          "model_name": "LayoutModel",
          "model_module_version": "1.2.0",
          "state": {
            "_view_name": "LayoutView",
            "grid_template_rows": null,
            "right": null,
            "justify_content": null,
            "_view_module": "@jupyter-widgets/base",
            "overflow": null,
            "_model_module_version": "1.2.0",
            "_view_count": null,
            "flex_flow": null,
            "width": null,
            "min_width": null,
            "border": null,
            "align_items": null,
            "bottom": null,
            "_model_module": "@jupyter-widgets/base",
            "top": null,
            "grid_column": null,
            "overflow_y": null,
            "overflow_x": null,
            "grid_auto_flow": null,
            "grid_area": null,
            "grid_template_columns": null,
            "flex": null,
            "_model_name": "LayoutModel",
            "justify_items": null,
            "grid_row": null,
            "max_height": null,
            "align_content": null,
            "visibility": null,
            "align_self": null,
            "height": null,
            "min_height": null,
            "padding": null,
            "grid_auto_rows": null,
            "grid_gap": null,
            "max_width": null,
            "order": null,
            "_view_module_version": "1.2.0",
            "grid_template_areas": null,
            "object_position": null,
            "object_fit": null,
            "grid_auto_columns": null,
            "margin": null,
            "display": null,
            "left": null
          }
        },
        "3958caf8df3849df94f6119a19c76308": {
          "model_module": "@jupyter-widgets/controls",
          "model_name": "HBoxModel",
          "model_module_version": "1.5.0",
          "state": {
            "_view_name": "HBoxView",
            "_dom_classes": [],
            "_model_name": "HBoxModel",
            "_view_module": "@jupyter-widgets/controls",
            "_model_module_version": "1.5.0",
            "_view_count": null,
            "_view_module_version": "1.5.0",
            "box_style": "",
            "layout": "IPY_MODEL_44c82d960d7c46f297a3d40413a1a6e6",
            "_model_module": "@jupyter-widgets/controls",
            "children": [
              "IPY_MODEL_4f1123d21d6b4acc9ccd40ff40c82ca1",
              "IPY_MODEL_197561430a7b402fbca49b7cace469c1",
              "IPY_MODEL_e7f29fee81d046c28fa1759bce221d65"
            ]
          }
        },
        "44c82d960d7c46f297a3d40413a1a6e6": {
          "model_module": "@jupyter-widgets/base",
          "model_name": "LayoutModel",
          "model_module_version": "1.2.0",
          "state": {
            "_view_name": "LayoutView",
            "grid_template_rows": null,
            "right": null,
            "justify_content": null,
            "_view_module": "@jupyter-widgets/base",
            "overflow": null,
            "_model_module_version": "1.2.0",
            "_view_count": null,
            "flex_flow": null,
            "width": null,
            "min_width": null,
            "border": null,
            "align_items": null,
            "bottom": null,
            "_model_module": "@jupyter-widgets/base",
            "top": null,
            "grid_column": null,
            "overflow_y": null,
            "overflow_x": null,
            "grid_auto_flow": null,
            "grid_area": null,
            "grid_template_columns": null,
            "flex": null,
            "_model_name": "LayoutModel",
            "justify_items": null,
            "grid_row": null,
            "max_height": null,
            "align_content": null,
            "visibility": null,
            "align_self": null,
            "height": null,
            "min_height": null,
            "padding": null,
            "grid_auto_rows": null,
            "grid_gap": null,
            "max_width": null,
            "order": null,
            "_view_module_version": "1.2.0",
            "grid_template_areas": null,
            "object_position": null,
            "object_fit": null,
            "grid_auto_columns": null,
            "margin": null,
            "display": null,
            "left": null
          }
        },
        "4f1123d21d6b4acc9ccd40ff40c82ca1": {
          "model_module": "@jupyter-widgets/controls",
          "model_name": "HTMLModel",
          "model_module_version": "1.5.0",
          "state": {
            "_view_name": "HTMLView",
            "style": "IPY_MODEL_5732dcdc2b5f462282bd6ebf29680fcd",
            "_dom_classes": [],
            "description": "",
            "_model_name": "HTMLModel",
            "placeholder": "​",
            "_view_module": "@jupyter-widgets/controls",
            "_model_module_version": "1.5.0",
            "value": "",
            "_view_count": null,
            "_view_module_version": "1.5.0",
            "description_tooltip": null,
            "_model_module": "@jupyter-widgets/controls",
            "layout": "IPY_MODEL_1c646e2e4f6a4e938d917a6d624e9601"
          }
        },
        "197561430a7b402fbca49b7cace469c1": {
          "model_module": "@jupyter-widgets/controls",
          "model_name": "FloatProgressModel",
          "model_module_version": "1.5.0",
          "state": {
            "_view_name": "ProgressView",
            "style": "IPY_MODEL_3ec9a40b577d4d1289df83fa0c8e6682",
            "_dom_classes": [],
            "description": "",
            "_model_name": "FloatProgressModel",
            "bar_style": "success",
            "max": 5148,
            "_view_module": "@jupyter-widgets/controls",
            "_model_module_version": "1.5.0",
            "value": 5148,
            "_view_count": null,
            "_view_module_version": "1.5.0",
            "orientation": "horizontal",
            "min": 0,
            "description_tooltip": null,
            "_model_module": "@jupyter-widgets/controls",
            "layout": "IPY_MODEL_0033be41b4fc419fbf3c4a9a2af6e339"
          }
        },
        "e7f29fee81d046c28fa1759bce221d65": {
          "model_module": "@jupyter-widgets/controls",
          "model_name": "HTMLModel",
          "model_module_version": "1.5.0",
          "state": {
            "_view_name": "HTMLView",
            "style": "IPY_MODEL_da1dff8a5a3f4f69b6438c3b225f1a2b",
            "_dom_classes": [],
            "description": "",
            "_model_name": "HTMLModel",
            "placeholder": "​",
            "_view_module": "@jupyter-widgets/controls",
            "_model_module_version": "1.5.0",
            "value": " 6144/? [00:00&lt;00:00, 164338.81it/s]",
            "_view_count": null,
            "_view_module_version": "1.5.0",
            "description_tooltip": null,
            "_model_module": "@jupyter-widgets/controls",
            "layout": "IPY_MODEL_f96976babe684cc0936ce8cb1e04b77f"
          }
        },
        "5732dcdc2b5f462282bd6ebf29680fcd": {
          "model_module": "@jupyter-widgets/controls",
          "model_name": "DescriptionStyleModel",
          "model_module_version": "1.5.0",
          "state": {
            "_view_name": "StyleView",
            "_model_name": "DescriptionStyleModel",
            "description_width": "",
            "_view_module": "@jupyter-widgets/base",
            "_model_module_version": "1.5.0",
            "_view_count": null,
            "_view_module_version": "1.2.0",
            "_model_module": "@jupyter-widgets/controls"
          }
        },
        "1c646e2e4f6a4e938d917a6d624e9601": {
          "model_module": "@jupyter-widgets/base",
          "model_name": "LayoutModel",
          "model_module_version": "1.2.0",
          "state": {
            "_view_name": "LayoutView",
            "grid_template_rows": null,
            "right": null,
            "justify_content": null,
            "_view_module": "@jupyter-widgets/base",
            "overflow": null,
            "_model_module_version": "1.2.0",
            "_view_count": null,
            "flex_flow": null,
            "width": null,
            "min_width": null,
            "border": null,
            "align_items": null,
            "bottom": null,
            "_model_module": "@jupyter-widgets/base",
            "top": null,
            "grid_column": null,
            "overflow_y": null,
            "overflow_x": null,
            "grid_auto_flow": null,
            "grid_area": null,
            "grid_template_columns": null,
            "flex": null,
            "_model_name": "LayoutModel",
            "justify_items": null,
            "grid_row": null,
            "max_height": null,
            "align_content": null,
            "visibility": null,
            "align_self": null,
            "height": null,
            "min_height": null,
            "padding": null,
            "grid_auto_rows": null,
            "grid_gap": null,
            "max_width": null,
            "order": null,
            "_view_module_version": "1.2.0",
            "grid_template_areas": null,
            "object_position": null,
            "object_fit": null,
            "grid_auto_columns": null,
            "margin": null,
            "display": null,
            "left": null
          }
        },
        "3ec9a40b577d4d1289df83fa0c8e6682": {
          "model_module": "@jupyter-widgets/controls",
          "model_name": "ProgressStyleModel",
          "model_module_version": "1.5.0",
          "state": {
            "_view_name": "StyleView",
            "_model_name": "ProgressStyleModel",
            "description_width": "",
            "_view_module": "@jupyter-widgets/base",
            "_model_module_version": "1.5.0",
            "_view_count": null,
            "_view_module_version": "1.2.0",
            "bar_color": null,
            "_model_module": "@jupyter-widgets/controls"
          }
        },
        "0033be41b4fc419fbf3c4a9a2af6e339": {
          "model_module": "@jupyter-widgets/base",
          "model_name": "LayoutModel",
          "model_module_version": "1.2.0",
          "state": {
            "_view_name": "LayoutView",
            "grid_template_rows": null,
            "right": null,
            "justify_content": null,
            "_view_module": "@jupyter-widgets/base",
            "overflow": null,
            "_model_module_version": "1.2.0",
            "_view_count": null,
            "flex_flow": null,
            "width": null,
            "min_width": null,
            "border": null,
            "align_items": null,
            "bottom": null,
            "_model_module": "@jupyter-widgets/base",
            "top": null,
            "grid_column": null,
            "overflow_y": null,
            "overflow_x": null,
            "grid_auto_flow": null,
            "grid_area": null,
            "grid_template_columns": null,
            "flex": null,
            "_model_name": "LayoutModel",
            "justify_items": null,
            "grid_row": null,
            "max_height": null,
            "align_content": null,
            "visibility": null,
            "align_self": null,
            "height": null,
            "min_height": null,
            "padding": null,
            "grid_auto_rows": null,
            "grid_gap": null,
            "max_width": null,
            "order": null,
            "_view_module_version": "1.2.0",
            "grid_template_areas": null,
            "object_position": null,
            "object_fit": null,
            "grid_auto_columns": null,
            "margin": null,
            "display": null,
            "left": null
          }
        },
        "da1dff8a5a3f4f69b6438c3b225f1a2b": {
          "model_module": "@jupyter-widgets/controls",
          "model_name": "DescriptionStyleModel",
          "model_module_version": "1.5.0",
          "state": {
            "_view_name": "StyleView",
            "_model_name": "DescriptionStyleModel",
            "description_width": "",
            "_view_module": "@jupyter-widgets/base",
            "_model_module_version": "1.5.0",
            "_view_count": null,
            "_view_module_version": "1.2.0",
            "_model_module": "@jupyter-widgets/controls"
          }
        },
        "f96976babe684cc0936ce8cb1e04b77f": {
          "model_module": "@jupyter-widgets/base",
          "model_name": "LayoutModel",
          "model_module_version": "1.2.0",
          "state": {
            "_view_name": "LayoutView",
            "grid_template_rows": null,
            "right": null,
            "justify_content": null,
            "_view_module": "@jupyter-widgets/base",
            "overflow": null,
            "_model_module_version": "1.2.0",
            "_view_count": null,
            "flex_flow": null,
            "width": null,
            "min_width": null,
            "border": null,
            "align_items": null,
            "bottom": null,
            "_model_module": "@jupyter-widgets/base",
            "top": null,
            "grid_column": null,
            "overflow_y": null,
            "overflow_x": null,
            "grid_auto_flow": null,
            "grid_area": null,
            "grid_template_columns": null,
            "flex": null,
            "_model_name": "LayoutModel",
            "justify_items": null,
            "grid_row": null,
            "max_height": null,
            "align_content": null,
            "visibility": null,
            "align_self": null,
            "height": null,
            "min_height": null,
            "padding": null,
            "grid_auto_rows": null,
            "grid_gap": null,
            "max_width": null,
            "order": null,
            "_view_module_version": "1.2.0",
            "grid_template_areas": null,
            "object_position": null,
            "object_fit": null,
            "grid_auto_columns": null,
            "margin": null,
            "display": null,
            "left": null
          }
        }
      }
    }
  },
  "cells": [
    {
      "cell_type": "markdown",
      "source": [
        "#9.1 GAN 기초"
      ],
      "metadata": {
        "id": "YsS887HUSy82"
      }
    },
    {
      "cell_type": "markdown",
      "source": [
        "##9.1.1 생성자와 판별자"
      ],
      "metadata": {
        "id": "_bTutkqKbRA-"
      }
    },
    {
      "cell_type": "markdown",
      "source": [
        "생성자 : 가짜 이미지를 생성함\n",
        "\n",
        "판별자 : 진짜와 가짜를 구분함\n",
        "\n",
        "-> 생성자는 판별자를 속이려고 성장, 판별자는 잘 구분하려고 성장..\n",
        "\n",
        "-> 둘다 성장한다.."
      ],
      "metadata": {
        "id": "zEDEiMirbXsi"
      }
    },
    {
      "cell_type": "markdown",
      "source": [
        "#9.2 GAN으로 새로운 패션 아이템 생성하기"
      ],
      "metadata": {
        "id": "Kj7ZVfpGS57Z"
      }
    },
    {
      "cell_type": "markdown",
      "source": [
        "##9.2.1 학습 준비"
      ],
      "metadata": {
        "id": "6vtXHk8fVbZh"
      }
    },
    {
      "cell_type": "code",
      "source": [
        "import os\n",
        "import torch\n",
        "import torchvision\n",
        "import torch.nn as nn\n",
        "import torch.optim as optim\n",
        "from torchvision import transforms, datasets\n",
        "from torchvision.utils import save_image\n",
        "import matplotlib.pyplot as plt\n",
        "import numpy as np"
      ],
      "metadata": {
        "id": "DmO_DJ8YdG5a"
      },
      "execution_count": 1,
      "outputs": []
    },
    {
      "cell_type": "code",
      "source": [
        "EPOCHS = 50\n",
        "BATCH_SIZE = 100\n",
        "USE_CUDA = torch.cuda.is_available()\n",
        "DEVICE = torch.device(\"cuda\" if USE_CUDA else \"cpu\")\n",
        "print(\"Using Device:\", DEVICE)"
      ],
      "metadata": {
        "colab": {
          "base_uri": "https://localhost:8080/"
        },
        "id": "CQEjl9_7dH7s",
        "outputId": "db35387e-1f03-41c0-d124-8eb77ce3e7f8"
      },
      "execution_count": 2,
      "outputs": [
        {
          "output_type": "stream",
          "name": "stdout",
          "text": [
            "Using Device: cuda\n"
          ]
        }
      ]
    },
    {
      "cell_type": "code",
      "source": [
        "# Fashion MNIST 데이터셋\n",
        "trainset = datasets.FashionMNIST(\n",
        "    './.data',\n",
        "    train=True,\n",
        "    download=True,\n",
        "    transform=transforms.Compose([\n",
        "       transforms.ToTensor(),   #텐서로 바꾸고\n",
        "       transforms.Normalize((0.5,), (0.5,))     #각 채널에 맞게 정규화..\n",
        "    ])\n",
        ")\n",
        "\n",
        "train_loader = torch.utils.data.DataLoader(\n",
        "    dataset     = trainset,\n",
        "    batch_size  = BATCH_SIZE,\n",
        "    shuffle     = True\n",
        ")"
      ],
      "metadata": {
        "colab": {
          "base_uri": "https://localhost:8080/",
          "height": 422,
          "referenced_widgets": [
            "318dbdec64404a25b930e102f710469e",
            "72ab90a1e56f4d9281f100421d9b5e8d",
            "2ad9bd88bd714e5a9d66c7d85d932f10",
            "287e74ea5d7848e6816e58647da27b98",
            "438787326cdb48b89a23876b69ae202a",
            "dff70da6ee024884a42b3f5ff2bc7bf6",
            "0ba869646c31457eb11c55aee1925282",
            "5d975ba9a6aa47bcb3b0b4dee8eca678",
            "34c1be956ca94051b2589ed700c6d729",
            "d25adf5961014ca98885884ad3c6e0cd",
            "26e1253bb7794ce5b4b3eb1e488d8e21",
            "393dff8d1ef94782ae432e64a7b69633",
            "b4a594c8f9bd4957be69db1e4c23d0f4",
            "10dbf22ea04744ff84b43e40c7b5956b",
            "78ae811cfceb4faa85de95565edb6e7c",
            "07ef08cadb6e473a84cfa8a8516079dc",
            "8ae7fd146ec14f54b5f30a5fd7ce6b61",
            "0c5b6b90064c4a0782c615b65fde6f90",
            "b233687f9e164554a389c8991e14f616",
            "6b0ac81038c84e318004d46bef36046d",
            "779eb9f899d24c998893192994c666e1",
            "fe3bed5f99ab44fc949e7749093f0120",
            "6a6042336185433ab530705ad2898f5c",
            "1aaf3c9ff0524682acdf488f65f8a7b7",
            "82632357f0a0448eba941e07f6f920c0",
            "706f3f3f7a2943f99c0374e374a74095",
            "642b65cb43de49c29f49d7f878355aca",
            "b516ba7a3d79488b9756144b4abcb586",
            "fb962e61fe564bdd9519b51a301fb430",
            "032f91aaa06b4955a71b79a9fd42fd87",
            "49f8b0abbe6f49b7b98a7d68020d762e",
            "3036becab8224ce99c81c2ffa3f8c81b",
            "16b92a85ec604d2f84f1233cce3ed746",
            "3958caf8df3849df94f6119a19c76308",
            "44c82d960d7c46f297a3d40413a1a6e6",
            "4f1123d21d6b4acc9ccd40ff40c82ca1",
            "197561430a7b402fbca49b7cace469c1",
            "e7f29fee81d046c28fa1759bce221d65",
            "5732dcdc2b5f462282bd6ebf29680fcd",
            "1c646e2e4f6a4e938d917a6d624e9601",
            "3ec9a40b577d4d1289df83fa0c8e6682",
            "0033be41b4fc419fbf3c4a9a2af6e339",
            "da1dff8a5a3f4f69b6438c3b225f1a2b",
            "f96976babe684cc0936ce8cb1e04b77f"
          ]
        },
        "id": "cw4N_1JudH2x",
        "outputId": "737c5cef-6505-4f5a-b258-82e56c338e64"
      },
      "execution_count": 3,
      "outputs": [
        {
          "output_type": "stream",
          "name": "stdout",
          "text": [
            "Downloading http://fashion-mnist.s3-website.eu-central-1.amazonaws.com/train-images-idx3-ubyte.gz\n",
            "Downloading http://fashion-mnist.s3-website.eu-central-1.amazonaws.com/train-images-idx3-ubyte.gz to ./.data/FashionMNIST/raw/train-images-idx3-ubyte.gz\n"
          ]
        },
        {
          "output_type": "display_data",
          "data": {
            "application/vnd.jupyter.widget-view+json": {
              "model_id": "318dbdec64404a25b930e102f710469e",
              "version_minor": 0,
              "version_major": 2
            },
            "text/plain": [
              "  0%|          | 0/26421880 [00:00<?, ?it/s]"
            ]
          },
          "metadata": {}
        },
        {
          "output_type": "stream",
          "name": "stdout",
          "text": [
            "Extracting ./.data/FashionMNIST/raw/train-images-idx3-ubyte.gz to ./.data/FashionMNIST/raw\n",
            "\n",
            "Downloading http://fashion-mnist.s3-website.eu-central-1.amazonaws.com/train-labels-idx1-ubyte.gz\n",
            "Downloading http://fashion-mnist.s3-website.eu-central-1.amazonaws.com/train-labels-idx1-ubyte.gz to ./.data/FashionMNIST/raw/train-labels-idx1-ubyte.gz\n"
          ]
        },
        {
          "output_type": "display_data",
          "data": {
            "application/vnd.jupyter.widget-view+json": {
              "model_id": "393dff8d1ef94782ae432e64a7b69633",
              "version_minor": 0,
              "version_major": 2
            },
            "text/plain": [
              "  0%|          | 0/29515 [00:00<?, ?it/s]"
            ]
          },
          "metadata": {}
        },
        {
          "output_type": "stream",
          "name": "stdout",
          "text": [
            "Extracting ./.data/FashionMNIST/raw/train-labels-idx1-ubyte.gz to ./.data/FashionMNIST/raw\n",
            "\n",
            "Downloading http://fashion-mnist.s3-website.eu-central-1.amazonaws.com/t10k-images-idx3-ubyte.gz\n",
            "Downloading http://fashion-mnist.s3-website.eu-central-1.amazonaws.com/t10k-images-idx3-ubyte.gz to ./.data/FashionMNIST/raw/t10k-images-idx3-ubyte.gz\n"
          ]
        },
        {
          "output_type": "display_data",
          "data": {
            "application/vnd.jupyter.widget-view+json": {
              "model_id": "6a6042336185433ab530705ad2898f5c",
              "version_minor": 0,
              "version_major": 2
            },
            "text/plain": [
              "  0%|          | 0/4422102 [00:00<?, ?it/s]"
            ]
          },
          "metadata": {}
        },
        {
          "output_type": "stream",
          "name": "stdout",
          "text": [
            "Extracting ./.data/FashionMNIST/raw/t10k-images-idx3-ubyte.gz to ./.data/FashionMNIST/raw\n",
            "\n",
            "Downloading http://fashion-mnist.s3-website.eu-central-1.amazonaws.com/t10k-labels-idx1-ubyte.gz\n",
            "Downloading http://fashion-mnist.s3-website.eu-central-1.amazonaws.com/t10k-labels-idx1-ubyte.gz to ./.data/FashionMNIST/raw/t10k-labels-idx1-ubyte.gz\n"
          ]
        },
        {
          "output_type": "display_data",
          "data": {
            "application/vnd.jupyter.widget-view+json": {
              "model_id": "3958caf8df3849df94f6119a19c76308",
              "version_minor": 0,
              "version_major": 2
            },
            "text/plain": [
              "  0%|          | 0/5148 [00:00<?, ?it/s]"
            ]
          },
          "metadata": {}
        },
        {
          "output_type": "stream",
          "name": "stdout",
          "text": [
            "Extracting ./.data/FashionMNIST/raw/t10k-labels-idx1-ubyte.gz to ./.data/FashionMNIST/raw\n",
            "\n"
          ]
        }
      ]
    },
    {
      "cell_type": "markdown",
      "source": [
        "##9.2.2 생성자와 판별자 구현"
      ],
      "metadata": {
        "id": "YNHEu0xWVc_c"
      }
    },
    {
      "cell_type": "markdown",
      "source": [
        "그럴듯한 '가짜'는 '진짜'의 분포를 닮는다."
      ],
      "metadata": {
        "id": "ttbILkUAcX9Q"
      }
    },
    {
      "cell_type": "markdown",
      "source": [
        "생성자\n",
        "\n",
        ": 64차원의 무작위 텐서를 입력받아 784차원(28*28) 로 바꾼다."
      ],
      "metadata": {
        "id": "5y_o7qZHcw9J"
      }
    },
    {
      "cell_type": "code",
      "source": [
        "# 생성자 (Generator)\n",
        "\n",
        "G = nn.Sequential(\n",
        "        nn.Linear(64, 256),\n",
        "        nn.ReLU(),\n",
        "        nn.Linear(256, 256),\n",
        "        nn.ReLU(),\n",
        "        nn.Linear(256, 784),\n",
        "        nn.Tanh())      # -1 ~ 1의 값"
      ],
      "metadata": {
        "id": "xnpiiiBWdHzR"
      },
      "execution_count": 4,
      "outputs": []
    },
    {
      "cell_type": "markdown",
      "source": [
        "판별자\n",
        "\n",
        ": 784차원의 텐서를 입력받아 진짜인지 가짜인지 분류하는 분류모델\n",
        "\n",
        ": LeakyReLU() : 음의 기울기도 전달함"
      ],
      "metadata": {
        "id": "S1bATs17cv-e"
      }
    },
    {
      "cell_type": "code",
      "source": [
        "# 판별자 (Discriminator)\n",
        "\n",
        "D = nn.Sequential(\n",
        "        nn.Linear(784, 256),\n",
        "        nn.LeakyReLU(0.2),\n",
        "        nn.Linear(256, 256),\n",
        "        nn.LeakyReLU(0.2),\n",
        "        nn.Linear(256, 1),\n",
        "        nn.Sigmoid())       # 0 ~ 1의 값.."
      ],
      "metadata": {
        "id": "cW70mHIAdHvk"
      },
      "execution_count": 5,
      "outputs": []
    },
    {
      "cell_type": "markdown",
      "source": [
        "##9.2.3 GAN 학습 구현"
      ],
      "metadata": {
        "id": "jEpsBCj8Vc8D"
      }
    },
    {
      "cell_type": "markdown",
      "source": [
        "레이블이 두개.. -> 이진 교차 엔트로피\n",
        "\n",
        "최적화 함수 Adam"
      ],
      "metadata": {
        "id": "2VOU8lsui_gc"
      }
    },
    {
      "cell_type": "code",
      "source": [
        "# 모델의 가중치를 지정한 장치로 보내기\n",
        "D = D.to(DEVICE)\n",
        "G = G.to(DEVICE)\n",
        "\n",
        "criterion = nn.BCELoss()\n",
        "d_optimizer = optim.Adam(D.parameters(), lr=0.0002)\n",
        "g_optimizer = optim.Adam(G.parameters(), lr=0.0002)"
      ],
      "metadata": {
        "id": "WJXPrMsfdHsZ"
      },
      "execution_count": 6,
      "outputs": []
    },
    {
      "cell_type": "markdown",
      "source": [
        "시간상 EPOCHS를 500 -> 50으로 줄여서 확인..\n",
        "\n",
        "- d_loss : 판별자의 오차\n",
        "- g_loss : 생성자의 오차\n",
        "- D(x) : 진짜를 진짜로 인식한 정확도\n",
        "- D(G(z)) : 가짜를 진짜로 인식한 정확도\n",
        "    - fake_score는 0이 나와야 좋은건데 판별자에 통과시키고 평균내면 평균적으로 1이 얼마나 나왔는가에 대한 수치이다..\n",
        "\n",
        "EPOCHS 500 결과 : d_loss:1.3055, g_loss: 1.0484, D(x):0.61, D(G(z)):0.45"
      ],
      "metadata": {
        "id": "BoD_O8OzlZgd"
      }
    },
    {
      "cell_type": "code",
      "source": [
        "total_step = len(train_loader)\n",
        "for epoch in range(EPOCHS):\n",
        "    for i, (images, _) in enumerate(train_loader):\n",
        "        #이미지는 진짜 이미지를 불러오는거임..\n",
        "        images = images.reshape(BATCH_SIZE, -1).to(DEVICE)\n",
        "        \n",
        "        # '진짜'와 '가짜' 레이블 생성\n",
        "        real_labels = torch.ones(BATCH_SIZE, 1).to(DEVICE)\n",
        "        fake_labels = torch.zeros(BATCH_SIZE, 1).to(DEVICE)\n",
        "        \n",
        "        outputs = D(images)     #진짜 이미지에 대한 판별결과\n",
        "        d_loss_real = criterion(outputs, real_labels)       #진짜를 잘못 인식하는 오차\n",
        "        real_score = outputs    #진짜를 진짜로 판별한 점수..\n",
        "        \n",
        "\n",
        "        z = torch.randn(BATCH_SIZE, 64).to(DEVICE)  #랜덤 64차원 텐서\n",
        "        fake_images = G(z)      #이미지 형태로 생성.. 가짜이미지..\n",
        "        \n",
        "        #가짜 이미지에 대한 판별결과(1(진짜)이면 틀린거임..)\n",
        "        #이걸 평균내면 평균적으로 얼마나 가짜를 진짜로 착각했냐는 거임..\n",
        "        outputs = D(fake_images)    \n",
        "        d_loss_fake = criterion(outputs, fake_labels)       #가짜를 잘못 인식하는 오차\n",
        "        fake_score = outputs    #가짜를 진짜로 판별한 점수..\n",
        "        \n",
        "        #진짜 오차와 가짜 오차의 합\n",
        "        d_loss = d_loss_real + d_loss_fake\n",
        "\n",
        "\n",
        "        # 판별자 학습.. 가짜와 진짜 합쳐서 얼마나 오차가 있었나..\n",
        "        d_optimizer.zero_grad()\n",
        "        g_optimizer.zero_grad()\n",
        "        d_loss.backward()   #전체 오차에 대한 역전파..\n",
        "        d_optimizer.step()\n",
        "        \n",
        "\n",
        "        #생성자 학습..\n",
        "        fake_images = G(z)\n",
        "        outputs = D(fake_images)    #가짜를 판별했을때 결과..\n",
        "        g_loss = criterion(outputs, real_labels)    #진짜와의 오차\n",
        "        \n",
        "        # 생성자 학습..\n",
        "        d_optimizer.zero_grad()\n",
        "        g_optimizer.zero_grad()\n",
        "        g_loss.backward()       #오차에 대한 역전파..\n",
        "        g_optimizer.step()\n",
        "        \n",
        "    # 학습 진행 알아보기\n",
        "    print('Epoch [{}/{}], d_loss: {:.4f}, g_loss: {:.4f}, D(x): {:.2f}, D(G(z)): {:.2f}' \n",
        "          .format(epoch, EPOCHS, d_loss.item(), g_loss.item(), \n",
        "                  real_score.mean().item(), fake_score.mean().item()))"
      ],
      "metadata": {
        "colab": {
          "base_uri": "https://localhost:8080/"
        },
        "id": "QoqJEJDYdVI-",
        "outputId": "eec46d19-117c-4f57-e553-161a0bc08f01"
      },
      "execution_count": 7,
      "outputs": [
        {
          "output_type": "stream",
          "name": "stdout",
          "text": [
            "Epoch [0/50], d_loss: 0.1581, g_loss: 4.0343, D(x): 0.95, D(G(z)): 0.09\n",
            "Epoch [1/50], d_loss: 0.0191, g_loss: 5.5430, D(x): 0.99, D(G(z)): 0.01\n",
            "Epoch [2/50], d_loss: 0.0552, g_loss: 7.6510, D(x): 0.99, D(G(z)): 0.00\n",
            "Epoch [3/50], d_loss: 0.0559, g_loss: 6.4967, D(x): 0.97, D(G(z)): 0.01\n",
            "Epoch [4/50], d_loss: 0.0621, g_loss: 7.3458, D(x): 0.99, D(G(z)): 0.02\n",
            "Epoch [5/50], d_loss: 0.0875, g_loss: 6.5091, D(x): 0.97, D(G(z)): 0.02\n",
            "Epoch [6/50], d_loss: 0.0756, g_loss: 11.3889, D(x): 0.98, D(G(z)): 0.00\n",
            "Epoch [7/50], d_loss: 0.0895, g_loss: 6.2306, D(x): 0.96, D(G(z)): 0.02\n",
            "Epoch [8/50], d_loss: 0.0653, g_loss: 5.0115, D(x): 0.99, D(G(z)): 0.05\n",
            "Epoch [9/50], d_loss: 0.1456, g_loss: 6.1746, D(x): 0.96, D(G(z)): 0.04\n",
            "Epoch [10/50], d_loss: 0.2548, g_loss: 4.0137, D(x): 0.94, D(G(z)): 0.08\n",
            "Epoch [11/50], d_loss: 0.2054, g_loss: 5.7679, D(x): 0.92, D(G(z)): 0.02\n",
            "Epoch [12/50], d_loss: 0.2407, g_loss: 5.3854, D(x): 0.90, D(G(z)): 0.02\n",
            "Epoch [13/50], d_loss: 0.2170, g_loss: 4.1530, D(x): 0.93, D(G(z)): 0.07\n",
            "Epoch [14/50], d_loss: 0.2439, g_loss: 4.1329, D(x): 0.92, D(G(z)): 0.06\n",
            "Epoch [15/50], d_loss: 0.1396, g_loss: 4.6047, D(x): 0.95, D(G(z)): 0.06\n",
            "Epoch [16/50], d_loss: 0.2747, g_loss: 4.1123, D(x): 0.90, D(G(z)): 0.07\n",
            "Epoch [17/50], d_loss: 0.3019, g_loss: 4.1324, D(x): 0.90, D(G(z)): 0.07\n",
            "Epoch [18/50], d_loss: 0.2179, g_loss: 3.8911, D(x): 0.95, D(G(z)): 0.09\n",
            "Epoch [19/50], d_loss: 0.5521, g_loss: 3.9544, D(x): 0.85, D(G(z)): 0.08\n",
            "Epoch [20/50], d_loss: 0.4417, g_loss: 4.1640, D(x): 0.89, D(G(z)): 0.11\n",
            "Epoch [21/50], d_loss: 0.4145, g_loss: 3.5425, D(x): 0.87, D(G(z)): 0.09\n",
            "Epoch [22/50], d_loss: 0.2248, g_loss: 4.4767, D(x): 0.89, D(G(z)): 0.03\n",
            "Epoch [23/50], d_loss: 0.3853, g_loss: 3.9239, D(x): 0.90, D(G(z)): 0.12\n",
            "Epoch [24/50], d_loss: 0.3303, g_loss: 4.3760, D(x): 0.89, D(G(z)): 0.04\n",
            "Epoch [25/50], d_loss: 0.4786, g_loss: 3.0806, D(x): 0.87, D(G(z)): 0.13\n",
            "Epoch [26/50], d_loss: 0.7427, g_loss: 2.3365, D(x): 0.85, D(G(z)): 0.25\n",
            "Epoch [27/50], d_loss: 0.4641, g_loss: 3.9482, D(x): 0.87, D(G(z)): 0.12\n",
            "Epoch [28/50], d_loss: 0.4423, g_loss: 3.2448, D(x): 0.84, D(G(z)): 0.10\n",
            "Epoch [29/50], d_loss: 0.5023, g_loss: 3.1924, D(x): 0.84, D(G(z)): 0.13\n",
            "Epoch [30/50], d_loss: 0.4377, g_loss: 3.2633, D(x): 0.88, D(G(z)): 0.11\n",
            "Epoch [31/50], d_loss: 0.3210, g_loss: 3.0573, D(x): 0.90, D(G(z)): 0.14\n",
            "Epoch [32/50], d_loss: 0.2990, g_loss: 3.2179, D(x): 0.91, D(G(z)): 0.10\n",
            "Epoch [33/50], d_loss: 0.4631, g_loss: 3.6800, D(x): 0.85, D(G(z)): 0.11\n",
            "Epoch [34/50], d_loss: 0.5163, g_loss: 4.3290, D(x): 0.81, D(G(z)): 0.05\n",
            "Epoch [35/50], d_loss: 0.4260, g_loss: 3.2325, D(x): 0.89, D(G(z)): 0.15\n",
            "Epoch [36/50], d_loss: 0.4410, g_loss: 3.2401, D(x): 0.86, D(G(z)): 0.15\n",
            "Epoch [37/50], d_loss: 0.5934, g_loss: 2.7363, D(x): 0.81, D(G(z)): 0.15\n",
            "Epoch [38/50], d_loss: 0.4509, g_loss: 3.2675, D(x): 0.83, D(G(z)): 0.09\n",
            "Epoch [39/50], d_loss: 0.5557, g_loss: 2.5690, D(x): 0.85, D(G(z)): 0.17\n",
            "Epoch [40/50], d_loss: 0.5456, g_loss: 3.5515, D(x): 0.81, D(G(z)): 0.11\n",
            "Epoch [41/50], d_loss: 0.5165, g_loss: 3.0109, D(x): 0.84, D(G(z)): 0.13\n",
            "Epoch [42/50], d_loss: 0.4285, g_loss: 3.0663, D(x): 0.90, D(G(z)): 0.17\n",
            "Epoch [43/50], d_loss: 0.6459, g_loss: 3.3391, D(x): 0.76, D(G(z)): 0.12\n",
            "Epoch [44/50], d_loss: 0.5975, g_loss: 2.8288, D(x): 0.78, D(G(z)): 0.14\n",
            "Epoch [45/50], d_loss: 0.6551, g_loss: 2.4594, D(x): 0.80, D(G(z)): 0.18\n",
            "Epoch [46/50], d_loss: 0.6141, g_loss: 3.2558, D(x): 0.87, D(G(z)): 0.18\n",
            "Epoch [47/50], d_loss: 0.6190, g_loss: 2.6619, D(x): 0.80, D(G(z)): 0.15\n",
            "Epoch [48/50], d_loss: 0.7768, g_loss: 1.9337, D(x): 0.85, D(G(z)): 0.31\n",
            "Epoch [49/50], d_loss: 0.5368, g_loss: 2.6461, D(x): 0.82, D(G(z)): 0.16\n"
          ]
        }
      ]
    },
    {
      "cell_type": "markdown",
      "source": [
        "- 생성자보다 판별자의 학습이 빠르다\n",
        "- 학습이 진행될수록 판별자의 정확도가 50%근처로 내려간다\n",
        "- 즉, 진짜와 가짜를 구별하지 못한다.. -> 생성자는 진짜와 비슷한 이미지를 만들 수 있게 된다"
      ],
      "metadata": {
        "id": "lPlOqlWgm4i6"
      }
    },
    {
      "cell_type": "markdown",
      "source": [
        "##9.2.4 결과물 시각화"
      ],
      "metadata": {
        "id": "7Aq7rfffVc46"
      }
    },
    {
      "cell_type": "code",
      "source": [
        "z = torch.randn(BATCH_SIZE, 64).to(DEVICE)\n",
        "fake_images = G(z)\n",
        "for i in range(10):\n",
        "    #생성자로 만든 가짜이미지를 이미지형태로 변환\n",
        "    fake_images_img = np.reshape(fake_images.data.cpu().numpy()[i],(28, 28))\n",
        "    plt.imshow(fake_images_img, cmap = 'gray')\n",
        "    plt.show()"
      ],
      "metadata": {
        "id": "6C4RKVkkdm2q",
        "colab": {
          "base_uri": "https://localhost:8080/",
          "height": 1000
        },
        "outputId": "0c332eb2-3d69-4c97-eb91-07cd28b69ef6"
      },
      "execution_count": 8,
      "outputs": [
        {
          "output_type": "display_data",
          "data": {
            "image/png": "[encoded data removed]",
            "text/plain": [
              "<Figure size 432x288 with 1 Axes>"
            ]
          },
          "metadata": {
            "needs_background": "light"
          }
        },
        {
          "output_type": "display_data",
          "data": {
            "image/png": "[encoded data removed]",
            "text/plain": [
              "<Figure size 432x288 with 1 Axes>"
            ]
          },
          "metadata": {
            "needs_background": "light"
          }
        },
        {
          "output_type": "display_data",
          "data": {
            "image/png": "[encoded data removed]",
            "text/plain": [
              "<Figure size 432x288 with 1 Axes>"
            ]
          },
          "metadata": {
            "needs_background": "light"
          }
        },
        {
          "output_type": "display_data",
          "data": {
            "image/png": "[encoded data removed]",
            "text/plain": [
              "<Figure size 432x288 with 1 Axes>"
            ]
          },
          "metadata": {
            "needs_background": "light"
          }
        },
        {
          "output_type": "display_data",
          "data": {
            "image/png": "[encoded data removed]",
            "text/plain": [
              "<Figure size 432x288 with 1 Axes>"
            ]
          },
          "metadata": {
            "needs_background": "light"
          }
        },
        {
          "output_type": "display_data",
          "data": {
            "image/png": "[encoded data removed]",
            "text/plain": [
              "<Figure size 432x288 with 1 Axes>"
            ]
          },
          "metadata": {
            "needs_background": "light"
          }
        },
        {
          "output_type": "display_data",
          "data": {
            "image/png": "[encoded data removed]",
            "text/plain": [
              "<Figure size 432x288 with 1 Axes>"
            ]
          },
          "metadata": {
            "needs_background": "light"
          }
        },
        {
          "output_type": "display_data",
          "data": {
            "image/png": "[encoded data removed]",
            "text/plain": [
              "<Figure size 432x288 with 1 Axes>"
            ]
          },
          "metadata": {
            "needs_background": "light"
          }
        },
        {
          "output_type": "display_data",
          "data": {
            "image/png": "[encoded data removed]",
            "text/plain": [
              "<Figure size 432x288 with 1 Axes>"
            ]
          },
          "metadata": {
            "needs_background": "light"
          }
        },
        {
          "output_type": "display_data",
          "data": {
            "image/png": "[encoded data removed]",
            "text/plain": [
              "<Figure size 432x288 with 1 Axes>"
            ]
          },
          "metadata": {
            "needs_background": "light"
          }
        }
      ]
    },
    {
      "cell_type": "markdown",
      "source": [
        "-> epoch가 작아서 대략적으로만 확인되는 모습.."
      ],
      "metadata": {
        "id": "7CgVD2iUpoLA"
      }
    },
    {
      "cell_type": "markdown",
      "source": [
        "#9.3 cGAN으로 생성 제어하기\n",
        "\n",
        "- conditional GAN"
      ],
      "metadata": {
        "id": "fAYvuvFgVc15"
      }
    },
    {
      "cell_type": "markdown",
      "source": [
        "##9.3.1 cGAN으로 원하는 이미지 생성하기\n",
        "\n",
        "- 앞 절에서는 무작위 종류의 이미지를 생성한다..\n",
        "- 이제는 원하는 이미지를 생성한다..\n",
        "\n",
        "-> **어떤 아이템을 생성하고자 하는지에 대한 정보를 입력받아야한다!**\n",
        "\n",
        "- 생성자와 판별자의 입력에 레이블 정보를 이어붙힌다!"
      ],
      "metadata": {
        "id": "H4S0Oa30Vcyn"
      }
    },
    {
      "cell_type": "markdown",
      "source": [
        "준비 사항 동일"
      ],
      "metadata": {
        "id": "Pwdm79JAoFh0"
      }
    },
    {
      "cell_type": "code",
      "source": [
        "import os\n",
        "import torch\n",
        "import torchvision\n",
        "import torch.nn as nn\n",
        "import torch.optim as optim\n",
        "from torchvision import transforms, datasets\n",
        "from torchvision.utils import save_image\n",
        "import matplotlib.pyplot as plt\n",
        "import numpy as np"
      ],
      "metadata": {
        "id": "480nHKZZdVFr"
      },
      "execution_count": 9,
      "outputs": []
    },
    {
      "cell_type": "code",
      "source": [
        "# 하이퍼파라미터\n",
        "EPOCHS = 50\n",
        "BATCH_SIZE = 100\n",
        "USE_CUDA = torch.cuda.is_available()\n",
        "DEVICE = torch.device(\"cuda\" if USE_CUDA else \"cpu\")\n",
        "print(\"Using Device:\", DEVICE)"
      ],
      "metadata": {
        "id": "aE_QOR84dVCz",
        "colab": {
          "base_uri": "https://localhost:8080/"
        },
        "outputId": "8c3e70c8-43dc-4d7a-be6e-6f7ad1100106"
      },
      "execution_count": 15,
      "outputs": [
        {
          "output_type": "stream",
          "name": "stdout",
          "text": [
            "Using Device: cuda\n"
          ]
        }
      ]
    },
    {
      "cell_type": "code",
      "source": [
        "# Fashion MNIST 데이터셋\n",
        "trainset = datasets.FashionMNIST(\n",
        "    './.data',\n",
        "    train=True,\n",
        "    download=True,\n",
        "    transform=transforms.Compose([\n",
        "       transforms.ToTensor(),\n",
        "       transforms.Normalize((0.5,), (0.5,))\n",
        "    ])\n",
        ")\n",
        "train_loader = torch.utils.data.DataLoader(\n",
        "    dataset     = trainset,\n",
        "    batch_size  = BATCH_SIZE,\n",
        "    shuffle     = True\n",
        ")"
      ],
      "metadata": {
        "id": "dKBzXgggdU_x"
      },
      "execution_count": 16,
      "outputs": []
    },
    {
      "cell_type": "markdown",
      "source": [
        "##9.3.2 조건부 생성자와 판별자"
      ],
      "metadata": {
        "id": "x6UlvTGNWRmS"
      }
    },
    {
      "cell_type": "markdown",
      "source": [
        "생성자\n",
        "\n",
        ": 가짜 이미지를 생성할 때 무작위 레이블을 같이 넘겨줌.."
      ],
      "metadata": {
        "id": "wqKX0p4JD6-k"
      }
    },
    {
      "cell_type": "code",
      "source": [
        "# 생성자 (Generator)\n",
        "class Generator(nn.Module):\n",
        "    def __init__(self):\n",
        "        super().__init__()\n",
        "        \n",
        "        #레이블 크기 (배치, 1) -> (배치, 10)으로 조정\n",
        "        self.embed = nn.Embedding(10, 10)   \n",
        "        \n",
        "        #실제 입력을 행렬곱을 이용하여 가짜 이미지 크기(784)로 만드는 함수\n",
        "        self.model = nn.Sequential(\n",
        "            nn.Linear(110, 256),        #원래 100크기의 무작위 텐서 + 무작위 레이블 10\n",
        "            nn.LeakyReLU(0.2, inplace=True),\n",
        "            nn.Linear(256, 512),\n",
        "            nn.LeakyReLU(0.2, inplace=True),\n",
        "            nn.Linear(512, 1024),\n",
        "            nn.LeakyReLU(0.2, inplace=True),\n",
        "            nn.Linear(1024, 784),\n",
        "            nn.Tanh()\n",
        "        )\n",
        "    \n",
        "    #입력(z)과 무작위 레이블(labels)을 가지고 가짜 이미지 생성\n",
        "    def forward(self, z, labels):\n",
        "        c = self.embed(labels)  #무작위 레이블..\n",
        "        x = torch.cat([z, c], 1)        #입력과 무작위 레이블 합침\n",
        "        return self.model(x)    #가짜 이미지 생성"
      ],
      "metadata": {
        "id": "lEmJuR76dU8q"
      },
      "execution_count": 17,
      "outputs": []
    },
    {
      "cell_type": "markdown",
      "source": [
        "판별자\n",
        "\n",
        ": 판별자 역시 진짜 이미지에 대한 레이블이 필요함"
      ],
      "metadata": {
        "id": "FPLay8r-Evjf"
      }
    },
    {
      "cell_type": "code",
      "source": [
        "# 판별자 (Discriminator)\n",
        "class Discriminator(nn.Module):\n",
        "    def __init__(self):\n",
        "        super().__init__()\n",
        "        \n",
        "        #레이블 크기 (배치, 1) -> (배치, 10)으로 조정\n",
        "        self.embed = nn.Embedding(10, 10)\n",
        "        \n",
        "        #이미지를 DNN에 통과.. 드롭아웃 적용\n",
        "        self.model = nn.Sequential(\n",
        "            nn.Linear(794, 1024),\n",
        "            nn.LeakyReLU(0.2, inplace=True),\n",
        "            nn.Dropout(0.3),\n",
        "            nn.Linear(1024, 512),\n",
        "            nn.LeakyReLU(0.2, inplace=True),\n",
        "            nn.Dropout(0.3),\n",
        "            nn.Linear(512, 256),\n",
        "            nn.LeakyReLU(0.2, inplace=True),\n",
        "            nn.Dropout(0.3),\n",
        "            nn.Linear(256, 1),\n",
        "            nn.Sigmoid()\n",
        "        )\n",
        "    \n",
        "    #진짜 이미지와 그에 대한 레이블을 입력받아 진짜/가짜를 판별..\n",
        "    def forward(self, x, labels):\n",
        "        c = self.embed(labels)\n",
        "        x = torch.cat([x, c], 1)\n",
        "        return self.model(x)"
      ],
      "metadata": {
        "id": "uHepqsVwdU5l"
      },
      "execution_count": 18,
      "outputs": []
    },
    {
      "cell_type": "markdown",
      "source": [
        "##9.3.3 cGAN 학습 구현"
      ],
      "metadata": {
        "id": "fqRu2Fp4WRip"
      }
    },
    {
      "cell_type": "code",
      "source": [
        "#생성, 판별자 인스턴스 생성\n",
        "D = Discriminator().to(DEVICE)\n",
        "G = Generator().to(DEVICE)\n",
        "\n",
        "#오차함수 및 최적화 객체 생성\n",
        "criterion = nn.BCELoss()\n",
        "d_optimizer = optim.Adam(D.parameters(), lr =0.0002)\n",
        "g_optimizer = optim.Adam(G.parameters(), lr =0.0002)"
      ],
      "metadata": {
        "id": "qeoe36lRdU2w"
      },
      "execution_count": 19,
      "outputs": []
    },
    {
      "cell_type": "code",
      "source": [
        "total_step = len(train_loader)\n",
        "for epoch in range(EPOCHS):\n",
        "    for i, (images, labels) in enumerate(train_loader):\n",
        "        images = images.reshape(BATCH_SIZE, -1).to(DEVICE)      #이미지를 열벡터로 크기 조정.. (원래 28 * 28)\n",
        "        \n",
        "        real_labels = torch.ones(BATCH_SIZE, 1).to(DEVICE)      #진짜 레이블 생성\n",
        "        fake_labels = torch.zeros(BATCH_SIZE, 1).to(DEVICE)     #가짜 레이블 생성\n",
        "\n",
        "        #진짜 to 진짜\n",
        "        labels = labels.to(DEVICE)  #진짜 이미지에 대한 레이블..\n",
        "        outputs = D(images, labels)     #진짜를 판별하자\n",
        "\n",
        "        #진짜 이미지를 진짜로 인식하는 오차 계산..\n",
        "        d_loss_real = criterion(outputs, real_labels)       \n",
        "        real_score = outputs\n",
        "    \n",
        "        #가짜 to 가짜\n",
        "        z = torch.randn(BATCH_SIZE, 100).to(DEVICE)     #랜덤 벡터 생성..(크기 100)\n",
        "        g_label = torch.randint(0, 10, (BATCH_SIZE,)).to(DEVICE)        #랜덤 레이블 생성..\n",
        "        fake_images = G(z, g_label)     #랜덤 벡터로 랜덤 레이블에 대한 가짜 이미지를 만듦\n",
        "        \n",
        "        #가짜 이미지와 그에 대한 레이블을 판별자에 통과..\n",
        "        # 0이 맞춘건데 이걸 평균내면 1을 평균내는 거임..\n",
        "        outputs = D(fake_images, g_label)   \n",
        "        d_loss_fake = criterion(outputs, fake_labels)       #가짜 to 가짜 오차 계산\n",
        "        fake_score = outputs\n",
        "        \n",
        "        d_loss = d_loss_real + d_loss_fake      #전체 오차..\n",
        "        \n",
        "        # 판별자 학습\n",
        "        d_optimizer.zero_grad()\n",
        "        g_optimizer.zero_grad()\n",
        "        d_loss.backward()\n",
        "        d_optimizer.step()\n",
        "        \n",
        "        \n",
        "        fake_images = G(z, g_label)     #생성자가 만든 이미지를\n",
        "        outputs = D(fake_images, g_label)       #판별자에 통과..\n",
        "        g_loss = criterion(outputs, real_labels)        #오차 계산..\n",
        "\n",
        "        # 생성자 학습..\n",
        "        d_optimizer.zero_grad()\n",
        "        g_optimizer.zero_grad()\n",
        "        g_loss.backward()\n",
        "        g_optimizer.step()\n",
        "        \n",
        "    #판별자 오차, 생성자 오차, 진짜를 제대로 했는지, 가짜를 진짜로 한 점수..\n",
        "    print('이폭 [{}/{}] d_loss:{:.4f} g_loss: {:.4f} D(x):{:.2f} D(G(z)):{:.2f}'\n",
        "          .format(epoch,\n",
        "                  EPOCHS,\n",
        "                  d_loss.item(),\n",
        "                  g_loss.item(),\n",
        "                  real_score.mean().item(),\n",
        "                  fake_score.mean().item()))"
      ],
      "metadata": {
        "id": "whkCiPHldUzz",
        "colab": {
          "base_uri": "https://localhost:8080/"
        },
        "outputId": "9068efcd-10aa-4dc4-ffdb-43ba72fef8fd"
      },
      "execution_count": 20,
      "outputs": [
        {
          "output_type": "stream",
          "name": "stdout",
          "text": [
            "이폭 [0/50] d_loss:0.2091 g_loss: 6.7175 D(x):0.90 D(G(z)):0.07\n",
            "이폭 [1/50] d_loss:0.3298 g_loss: 3.0010 D(x):0.88 D(G(z)):0.13\n",
            "이폭 [2/50] d_loss:0.5105 g_loss: 2.8579 D(x):0.83 D(G(z)):0.15\n",
            "이폭 [3/50] d_loss:0.5689 g_loss: 3.3994 D(x):0.88 D(G(z)):0.20\n",
            "이폭 [4/50] d_loss:0.7688 g_loss: 2.3008 D(x):0.84 D(G(z)):0.31\n",
            "이폭 [5/50] d_loss:0.3993 g_loss: 2.5768 D(x):0.85 D(G(z)):0.15\n",
            "이폭 [6/50] d_loss:0.5417 g_loss: 2.0586 D(x):0.85 D(G(z)):0.24\n",
            "이폭 [7/50] d_loss:0.7277 g_loss: 1.8224 D(x):0.83 D(G(z)):0.26\n",
            "이폭 [8/50] d_loss:0.5295 g_loss: 2.5847 D(x):0.82 D(G(z)):0.16\n",
            "이폭 [9/50] d_loss:0.8054 g_loss: 1.8511 D(x):0.76 D(G(z)):0.29\n",
            "이폭 [10/50] d_loss:0.8729 g_loss: 1.6589 D(x):0.77 D(G(z)):0.33\n",
            "이폭 [11/50] d_loss:0.6911 g_loss: 1.9063 D(x):0.74 D(G(z)):0.22\n",
            "이폭 [12/50] d_loss:0.6767 g_loss: 2.1123 D(x):0.79 D(G(z)):0.23\n",
            "이폭 [13/50] d_loss:0.8798 g_loss: 1.5787 D(x):0.77 D(G(z)):0.34\n",
            "이폭 [14/50] d_loss:0.8411 g_loss: 1.6072 D(x):0.72 D(G(z)):0.28\n",
            "이폭 [15/50] d_loss:0.7492 g_loss: 1.8125 D(x):0.74 D(G(z)):0.23\n",
            "이폭 [16/50] d_loss:0.8241 g_loss: 1.4364 D(x):0.81 D(G(z)):0.36\n",
            "이폭 [17/50] d_loss:0.8542 g_loss: 1.5033 D(x):0.80 D(G(z)):0.35\n",
            "이폭 [18/50] d_loss:1.1080 g_loss: 1.5720 D(x):0.59 D(G(z)):0.30\n",
            "이폭 [19/50] d_loss:1.2022 g_loss: 1.3802 D(x):0.67 D(G(z)):0.41\n",
            "이폭 [20/50] d_loss:1.0813 g_loss: 1.6146 D(x):0.60 D(G(z)):0.29\n",
            "이폭 [21/50] d_loss:0.7629 g_loss: 1.5339 D(x):0.75 D(G(z)):0.29\n",
            "이폭 [22/50] d_loss:1.1263 g_loss: 1.1846 D(x):0.63 D(G(z)):0.37\n",
            "이폭 [23/50] d_loss:1.0800 g_loss: 1.2476 D(x):0.64 D(G(z)):0.35\n",
            "이폭 [24/50] d_loss:1.2110 g_loss: 1.4012 D(x):0.65 D(G(z)):0.37\n",
            "이폭 [25/50] d_loss:0.9296 g_loss: 1.1473 D(x):0.72 D(G(z)):0.38\n",
            "이폭 [26/50] d_loss:1.0407 g_loss: 1.1467 D(x):0.67 D(G(z)):0.38\n",
            "이폭 [27/50] d_loss:1.0155 g_loss: 1.3311 D(x):0.72 D(G(z)):0.38\n",
            "이폭 [28/50] d_loss:1.2102 g_loss: 1.1964 D(x):0.70 D(G(z)):0.41\n",
            "이폭 [29/50] d_loss:0.9266 g_loss: 1.2370 D(x):0.72 D(G(z)):0.36\n",
            "이폭 [30/50] d_loss:1.3131 g_loss: 1.0818 D(x):0.57 D(G(z)):0.38\n",
            "이폭 [31/50] d_loss:1.0279 g_loss: 1.3359 D(x):0.68 D(G(z)):0.36\n",
            "이폭 [32/50] d_loss:1.0273 g_loss: 1.4063 D(x):0.63 D(G(z)):0.32\n",
            "이폭 [33/50] d_loss:1.3761 g_loss: 1.0268 D(x):0.57 D(G(z)):0.45\n",
            "이폭 [34/50] d_loss:1.0037 g_loss: 1.3929 D(x):0.64 D(G(z)):0.32\n",
            "이폭 [35/50] d_loss:1.0269 g_loss: 1.1986 D(x):0.71 D(G(z)):0.38\n",
            "이폭 [36/50] d_loss:0.9963 g_loss: 1.2888 D(x):0.74 D(G(z)):0.39\n",
            "이폭 [37/50] d_loss:0.9911 g_loss: 1.2183 D(x):0.63 D(G(z)):0.33\n",
            "이폭 [38/50] d_loss:1.2258 g_loss: 1.1489 D(x):0.62 D(G(z)):0.40\n",
            "이폭 [39/50] d_loss:0.8166 g_loss: 1.4403 D(x):0.72 D(G(z)):0.29\n",
            "이폭 [40/50] d_loss:0.9421 g_loss: 1.2134 D(x):0.67 D(G(z)):0.33\n",
            "이폭 [41/50] d_loss:1.0820 g_loss: 1.3456 D(x):0.69 D(G(z)):0.38\n",
            "이폭 [42/50] d_loss:1.1249 g_loss: 1.4773 D(x):0.61 D(G(z)):0.33\n",
            "이폭 [43/50] d_loss:1.1852 g_loss: 1.0217 D(x):0.58 D(G(z)):0.42\n",
            "이폭 [44/50] d_loss:1.1664 g_loss: 0.9364 D(x):0.60 D(G(z)):0.43\n",
            "이폭 [45/50] d_loss:1.1596 g_loss: 0.9652 D(x):0.64 D(G(z)):0.42\n",
            "이폭 [46/50] d_loss:1.3142 g_loss: 1.0833 D(x):0.55 D(G(z)):0.39\n",
            "이폭 [47/50] d_loss:1.2559 g_loss: 0.7754 D(x):0.60 D(G(z)):0.48\n",
            "이폭 [48/50] d_loss:1.2144 g_loss: 1.0235 D(x):0.57 D(G(z)):0.38\n",
            "이폭 [49/50] d_loss:1.2338 g_loss: 1.0099 D(x):0.56 D(G(z)):0.38\n"
          ]
        }
      ]
    },
    {
      "cell_type": "markdown",
      "source": [
        "##9.3.4 결과물 시각화"
      ],
      "metadata": {
        "id": "LyT6jpzDWRej"
      }
    },
    {
      "cell_type": "code",
      "source": [
        "item_number = 9 # 앵클부츠..\n",
        "\n",
        "# 배치 크기 1, 랜덤 벡터..\n",
        "z = torch.randn(1, 100).to(DEVICE) \n",
        "\n",
        "# 원하는 레이블을 담은 텐서 생성..\n",
        "g_label = torch.full((1,), item_number, dtype=torch.long).to(DEVICE)        \n",
        "\n",
        "# 가짜 이미지 생성.. 결과는 (1, 784) 크기..\n",
        "sample_images = G(z, g_label)\n",
        "\n",
        "# 시각화 할 수 있게 shape 조정\n",
        "sample_images_img = np.reshape(sample_images.data.cpu().numpy()\n",
        "                               [0],(28, 28))\n",
        "plt.imshow(sample_images_img, cmap = 'gray')\n",
        "plt.show()"
      ],
      "metadata": {
        "id": "Bw0c2jCHdUwp",
        "colab": {
          "base_uri": "https://localhost:8080/",
          "height": 265
        },
        "outputId": "386ffd59-e649-4231-d104-49e84df6c178"
      },
      "execution_count": 21,
      "outputs": [
        {
          "output_type": "display_data",
          "data": {
            "image/png": "[encoded data removed]",
            "text/plain": [
              "<Figure size 432x288 with 1 Axes>"
            ]
          },
          "metadata": {
            "needs_background": "light"
          }
        }
      ]
    },
    {
      "cell_type": "markdown",
      "source": [
        "#9.4 마치며"
      ],
      "metadata": {
        "id": "k2YyYrOiWRa1"
      }
    },
    {
      "cell_type": "markdown",
      "source": [
        "- 레이블에 대한 정보대신 메세지나 다른 그림도 자유롭게 줄 수 있다..\n",
        "- 서로 적대적이면서 서로 발전하는 알고리즘이다.."
      ],
      "metadata": {
        "id": "vfwzpSF4LkKl"
      }
    }
  ]
}
