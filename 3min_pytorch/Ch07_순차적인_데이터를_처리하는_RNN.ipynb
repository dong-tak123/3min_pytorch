{
  "nbformat": 4,
  "nbformat_minor": 0,
  "metadata": {
    "colab": {
      "name": "Ch07. 순차적인 데이터를 처리하는 RNN",
      "provenance": []
    },
    "kernelspec": {
      "name": "python3",
      "display_name": "Python 3"
    },
    "language_info": {
      "name": "python"
    },
    "accelerator": "GPU"
  },
  "cells": [
    {
      "cell_type": "markdown",
      "metadata": {
        "id": "bufrVYZbVPdN"
      },
      "source": [
        "#7.1 RNN 개요"
      ]
    },
    {
      "cell_type": "markdown",
      "metadata": {
        "id": "yg95nXqpVPZx"
      },
      "source": [
        "- 일반적인 신경망이나 CNN은 시간의 개념이 없음..\n",
        "- 컴퓨터가 글을 쓰고 이해하려면 **순서**가 중요하다."
      ]
    },
    {
      "cell_type": "markdown",
      "metadata": {
        "id": "sDmPBDLOVffL"
      },
      "source": [
        "**RNN의 작동 방식**\n",
        "\n",
        "- RNN은 시계열 데이터의 정보를 하나씩 입력받을 때마다 여태껏 입력받은 벡터를 종학하여 **은닉 벡터**를 만들어낸다.\n",
        "- 결국, **마지막 은닉 벡터**는 배열 속 모든 벡터의 내용을 압축한 벡터가 된다..\n",
        "- ex) LSTM, GRU.. -> 언어 모델링, 텍스트 감정 분석, 기계 번역.."
      ]
    },
    {
      "cell_type": "markdown",
      "metadata": {
        "id": "yoibH4IJVPXC"
      },
      "source": [
        "#7.2 영화 리뷰 감정 분석\n",
        "\n",
        "- 영화 리뷰를 RNN을 이용해서 내용 압축\n",
        "- 압축된 리뷰에 대한 긍정/부정을 판단하는 분류 모델 생성\n",
        "    - **워드 임베딩** : 언어의 최소단위인 토큰을 벡터 형태로 변환하는 작업"
      ]
    },
    {
      "cell_type": "markdown",
      "metadata": {
        "id": "XVq23f7xVPUI"
      },
      "source": [
        "##7.2.1 자연어 전처리"
      ]
    },
    {
      "cell_type": "code",
      "metadata": {
        "id": "jDoAlLcEQTaw"
      },
      "source": [
        "#토치텍스트 사용..\n",
        "\n",
        "import os\n",
        "import torch\n",
        "import torch.nn as nn\n",
        "import torch.nn.functional as F\n",
        "from torchtext.legacy import data, datasets"
      ],
      "execution_count": 1,
      "outputs": []
    },
    {
      "cell_type": "code",
      "metadata": {
        "colab": {
          "base_uri": "https://localhost:8080/"
        },
        "id": "LIoUdNIwWdVD",
        "outputId": "157ba960-070c-4915-ce72-38e892361134"
      },
      "source": [
        "# 하이퍼파라미터\n",
        "BATCH_SIZE = 64\n",
        "lr = 0.001\n",
        "EPOCHS = 10\n",
        "USE_CUDA = torch.cuda.is_available()\n",
        "DEVICE = torch.device(\"cuda\" if USE_CUDA else \"cpu\")\n",
        "print(\"다음 기기로 학습합니다:\", DEVICE)"
      ],
      "execution_count": 2,
      "outputs": [
        {
          "output_type": "stream",
          "name": "stdout",
          "text": [
            "다음 기기로 학습합니다: cuda\n"
          ]
        }
      ]
    },
    {
      "cell_type": "markdown",
      "metadata": {
        "id": "rZkKxNgJWgRC"
      },
      "source": [
        "###IMDB 데이터 로딩"
      ]
    },
    {
      "cell_type": "code",
      "metadata": {
        "colab": {
          "base_uri": "https://localhost:8080/"
        },
        "id": "AXH-I83xWkoB",
        "outputId": "a8b363e9-cf02-4158-fd94-0dd63abac3dd"
      },
      "source": [
        "# 데이터 로딩하기\n",
        "print(\"데이터 로딩중...\")\n",
        "\n",
        "#sequential : 순차적인지..\n",
        "#batch_first : 입력 텐서의 첫번째 차원값을 batch_size로 지정..\n",
        "TEXT = data.Field(sequential=True, batch_first=True, lower=True)\n",
        "LABEL = data.Field(sequential=False, batch_first=True)"
      ],
      "execution_count": 3,
      "outputs": [
        {
          "output_type": "stream",
          "name": "stdout",
          "text": [
            "데이터 로딩중...\n"
          ]
        }
      ]
    },
    {
      "cell_type": "code",
      "metadata": {
        "colab": {
          "base_uri": "https://localhost:8080/"
        },
        "id": "VGPOZJLVWpRJ",
        "outputId": "a9af0a1c-7d63-47ad-f2d3-d25209d34a41"
      },
      "source": [
        "#테스트 세트 지정..\n",
        "trainset, testset = datasets.IMDB.splits(TEXT, LABEL)"
      ],
      "execution_count": 4,
      "outputs": [
        {
          "output_type": "stream",
          "name": "stdout",
          "text": [
            "downloading aclImdb_v1.tar.gz\n"
          ]
        },
        {
          "output_type": "stream",
          "name": "stderr",
          "text": [
            "100%|██████████| 84.1M/84.1M [00:02<00:00, 39.6MB/s]\n"
          ]
        }
      ]
    },
    {
      "cell_type": "markdown",
      "metadata": {
        "id": "JM8AfO67X-Qt"
      },
      "source": [
        "단어사전 만들기\n",
        "- 최소 5회 이상 나온 단어들만..\n",
        "- 이하는 unk으로 대체.."
      ]
    },
    {
      "cell_type": "code",
      "metadata": {
        "id": "htzqqqGnX5fN"
      },
      "source": [
        "TEXT.build_vocab(trainset, min_freq=5)\n",
        "LABEL.build_vocab(trainset)"
      ],
      "execution_count": 5,
      "outputs": []
    },
    {
      "cell_type": "markdown",
      "metadata": {
        "id": "6t09p44gYIW3"
      },
      "source": [
        "검증세트는 따로 만들어야함"
      ]
    },
    {
      "cell_type": "code",
      "metadata": {
        "id": "biiTUZ67YGTl"
      },
      "source": [
        "# 학습용 데이터를 학습셋 80% 검증셋 20% 로 나누기\n",
        "trainset, valset = trainset.split(split_ratio=0.8)\n",
        "\n",
        "# 배치크기만큼 배치 생성하는 반복자 생성..\n",
        "train_iter, val_iter, test_iter = data.BucketIterator.splits(\n",
        "        (trainset, valset, testset), batch_size=BATCH_SIZE,\n",
        "        shuffle=True, repeat=False)"
      ],
      "execution_count": 6,
      "outputs": []
    },
    {
      "cell_type": "code",
      "metadata": {
        "id": "KGKfqEbSYMEm"
      },
      "source": [
        "vocab_size = len(TEXT.vocab)        #단어사전 크기\n",
        "n_classes = 2                       #레이블 수"
      ],
      "execution_count": 7,
      "outputs": []
    },
    {
      "cell_type": "markdown",
      "metadata": {
        "id": "CNCsmp5iYZyp"
      },
      "source": [
        "데이터셋 분리 결과 확인.."
      ]
    },
    {
      "cell_type": "code",
      "metadata": {
        "colab": {
          "base_uri": "https://localhost:8080/"
        },
        "id": "G4wRQpBrYTS5",
        "outputId": "8733d7d7-31ac-463e-c704-48a97fd896a3"
      },
      "source": [
        "print(\"[학습셋]: %d [검증셋]: %d [테스트셋]: %d [단어수]: %d [클래스] %d\"\n",
        "      % (len(trainset),len(valset), len(testset), vocab_size, n_classes))"
      ],
      "execution_count": 8,
      "outputs": [
        {
          "output_type": "stream",
          "name": "stdout",
          "text": [
            "[학습셋]: 20000 [검증셋]: 5000 [테스트셋]: 25000 [단어수]: 46159 [클래스] 2\n"
          ]
        }
      ]
    },
    {
      "cell_type": "markdown",
      "metadata": {
        "id": "r33JZXaaYgP3"
      },
      "source": [
        "##7.2.2 RNN 모델 구현"
      ]
    },
    {
      "cell_type": "code",
      "metadata": {
        "id": "k1jJzXf_Yc5n"
      },
      "source": [
        "class BasicGRU(nn.Module):\n",
        "    def __init__(self, n_layers, hidden_dim, n_vocab, embed_dim, n_classes, dropout_p=0.2):\n",
        "        super(BasicGRU, self).__init__()\n",
        "        print(\"Building Basic GRU model...\")\n",
        "        self.n_layers = n_layers        #층수\n",
        "        #단어 임베딩..(단어사전크기, 임베딩 후 차원)\n",
        "        self.embed = nn.Embedding(n_vocab, embed_dim)\n",
        "        #은닉차원\n",
        "        self.hidden_dim = hidden_dim\n",
        "        #드롭아웃 비율..\n",
        "        self.dropout = nn.Dropout(dropout_p)\n",
        "\n",
        "        #일반적인 RNN은 그레이디언트 폭주/소실 문제로 인해 사용 안함.\n",
        "        #이를 보완한 GRU 사용\n",
        "        self.gru = nn.GRU(embed_dim, self.hidden_dim,\n",
        "                          num_layers=self.n_layers,\n",
        "                          batch_first=True)\n",
        "        \n",
        "        #마지막 신경망 통과..\n",
        "        self.out = nn.Linear(self.hidden_dim, n_classes)\n",
        "\n",
        "    def forward(self, x):\n",
        "        x = self.embed(x)   #단어 임베딩된 x\n",
        "        h_0 = self._init_state(batch_size=x.size(0))        #첫번째 가중치 텐서..\n",
        "\n",
        "        #x에 모든 은닉벡터를 모아놓았다..\n",
        "        x, _ = self.gru(x, h_0)  # [i, b, h]\n",
        "\n",
        "        #마지막 은닉벡터만 가져온다..\n",
        "        #모든 벡터에 대한 정보가 담김..\n",
        "        h_t = x[:,-1,:]\n",
        "\n",
        "        #드롭아웃..\n",
        "        self.dropout(h_t)\n",
        "        #신경망을 통과시켜 결과 확인..\n",
        "        logit = self.out(h_t)  # [b, h] -> [b, o]\n",
        "        return logit\n",
        "    \n",
        "    def _init_state(self, batch_size=1):\n",
        "        weight = next(self.parameters()).data       #첫번째 가중치 텐서를 추출..\n",
        "        #첫 가중치 텐서 크기만큼의 0 텐서를 반환.\n",
        "        return weight.new(self.n_layers, batch_size, self.hidden_dim).zero_()"
      ],
      "execution_count": 9,
      "outputs": []
    },
    {
      "cell_type": "markdown",
      "metadata": {
        "id": "6thAnG-qYk9b"
      },
      "source": [
        "훈련함수 구현"
      ]
    },
    {
      "cell_type": "code",
      "metadata": {
        "id": "VAcPbYg2YoXs"
      },
      "source": [
        "def train(model, optimizer, train_iter):\n",
        "    model.train()   #훈련모드\n",
        "    for b, batch in enumerate(train_iter):\n",
        "        x, y = batch.text.to(DEVICE), batch.label.to(DEVICE)\n",
        "        y.data.sub_(1)  # 레이블 값을 0과 1로 변환\n",
        "        optimizer.zero_grad()\n",
        "\n",
        "        logit = model(x)    #모델 예측..\n",
        "        loss = F.cross_entropy(logit, y)        #손실..\n",
        "        loss.backward()     #역전파..\n",
        "        optimizer.step()    #다음스텝..."
      ],
      "execution_count": 10,
      "outputs": []
    },
    {
      "cell_type": "markdown",
      "metadata": {
        "id": "bLWnaC3VYqGT"
      },
      "source": [
        "평가함수 구현"
      ]
    },
    {
      "cell_type": "code",
      "metadata": {
        "id": "cQfHgScQYpnk"
      },
      "source": [
        "def evaluate(model, val_iter):\n",
        "    model.eval()    #평가모드\n",
        "    corrects, total_loss = 0, 0\n",
        "\n",
        "    for batch in val_iter:\n",
        "        x, y = batch.text.to(DEVICE), batch.label.to(DEVICE)\n",
        "        y.data.sub_(1) # 레이블 값을 0과 1로 변환\n",
        "\n",
        "        logit = model(x)        #예측..\n",
        "\n",
        "        #손실 구하기,,\n",
        "        loss = F.cross_entropy(logit, y, reduction='sum')\n",
        "        total_loss += loss.item()   #손실 총 합 계산\n",
        "\n",
        "        #예측의 값이 제일 큰 놈의 인덱스가 레이블과 같으면 corrects를 1 증가\n",
        "        corrects += (logit.max(1)[1].view(y.size()).data == y.data).sum()\n",
        "    size = len(val_iter.dataset)\n",
        "\n",
        "    avg_loss = total_loss / size                #평균손실..\n",
        "    avg_accuracy = 100.0 * corrects / size      #정답률..\n",
        "    return avg_loss, avg_accuracy"
      ],
      "execution_count": 11,
      "outputs": []
    },
    {
      "cell_type": "markdown",
      "metadata": {
        "id": "RJ6OCY_fYuIc"
      },
      "source": [
        "모델 및 최적화함수 객체 생성\n",
        "- Adam 최적화함수 사용 (국룰)"
      ]
    },
    {
      "cell_type": "code",
      "metadata": {
        "colab": {
          "base_uri": "https://localhost:8080/"
        },
        "id": "Ajm7y0EgYtQ4",
        "outputId": "88cd63bc-bc25-4814-ffdb-c887c6649004"
      },
      "source": [
        "#은닉벡터 256차원.. 임베딩된 토큰 128차원..\n",
        "model = BasicGRU(1, 256, vocab_size, 128, n_classes, 0.5).to(DEVICE)\n",
        "optimizer = torch.optim.Adam(model.parameters(), lr=lr)"
      ],
      "execution_count": 12,
      "outputs": [
        {
          "output_type": "stream",
          "name": "stdout",
          "text": [
            "Building Basic GRU model...\n"
          ]
        }
      ]
    },
    {
      "cell_type": "markdown",
      "metadata": {
        "id": "ByrzJ3RwY7ol"
      },
      "source": [
        "###학습하기"
      ]
    },
    {
      "cell_type": "code",
      "metadata": {
        "colab": {
          "base_uri": "https://localhost:8080/"
        },
        "id": "H40jwC5kY0bP",
        "outputId": "9583c404-16c9-428e-bda5-c116c7edb9a0"
      },
      "source": [
        "best_val_loss = None\n",
        "for e in range(1, EPOCHS+1):\n",
        "    train(model, optimizer, train_iter)\n",
        "    val_loss, val_accuracy = evaluate(model, val_iter)\n",
        "\n",
        "    print(\"[이폭: %d] 검증 오차:%5.2f | 검증 정확도:%5.2f\" % (e, val_loss, val_accuracy))\n",
        "    \n",
        "    # 검증 오차가 가장 적은 최적의 모델을 저장\n",
        "    if not best_val_loss or val_loss < best_val_loss:\n",
        "        if not os.path.isdir(\"snapshot\"):\n",
        "            os.makedirs(\"snapshot\")\n",
        "        torch.save(model.state_dict(), './snapshot/txtclassification.pt')\n",
        "        best_val_loss = val_loss"
      ],
      "execution_count": 13,
      "outputs": [
        {
          "output_type": "stream",
          "name": "stdout",
          "text": [
            "[이폭: 1] 검증 오차: 0.69 | 검증 정확도:49.52\n",
            "[이폭: 2] 검증 오차: 0.70 | 검증 정확도:49.36\n",
            "[이폭: 3] 검증 오차: 0.69 | 검증 정확도:54.56\n",
            "[이폭: 4] 검증 오차: 0.63 | 검증 정확도:62.88\n",
            "[이폭: 5] 검증 오차: 0.36 | 검증 정확도:84.60\n",
            "[이폭: 6] 검증 오차: 0.33 | 검증 정확도:85.46\n",
            "[이폭: 7] 검증 오차: 0.41 | 검증 정확도:84.88\n",
            "[이폭: 8] 검증 오차: 0.42 | 검증 정확도:86.08\n",
            "[이폭: 9] 검증 오차: 0.41 | 검증 정확도:85.18\n",
            "[이폭: 10] 검증 오차: 0.45 | 검증 정확도:86.06\n"
          ]
        }
      ]
    },
    {
      "cell_type": "markdown",
      "metadata": {
        "id": "pRVXxURBZGXq"
      },
      "source": [
        "###평가하기"
      ]
    },
    {
      "cell_type": "code",
      "metadata": {
        "colab": {
          "base_uri": "https://localhost:8080/"
        },
        "id": "Hfm7gE8_ZDxh",
        "outputId": "df34b988-08cd-42b2-a2f0-f62573e07729"
      },
      "source": [
        "model.load_state_dict(torch.load('./snapshot/txtclassification.pt'))\n",
        "test_loss, test_acc = evaluate(model, test_iter)\n",
        "print('테스트 오차: %5.2f | 테스트 정확도: %5.2f' % (test_loss, test_acc))"
      ],
      "execution_count": 14,
      "outputs": [
        {
          "output_type": "stream",
          "name": "stdout",
          "text": [
            "테스트 오차:  0.34 | 테스트 정확도: 85.48\n"
          ]
        }
      ]
    },
    {
      "cell_type": "markdown",
      "metadata": {
        "id": "PHKG92i0f4Ga"
      },
      "source": [
        "#7.3 Seq2Seq 기계 번역"
      ]
    },
    {
      "cell_type": "markdown",
      "metadata": {
        "id": "FYXP76anf8ZB"
      },
      "source": [
        "- 문장을 다른 문장으로 번역해주는 모델\n",
        "- 여기서는 \"hello\"를 \"hola\"로 번역하는 미니 Seq2Seq 모델을 만들자.."
      ]
    },
    {
      "cell_type": "markdown",
      "metadata": {
        "id": "qf-q9nHwgFyR"
      },
      "source": [
        "##7.3.1 Seq2Seq 개요"
      ]
    },
    {
      "cell_type": "markdown",
      "metadata": {
        "id": "6G2aAY2KgHwX"
      },
      "source": [
        "- 각 자 다른 역할을 하는 두 개의 RNN을 이어붙힌 모델\n",
        "- 인코더 & 디코더"
      ]
    },
    {
      "cell_type": "markdown",
      "metadata": {
        "id": "9rmkCbR8gPG-"
      },
      "source": [
        "##7.3.2 인코더\n"
      ]
    },
    {
      "cell_type": "markdown",
      "metadata": {
        "id": "pF2WHo6FgSSl"
      },
      "source": [
        "- 원문의 내용을 학습하는 RNN\n",
        "- 압축된 텐서(마지막 토큰의 은닉벡터)는 원문의 뜻과 내용을 압축하고 있다고 해서 **문맥 벡터**라고 한다."
      ]
    },
    {
      "cell_type": "markdown",
      "metadata": {
        "id": "RE3-IybpghBc"
      },
      "source": [
        "##7.3.3 디코더"
      ]
    },
    {
      "cell_type": "markdown",
      "metadata": {
        "id": "2JubqfxKgiV7"
      },
      "source": [
        "- 인코더에서 원문 문맥 벡터를 이어받아 번역문 속의 토큰을 차례대로 예상\n",
        "- 디코더는 번역문의 토큰을 출력할 때 **인코더로부터 정보를 전달 받아야함**"
      ]
    },
    {
      "cell_type": "markdown",
      "metadata": {
        "id": "MTA0YQn4gwoU"
      },
      "source": [
        "##7.3.4 Seq2Seq 모델 구현하기\n",
        "\n",
        "- 인코더가 문맥벡터 생성\n",
        "- 디코더가 그걸 받아서 번역문 예측\n",
        "- 실제 번역문 사이의 오차를 줄여나가는 방식으로 작동.."
      ]
    },
    {
      "cell_type": "markdown",
      "metadata": {
        "id": "uLZc7-D1hHDV"
      },
      "source": [
        "여기서는 미니 Seq2Seq이니까 단어임베딩이 아닌 **캐릭터임베딩**실시"
      ]
    },
    {
      "cell_type": "code",
      "metadata": {
        "id": "lUevb1mhgiCP"
      },
      "source": [
        "import torch\n",
        "import torch.nn as nn\n",
        "import torch.nn.functional as F\n",
        "import random\n",
        "import matplotlib.pyplot as plt"
      ],
      "execution_count": 15,
      "outputs": []
    },
    {
      "cell_type": "markdown",
      "metadata": {
        "id": "aBR2h8ChhPkf"
      },
      "source": [
        "아스키코드로 임베딩.."
      ]
    },
    {
      "cell_type": "code",
      "metadata": {
        "colab": {
          "base_uri": "https://localhost:8080/"
        },
        "id": "beNUQ4KIhEJh",
        "outputId": "fb90c8e4-58a9-4c10-93cd-f72323cfcb51"
      },
      "source": [
        "vocab_size = 256  # 총 아스키 코드 개수\n",
        "x_ = list(map(ord, \"hello\"))  # 아스키 코드 리스트로 변환\n",
        "y_ = list(map(ord, \"hola\"))   # 아스키 코드 리스트로 변환\n",
        "print(\"hello -> \", x_)\n",
        "print(\"hola  -> \", y_)"
      ],
      "execution_count": 16,
      "outputs": [
        {
          "output_type": "stream",
          "name": "stdout",
          "text": [
            "hello ->  [104, 101, 108, 108, 111]\n",
            "hola  ->  [104, 111, 108, 97]\n"
          ]
        }
      ]
    },
    {
      "cell_type": "code",
      "metadata": {
        "id": "acTgwwAvhTLv"
      },
      "source": [
        "#텐서로 변환..\n",
        "x = torch.LongTensor(x_)\n",
        "y = torch.LongTensor(y_)"
      ],
      "execution_count": 17,
      "outputs": []
    },
    {
      "cell_type": "markdown",
      "metadata": {
        "id": "iW7C-dTrhV_h"
      },
      "source": [
        "###모델 생성\n",
        "\n",
        "- 티쳐포싱 사용\n",
        "    - 원래 디코더가 예측한 토큰을 다음 반복에서 입력될 토큰으로 갱신해야함\n",
        "    - BUT, 학습되지 않은 상태의 모델은 잘못된 예측토큰을 입력할 가능성이 높다..\n",
        "    - 이를 방지하기위해 **티쳐포싱**을 사용한다"
      ]
    },
    {
      "cell_type": "code",
      "metadata": {
        "id": "CPlfyHXohXkW"
      },
      "source": [
        "class Seq2Seq(nn.Module):\n",
        "    def __init__(self, vocab_size, hidden_size):\n",
        "        super(Seq2Seq, self).__init__()\n",
        "        self.n_layers = 1\n",
        "        self.hidden_size = hidden_size      #은닉차원..\n",
        "        #임베딩층..\n",
        "        self.embedding = nn.Embedding(vocab_size, hidden_size)\n",
        "        self.encoder = nn.GRU(hidden_size, hidden_size)     #인코더..\n",
        "        self.decoder = nn.GRU(hidden_size, hidden_size)     #디코더..\n",
        "        self.project = nn.Linear(hidden_size, vocab_size)   #일반신경망..\n",
        "\n",
        "    def forward(self, inputs, targets):\n",
        "        # 인코더에 들어갈 입력\n",
        "        initial_state = self._init_state()\n",
        "        #캐릭터 임베딩..\n",
        "        embedding = self.embedding(inputs).unsqueeze(1)\n",
        "        \n",
        "        # 인코더 (Encoder)\n",
        "        #encoder_state : 문맥 벡터..\n",
        "        encoder_output, encoder_state = self.encoder(embedding, initial_state)\n",
        "\n",
        "        # 디코더에 들어갈 입력\n",
        "        decoder_state = encoder_state\n",
        "        #디코더에 문장시작을 알리기 위해 0으로 설정..\n",
        "        decoder_input = torch.LongTensor([0])\n",
        "        \n",
        "        # 디코더 (Decoder)\n",
        "        outputs = []\n",
        "        \n",
        "        for i in range(targets.size()[0]):\n",
        "            decoder_input = self.embedding(decoder_input).unsqueeze(1)\n",
        "            #결괏값을 다시 디코더에 넣음..\n",
        "            decoder_output, decoder_state = self.decoder(decoder_input, decoder_state)\n",
        "            #신경망으로 예측..\n",
        "            projection = self.project(decoder_output)\n",
        "            #예측값 append\n",
        "            outputs.append(projection)\n",
        "            \n",
        "            #티처 포싱(Teacher Forcing) 사용\n",
        "            #직접적으로 디코더를 위한 입력토큰 갱신\n",
        "            decoder_input = torch.LongTensor([targets[i]])\n",
        "\n",
        "        outputs = torch.stack(outputs).squeeze()\n",
        "        return outputs\n",
        "    \n",
        "    #초기 가중치 크기 지정 함수..\n",
        "    def _init_state(self, batch_size=1):\n",
        "        weight = next(self.parameters()).data\n",
        "        return weight.new(self.n_layers, batch_size, self.hidden_size).zero_()"
      ],
      "execution_count": 18,
      "outputs": []
    },
    {
      "cell_type": "markdown",
      "metadata": {
        "id": "dyfGV9-ehbfM"
      },
      "source": [
        "모델 객체 생성"
      ]
    },
    {
      "cell_type": "code",
      "metadata": {
        "id": "PgMRfvtFhdlJ"
      },
      "source": [
        "seq2seq = Seq2Seq(vocab_size, 16)"
      ],
      "execution_count": 19,
      "outputs": []
    },
    {
      "cell_type": "markdown",
      "metadata": {
        "id": "pv_IZ5N1heD1"
      },
      "source": [
        "필요한 객체 생성.."
      ]
    },
    {
      "cell_type": "code",
      "metadata": {
        "id": "gLQs1s8XhlpD"
      },
      "source": [
        "criterion = nn.CrossEntropyLoss()       #크로스 엔트로피 오차 구하는 객체\n",
        "optimizer = torch.optim.Adam(seq2seq.parameters(), lr=1e-3)     #최적화 알고리즘 객체"
      ],
      "execution_count": 20,
      "outputs": []
    },
    {
      "cell_type": "markdown",
      "metadata": {
        "id": "fdUb2Qalhx1O"
      },
      "source": [
        "###모델 학습"
      ]
    },
    {
      "cell_type": "code",
      "metadata": {
        "colab": {
          "base_uri": "https://localhost:8080/"
        },
        "id": "75mhggodhnSd",
        "outputId": "0f13793f-0d91-499a-d650-c4360b5365fe"
      },
      "source": [
        "log = []\n",
        "for i in range(1000):\n",
        "    prediction = seq2seq(x, y)          #예측..\n",
        "    loss = criterion(prediction, y)     #손실 계산..\n",
        "    optimizer.zero_grad()               #기울기 계산 시작한다..\n",
        "    loss.backward()     #역전파..\n",
        "    optimizer.step()    #다음 스텝..\n",
        "\n",
        "    #손실값을 저장..\n",
        "    loss_val = loss.data        \n",
        "    log.append(loss_val)\n",
        "\n",
        "    #백번째 에포크 마다 실행..\n",
        "    if i % 100 == 0:\n",
        "        print(\"\\n 반복:%d 오차: %s\" % (i, loss_val.item()))\n",
        "        #예측값을 가지고 확인해보자..\n",
        "        _, top1 = prediction.data.topk(1, 1)\n",
        "        print([chr(c) for c in top1.squeeze().numpy().tolist()])"
      ],
      "execution_count": 21,
      "outputs": [
        {
          "output_type": "stream",
          "name": "stdout",
          "text": [
            "\n",
            " 반복:0 오차: 5.411283016204834\n",
            "['K', 'V', 'f', 'a']\n",
            "\n",
            " 반복:100 오차: 2.004889488220215\n",
            "['h', 'o', 'a', 'a']\n",
            "\n",
            " 반복:200 오차: 0.5124512314796448\n",
            "['h', 'o', 'l', 'a']\n",
            "\n",
            " 반복:300 오차: 0.26142051815986633\n",
            "['h', 'o', 'l', 'a']\n",
            "\n",
            " 반복:400 오차: 0.16455115377902985\n",
            "['h', 'o', 'l', 'a']\n",
            "\n",
            " 반복:500 오차: 0.11463146656751633\n",
            "['h', 'o', 'l', 'a']\n",
            "\n",
            " 반복:600 오차: 0.08581574261188507\n",
            "['h', 'o', 'l', 'a']\n",
            "\n",
            " 반복:700 오차: 0.06734844297170639\n",
            "['h', 'o', 'l', 'a']\n",
            "\n",
            " 반복:800 오차: 0.05459779500961304\n",
            "['h', 'o', 'l', 'a']\n",
            "\n",
            " 반복:900 오차: 0.045322805643081665\n",
            "['h', 'o', 'l', 'a']\n"
          ]
        }
      ]
    },
    {
      "cell_type": "markdown",
      "metadata": {
        "id": "KPaVaTN_h5m-"
      },
      "source": [
        "오차 확인.."
      ]
    },
    {
      "cell_type": "code",
      "metadata": {
        "colab": {
          "base_uri": "https://localhost:8080/",
          "height": 279
        },
        "id": "xjG4Kr-Oh78T",
        "outputId": "904ebfdc-e636-49c4-b867-85deba1cc8f4"
      },
      "source": [
        "plt.plot(log)\n",
        "plt.xlabel('Epoch')\n",
        "plt.ylabel('cross entropy loss')\n",
        "plt.show()"
      ],
      "execution_count": 23,
      "outputs": [
        {
          "output_type": "display_data",
          "data": {
            "image/png": "[encoded data removed]",
            "text/plain": [
              "<Figure size 432x288 with 1 Axes>"
            ]
          },
          "metadata": {
            "needs_background": "light"
          }
        }
      ]
    }
  ]
}
